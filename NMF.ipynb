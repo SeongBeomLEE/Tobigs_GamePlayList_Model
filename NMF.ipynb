{
  "nbformat": 4,
  "nbformat_minor": 0,
  "metadata": {
    "colab": {
      "name": "NMF.ipynb",
      "provenance": [],
      "collapsed_sections": [],
      "mount_file_id": "1395xwULeUHcKlODjRak-uBafWtL7gC6b",
      "authorship_tag": "ABX9TyNP4o0FahJdXARKqpSj5/e/"
    },
    "kernelspec": {
      "name": "python3",
      "display_name": "Python 3"
    },
    "language_info": {
      "name": "python"
    },
    "accelerator": "GPU"
  },
  "cells": [
    {
      "cell_type": "code",
      "metadata": {
        "id": "EG3xlIKxeHcc"
      },
      "source": [
        "import numpy as np\n",
        "import pandas as pd\n",
        "\n",
        "import torch\n",
        "import torch.nn as nn\n",
        "import torch.nn.functional as F\n",
        "\n",
        "import warnings\n",
        "\n",
        "warnings.filterwarnings(action='ignore')\n",
        "\n",
        "DATA_DIR = '/content/drive/MyDrive/투빅스 컨퍼런스/Data/'"
      ],
      "execution_count": null,
      "outputs": []
    },
    {
      "cell_type": "markdown",
      "metadata": {
        "id": "-qg3OfDvTIo0"
      },
      "source": [
        "# 데이터 불러오기"
      ]
    },
    {
      "cell_type": "code",
      "metadata": {
        "id": "CGdU3MHqTBJt"
      },
      "source": [
        "import pickle\n",
        "\n",
        "with open(DATA_DIR + 'norm_game2vec.pickle', 'rb') as f:\n",
        "  norm_game2vec = pickle.load(f)"
      ],
      "execution_count": null,
      "outputs": []
    },
    {
      "cell_type": "code",
      "metadata": {
        "id": "oLKaGwBwTlGk"
      },
      "source": [
        "all_df = pd.read_csv(DATA_DIR + 'steam_reviews_clean_result_v2.csv')\n",
        "train_df = pd.read_csv(DATA_DIR + 'steam_reviews_clean_result_train_v2.csv')\n",
        "val_df = pd.read_csv(DATA_DIR + 'steam_reviews_clean_result_val_v2.csv')\n",
        "test_df = pd.read_csv(DATA_DIR + 'steam_reviews_clean_result_test_v2.csv')"
      ],
      "execution_count": null,
      "outputs": []
    },
    {
      "cell_type": "markdown",
      "metadata": {
        "id": "Wv_RTz3OUBgV"
      },
      "source": [
        "# 데이터 전처리"
      ]
    },
    {
      "cell_type": "code",
      "metadata": {
        "colab": {
          "base_uri": "https://localhost:8080/"
        },
        "id": "je1-My94XnXI",
        "outputId": "d54867a1-c2e8-4419-a839-feea6257ce89"
      },
      "source": [
        "(train_df.shape[0] + val_df.shape[0] + test_df.shape[0]) == (all_df.shape[0])"
      ],
      "execution_count": null,
      "outputs": [
        {
          "output_type": "execute_result",
          "data": {
            "text/plain": [
              "True"
            ]
          },
          "metadata": {
            "tags": []
          },
          "execution_count": 4
        }
      ]
    },
    {
      "cell_type": "code",
      "metadata": {
        "colab": {
          "base_uri": "https://localhost:8080/"
        },
        "id": "tpGDG0meUfMb",
        "outputId": "5fd9d209-20f6-467f-85f5-e5b3ad55db11"
      },
      "source": [
        "a = all_df['user_id'].astype(str).unique().tolist()\n",
        "b = train_df['user_id'].astype(str).unique().tolist()\n",
        "\n",
        "a = set(a)\n",
        "b = set(b)\n",
        "\n",
        "b - a"
      ],
      "execution_count": null,
      "outputs": [
        {
          "output_type": "execute_result",
          "data": {
            "text/plain": [
              "set()"
            ]
          },
          "metadata": {
            "tags": []
          },
          "execution_count": 5
        }
      ]
    },
    {
      "cell_type": "code",
      "metadata": {
        "colab": {
          "base_uri": "https://localhost:8080/"
        },
        "id": "JYiaRjUuaYkX",
        "outputId": "46a96731-3927-4458-bef3-7bcf85beab41"
      },
      "source": [
        "all_df['recommended'].value_counts() / sum(all_df['recommended'].value_counts())"
      ],
      "execution_count": null,
      "outputs": [
        {
          "output_type": "execute_result",
          "data": {
            "text/plain": [
              "Recommended        0.762219\n",
              "Not Recommended    0.237781\n",
              "Name: recommended, dtype: float64"
            ]
          },
          "metadata": {
            "tags": []
          },
          "execution_count": 6
        }
      ]
    },
    {
      "cell_type": "code",
      "metadata": {
        "colab": {
          "base_uri": "https://localhost:8080/"
        },
        "id": "yeDU-4WQalfP",
        "outputId": "8100860d-5644-4d18-c0ff-45a889db5d2d"
      },
      "source": [
        "train_df['recommended'].value_counts() / sum(train_df['recommended'].value_counts())"
      ],
      "execution_count": null,
      "outputs": [
        {
          "output_type": "execute_result",
          "data": {
            "text/plain": [
              "Recommended        0.764251\n",
              "Not Recommended    0.235749\n",
              "Name: recommended, dtype: float64"
            ]
          },
          "metadata": {
            "tags": []
          },
          "execution_count": 7
        }
      ]
    },
    {
      "cell_type": "code",
      "metadata": {
        "colab": {
          "base_uri": "https://localhost:8080/"
        },
        "id": "XKMXnVxwalo2",
        "outputId": "0c5f842c-cd47-40ed-9a5c-59fce16edaad"
      },
      "source": [
        "val_df['recommended'].value_counts() / sum(val_df['recommended'].value_counts())"
      ],
      "execution_count": null,
      "outputs": [
        {
          "output_type": "execute_result",
          "data": {
            "text/plain": [
              "Recommended        0.751932\n",
              "Not Recommended    0.248068\n",
              "Name: recommended, dtype: float64"
            ]
          },
          "metadata": {
            "tags": []
          },
          "execution_count": 8
        }
      ]
    },
    {
      "cell_type": "code",
      "metadata": {
        "colab": {
          "base_uri": "https://localhost:8080/"
        },
        "id": "3AVKsbJ0alyX",
        "outputId": "65add56a-f2c3-4d9e-9e97-d8df000f80c4"
      },
      "source": [
        "test_df['recommended'].value_counts() / sum(test_df['recommended'].value_counts())"
      ],
      "execution_count": null,
      "outputs": [
        {
          "output_type": "execute_result",
          "data": {
            "text/plain": [
              "Recommended        0.763636\n",
              "Not Recommended    0.236364\n",
              "Name: recommended, dtype: float64"
            ]
          },
          "metadata": {
            "tags": []
          },
          "execution_count": 9
        }
      ]
    },
    {
      "cell_type": "code",
      "metadata": {
        "id": "SWKTK8SnaU_m"
      },
      "source": [
        "all_df['label'] = all_df['recommended'].apply(lambda x : 0 if x == 'Not Recommended' else 1)\n",
        "train_df['label'] = train_df['recommended'].apply(lambda x : 0 if x == 'Not Recommended' else 1)\n",
        "val_df['label'] = val_df['recommended'].apply(lambda x : 0 if x == 'Not Recommended' else 1)\n",
        "test_df['label'] = test_df['recommended'].apply(lambda x : 0 if x == 'Not Recommended' else 1)"
      ],
      "execution_count": null,
      "outputs": []
    },
    {
      "cell_type": "code",
      "metadata": {
        "colab": {
          "base_uri": "https://localhost:8080/",
          "height": 598
        },
        "id": "-6X4J9Z9bH9w",
        "outputId": "9a87cca5-8f1c-4201-8b9c-735c7b97e4ed"
      },
      "source": [
        "train_df.head()"
      ],
      "execution_count": null,
      "outputs": [
        {
          "output_type": "execute_result",
          "data": {
            "text/html": [
              "<div>\n",
              "<style scoped>\n",
              "    .dataframe tbody tr th:only-of-type {\n",
              "        vertical-align: middle;\n",
              "    }\n",
              "\n",
              "    .dataframe tbody tr th {\n",
              "        vertical-align: top;\n",
              "    }\n",
              "\n",
              "    .dataframe thead th {\n",
              "        text-align: right;\n",
              "    }\n",
              "</style>\n",
              "<table border=\"1\" class=\"dataframe\">\n",
              "  <thead>\n",
              "    <tr style=\"text-align: right;\">\n",
              "      <th></th>\n",
              "      <th>content</th>\n",
              "      <th>recommended</th>\n",
              "      <th>user_id</th>\n",
              "      <th>game_id</th>\n",
              "      <th>timestamp</th>\n",
              "      <th>play_time_minute</th>\n",
              "      <th>review_time_minute</th>\n",
              "      <th>game_content_link</th>\n",
              "      <th>review_helpful_count</th>\n",
              "      <th>label_encode_user_id</th>\n",
              "      <th>label_encode_game_id</th>\n",
              "      <th>idx</th>\n",
              "      <th>label</th>\n",
              "    </tr>\n",
              "  </thead>\n",
              "  <tbody>\n",
              "    <tr>\n",
              "      <th>0</th>\n",
              "      <td>Game is dead, installed, can play training. Bu...</td>\n",
              "      <td>Not Recommended</td>\n",
              "      <td>atgbui</td>\n",
              "      <td>728540</td>\n",
              "      <td>2021-05-19</td>\n",
              "      <td>18.0</td>\n",
              "      <td>18.0</td>\n",
              "      <td>https://store.steampowered.com/app/728540</td>\n",
              "      <td>0</td>\n",
              "      <td>19157</td>\n",
              "      <td>14662</td>\n",
              "      <td>6</td>\n",
              "      <td>0</td>\n",
              "    </tr>\n",
              "    <tr>\n",
              "      <th>1</th>\n",
              "      <td>Adjust settings- mouse disappears (invisible) ...</td>\n",
              "      <td>Not Recommended</td>\n",
              "      <td>atgbui</td>\n",
              "      <td>999270</td>\n",
              "      <td>2021-05-19</td>\n",
              "      <td>6.0</td>\n",
              "      <td>6.0</td>\n",
              "      <td>https://store.steampowered.com/app/999270</td>\n",
              "      <td>1</td>\n",
              "      <td>19157</td>\n",
              "      <td>18652</td>\n",
              "      <td>7</td>\n",
              "      <td>0</td>\n",
              "    </tr>\n",
              "    <tr>\n",
              "      <th>2</th>\n",
              "      <td>I wish there was a neutral review button.The g...</td>\n",
              "      <td>Not Recommended</td>\n",
              "      <td>atgbui</td>\n",
              "      <td>920470</td>\n",
              "      <td>2021-05-16</td>\n",
              "      <td>216.0</td>\n",
              "      <td>216.0</td>\n",
              "      <td>https://store.steampowered.com/app/920470</td>\n",
              "      <td>0</td>\n",
              "      <td>19157</td>\n",
              "      <td>17716</td>\n",
              "      <td>8</td>\n",
              "      <td>0</td>\n",
              "    </tr>\n",
              "    <tr>\n",
              "      <th>3</th>\n",
              "      <td>The game brings something new to the genre, an...</td>\n",
              "      <td>Not Recommended</td>\n",
              "      <td>atgbui</td>\n",
              "      <td>1183940</td>\n",
              "      <td>2021-05-09</td>\n",
              "      <td>738.0</td>\n",
              "      <td>738.0</td>\n",
              "      <td>https://store.steampowered.com/app/1183940</td>\n",
              "      <td>0</td>\n",
              "      <td>19157</td>\n",
              "      <td>20641</td>\n",
              "      <td>9</td>\n",
              "      <td>0</td>\n",
              "    </tr>\n",
              "    <tr>\n",
              "      <th>4</th>\n",
              "      <td>Update: 06/11/2021: Game seems to be abandoned...</td>\n",
              "      <td>Not Recommended</td>\n",
              "      <td>atgbui</td>\n",
              "      <td>1254400</td>\n",
              "      <td>2021-05-09</td>\n",
              "      <td>438.0</td>\n",
              "      <td>438.0</td>\n",
              "      <td>https://store.steampowered.com/app/1254400</td>\n",
              "      <td>1</td>\n",
              "      <td>19157</td>\n",
              "      <td>21185</td>\n",
              "      <td>10</td>\n",
              "      <td>0</td>\n",
              "    </tr>\n",
              "  </tbody>\n",
              "</table>\n",
              "</div>"
            ],
            "text/plain": [
              "                                             content  ... label\n",
              "0  Game is dead, installed, can play training. Bu...  ...     0\n",
              "1  Adjust settings- mouse disappears (invisible) ...  ...     0\n",
              "2  I wish there was a neutral review button.The g...  ...     0\n",
              "3  The game brings something new to the genre, an...  ...     0\n",
              "4  Update: 06/11/2021: Game seems to be abandoned...  ...     0\n",
              "\n",
              "[5 rows x 13 columns]"
            ]
          },
          "metadata": {
            "tags": []
          },
          "execution_count": 11
        }
      ]
    },
    {
      "cell_type": "code",
      "metadata": {
        "id": "eG-rM8MEdJyj"
      },
      "source": [
        "train_user_id_idx_li = train_df['label_encode_user_id'].tolist()\n",
        "train_game_id_idx_li = train_df['label_encode_game_id'].tolist()\n",
        "train_label_li = train_df['label'].astype(float).tolist()\n",
        "\n",
        "val_user_id_idx_li = val_df['label_encode_user_id'].tolist()\n",
        "val_game_id_idx_li = val_df['label_encode_game_id'].tolist()\n",
        "val_label_li = val_df['label'].astype(float).tolist()\n",
        "\n",
        "test_user_id_idx_li = test_df['label_encode_user_id'].tolist()\n",
        "test_game_id_idx_li = test_df['label_encode_game_id'].tolist()\n",
        "test_label_li = test_df['label'].astype(float).tolist()"
      ],
      "execution_count": null,
      "outputs": []
    },
    {
      "cell_type": "code",
      "metadata": {
        "id": "VhktTFykfH36"
      },
      "source": [
        "torch_norm_game2vec = torch.FloatTensor(norm_game2vec)"
      ],
      "execution_count": null,
      "outputs": []
    },
    {
      "cell_type": "markdown",
      "metadata": {
        "id": "3BTHbbJebfKP"
      },
      "source": [
        "# 모델"
      ]
    },
    {
      "cell_type": "code",
      "metadata": {
        "id": "rhZrDhbRdYiE"
      },
      "source": [
        "from torch.utils.data import Dataset\n",
        "from torch.utils.data import DataLoader\n",
        "\n",
        "class NCFData(Dataset):\n",
        "    def __init__(self, user_id_idx_li, game_id_idx_li, label_li):\n",
        "      super(NCFData, self).__init__()\n",
        "      self._user_id_idx_li = user_id_idx_li\n",
        "      self._game_id_idx_li = game_id_idx_li\n",
        "      self._label_li = label_li\n",
        "\n",
        "    def __len__(self):\n",
        "      return len(self._label_li)\n",
        "\n",
        "    def __getitem__(self, idx):\n",
        "      user = self._user_id_idx_li[idx]\n",
        "      game = self._game_id_idx_li[idx]\n",
        "      label = self._label_li[idx]\n",
        "\n",
        "      return user, game, label"
      ],
      "execution_count": null,
      "outputs": []
    },
    {
      "cell_type": "code",
      "metadata": {
        "id": "5sA80TVsbrW6"
      },
      "source": [
        "user_num = all_df['label_encode_user_id'].max() + 1 \n",
        "factor_num = norm_game2vec.shape[1]"
      ],
      "execution_count": null,
      "outputs": []
    },
    {
      "cell_type": "code",
      "metadata": {
        "colab": {
          "base_uri": "https://localhost:8080/"
        },
        "id": "f81qvktmGH0w",
        "outputId": "67c906ed-6af9-4ce9-cdd8-b8d7ebc75847"
      },
      "source": [
        "# 환경설정\n",
        "if torch.cuda.is_available():\n",
        "  DEVICE = torch.device('cuda')\n",
        "else:\n",
        "  DEVICE = torch.device('cpu')\n",
        "print(DEVICE)"
      ],
      "execution_count": null,
      "outputs": [
        {
          "output_type": "stream",
          "text": [
            "cuda\n"
          ],
          "name": "stdout"
        }
      ]
    },
    {
      "cell_type": "code",
      "metadata": {
        "id": "rjlLRd0xXb-2"
      },
      "source": [
        "BATCH_SIZE = 512\n",
        "EPOCHS = 30"
      ],
      "execution_count": null,
      "outputs": []
    },
    {
      "cell_type": "code",
      "metadata": {
        "id": "FbcgyoiXQn5S"
      },
      "source": [
        "class GMF_and_NCF(nn.Module):\n",
        "  def __init__(self, user_num, factor_num):\n",
        "      super(GMF_and_NCF, self).__init__()\n",
        "\n",
        "      # GMF 임베딩\n",
        "      self.GMF_user_embedding = nn.Embedding(user_num, factor_num)\n",
        "\n",
        "      # NCF 임베딩\n",
        "      self.NCF_user_embedding = nn.Embedding(user_num, factor_num)\n",
        "\n",
        "      # NCF_FC_layer\n",
        "      self.NCF_FC_layer = nn.Sequential(\n",
        "          nn.Linear(factor_num * 2, 256),\n",
        "          nn.ReLU(),\n",
        "          nn.Dropout(0.2),\n",
        "          nn.BatchNorm1d(256),\n",
        "          nn.Linear(256, 128),\n",
        "          nn.ReLU()\n",
        "      )\n",
        "\n",
        "      # FC_layer\n",
        "      self.FC_layer = nn.Sequential(\n",
        "          nn.Linear(factor_num + 128, 256),\n",
        "          nn.ReLU(),\n",
        "          nn.Dropout(0.2),\n",
        "          nn.BatchNorm1d(256),\n",
        "          nn.Linear(256, 128),\n",
        "          nn.ReLU(),\n",
        "          nn.Dropout(0.2),\n",
        "          nn.BatchNorm1d(128),\n",
        "          nn.Linear(128, 1),\n",
        "          nn.Sigmoid()\n",
        "      )\n",
        "\n",
        "      self._init_weight_()\n",
        "\n",
        "  def _init_weight_(self):\n",
        "      # weight 초기화\n",
        "      nn.init.normal_(self.GMF_user_embedding.weight, std=0.01)\n",
        "      nn.init.normal_(self.NCF_user_embedding.weight, std=0.01)\n",
        "\n",
        "      for m in self.NCF_FC_layer:\n",
        "          if isinstance(m, nn.Linear):\n",
        "              nn.init.kaiming_uniform_(m.weight)\n",
        "\n",
        "      for m in self.FC_layer:\n",
        "          if isinstance(m, nn.Linear):\n",
        "              nn.init.kaiming_uniform_(m.weight)\n",
        "\n",
        "  def forward(self, user_idx, item_embedding):\n",
        "      # GMF\n",
        "      GMF_user_embedding = self.GMF_user_embedding(user_idx)\n",
        "      GMF_output = (GMF_user_embedding * item_embedding)\n",
        "\n",
        "      # NCF\n",
        "      NCF_user_embedding = self.NCF_user_embedding(user_idx)\n",
        "      NCF_output = torch.cat((NCF_user_embedding, item_embedding), -1)\n",
        "      NCF_output = self.NCF_FC_layer(NCF_output)\n",
        "\n",
        "      output = torch.cat((GMF_output, NCF_output), -1)\n",
        "      output = self.FC_layer(output)\n",
        "\n",
        "      return output.view(-1)"
      ],
      "execution_count": null,
      "outputs": []
    },
    {
      "cell_type": "code",
      "metadata": {
        "id": "3N9qIQw9aj6E"
      },
      "source": [
        "from sklearn.metrics import roc_auc_score\n",
        "\n",
        "def roc_auc_compute_fn(y_pred, y_true):\n",
        "\n",
        "  return roc_auc_score(y_true, y_pred)\n",
        "\n",
        "from sklearn.metrics import f1_score\n",
        "\n",
        "def f1_score_compute_fn(y_pred, y_true):\n",
        "\n",
        "  return f1_score(y_true, y_pred)\n",
        "\n",
        "def train(model, train_loader):\n",
        "  model.train()\n",
        "  train_loss = 0\n",
        "  correct = 0\n",
        "\n",
        "  auc_output_li = []\n",
        "  acc_output_li = []\n",
        "  label_li = []\n",
        "\n",
        "  for user, game, label in train_loader:\n",
        "    user = user.to(DEVICE)\n",
        "    item_embedding = torch_norm_game2vec[game].to(DEVICE)\n",
        "    label = label.to(DEVICE)\n",
        "    label = label.type(torch.DoubleTensor)\n",
        "\n",
        "    optimizer.zero_grad()\n",
        "\n",
        "    output = model(user, item_embedding)\n",
        "    output = output.type(torch.DoubleTensor)\n",
        "\n",
        "    loss = criterion(output, label)\n",
        "\n",
        "    loss.backward()\n",
        "    optimizer.step()\n",
        "\n",
        "    train_loss += loss.item()\n",
        "\n",
        "    auc_output_li.append(output.detach().cpu().numpy())\n",
        "\n",
        "    output = (output > 0.5).float()\n",
        "    correct += (output == label).float().sum()\n",
        "\n",
        "    acc_output_li.append(output.detach().cpu().numpy())\n",
        "    label_li.append(label.detach().cpu().numpy())\n",
        "\n",
        "  auc_output_li = np.concatenate(auc_output_li)\n",
        "  acc_output_li = np.concatenate(acc_output_li)\n",
        "  label_li = np.concatenate(label_li)\n",
        "\n",
        "  train_loss /= len(train_loader)\n",
        "  train_accuracy = 100. * correct / len(train_loader.dataset)\n",
        "  train_auc = roc_auc_compute_fn(auc_output_li, label_li)\n",
        "  train_f1 = f1_score_compute_fn(acc_output_li, label_li)\n",
        "\n",
        "  return train_loss, train_accuracy, train_auc, train_f1"
      ],
      "execution_count": null,
      "outputs": []
    },
    {
      "cell_type": "code",
      "metadata": {
        "id": "GgLBl5jXaj6F"
      },
      "source": [
        "def evaluate(model, test_loader):\n",
        "  model.eval()\n",
        "  test_loss = 0\n",
        "  correct = 0\n",
        "\n",
        "  auc_output_li = []\n",
        "  acc_output_li = []\n",
        "  label_li = []\n",
        "\n",
        "  with torch.no_grad():\n",
        "    for user, game, label in test_loader:\n",
        "\n",
        "      user = user.to(DEVICE)\n",
        "      item_embedding = torch_norm_game2vec[game].to(DEVICE)\n",
        "      label = label.to(DEVICE)\n",
        "      label = label.type(torch.DoubleTensor)\n",
        "\n",
        "      output = model(user, item_embedding)\n",
        "      output = output.type(torch.DoubleTensor)\n",
        "\n",
        "      loss = criterion(output, label)\n",
        "\n",
        "      test_loss += loss.item()\n",
        "\n",
        "      auc_output_li.append(output.detach().cpu().numpy())\n",
        "\n",
        "      output = (output>0.5).float()\n",
        "      correct += (output == label).float().sum()\n",
        "\n",
        "      acc_output_li.append(output.detach().cpu().numpy())\n",
        "      label_li.append(label.detach().cpu().numpy())\n",
        "\n",
        "  auc_output_li = np.concatenate(auc_output_li)\n",
        "  acc_output_li = np.concatenate(acc_output_li)\n",
        "  label_li = np.concatenate(label_li)\n",
        "\n",
        "  test_loss /= len(test_loader)\n",
        "  test_accuracy = 100. * correct / len(test_loader.dataset)\n",
        "  test_auc = roc_auc_compute_fn(auc_output_li, label_li)\n",
        "  test_f1 = f1_score_compute_fn(acc_output_li, label_li)\n",
        "\n",
        "  return test_loss, test_accuracy, test_auc, test_f1"
      ],
      "execution_count": null,
      "outputs": []
    },
    {
      "cell_type": "code",
      "metadata": {
        "colab": {
          "base_uri": "https://localhost:8080/"
        },
        "id": "uPZmbO1pXU5k",
        "outputId": "805b17b8-11bf-43a2-fd20-61fc0359abc7"
      },
      "source": [
        "model = GMF_and_NCF(user_num = user_num, factor_num = factor_num).to(DEVICE)\n",
        "criterion = nn.BCELoss()\n",
        "optimizer = torch.optim.Adam(model.parameters(), lr=0.0001)\n",
        "\n",
        "train_dataset = NCFData(train_user_id_idx_li, train_game_id_idx_li, train_label_li)\n",
        "\n",
        "train_loader = DataLoader(train_dataset,\n",
        "  batch_size = BATCH_SIZE,\n",
        "  shuffle = True,\n",
        "  drop_last = False)\n",
        "\n",
        "val_dataset = NCFData(val_user_id_idx_li, val_game_id_idx_li, val_label_li)\n",
        "\n",
        "val_loader = DataLoader(val_dataset,\n",
        "  batch_size = BATCH_SIZE,\n",
        "  shuffle = False,\n",
        "  drop_last = False)\n",
        "\n",
        "best_metric = 0\n",
        "best_epoch = 0\n",
        "\n",
        "for epoch in range(1, EPOCHS + 1):\n",
        "  train_loss, train_accuracy, train_auc, train_f1 = train(model, train_loader)\n",
        "  test_loss, test_accuracy, test_auc, test_f1 = evaluate(model, val_loader)\n",
        "  print(f\"[EPOCH: {epoch}], Train Loss: {train_loss:.4f}, Train Accuracy: {train_accuracy:.2f} %, Train F!-Score: {train_f1:.4f}, Train AUC: {train_auc:.4f}, \\\n",
        "  Val Loss: {test_loss:.4f}, Val Accuracy: {test_accuracy:.2f} %, Val F!-Score: {test_f1:.4f}, Val AUC: {test_auc:.4f} \\n\")\n",
        "\n",
        "  if best_metric < test_auc:\n",
        "\n",
        "    best_metric = test_auc\n",
        "    best_epoch = epoch\n",
        "    MODEL_DIR = '/content/drive/MyDrive/투빅스 컨퍼런스/Model/'\n",
        "    torch.save(model.state_dict(), MODEL_DIR + f'GMF_and_NCF_Best_model_state_dict.pt')"
      ],
      "execution_count": null,
      "outputs": [
        {
          "output_type": "stream",
          "text": [
            "[EPOCH: 1], Train Loss: 0.5692, Train Accuracy: 72.10 %, Train F!-Score: 0.8170, Train AUC: 0.6823,   Val Loss: 0.4371, Val Accuracy: 80.30 %, Val F!-Score: 0.8784, Val AUC: 0.8102 \n",
            "\n",
            "[EPOCH: 2], Train Loss: 0.4207, Train Accuracy: 81.20 %, Train F!-Score: 0.8835, Train AUC: 0.8191,   Val Loss: 0.4136, Val Accuracy: 80.98 %, Val F!-Score: 0.8823, Val AUC: 0.8342 \n",
            "\n",
            "[EPOCH: 3], Train Loss: 0.3880, Train Accuracy: 82.46 %, Train F!-Score: 0.8910, Train AUC: 0.8507,   Val Loss: 0.4038, Val Accuracy: 81.48 %, Val F!-Score: 0.8846, Val AUC: 0.8422 \n",
            "\n",
            "[EPOCH: 4], Train Loss: 0.3558, Train Accuracy: 83.90 %, Train F!-Score: 0.8990, Train AUC: 0.8780,   Val Loss: 0.3985, Val Accuracy: 81.96 %, Val F!-Score: 0.8864, Val AUC: 0.8492 \n",
            "\n",
            "[EPOCH: 5], Train Loss: 0.2642, Train Accuracy: 88.65 %, Train F!-Score: 0.9272, Train AUC: 0.9368,   Val Loss: 0.3895, Val Accuracy: 84.09 %, Val F!-Score: 0.8978, Val AUC: 0.8765 \n",
            "\n",
            "[EPOCH: 6], Train Loss: 0.0888, Train Accuracy: 96.75 %, Train F!-Score: 0.9788, Train AUC: 0.9927,   Val Loss: 0.5033, Val Accuracy: 84.58 %, Val F!-Score: 0.9006, Val AUC: 0.8791 \n",
            "\n",
            "[EPOCH: 7], Train Loss: 0.0256, Train Accuracy: 99.15 %, Train F!-Score: 0.9944, Train AUC: 0.9993,   Val Loss: 0.6578, Val Accuracy: 84.76 %, Val F!-Score: 0.9020, Val AUC: 0.8750 \n",
            "\n",
            "[EPOCH: 8], Train Loss: 0.0086, Train Accuracy: 99.73 %, Train F!-Score: 0.9982, Train AUC: 0.9999,   Val Loss: 0.8205, Val Accuracy: 84.76 %, Val F!-Score: 0.9026, Val AUC: 0.8689 \n",
            "\n",
            "[EPOCH: 9], Train Loss: 0.0039, Train Accuracy: 99.88 %, Train F!-Score: 0.9992, Train AUC: 1.0000,   Val Loss: 0.9374, Val Accuracy: 84.75 %, Val F!-Score: 0.9022, Val AUC: 0.8671 \n",
            "\n",
            "[EPOCH: 10], Train Loss: 0.0025, Train Accuracy: 99.93 %, Train F!-Score: 0.9995, Train AUC: 1.0000,   Val Loss: 1.0118, Val Accuracy: 84.77 %, Val F!-Score: 0.9024, Val AUC: 0.8638 \n",
            "\n",
            "[EPOCH: 11], Train Loss: 0.0025, Train Accuracy: 99.93 %, Train F!-Score: 0.9995, Train AUC: 1.0000,   Val Loss: 1.0634, Val Accuracy: 84.78 %, Val F!-Score: 0.9028, Val AUC: 0.8591 \n",
            "\n",
            "[EPOCH: 12], Train Loss: 0.0033, Train Accuracy: 99.90 %, Train F!-Score: 0.9993, Train AUC: 1.0000,   Val Loss: 1.0189, Val Accuracy: 84.81 %, Val F!-Score: 0.9022, Val AUC: 0.8734 \n",
            "\n",
            "[EPOCH: 13], Train Loss: 0.0043, Train Accuracy: 99.86 %, Train F!-Score: 0.9991, Train AUC: 1.0000,   Val Loss: 0.9681, Val Accuracy: 84.86 %, Val F!-Score: 0.9030, Val AUC: 0.8760 \n",
            "\n",
            "[EPOCH: 14], Train Loss: 0.0040, Train Accuracy: 99.88 %, Train F!-Score: 0.9992, Train AUC: 1.0000,   Val Loss: 0.9827, Val Accuracy: 84.88 %, Val F!-Score: 0.9036, Val AUC: 0.8788 \n",
            "\n",
            "[EPOCH: 15], Train Loss: 0.0027, Train Accuracy: 99.92 %, Train F!-Score: 0.9995, Train AUC: 1.0000,   Val Loss: 0.9972, Val Accuracy: 84.84 %, Val F!-Score: 0.9025, Val AUC: 0.8772 \n",
            "\n",
            "[EPOCH: 16], Train Loss: 0.0019, Train Accuracy: 99.95 %, Train F!-Score: 0.9996, Train AUC: 1.0000,   Val Loss: 1.0406, Val Accuracy: 84.81 %, Val F!-Score: 0.9020, Val AUC: 0.8799 \n",
            "\n",
            "[EPOCH: 17], Train Loss: 0.0018, Train Accuracy: 99.95 %, Train F!-Score: 0.9996, Train AUC: 1.0000,   Val Loss: 1.0565, Val Accuracy: 84.83 %, Val F!-Score: 0.9022, Val AUC: 0.8784 \n",
            "\n",
            "[EPOCH: 18], Train Loss: 0.0022, Train Accuracy: 99.93 %, Train F!-Score: 0.9996, Train AUC: 1.0000,   Val Loss: 1.0477, Val Accuracy: 84.95 %, Val F!-Score: 0.9041, Val AUC: 0.8787 \n",
            "\n",
            "[EPOCH: 19], Train Loss: 0.0024, Train Accuracy: 99.92 %, Train F!-Score: 0.9995, Train AUC: 1.0000,   Val Loss: 1.0347, Val Accuracy: 84.91 %, Val F!-Score: 0.9035, Val AUC: 0.8798 \n",
            "\n",
            "[EPOCH: 20], Train Loss: 0.0024, Train Accuracy: 99.93 %, Train F!-Score: 0.9995, Train AUC: 1.0000,   Val Loss: 1.0027, Val Accuracy: 84.92 %, Val F!-Score: 0.9027, Val AUC: 0.8838 \n",
            "\n",
            "[EPOCH: 21], Train Loss: 0.0023, Train Accuracy: 99.93 %, Train F!-Score: 0.9995, Train AUC: 1.0000,   Val Loss: 0.9987, Val Accuracy: 84.92 %, Val F!-Score: 0.9030, Val AUC: 0.8824 \n",
            "\n",
            "[EPOCH: 22], Train Loss: 0.0021, Train Accuracy: 99.93 %, Train F!-Score: 0.9996, Train AUC: 1.0000,   Val Loss: 1.0370, Val Accuracy: 85.01 %, Val F!-Score: 0.9038, Val AUC: 0.8818 \n",
            "\n",
            "[EPOCH: 23], Train Loss: 0.0020, Train Accuracy: 99.94 %, Train F!-Score: 0.9996, Train AUC: 1.0000,   Val Loss: 1.0172, Val Accuracy: 84.82 %, Val F!-Score: 0.9018, Val AUC: 0.8814 \n",
            "\n",
            "[EPOCH: 24], Train Loss: 0.0016, Train Accuracy: 99.95 %, Train F!-Score: 0.9997, Train AUC: 1.0000,   Val Loss: 1.0877, Val Accuracy: 84.90 %, Val F!-Score: 0.9031, Val AUC: 0.8803 \n",
            "\n",
            "[EPOCH: 25], Train Loss: 0.0017, Train Accuracy: 99.95 %, Train F!-Score: 0.9997, Train AUC: 1.0000,   Val Loss: 1.0923, Val Accuracy: 84.92 %, Val F!-Score: 0.9033, Val AUC: 0.8811 \n",
            "\n",
            "[EPOCH: 26], Train Loss: 0.0021, Train Accuracy: 99.93 %, Train F!-Score: 0.9996, Train AUC: 1.0000,   Val Loss: 1.0333, Val Accuracy: 84.92 %, Val F!-Score: 0.9027, Val AUC: 0.8828 \n",
            "\n",
            "[EPOCH: 27], Train Loss: 0.0018, Train Accuracy: 99.94 %, Train F!-Score: 0.9996, Train AUC: 1.0000,   Val Loss: 1.0592, Val Accuracy: 84.95 %, Val F!-Score: 0.9032, Val AUC: 0.8827 \n",
            "\n",
            "[EPOCH: 28], Train Loss: 0.0015, Train Accuracy: 99.95 %, Train F!-Score: 0.9997, Train AUC: 1.0000,   Val Loss: 1.0800, Val Accuracy: 84.99 %, Val F!-Score: 0.9043, Val AUC: 0.8808 \n",
            "\n",
            "[EPOCH: 29], Train Loss: 0.0016, Train Accuracy: 99.95 %, Train F!-Score: 0.9997, Train AUC: 1.0000,   Val Loss: 1.0775, Val Accuracy: 84.95 %, Val F!-Score: 0.9026, Val AUC: 0.8837 \n",
            "\n",
            "[EPOCH: 30], Train Loss: 0.0016, Train Accuracy: 99.95 %, Train F!-Score: 0.9997, Train AUC: 1.0000,   Val Loss: 1.0819, Val Accuracy: 84.90 %, Val F!-Score: 0.9025, Val AUC: 0.8814 \n",
            "\n"
          ],
          "name": "stdout"
        }
      ]
    },
    {
      "cell_type": "code",
      "metadata": {
        "id": "E5bjseEvH_F8",
        "colab": {
          "base_uri": "https://localhost:8080/"
        },
        "outputId": "89d88da7-46c8-46f1-ba77-4f00f6bf89b8"
      },
      "source": [
        "print(f'Best_Epoch : {best_epoch}, Best_Metric : {best_metric}')"
      ],
      "execution_count": null,
      "outputs": [
        {
          "output_type": "stream",
          "text": [
            "Best_Epoch : 20, Best_Metric : 0.8838195031996903\n"
          ],
          "name": "stdout"
        }
      ]
    },
    {
      "cell_type": "code",
      "metadata": {
        "id": "lDInI-4xdIFv",
        "colab": {
          "base_uri": "https://localhost:8080/"
        },
        "outputId": "7d4bab3b-6478-450c-e209-1e20d4a80b77"
      },
      "source": [
        "test_dataset = NCFData(test_user_id_idx_li, test_game_id_idx_li, test_label_li)\n",
        "\n",
        "test_loader = DataLoader(test_dataset,\n",
        "  batch_size = BATCH_SIZE,\n",
        "  shuffle = False,\n",
        "  drop_last = False)\n",
        "\n",
        "model.load_state_dict(torch.load(MODEL_DIR + f'GMF_and_NCF_Best_model_state_dict.pt'))\n",
        "\n",
        "test_loss, test_accuracy, test_auc, test_f1 = evaluate(model, test_loader)\n",
        "\n",
        "print(f\"Test Loss: {test_loss:.4f}, Test Accuracy: {test_accuracy:.2f} %, Test F!-Score: {test_f1:.4f}, Test AUC: {test_auc:.4f}\")"
      ],
      "execution_count": null,
      "outputs": [
        {
          "output_type": "stream",
          "text": [
            "Test Loss: 1.0394, Test Accuracy: 84.33 %, Test F!-Score: 0.9007, Test AUC: 0.8715\n"
          ],
          "name": "stdout"
        }
      ]
    },
    {
      "cell_type": "code",
      "metadata": {
        "id": "Rn7tTu09VdJu"
      },
      "source": [
        ""
      ],
      "execution_count": null,
      "outputs": []
    }
  ]
}