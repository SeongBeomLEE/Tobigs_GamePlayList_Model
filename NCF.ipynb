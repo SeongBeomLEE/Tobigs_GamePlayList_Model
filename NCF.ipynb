{
  "nbformat": 4,
  "nbformat_minor": 0,
  "metadata": {
    "colab": {
      "name": "NCF.ipynb",
      "provenance": [],
      "collapsed_sections": [],
      "mount_file_id": "1a0GLdCVH3FUcetG_S_oShRqqzkmREga2",
      "authorship_tag": "ABX9TyOQS3Ymcq7CwXBhTPh4lxAf"
    },
    "kernelspec": {
      "name": "python3",
      "display_name": "Python 3"
    },
    "language_info": {
      "name": "python"
    },
    "accelerator": "GPU"
  },
  "cells": [
    {
      "cell_type": "code",
      "metadata": {
        "id": "EG3xlIKxeHcc"
      },
      "source": [
        "import numpy as np\n",
        "import pandas as pd\n",
        "\n",
        "import torch\n",
        "import torch.nn as nn\n",
        "import torch.nn.functional as F\n",
        "\n",
        "import warnings\n",
        "\n",
        "warnings.filterwarnings(action='ignore')\n",
        "\n",
        "DATA_DIR = '/content/drive/MyDrive/투빅스 컨퍼런스/Data/'"
      ],
      "execution_count": null,
      "outputs": []
    },
    {
      "cell_type": "markdown",
      "metadata": {
        "id": "-qg3OfDvTIo0"
      },
      "source": [
        "# 데이터 불러오기"
      ]
    },
    {
      "cell_type": "code",
      "metadata": {
        "id": "CGdU3MHqTBJt"
      },
      "source": [
        "import pickle\n",
        "\n",
        "with open(DATA_DIR + 'norm_game2vec.pickle', 'rb') as f:\n",
        "  norm_game2vec = pickle.load(f)"
      ],
      "execution_count": null,
      "outputs": []
    },
    {
      "cell_type": "code",
      "metadata": {
        "id": "oLKaGwBwTlGk"
      },
      "source": [
        "all_df = pd.read_csv(DATA_DIR + 'steam_reviews_clean_result_v2.csv')\n",
        "train_df = pd.read_csv(DATA_DIR + 'steam_reviews_clean_result_train_v2.csv')\n",
        "val_df = pd.read_csv(DATA_DIR + 'steam_reviews_clean_result_val_v2.csv')\n",
        "test_df = pd.read_csv(DATA_DIR + 'steam_reviews_clean_result_test_v2.csv')"
      ],
      "execution_count": null,
      "outputs": []
    },
    {
      "cell_type": "markdown",
      "metadata": {
        "id": "Wv_RTz3OUBgV"
      },
      "source": [
        "# 데이터 전처리"
      ]
    },
    {
      "cell_type": "code",
      "metadata": {
        "colab": {
          "base_uri": "https://localhost:8080/"
        },
        "id": "je1-My94XnXI",
        "outputId": "c422c363-05d2-43b7-a0a0-665ad8bf7bd3"
      },
      "source": [
        "(train_df.shape[0] + val_df.shape[0] + test_df.shape[0]) == (all_df.shape[0])"
      ],
      "execution_count": null,
      "outputs": [
        {
          "output_type": "execute_result",
          "data": {
            "text/plain": [
              "True"
            ]
          },
          "metadata": {
            "tags": []
          },
          "execution_count": 4
        }
      ]
    },
    {
      "cell_type": "code",
      "metadata": {
        "colab": {
          "base_uri": "https://localhost:8080/"
        },
        "id": "tpGDG0meUfMb",
        "outputId": "68ddbdf5-aaf5-434a-cbec-91dbb58cf5b5"
      },
      "source": [
        "a = all_df['user_id'].astype(str).unique().tolist()\n",
        "b = train_df['user_id'].astype(str).unique().tolist()\n",
        "\n",
        "a = set(a)\n",
        "b = set(b)\n",
        "\n",
        "b - a"
      ],
      "execution_count": null,
      "outputs": [
        {
          "output_type": "execute_result",
          "data": {
            "text/plain": [
              "set()"
            ]
          },
          "metadata": {
            "tags": []
          },
          "execution_count": 5
        }
      ]
    },
    {
      "cell_type": "code",
      "metadata": {
        "colab": {
          "base_uri": "https://localhost:8080/"
        },
        "id": "JYiaRjUuaYkX",
        "outputId": "43e56174-4cb7-462c-f767-54f10bd342aa"
      },
      "source": [
        "all_df['recommended'].value_counts() / sum(all_df['recommended'].value_counts())"
      ],
      "execution_count": null,
      "outputs": [
        {
          "output_type": "execute_result",
          "data": {
            "text/plain": [
              "Recommended        0.762219\n",
              "Not Recommended    0.237781\n",
              "Name: recommended, dtype: float64"
            ]
          },
          "metadata": {
            "tags": []
          },
          "execution_count": 6
        }
      ]
    },
    {
      "cell_type": "code",
      "metadata": {
        "colab": {
          "base_uri": "https://localhost:8080/"
        },
        "id": "yeDU-4WQalfP",
        "outputId": "619323e1-11a8-46df-bcbc-fbcad236a5d1"
      },
      "source": [
        "train_df['recommended'].value_counts() / sum(train_df['recommended'].value_counts())"
      ],
      "execution_count": null,
      "outputs": [
        {
          "output_type": "execute_result",
          "data": {
            "text/plain": [
              "Recommended        0.764251\n",
              "Not Recommended    0.235749\n",
              "Name: recommended, dtype: float64"
            ]
          },
          "metadata": {
            "tags": []
          },
          "execution_count": 7
        }
      ]
    },
    {
      "cell_type": "code",
      "metadata": {
        "colab": {
          "base_uri": "https://localhost:8080/"
        },
        "id": "XKMXnVxwalo2",
        "outputId": "37b57ad4-97ff-41d3-a568-a0035e758e79"
      },
      "source": [
        "val_df['recommended'].value_counts() / sum(val_df['recommended'].value_counts())"
      ],
      "execution_count": null,
      "outputs": [
        {
          "output_type": "execute_result",
          "data": {
            "text/plain": [
              "Recommended        0.751932\n",
              "Not Recommended    0.248068\n",
              "Name: recommended, dtype: float64"
            ]
          },
          "metadata": {
            "tags": []
          },
          "execution_count": 8
        }
      ]
    },
    {
      "cell_type": "code",
      "metadata": {
        "colab": {
          "base_uri": "https://localhost:8080/"
        },
        "id": "3AVKsbJ0alyX",
        "outputId": "e4c25084-d3f5-4384-9725-bcea348a384a"
      },
      "source": [
        "test_df['recommended'].value_counts() / sum(test_df['recommended'].value_counts())"
      ],
      "execution_count": null,
      "outputs": [
        {
          "output_type": "execute_result",
          "data": {
            "text/plain": [
              "Recommended        0.763636\n",
              "Not Recommended    0.236364\n",
              "Name: recommended, dtype: float64"
            ]
          },
          "metadata": {
            "tags": []
          },
          "execution_count": 9
        }
      ]
    },
    {
      "cell_type": "code",
      "metadata": {
        "id": "SWKTK8SnaU_m"
      },
      "source": [
        "all_df['label'] = all_df['recommended'].apply(lambda x : 0 if x == 'Not Recommended' else 1)\n",
        "train_df['label'] = train_df['recommended'].apply(lambda x : 0 if x == 'Not Recommended' else 1)\n",
        "val_df['label'] = val_df['recommended'].apply(lambda x : 0 if x == 'Not Recommended' else 1)\n",
        "test_df['label'] = test_df['recommended'].apply(lambda x : 0 if x == 'Not Recommended' else 1)"
      ],
      "execution_count": null,
      "outputs": []
    },
    {
      "cell_type": "code",
      "metadata": {
        "colab": {
          "base_uri": "https://localhost:8080/",
          "height": 598
        },
        "id": "-6X4J9Z9bH9w",
        "outputId": "38964225-04e3-48a3-89f5-27d91acbc522"
      },
      "source": [
        "train_df.head()"
      ],
      "execution_count": null,
      "outputs": [
        {
          "output_type": "execute_result",
          "data": {
            "text/html": [
              "<div>\n",
              "<style scoped>\n",
              "    .dataframe tbody tr th:only-of-type {\n",
              "        vertical-align: middle;\n",
              "    }\n",
              "\n",
              "    .dataframe tbody tr th {\n",
              "        vertical-align: top;\n",
              "    }\n",
              "\n",
              "    .dataframe thead th {\n",
              "        text-align: right;\n",
              "    }\n",
              "</style>\n",
              "<table border=\"1\" class=\"dataframe\">\n",
              "  <thead>\n",
              "    <tr style=\"text-align: right;\">\n",
              "      <th></th>\n",
              "      <th>content</th>\n",
              "      <th>recommended</th>\n",
              "      <th>user_id</th>\n",
              "      <th>game_id</th>\n",
              "      <th>timestamp</th>\n",
              "      <th>play_time_minute</th>\n",
              "      <th>review_time_minute</th>\n",
              "      <th>game_content_link</th>\n",
              "      <th>review_helpful_count</th>\n",
              "      <th>label_encode_user_id</th>\n",
              "      <th>label_encode_game_id</th>\n",
              "      <th>idx</th>\n",
              "      <th>label</th>\n",
              "    </tr>\n",
              "  </thead>\n",
              "  <tbody>\n",
              "    <tr>\n",
              "      <th>0</th>\n",
              "      <td>Game is dead, installed, can play training. Bu...</td>\n",
              "      <td>Not Recommended</td>\n",
              "      <td>atgbui</td>\n",
              "      <td>728540</td>\n",
              "      <td>2021-05-19</td>\n",
              "      <td>18.0</td>\n",
              "      <td>18.0</td>\n",
              "      <td>https://store.steampowered.com/app/728540</td>\n",
              "      <td>0</td>\n",
              "      <td>19157</td>\n",
              "      <td>14662</td>\n",
              "      <td>6</td>\n",
              "      <td>0</td>\n",
              "    </tr>\n",
              "    <tr>\n",
              "      <th>1</th>\n",
              "      <td>Adjust settings- mouse disappears (invisible) ...</td>\n",
              "      <td>Not Recommended</td>\n",
              "      <td>atgbui</td>\n",
              "      <td>999270</td>\n",
              "      <td>2021-05-19</td>\n",
              "      <td>6.0</td>\n",
              "      <td>6.0</td>\n",
              "      <td>https://store.steampowered.com/app/999270</td>\n",
              "      <td>1</td>\n",
              "      <td>19157</td>\n",
              "      <td>18652</td>\n",
              "      <td>7</td>\n",
              "      <td>0</td>\n",
              "    </tr>\n",
              "    <tr>\n",
              "      <th>2</th>\n",
              "      <td>I wish there was a neutral review button.The g...</td>\n",
              "      <td>Not Recommended</td>\n",
              "      <td>atgbui</td>\n",
              "      <td>920470</td>\n",
              "      <td>2021-05-16</td>\n",
              "      <td>216.0</td>\n",
              "      <td>216.0</td>\n",
              "      <td>https://store.steampowered.com/app/920470</td>\n",
              "      <td>0</td>\n",
              "      <td>19157</td>\n",
              "      <td>17716</td>\n",
              "      <td>8</td>\n",
              "      <td>0</td>\n",
              "    </tr>\n",
              "    <tr>\n",
              "      <th>3</th>\n",
              "      <td>The game brings something new to the genre, an...</td>\n",
              "      <td>Not Recommended</td>\n",
              "      <td>atgbui</td>\n",
              "      <td>1183940</td>\n",
              "      <td>2021-05-09</td>\n",
              "      <td>738.0</td>\n",
              "      <td>738.0</td>\n",
              "      <td>https://store.steampowered.com/app/1183940</td>\n",
              "      <td>0</td>\n",
              "      <td>19157</td>\n",
              "      <td>20641</td>\n",
              "      <td>9</td>\n",
              "      <td>0</td>\n",
              "    </tr>\n",
              "    <tr>\n",
              "      <th>4</th>\n",
              "      <td>Update: 06/11/2021: Game seems to be abandoned...</td>\n",
              "      <td>Not Recommended</td>\n",
              "      <td>atgbui</td>\n",
              "      <td>1254400</td>\n",
              "      <td>2021-05-09</td>\n",
              "      <td>438.0</td>\n",
              "      <td>438.0</td>\n",
              "      <td>https://store.steampowered.com/app/1254400</td>\n",
              "      <td>1</td>\n",
              "      <td>19157</td>\n",
              "      <td>21185</td>\n",
              "      <td>10</td>\n",
              "      <td>0</td>\n",
              "    </tr>\n",
              "  </tbody>\n",
              "</table>\n",
              "</div>"
            ],
            "text/plain": [
              "                                             content  ... label\n",
              "0  Game is dead, installed, can play training. Bu...  ...     0\n",
              "1  Adjust settings- mouse disappears (invisible) ...  ...     0\n",
              "2  I wish there was a neutral review button.The g...  ...     0\n",
              "3  The game brings something new to the genre, an...  ...     0\n",
              "4  Update: 06/11/2021: Game seems to be abandoned...  ...     0\n",
              "\n",
              "[5 rows x 13 columns]"
            ]
          },
          "metadata": {
            "tags": []
          },
          "execution_count": 11
        }
      ]
    },
    {
      "cell_type": "code",
      "metadata": {
        "id": "eG-rM8MEdJyj"
      },
      "source": [
        "train_user_id_idx_li = train_df['label_encode_user_id'].tolist()\n",
        "train_game_id_idx_li = train_df['label_encode_game_id'].tolist()\n",
        "train_label_li = train_df['label'].astype(float).tolist()\n",
        "\n",
        "val_user_id_idx_li = val_df['label_encode_user_id'].tolist()\n",
        "val_game_id_idx_li = val_df['label_encode_game_id'].tolist()\n",
        "val_label_li = val_df['label'].astype(float).tolist()\n",
        "\n",
        "test_user_id_idx_li = test_df['label_encode_user_id'].tolist()\n",
        "test_game_id_idx_li = test_df['label_encode_game_id'].tolist()\n",
        "test_label_li = test_df['label'].astype(float).tolist()"
      ],
      "execution_count": null,
      "outputs": []
    },
    {
      "cell_type": "code",
      "metadata": {
        "id": "VhktTFykfH36"
      },
      "source": [
        "torch_norm_game2vec = torch.FloatTensor(norm_game2vec)"
      ],
      "execution_count": null,
      "outputs": []
    },
    {
      "cell_type": "markdown",
      "metadata": {
        "id": "3BTHbbJebfKP"
      },
      "source": [
        "# 모델"
      ]
    },
    {
      "cell_type": "code",
      "metadata": {
        "id": "rhZrDhbRdYiE"
      },
      "source": [
        "from torch.utils.data import Dataset\n",
        "from torch.utils.data import DataLoader\n",
        "\n",
        "class NCFData(Dataset):\n",
        "    def __init__(self, user_id_idx_li, game_id_idx_li, label_li):\n",
        "      super(NCFData, self).__init__()\n",
        "      self._user_id_idx_li = user_id_idx_li\n",
        "      self._game_id_idx_li = game_id_idx_li\n",
        "      self._label_li = label_li\n",
        "\n",
        "    def __len__(self):\n",
        "      return len(self._label_li)\n",
        "\n",
        "    def __getitem__(self, idx):\n",
        "      user = self._user_id_idx_li[idx]\n",
        "      game = self._game_id_idx_li[idx]\n",
        "      label = self._label_li[idx]\n",
        "\n",
        "      return user, game, label"
      ],
      "execution_count": null,
      "outputs": []
    },
    {
      "cell_type": "code",
      "metadata": {
        "id": "5sA80TVsbrW6"
      },
      "source": [
        "user_num = all_df['label_encode_user_id'].max() + 1 \n",
        "factor_num = norm_game2vec.shape[1]"
      ],
      "execution_count": null,
      "outputs": []
    },
    {
      "cell_type": "code",
      "metadata": {
        "colab": {
          "base_uri": "https://localhost:8080/"
        },
        "id": "f81qvktmGH0w",
        "outputId": "87d0233e-69d1-4484-df8d-a3c1ce662168"
      },
      "source": [
        "# 환경설정\n",
        "if torch.cuda.is_available():\n",
        "  DEVICE = torch.device('cuda')\n",
        "else:\n",
        "  DEVICE = torch.device('cpu')\n",
        "print(DEVICE)"
      ],
      "execution_count": null,
      "outputs": [
        {
          "output_type": "stream",
          "text": [
            "cuda\n"
          ],
          "name": "stdout"
        }
      ]
    },
    {
      "cell_type": "code",
      "metadata": {
        "id": "rjlLRd0xXb-2"
      },
      "source": [
        "BATCH_SIZE = 512\n",
        "EPOCHS = 30"
      ],
      "execution_count": null,
      "outputs": []
    },
    {
      "cell_type": "code",
      "metadata": {
        "id": "FbcgyoiXQn5S"
      },
      "source": [
        "class NCF(nn.Module):\n",
        "  def __init__(self, user_num, factor_num):\n",
        "      super(NCF, self).__init__()\n",
        "\n",
        "      # 유저 임베딩\n",
        "      self.user_embedding = nn.Embedding(user_num, factor_num)\n",
        "\n",
        "      # FC\n",
        "      self.FC_layer = nn.Sequential(\n",
        "          nn.Linear(factor_num * 2, 256),\n",
        "          nn.ReLU(),\n",
        "          nn.Dropout(0.2),\n",
        "          nn.BatchNorm1d(256),\n",
        "          nn.Linear(256, 128),\n",
        "          nn.ReLU(),\n",
        "          nn.Dropout(0.2),\n",
        "          nn.BatchNorm1d(128),\n",
        "          nn.Linear(128, 1),\n",
        "          nn.Sigmoid()\n",
        "      )\n",
        "      self._init_weight_()\n",
        "\n",
        "  def _init_weight_(self):\n",
        "      # weight 초기화\n",
        "      nn.init.normal_(self.user_embedding.weight, std=0.01)\n",
        "      for m in self.FC_layer:\n",
        "          if isinstance(m, nn.Linear):\n",
        "              nn.init.kaiming_uniform_(m.weight)\n",
        "\n",
        "  def forward(self, user_idx, item_embedding):\n",
        "      user_embedding = self.user_embedding(user_idx)\n",
        "\n",
        "      concat_two_latent_vactors = torch.cat((user_embedding, item_embedding), -1)\n",
        "\n",
        "      out = self.FC_layer(concat_two_latent_vactors)\n",
        "\n",
        "      return out.view(-1)"
      ],
      "execution_count": null,
      "outputs": []
    },
    {
      "cell_type": "code",
      "metadata": {
        "id": "qEYoe5NrcYNL"
      },
      "source": [
        "from sklearn.metrics import roc_auc_score\n",
        "\n",
        "def roc_auc_compute_fn(y_pred, y_true):\n",
        "\n",
        "  return roc_auc_score(y_true, y_pred)\n",
        "\n",
        "from sklearn.metrics import f1_score\n",
        "\n",
        "def f1_score_compute_fn(y_pred, y_true):\n",
        "\n",
        "  return f1_score(y_true, y_pred)\n",
        "\n",
        "def train(model, train_loader):\n",
        "  model.train()\n",
        "  train_loss = 0\n",
        "  correct = 0\n",
        "\n",
        "  auc_output_li = []\n",
        "  acc_output_li = []\n",
        "  label_li = []\n",
        "\n",
        "  for user, game, label in train_loader:\n",
        "    user = user.to(DEVICE)\n",
        "    item_embedding = torch_norm_game2vec[game].to(DEVICE)\n",
        "    label = label.to(DEVICE)\n",
        "    label = label.type(torch.DoubleTensor)\n",
        "\n",
        "    optimizer.zero_grad()\n",
        "\n",
        "    output = model(user, item_embedding)\n",
        "    output = output.type(torch.DoubleTensor)\n",
        "\n",
        "    loss = criterion(output, label)\n",
        "\n",
        "    loss.backward()\n",
        "    optimizer.step()\n",
        "\n",
        "    train_loss += loss.item()\n",
        "\n",
        "    auc_output_li.append(output.detach().cpu().numpy())\n",
        "\n",
        "    output = (output > 0.5).float()\n",
        "    correct += (output == label).float().sum()\n",
        "\n",
        "    acc_output_li.append(output.detach().cpu().numpy())\n",
        "    label_li.append(label.detach().cpu().numpy())\n",
        "\n",
        "  auc_output_li = np.concatenate(auc_output_li)\n",
        "  acc_output_li = np.concatenate(acc_output_li)\n",
        "  label_li = np.concatenate(label_li)\n",
        "\n",
        "  train_loss /= len(train_loader)\n",
        "  train_accuracy = 100. * correct / len(train_loader.dataset)\n",
        "  train_auc = roc_auc_compute_fn(auc_output_li, label_li)\n",
        "  train_f1 = f1_score_compute_fn(acc_output_li, label_li)\n",
        "\n",
        "  return train_loss, train_accuracy, train_auc, train_f1"
      ],
      "execution_count": null,
      "outputs": []
    },
    {
      "cell_type": "code",
      "metadata": {
        "id": "tglbvAe6cYNR"
      },
      "source": [
        "def evaluate(model, test_loader):\n",
        "  model.eval()\n",
        "  test_loss = 0\n",
        "  correct = 0\n",
        "\n",
        "  auc_output_li = []\n",
        "  acc_output_li = []\n",
        "  label_li = []\n",
        "\n",
        "  with torch.no_grad():\n",
        "    for user, game, label in test_loader:\n",
        "\n",
        "      user = user.to(DEVICE)\n",
        "      item_embedding = torch_norm_game2vec[game].to(DEVICE)\n",
        "      label = label.to(DEVICE)\n",
        "      label = label.type(torch.DoubleTensor)\n",
        "\n",
        "      output = model(user, item_embedding)\n",
        "      output = output.type(torch.DoubleTensor)\n",
        "\n",
        "      loss = criterion(output, label)\n",
        "\n",
        "      test_loss += loss.item()\n",
        "\n",
        "      auc_output_li.append(output.detach().cpu().numpy())\n",
        "\n",
        "      output = (output>0.5).float()\n",
        "      correct += (output == label).float().sum()\n",
        "\n",
        "      acc_output_li.append(output.detach().cpu().numpy())\n",
        "      label_li.append(label.detach().cpu().numpy())\n",
        "\n",
        "  auc_output_li = np.concatenate(auc_output_li)\n",
        "  acc_output_li = np.concatenate(acc_output_li)\n",
        "  label_li = np.concatenate(label_li)\n",
        "\n",
        "  test_loss /= len(test_loader)\n",
        "  test_accuracy = 100. * correct / len(test_loader.dataset)\n",
        "  test_auc = roc_auc_compute_fn(auc_output_li, label_li)\n",
        "  test_f1 = f1_score_compute_fn(acc_output_li, label_li)\n",
        "\n",
        "  return test_loss, test_accuracy, test_auc, test_f1"
      ],
      "execution_count": null,
      "outputs": []
    },
    {
      "cell_type": "code",
      "metadata": {
        "colab": {
          "base_uri": "https://localhost:8080/"
        },
        "id": "uPZmbO1pXU5k",
        "outputId": "17512714-3dde-4492-b0a1-c13c056eaf0c"
      },
      "source": [
        "model = NCF(user_num = user_num, factor_num = factor_num).to(DEVICE)\n",
        "criterion = nn.BCELoss()\n",
        "optimizer = torch.optim.Adam(model.parameters(), lr=0.0001)\n",
        "\n",
        "train_dataset = NCFData(train_user_id_idx_li, train_game_id_idx_li, train_label_li)\n",
        "\n",
        "train_loader = DataLoader(train_dataset,\n",
        "  batch_size = BATCH_SIZE,\n",
        "  shuffle = True,\n",
        "  drop_last = False)\n",
        "\n",
        "val_dataset = NCFData(val_user_id_idx_li, val_game_id_idx_li, val_label_li)\n",
        "\n",
        "val_loader = DataLoader(val_dataset,\n",
        "  batch_size = BATCH_SIZE,\n",
        "  shuffle = False,\n",
        "  drop_last = False)\n",
        "\n",
        "best_metric = 0\n",
        "best_epoch = 0\n",
        "\n",
        "for epoch in range(1, EPOCHS + 1):\n",
        "  train_loss, train_accuracy, train_auc, train_f1 = train(model, train_loader)\n",
        "  test_loss, test_accuracy, test_auc, test_f1 = evaluate(model, val_loader)\n",
        "  print(f\"[EPOCH: {epoch}], Train Loss: {train_loss:.4f}, Train Accuracy: {train_accuracy:.2f} %, Train F!-Score: {train_f1:.4f}, Train AUC: {train_auc:.4f}, \\\n",
        "  Val Loss: {test_loss:.4f}, Val Accuracy: {test_accuracy:.2f} %, Val F!-Score: {test_f1:.4f}, Val AUC: {test_auc:.4f} \\n\")\n",
        "\n",
        "  if best_metric < test_auc:\n",
        "\n",
        "    best_metric = test_auc\n",
        "    best_epoch = epoch\n",
        "    MODEL_DIR = '/content/drive/MyDrive/투빅스 컨퍼런스/Model/'\n",
        "    torch.save(model.state_dict(), MODEL_DIR + f'NCF_Best_model_state_dict.pt')"
      ],
      "execution_count": null,
      "outputs": [
        {
          "output_type": "stream",
          "text": [
            "[EPOCH: 1], Train Loss: 0.5352, Train Accuracy: 73.80 %, Train F!-Score: 0.8251, Train AUC: 0.7361,   Val Loss: 0.4281, Val Accuracy: 80.79 %, Val F!-Score: 0.8785, Val AUC: 0.8262 \n",
            "\n",
            "[EPOCH: 2], Train Loss: 0.4030, Train Accuracy: 81.97 %, Train F!-Score: 0.8871, Train AUC: 0.8363,   Val Loss: 0.4066, Val Accuracy: 81.36 %, Val F!-Score: 0.8821, Val AUC: 0.8401 \n",
            "\n",
            "[EPOCH: 3], Train Loss: 0.3656, Train Accuracy: 83.54 %, Train F!-Score: 0.8967, Train AUC: 0.8690,   Val Loss: 0.4004, Val Accuracy: 81.67 %, Val F!-Score: 0.8844, Val AUC: 0.8455 \n",
            "\n",
            "[EPOCH: 4], Train Loss: 0.3251, Train Accuracy: 85.50 %, Train F!-Score: 0.9083, Train AUC: 0.9002,   Val Loss: 0.4053, Val Accuracy: 81.66 %, Val F!-Score: 0.8827, Val AUC: 0.8462 \n",
            "\n",
            "[EPOCH: 5], Train Loss: 0.2749, Train Accuracy: 88.07 %, Train F!-Score: 0.9237, Train AUC: 0.9313,   Val Loss: 0.4253, Val Accuracy: 81.45 %, Val F!-Score: 0.8804, Val AUC: 0.8433 \n",
            "\n",
            "[EPOCH: 6], Train Loss: 0.2286, Train Accuracy: 90.32 %, Train F!-Score: 0.9375, Train AUC: 0.9537,   Val Loss: 0.4561, Val Accuracy: 81.23 %, Val F!-Score: 0.8786, Val AUC: 0.8400 \n",
            "\n",
            "[EPOCH: 7], Train Loss: 0.1934, Train Accuracy: 91.93 %, Train F!-Score: 0.9476, Train AUC: 0.9672,   Val Loss: 0.4923, Val Accuracy: 81.41 %, Val F!-Score: 0.8799, Val AUC: 0.8391 \n",
            "\n",
            "[EPOCH: 8], Train Loss: 0.1674, Train Accuracy: 93.10 %, Train F!-Score: 0.9551, Train AUC: 0.9756,   Val Loss: 0.5296, Val Accuracy: 81.26 %, Val F!-Score: 0.8785, Val AUC: 0.8365 \n",
            "\n",
            "[EPOCH: 9], Train Loss: 0.1481, Train Accuracy: 93.92 %, Train F!-Score: 0.9604, Train AUC: 0.9810,   Val Loss: 0.5717, Val Accuracy: 81.31 %, Val F!-Score: 0.8789, Val AUC: 0.8364 \n",
            "\n",
            "[EPOCH: 10], Train Loss: 0.1333, Train Accuracy: 94.54 %, Train F!-Score: 0.9644, Train AUC: 0.9846,   Val Loss: 0.6101, Val Accuracy: 81.32 %, Val F!-Score: 0.8789, Val AUC: 0.8365 \n",
            "\n",
            "[EPOCH: 11], Train Loss: 0.1215, Train Accuracy: 95.07 %, Train F!-Score: 0.9678, Train AUC: 0.9873,   Val Loss: 0.6578, Val Accuracy: 81.48 %, Val F!-Score: 0.8803, Val AUC: 0.8362 \n",
            "\n",
            "[EPOCH: 12], Train Loss: 0.1118, Train Accuracy: 95.49 %, Train F!-Score: 0.9706, Train AUC: 0.9892,   Val Loss: 0.6938, Val Accuracy: 81.39 %, Val F!-Score: 0.8793, Val AUC: 0.8360 \n",
            "\n",
            "[EPOCH: 13], Train Loss: 0.1039, Train Accuracy: 95.82 %, Train F!-Score: 0.9727, Train AUC: 0.9907,   Val Loss: 0.7562, Val Accuracy: 81.55 %, Val F!-Score: 0.8807, Val AUC: 0.8364 \n",
            "\n",
            "[EPOCH: 14], Train Loss: 0.0975, Train Accuracy: 96.10 %, Train F!-Score: 0.9745, Train AUC: 0.9918,   Val Loss: 0.8090, Val Accuracy: 81.60 %, Val F!-Score: 0.8812, Val AUC: 0.8360 \n",
            "\n",
            "[EPOCH: 15], Train Loss: 0.0917, Train Accuracy: 96.34 %, Train F!-Score: 0.9761, Train AUC: 0.9928,   Val Loss: 0.8381, Val Accuracy: 81.48 %, Val F!-Score: 0.8798, Val AUC: 0.8361 \n",
            "\n",
            "[EPOCH: 16], Train Loss: 0.0869, Train Accuracy: 96.54 %, Train F!-Score: 0.9774, Train AUC: 0.9935,   Val Loss: 0.8935, Val Accuracy: 81.70 %, Val F!-Score: 0.8814, Val AUC: 0.8367 \n",
            "\n",
            "[EPOCH: 17], Train Loss: 0.0826, Train Accuracy: 96.71 %, Train F!-Score: 0.9785, Train AUC: 0.9941,   Val Loss: 0.9335, Val Accuracy: 81.79 %, Val F!-Score: 0.8824, Val AUC: 0.8377 \n",
            "\n",
            "[EPOCH: 18], Train Loss: 0.0785, Train Accuracy: 96.90 %, Train F!-Score: 0.9797, Train AUC: 0.9947,   Val Loss: 0.9378, Val Accuracy: 81.58 %, Val F!-Score: 0.8800, Val AUC: 0.8382 \n",
            "\n",
            "[EPOCH: 19], Train Loss: 0.0749, Train Accuracy: 97.05 %, Train F!-Score: 0.9807, Train AUC: 0.9952,   Val Loss: 1.0070, Val Accuracy: 81.79 %, Val F!-Score: 0.8824, Val AUC: 0.8377 \n",
            "\n",
            "[EPOCH: 20], Train Loss: 0.0714, Train Accuracy: 97.19 %, Train F!-Score: 0.9816, Train AUC: 0.9956,   Val Loss: 1.0588, Val Accuracy: 81.88 %, Val F!-Score: 0.8835, Val AUC: 0.8366 \n",
            "\n",
            "[EPOCH: 21], Train Loss: 0.0695, Train Accuracy: 97.27 %, Train F!-Score: 0.9821, Train AUC: 0.9958,   Val Loss: 1.0638, Val Accuracy: 81.80 %, Val F!-Score: 0.8824, Val AUC: 0.8379 \n",
            "\n",
            "[EPOCH: 22], Train Loss: 0.0667, Train Accuracy: 97.38 %, Train F!-Score: 0.9828, Train AUC: 0.9962,   Val Loss: 1.1290, Val Accuracy: 81.79 %, Val F!-Score: 0.8822, Val AUC: 0.8386 \n",
            "\n",
            "[EPOCH: 23], Train Loss: 0.0644, Train Accuracy: 97.48 %, Train F!-Score: 0.9835, Train AUC: 0.9964,   Val Loss: 1.1808, Val Accuracy: 81.92 %, Val F!-Score: 0.8829, Val AUC: 0.8393 \n",
            "\n",
            "[EPOCH: 24], Train Loss: 0.0623, Train Accuracy: 97.56 %, Train F!-Score: 0.9841, Train AUC: 0.9966,   Val Loss: 1.2817, Val Accuracy: 82.04 %, Val F!-Score: 0.8845, Val AUC: 0.8387 \n",
            "\n",
            "[EPOCH: 25], Train Loss: 0.0599, Train Accuracy: 97.69 %, Train F!-Score: 0.9849, Train AUC: 0.9969,   Val Loss: 1.2714, Val Accuracy: 81.95 %, Val F!-Score: 0.8836, Val AUC: 0.8388 \n",
            "\n",
            "[EPOCH: 26], Train Loss: 0.0581, Train Accuracy: 97.75 %, Train F!-Score: 0.9853, Train AUC: 0.9971,   Val Loss: 1.3216, Val Accuracy: 82.04 %, Val F!-Score: 0.8844, Val AUC: 0.8393 \n",
            "\n",
            "[EPOCH: 27], Train Loss: 0.0565, Train Accuracy: 97.81 %, Train F!-Score: 0.9857, Train AUC: 0.9972,   Val Loss: 1.3712, Val Accuracy: 82.00 %, Val F!-Score: 0.8845, Val AUC: 0.8381 \n",
            "\n",
            "[EPOCH: 28], Train Loss: 0.0550, Train Accuracy: 97.86 %, Train F!-Score: 0.9860, Train AUC: 0.9974,   Val Loss: 1.3737, Val Accuracy: 82.02 %, Val F!-Score: 0.8840, Val AUC: 0.8397 \n",
            "\n",
            "[EPOCH: 29], Train Loss: 0.0535, Train Accuracy: 97.92 %, Train F!-Score: 0.9864, Train AUC: 0.9975,   Val Loss: 1.3730, Val Accuracy: 82.11 %, Val F!-Score: 0.8849, Val AUC: 0.8395 \n",
            "\n",
            "[EPOCH: 30], Train Loss: 0.0519, Train Accuracy: 98.00 %, Train F!-Score: 0.9869, Train AUC: 0.9977,   Val Loss: 1.4178, Val Accuracy: 82.04 %, Val F!-Score: 0.8846, Val AUC: 0.8384 \n",
            "\n"
          ],
          "name": "stdout"
        }
      ]
    },
    {
      "cell_type": "code",
      "metadata": {
        "colab": {
          "base_uri": "https://localhost:8080/"
        },
        "id": "E5bjseEvH_F8",
        "outputId": "126cb30e-10bc-4d5b-99d5-9f2383a29064"
      },
      "source": [
        "print(f'Best_Epoch : {best_epoch}, Best_Metric : {best_metric}')"
      ],
      "execution_count": null,
      "outputs": [
        {
          "output_type": "stream",
          "text": [
            "Best_Epoch : 4, Best_Metric : 0.8462223461114633\n"
          ],
          "name": "stdout"
        }
      ]
    },
    {
      "cell_type": "code",
      "metadata": {
        "colab": {
          "base_uri": "https://localhost:8080/"
        },
        "id": "lDInI-4xdIFv",
        "outputId": "8bd9c4a5-e78b-442e-8dfa-352742140f64"
      },
      "source": [
        "test_dataset = NCFData(test_user_id_idx_li, test_game_id_idx_li, test_label_li)\n",
        "\n",
        "test_loader = DataLoader(test_dataset,\n",
        "  batch_size = BATCH_SIZE,\n",
        "  shuffle = False,\n",
        "  drop_last = False)\n",
        "\n",
        "model.load_state_dict(torch.load(MODEL_DIR + f'NCF_Best_model_state_dict.pt'))\n",
        "\n",
        "test_loss, test_accuracy, test_auc, test_f1 = evaluate(model, test_loader)\n",
        "\n",
        "print(f\"Test Loss: {test_loss:.4f}, Test Accuracy: {test_accuracy:.2f} %, Test F!-Score: {test_f1:.4f}, Test AUC: {test_auc:.4f}\")"
      ],
      "execution_count": null,
      "outputs": [
        {
          "output_type": "stream",
          "text": [
            "Test Loss: 0.4057, Test Accuracy: 81.50 %, Test F!-Score: 0.8837, Test AUC: 0.8391\n"
          ],
          "name": "stdout"
        }
      ]
    },
    {
      "cell_type": "code",
      "metadata": {
        "id": "i9CtHuYo2YVT"
      },
      "source": [
        ""
      ],
      "execution_count": null,
      "outputs": []
    }
  ]
}