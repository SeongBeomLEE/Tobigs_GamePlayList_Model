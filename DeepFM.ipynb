{
  "nbformat": 4,
  "nbformat_minor": 0,
  "metadata": {
    "colab": {
      "name": "DeepFM.ipynb",
      "provenance": [],
      "collapsed_sections": [],
      "mount_file_id": "1u5AaWxlGW7QNMh8BhFl8L_3oO5T-lI28",
      "authorship_tag": "ABX9TyNebBKUHvc1kOd6ox2tzzSz"
    },
    "kernelspec": {
      "name": "python3",
      "display_name": "Python 3"
    },
    "language_info": {
      "name": "python"
    },
    "accelerator": "GPU"
  },
  "cells": [
    {
      "cell_type": "code",
      "metadata": {
        "id": "EG3xlIKxeHcc"
      },
      "source": [
        "import numpy as np\n",
        "import pandas as pd\n",
        "\n",
        "import torch\n",
        "import torch.nn as nn\n",
        "import torch.nn.functional as F\n",
        "\n",
        "import warnings\n",
        "\n",
        "warnings.filterwarnings(action='ignore')\n",
        "\n",
        "DATA_DIR = '/content/drive/MyDrive/투빅스 컨퍼런스/Data/'\n",
        "MODEL_DIR = '/content/drive/MyDrive/투빅스 컨퍼런스/Model/'"
      ],
      "execution_count": 1,
      "outputs": []
    },
    {
      "cell_type": "markdown",
      "metadata": {
        "id": "-qg3OfDvTIo0"
      },
      "source": [
        "# 데이터 불러오기"
      ]
    },
    {
      "cell_type": "code",
      "metadata": {
        "id": "CGdU3MHqTBJt"
      },
      "source": [
        "import pickle\n",
        "\n",
        "# 이미지 + 순서 + 장르(텍스트)\n",
        "with open(DATA_DIR + 'norm_game2vec.pickle', 'rb') as f:\n",
        "  norm_game2vec = pickle.load(f)"
      ],
      "execution_count": 2,
      "outputs": []
    },
    {
      "cell_type": "code",
      "metadata": {
        "id": "oLKaGwBwTlGk"
      },
      "source": [
        "user_df = pd.read_csv(DATA_DIR + 'steam_user_meta_data_final_v2.csv')\n",
        "user_df = user_df.sort_values('label_encode_user_id').reset_index(drop = True)\n",
        "user_df = user_df.iloc[:, 1:7].values\n",
        "\n",
        "game_df = pd.read_csv(DATA_DIR + 'steam_game_meta_data_final.csv')\n",
        "game_df = game_df.iloc[:, -8:].values\n",
        "\n",
        "all_df = pd.read_csv(DATA_DIR + 'steam_reviews_clean_result_v2.csv')\n",
        "train_df = pd.read_csv(DATA_DIR + 'steam_reviews_clean_result_train_v2.csv')\n",
        "val_df = pd.read_csv(DATA_DIR + 'steam_reviews_clean_result_val_v2.csv')\n",
        "test_df = pd.read_csv(DATA_DIR + 'steam_reviews_clean_result_test_v2.csv')"
      ],
      "execution_count": 3,
      "outputs": []
    },
    {
      "cell_type": "code",
      "metadata": {
        "id": "qK5nNkqspiUW"
      },
      "source": [
        "from sklearn.preprocessing import StandardScaler\n",
        "\n",
        "Scaler = StandardScaler()\n",
        "\n",
        "user_df = Scaler.fit_transform(user_df)\n",
        "game_df = Scaler.fit_transform(game_df)"
      ],
      "execution_count": 4,
      "outputs": []
    },
    {
      "cell_type": "markdown",
      "metadata": {
        "id": "Wv_RTz3OUBgV"
      },
      "source": [
        "# 데이터 전처리"
      ]
    },
    {
      "cell_type": "code",
      "metadata": {
        "id": "je1-My94XnXI",
        "colab": {
          "base_uri": "https://localhost:8080/"
        },
        "outputId": "f4b57d17-d664-46fb-8798-110ce3ee35f1"
      },
      "source": [
        "(train_df.shape[0] + val_df.shape[0] + test_df.shape[0]) == (all_df.shape[0])"
      ],
      "execution_count": 5,
      "outputs": [
        {
          "output_type": "execute_result",
          "data": {
            "text/plain": [
              "True"
            ]
          },
          "metadata": {
            "tags": []
          },
          "execution_count": 5
        }
      ]
    },
    {
      "cell_type": "code",
      "metadata": {
        "id": "tpGDG0meUfMb",
        "colab": {
          "base_uri": "https://localhost:8080/"
        },
        "outputId": "4d3b7c68-3228-4041-ce13-902a6d7d3e98"
      },
      "source": [
        "a = all_df['user_id'].astype(str).unique().tolist()\n",
        "b = train_df['user_id'].astype(str).unique().tolist()\n",
        "\n",
        "a = set(a)\n",
        "b = set(b)\n",
        "\n",
        "b - a"
      ],
      "execution_count": 6,
      "outputs": [
        {
          "output_type": "execute_result",
          "data": {
            "text/plain": [
              "set()"
            ]
          },
          "metadata": {
            "tags": []
          },
          "execution_count": 6
        }
      ]
    },
    {
      "cell_type": "code",
      "metadata": {
        "id": "JYiaRjUuaYkX",
        "colab": {
          "base_uri": "https://localhost:8080/"
        },
        "outputId": "97d175c3-81a9-4f12-eb3e-8cb130ab625f"
      },
      "source": [
        "all_df['recommended'].value_counts() / sum(all_df['recommended'].value_counts())"
      ],
      "execution_count": 7,
      "outputs": [
        {
          "output_type": "execute_result",
          "data": {
            "text/plain": [
              "Recommended        0.762219\n",
              "Not Recommended    0.237781\n",
              "Name: recommended, dtype: float64"
            ]
          },
          "metadata": {
            "tags": []
          },
          "execution_count": 7
        }
      ]
    },
    {
      "cell_type": "code",
      "metadata": {
        "id": "yeDU-4WQalfP",
        "colab": {
          "base_uri": "https://localhost:8080/"
        },
        "outputId": "54511785-7fe0-41cb-907c-c15fe1b59bb0"
      },
      "source": [
        "train_df['recommended'].value_counts() / sum(train_df['recommended'].value_counts())"
      ],
      "execution_count": 8,
      "outputs": [
        {
          "output_type": "execute_result",
          "data": {
            "text/plain": [
              "Recommended        0.764251\n",
              "Not Recommended    0.235749\n",
              "Name: recommended, dtype: float64"
            ]
          },
          "metadata": {
            "tags": []
          },
          "execution_count": 8
        }
      ]
    },
    {
      "cell_type": "code",
      "metadata": {
        "id": "XKMXnVxwalo2",
        "colab": {
          "base_uri": "https://localhost:8080/"
        },
        "outputId": "43609c75-0de6-4ac8-898c-50133639de15"
      },
      "source": [
        "val_df['recommended'].value_counts() / sum(val_df['recommended'].value_counts())"
      ],
      "execution_count": 9,
      "outputs": [
        {
          "output_type": "execute_result",
          "data": {
            "text/plain": [
              "Recommended        0.751932\n",
              "Not Recommended    0.248068\n",
              "Name: recommended, dtype: float64"
            ]
          },
          "metadata": {
            "tags": []
          },
          "execution_count": 9
        }
      ]
    },
    {
      "cell_type": "code",
      "metadata": {
        "id": "3AVKsbJ0alyX",
        "colab": {
          "base_uri": "https://localhost:8080/"
        },
        "outputId": "1a787e34-5717-4892-efa2-35b1d2be1ee2"
      },
      "source": [
        "test_df['recommended'].value_counts() / sum(test_df['recommended'].value_counts())"
      ],
      "execution_count": 10,
      "outputs": [
        {
          "output_type": "execute_result",
          "data": {
            "text/plain": [
              "Recommended        0.763636\n",
              "Not Recommended    0.236364\n",
              "Name: recommended, dtype: float64"
            ]
          },
          "metadata": {
            "tags": []
          },
          "execution_count": 10
        }
      ]
    },
    {
      "cell_type": "code",
      "metadata": {
        "id": "SWKTK8SnaU_m"
      },
      "source": [
        "all_df['label'] = all_df['recommended'].apply(lambda x : 0 if x == 'Not Recommended' else 1)\n",
        "train_df['label'] = train_df['recommended'].apply(lambda x : 0 if x == 'Not Recommended' else 1)\n",
        "val_df['label'] = val_df['recommended'].apply(lambda x : 0 if x == 'Not Recommended' else 1)\n",
        "test_df['label'] = test_df['recommended'].apply(lambda x : 0 if x == 'Not Recommended' else 1)"
      ],
      "execution_count": 11,
      "outputs": []
    },
    {
      "cell_type": "code",
      "metadata": {
        "id": "-6X4J9Z9bH9w",
        "colab": {
          "base_uri": "https://localhost:8080/",
          "height": 598
        },
        "outputId": "14e1c48e-98dc-482c-a311-7ddfc86cada3"
      },
      "source": [
        "train_df.head()"
      ],
      "execution_count": 12,
      "outputs": [
        {
          "output_type": "execute_result",
          "data": {
            "text/html": [
              "<div>\n",
              "<style scoped>\n",
              "    .dataframe tbody tr th:only-of-type {\n",
              "        vertical-align: middle;\n",
              "    }\n",
              "\n",
              "    .dataframe tbody tr th {\n",
              "        vertical-align: top;\n",
              "    }\n",
              "\n",
              "    .dataframe thead th {\n",
              "        text-align: right;\n",
              "    }\n",
              "</style>\n",
              "<table border=\"1\" class=\"dataframe\">\n",
              "  <thead>\n",
              "    <tr style=\"text-align: right;\">\n",
              "      <th></th>\n",
              "      <th>content</th>\n",
              "      <th>recommended</th>\n",
              "      <th>user_id</th>\n",
              "      <th>game_id</th>\n",
              "      <th>timestamp</th>\n",
              "      <th>play_time_minute</th>\n",
              "      <th>review_time_minute</th>\n",
              "      <th>game_content_link</th>\n",
              "      <th>review_helpful_count</th>\n",
              "      <th>label_encode_user_id</th>\n",
              "      <th>label_encode_game_id</th>\n",
              "      <th>idx</th>\n",
              "      <th>label</th>\n",
              "    </tr>\n",
              "  </thead>\n",
              "  <tbody>\n",
              "    <tr>\n",
              "      <th>0</th>\n",
              "      <td>Game is dead, installed, can play training. Bu...</td>\n",
              "      <td>Not Recommended</td>\n",
              "      <td>atgbui</td>\n",
              "      <td>728540</td>\n",
              "      <td>2021-05-19</td>\n",
              "      <td>18.0</td>\n",
              "      <td>18.0</td>\n",
              "      <td>https://store.steampowered.com/app/728540</td>\n",
              "      <td>0</td>\n",
              "      <td>19157</td>\n",
              "      <td>14662</td>\n",
              "      <td>6</td>\n",
              "      <td>0</td>\n",
              "    </tr>\n",
              "    <tr>\n",
              "      <th>1</th>\n",
              "      <td>Adjust settings- mouse disappears (invisible) ...</td>\n",
              "      <td>Not Recommended</td>\n",
              "      <td>atgbui</td>\n",
              "      <td>999270</td>\n",
              "      <td>2021-05-19</td>\n",
              "      <td>6.0</td>\n",
              "      <td>6.0</td>\n",
              "      <td>https://store.steampowered.com/app/999270</td>\n",
              "      <td>1</td>\n",
              "      <td>19157</td>\n",
              "      <td>18652</td>\n",
              "      <td>7</td>\n",
              "      <td>0</td>\n",
              "    </tr>\n",
              "    <tr>\n",
              "      <th>2</th>\n",
              "      <td>I wish there was a neutral review button.The g...</td>\n",
              "      <td>Not Recommended</td>\n",
              "      <td>atgbui</td>\n",
              "      <td>920470</td>\n",
              "      <td>2021-05-16</td>\n",
              "      <td>216.0</td>\n",
              "      <td>216.0</td>\n",
              "      <td>https://store.steampowered.com/app/920470</td>\n",
              "      <td>0</td>\n",
              "      <td>19157</td>\n",
              "      <td>17716</td>\n",
              "      <td>8</td>\n",
              "      <td>0</td>\n",
              "    </tr>\n",
              "    <tr>\n",
              "      <th>3</th>\n",
              "      <td>The game brings something new to the genre, an...</td>\n",
              "      <td>Not Recommended</td>\n",
              "      <td>atgbui</td>\n",
              "      <td>1183940</td>\n",
              "      <td>2021-05-09</td>\n",
              "      <td>738.0</td>\n",
              "      <td>738.0</td>\n",
              "      <td>https://store.steampowered.com/app/1183940</td>\n",
              "      <td>0</td>\n",
              "      <td>19157</td>\n",
              "      <td>20641</td>\n",
              "      <td>9</td>\n",
              "      <td>0</td>\n",
              "    </tr>\n",
              "    <tr>\n",
              "      <th>4</th>\n",
              "      <td>Update: 06/11/2021: Game seems to be abandoned...</td>\n",
              "      <td>Not Recommended</td>\n",
              "      <td>atgbui</td>\n",
              "      <td>1254400</td>\n",
              "      <td>2021-05-09</td>\n",
              "      <td>438.0</td>\n",
              "      <td>438.0</td>\n",
              "      <td>https://store.steampowered.com/app/1254400</td>\n",
              "      <td>1</td>\n",
              "      <td>19157</td>\n",
              "      <td>21185</td>\n",
              "      <td>10</td>\n",
              "      <td>0</td>\n",
              "    </tr>\n",
              "  </tbody>\n",
              "</table>\n",
              "</div>"
            ],
            "text/plain": [
              "                                             content  ... label\n",
              "0  Game is dead, installed, can play training. Bu...  ...     0\n",
              "1  Adjust settings- mouse disappears (invisible) ...  ...     0\n",
              "2  I wish there was a neutral review button.The g...  ...     0\n",
              "3  The game brings something new to the genre, an...  ...     0\n",
              "4  Update: 06/11/2021: Game seems to be abandoned...  ...     0\n",
              "\n",
              "[5 rows x 13 columns]"
            ]
          },
          "metadata": {
            "tags": []
          },
          "execution_count": 12
        }
      ]
    },
    {
      "cell_type": "code",
      "metadata": {
        "id": "eG-rM8MEdJyj"
      },
      "source": [
        "train_user_id_idx_li = train_df['label_encode_user_id'].tolist()\n",
        "train_game_id_idx_li = train_df['label_encode_game_id'].tolist()\n",
        "train_label_li = train_df['label'].astype(float).tolist()\n",
        "\n",
        "val_user_id_idx_li = val_df['label_encode_user_id'].tolist()\n",
        "val_game_id_idx_li = val_df['label_encode_game_id'].tolist()\n",
        "val_label_li = val_df['label'].astype(float).tolist()\n",
        "\n",
        "test_user_id_idx_li = test_df['label_encode_user_id'].tolist()\n",
        "test_game_id_idx_li = test_df['label_encode_game_id'].tolist()\n",
        "test_label_li = test_df['label'].astype(float).tolist()"
      ],
      "execution_count": 13,
      "outputs": []
    },
    {
      "cell_type": "code",
      "metadata": {
        "id": "VhktTFykfH36"
      },
      "source": [
        "torch_norm_game2vec = torch.FloatTensor(norm_game2vec)\n",
        "torch_user_df = torch.FloatTensor(user_df)\n",
        "torch_game_df = torch.FloatTensor(game_df)"
      ],
      "execution_count": 14,
      "outputs": []
    },
    {
      "cell_type": "markdown",
      "metadata": {
        "id": "3BTHbbJebfKP"
      },
      "source": [
        "# 모델"
      ]
    },
    {
      "cell_type": "code",
      "metadata": {
        "id": "rhZrDhbRdYiE"
      },
      "source": [
        "from torch.utils.data import Dataset\n",
        "from torch.utils.data import DataLoader\n",
        "\n",
        "class NCFData(Dataset):\n",
        "    def __init__(self, user_id_idx_li, game_id_idx_li, label_li):\n",
        "      super(NCFData, self).__init__()\n",
        "      self._user_id_idx_li = user_id_idx_li\n",
        "      self._game_id_idx_li = game_id_idx_li\n",
        "      self._label_li = label_li\n",
        "\n",
        "    def __len__(self):\n",
        "      return len(self._label_li)\n",
        "\n",
        "    def __getitem__(self, idx):\n",
        "      user = self._user_id_idx_li[idx]\n",
        "      game = self._game_id_idx_li[idx]\n",
        "      label = self._label_li[idx]\n",
        "\n",
        "      return user, game, label"
      ],
      "execution_count": 15,
      "outputs": []
    },
    {
      "cell_type": "code",
      "metadata": {
        "id": "5sA80TVsbrW6"
      },
      "source": [
        "user_num = all_df['label_encode_user_id'].max() + 1 \n",
        "factor_num = norm_game2vec.shape[1]\n",
        "input_dim = user_df.shape[1] + game_df.shape[1]"
      ],
      "execution_count": 16,
      "outputs": []
    },
    {
      "cell_type": "code",
      "metadata": {
        "id": "f81qvktmGH0w",
        "colab": {
          "base_uri": "https://localhost:8080/"
        },
        "outputId": "a402862b-fbf0-4959-f8d9-4353c20ec179"
      },
      "source": [
        "# 환경설정\n",
        "if torch.cuda.is_available():\n",
        "  DEVICE = torch.device('cuda')\n",
        "else:\n",
        "  DEVICE = torch.device('cpu')\n",
        "print(DEVICE)"
      ],
      "execution_count": 17,
      "outputs": [
        {
          "output_type": "stream",
          "text": [
            "cuda\n"
          ],
          "name": "stdout"
        }
      ]
    },
    {
      "cell_type": "code",
      "metadata": {
        "id": "rjlLRd0xXb-2"
      },
      "source": [
        "BATCH_SIZE = 512\n",
        "EPOCHS = 30"
      ],
      "execution_count": 18,
      "outputs": []
    },
    {
      "cell_type": "code",
      "metadata": {
        "id": "FbcgyoiXQn5S"
      },
      "source": [
        "class DeepFM(nn.Module):\n",
        "  def __init__(self, user_num, input_dim, factor_num):\n",
        "      super(DeepFM, self).__init__()\n",
        "\n",
        "      # 유저 임베딩\n",
        "      self.user_embedding = nn.Embedding(user_num, factor_num)\n",
        "\n",
        "      # MLP\n",
        "      self.MLP = nn.Sequential(\n",
        "          nn.Linear(factor_num, factor_num),\n",
        "          nn.BatchNorm1d(factor_num),\n",
        "          nn.ReLU(),\n",
        "          nn.Dropout(0.2),\n",
        "          nn.Linear(factor_num, factor_num),\n",
        "          nn.BatchNorm1d(factor_num),\n",
        "          nn.ReLU(),\n",
        "          nn.Dropout(0.2),\n",
        "          nn.Linear(factor_num, 1)\n",
        "      )\n",
        "\n",
        "      # Linear\n",
        "      self.linear = nn.Sequential(\n",
        "          nn.Linear(input_dim, 1)\n",
        "      )\n",
        "\n",
        "      self._init_weight_()\n",
        "\n",
        "  def _init_weight_(self):\n",
        "      # weight 초기화\n",
        "      nn.init.normal_(self.user_embedding.weight, std=0.01)\n",
        "      for m in self.MLP:\n",
        "          if isinstance(m, nn.Linear):\n",
        "              nn.init.xavier_uniform_(m.weight)\n",
        "\n",
        "  def forward(self, user_idx, item_embedding, input):\n",
        "      user_embedding = self.user_embedding(user_idx)\n",
        "      embedding = (user_embedding * item_embedding)\n",
        "      \n",
        "      # FM\n",
        "      square_of_sum = torch.sum(embedding, dim=1) ** 2\n",
        "      sum_of_square = torch.sum(embedding ** 2, dim=1)\n",
        "      ix = square_of_sum - sum_of_square\n",
        "      FM_out = 0.5 * ix\n",
        "      FM_out = torch.reshape(FM_out, (-1, 1))\n",
        "      \n",
        "      # MLP\n",
        "      MLP_out = self.MLP(embedding)\n",
        "\n",
        "      # Linear\n",
        "      Linear_out = self.linear(input)\n",
        "\n",
        "      out = FM_out + MLP_out + Linear_out\n",
        "      out = torch.sigmoid(out)\n",
        "\n",
        "      return out.view(-1)"
      ],
      "execution_count": 19,
      "outputs": []
    },
    {
      "cell_type": "code",
      "metadata": {
        "id": "te7nQPr8avdz"
      },
      "source": [
        "from sklearn.metrics import roc_auc_score\n",
        "\n",
        "def roc_auc_compute_fn(y_pred, y_true):\n",
        "\n",
        "  return roc_auc_score(y_true, y_pred)\n",
        "\n",
        "from sklearn.metrics import f1_score\n",
        "\n",
        "def f1_score_compute_fn(y_pred, y_true):\n",
        "\n",
        "  return f1_score(y_true, y_pred)\n",
        "\n",
        "def train(model, train_loader):\n",
        "  model.train()\n",
        "  train_loss = 0\n",
        "  correct = 0\n",
        "\n",
        "  auc_output_li = []\n",
        "  acc_output_li = []\n",
        "  label_li = []\n",
        "\n",
        "  for user, game, label in train_loader:\n",
        "    input = torch.cat((torch_user_df[user], torch_game_df[game]), dim = 1).to(DEVICE)\n",
        "    user = user.to(DEVICE)\n",
        "    item_embedding = torch_norm_game2vec[game].to(DEVICE)\n",
        "    label = label.to(DEVICE)\n",
        "    label = label.type(torch.DoubleTensor)\n",
        "\n",
        "    optimizer.zero_grad()\n",
        "\n",
        "    output = model(user, item_embedding, input)\n",
        "    output = output.type(torch.DoubleTensor)\n",
        "\n",
        "    loss = criterion(output, label)\n",
        "\n",
        "    loss.backward()\n",
        "    optimizer.step()\n",
        "\n",
        "    train_loss += loss.item()\n",
        "\n",
        "    auc_output_li.append(output.detach().cpu().numpy())\n",
        "\n",
        "    output = (output > 0.5).float()\n",
        "    correct += (output == label).float().sum()\n",
        "\n",
        "    acc_output_li.append(output.detach().cpu().numpy())\n",
        "    label_li.append(label.detach().cpu().numpy())\n",
        "\n",
        "  auc_output_li = np.concatenate(auc_output_li)\n",
        "  acc_output_li = np.concatenate(acc_output_li)\n",
        "  label_li = np.concatenate(label_li)\n",
        "\n",
        "  train_loss /= len(train_loader)\n",
        "  train_accuracy = 100. * correct / len(train_loader.dataset)\n",
        "  train_auc = roc_auc_compute_fn(auc_output_li, label_li)\n",
        "  train_f1 = f1_score_compute_fn(acc_output_li, label_li)\n",
        "\n",
        "  return train_loss, train_accuracy, train_auc, train_f1"
      ],
      "execution_count": 20,
      "outputs": []
    },
    {
      "cell_type": "code",
      "metadata": {
        "id": "zid_o30Aavd0"
      },
      "source": [
        "def evaluate(model, test_loader):\n",
        "  model.eval()\n",
        "  test_loss = 0\n",
        "  correct = 0\n",
        "\n",
        "  auc_output_li = []\n",
        "  acc_output_li = []\n",
        "  label_li = []\n",
        "\n",
        "  with torch.no_grad():\n",
        "    for user, game, label in test_loader:\n",
        "      input = torch.cat((torch_user_df[user], torch_game_df[game]), dim = 1).to(DEVICE)\n",
        "      user = user.to(DEVICE)\n",
        "      item_embedding = torch_norm_game2vec[game].to(DEVICE)\n",
        "      label = label.to(DEVICE)\n",
        "      label = label.type(torch.DoubleTensor)\n",
        "\n",
        "      output = model(user, item_embedding, input)\n",
        "      output = output.type(torch.DoubleTensor)\n",
        "\n",
        "      loss = criterion(output, label)\n",
        "\n",
        "      test_loss += loss.item()\n",
        "\n",
        "      auc_output_li.append(output.detach().cpu().numpy())\n",
        "\n",
        "      output = (output>0.5).float()\n",
        "      correct += (output == label).float().sum()\n",
        "\n",
        "      acc_output_li.append(output.detach().cpu().numpy())\n",
        "      label_li.append(label.detach().cpu().numpy())\n",
        "\n",
        "  auc_output_li = np.concatenate(auc_output_li)\n",
        "  acc_output_li = np.concatenate(acc_output_li)\n",
        "  label_li = np.concatenate(label_li)\n",
        "\n",
        "  test_loss /= len(test_loader)\n",
        "  test_accuracy = 100. * correct / len(test_loader.dataset)\n",
        "  test_auc = roc_auc_compute_fn(auc_output_li, label_li)\n",
        "  test_f1 = f1_score_compute_fn(acc_output_li, label_li)\n",
        "\n",
        "  return test_loss, test_accuracy, test_auc, test_f1"
      ],
      "execution_count": 21,
      "outputs": []
    },
    {
      "cell_type": "code",
      "metadata": {
        "id": "uPZmbO1pXU5k",
        "colab": {
          "base_uri": "https://localhost:8080/"
        },
        "outputId": "c17eae43-70b3-4d11-dd1f-15835e541523"
      },
      "source": [
        "model = DeepFM(user_num = user_num, input_dim = input_dim, factor_num = factor_num).to(DEVICE)\n",
        "criterion = nn.BCELoss()\n",
        "optimizer = torch.optim.Adam(model.parameters(), lr=0.0001)\n",
        "\n",
        "train_dataset = NCFData(train_user_id_idx_li, train_game_id_idx_li, train_label_li)\n",
        "\n",
        "train_loader = DataLoader(train_dataset,\n",
        "  batch_size = BATCH_SIZE,\n",
        "  shuffle = True,\n",
        "  drop_last = False)\n",
        "\n",
        "val_dataset = NCFData(val_user_id_idx_li, val_game_id_idx_li, val_label_li)\n",
        "\n",
        "val_loader = DataLoader(val_dataset,\n",
        "  batch_size = BATCH_SIZE,\n",
        "  shuffle = False,\n",
        "  drop_last = False)\n",
        "\n",
        "best_metric = 0\n",
        "best_epoch = 0\n",
        "\n",
        "for epoch in range(1, EPOCHS + 1):\n",
        "  train_loss, train_accuracy, train_auc, train_f1 = train(model, train_loader)\n",
        "  test_loss, test_accuracy, test_auc, test_f1 = evaluate(model, val_loader)\n",
        "  print(f\"[EPOCH: {epoch}], Train Loss: {train_loss:.4f}, Train Accuracy: {train_accuracy:.2f} %, Train F!-Score: {train_f1:.4f}, Train AUC: {train_auc:.4f}, \\\n",
        "  Val Loss: {test_loss:.4f}, Val Accuracy: {test_accuracy:.2f} %, Val F!-Score: {test_f1:.4f}, Val AUC: {test_auc:.4f} \\n\")\n",
        "\n",
        "  if best_metric < test_auc:\n",
        "\n",
        "    best_metric = test_auc\n",
        "    best_epoch = epoch\n",
        "    MODEL_DIR = '/content/drive/MyDrive/투빅스 컨퍼런스/Model/'\n",
        "    torch.save(model.state_dict(), MODEL_DIR + f'DeepFM_Best_model_state_dict.pt')\n",
        "\n",
        "# Train Accuracy - Val Accuracy 를 해서 가장 작은 모델을 저장하는 것이 좋들 듯\n",
        "# 왜? Val 에는 1만 존재하기 때문에 Train의 유저의 선호도를 어느 정도 맞춘 상태에서\n",
        "# Val의 선호 게임을 맞추는 것이 조금 더 타당할 수 있음\n",
        "# 따라서 Train Accuracy - Val Accuracy의 편차가 가장 작은 모델이 가장 성능이 우수하다고 생각함\n",
        "\n",
        "# 현재로써는 AUC 를 메트릭으로 사용해도 좋을 거 같음"
      ],
      "execution_count": 22,
      "outputs": [
        {
          "output_type": "stream",
          "text": [
            "[EPOCH: 1], Train Loss: 0.4909, Train Accuracy: 79.04 %, Train F!-Score: 0.8716, Train AUC: 0.7552,   Val Loss: 0.3966, Val Accuracy: 82.48 %, Val F!-Score: 0.8902, Val AUC: 0.8486 \n",
            "\n",
            "[EPOCH: 2], Train Loss: 0.2547, Train Accuracy: 89.28 %, Train F!-Score: 0.9311, Train AUC: 0.9417,   Val Loss: 0.3879, Val Accuracy: 83.64 %, Val F!-Score: 0.8941, Val AUC: 0.8658 \n",
            "\n",
            "[EPOCH: 3], Train Loss: 0.0868, Train Accuracy: 96.84 %, Train F!-Score: 0.9793, Train AUC: 0.9936,   Val Loss: 0.5469, Val Accuracy: 83.03 %, Val F!-Score: 0.8897, Val AUC: 0.8577 \n",
            "\n",
            "[EPOCH: 4], Train Loss: 0.0257, Train Accuracy: 99.17 %, Train F!-Score: 0.9946, Train AUC: 0.9994,   Val Loss: 0.9155, Val Accuracy: 82.87 %, Val F!-Score: 0.8893, Val AUC: 0.8533 \n",
            "\n",
            "[EPOCH: 5], Train Loss: 0.0126, Train Accuracy: 99.59 %, Train F!-Score: 0.9973, Train AUC: 0.9999,   Val Loss: 1.1647, Val Accuracy: 82.52 %, Val F!-Score: 0.8852, Val AUC: 0.8526 \n",
            "\n",
            "[EPOCH: 6], Train Loss: 0.0103, Train Accuracy: 99.67 %, Train F!-Score: 0.9978, Train AUC: 0.9999,   Val Loss: 1.4891, Val Accuracy: 83.19 %, Val F!-Score: 0.8911, Val AUC: 0.8528 \n",
            "\n",
            "[EPOCH: 7], Train Loss: 0.0126, Train Accuracy: 99.61 %, Train F!-Score: 0.9974, Train AUC: 0.9998,   Val Loss: 1.6072, Val Accuracy: 83.15 %, Val F!-Score: 0.8901, Val AUC: 0.8540 \n",
            "\n",
            "[EPOCH: 8], Train Loss: 0.0128, Train Accuracy: 99.60 %, Train F!-Score: 0.9974, Train AUC: 0.9998,   Val Loss: 1.6874, Val Accuracy: 83.74 %, Val F!-Score: 0.8948, Val AUC: 0.8571 \n",
            "\n",
            "[EPOCH: 9], Train Loss: 0.0083, Train Accuracy: 99.76 %, Train F!-Score: 0.9984, Train AUC: 0.9999,   Val Loss: 2.0125, Val Accuracy: 83.92 %, Val F!-Score: 0.8969, Val AUC: 0.8553 \n",
            "\n",
            "[EPOCH: 10], Train Loss: 0.0055, Train Accuracy: 99.84 %, Train F!-Score: 0.9990, Train AUC: 1.0000,   Val Loss: 2.3152, Val Accuracy: 84.08 %, Val F!-Score: 0.8983, Val AUC: 0.8541 \n",
            "\n",
            "[EPOCH: 11], Train Loss: 0.0050, Train Accuracy: 99.85 %, Train F!-Score: 0.9990, Train AUC: 1.0000,   Val Loss: 2.3632, Val Accuracy: 84.07 %, Val F!-Score: 0.8976, Val AUC: 0.8540 \n",
            "\n",
            "[EPOCH: 12], Train Loss: 0.0059, Train Accuracy: 99.82 %, Train F!-Score: 0.9988, Train AUC: 1.0000,   Val Loss: 2.7034, Val Accuracy: 84.25 %, Val F!-Score: 0.8995, Val AUC: 0.8528 \n",
            "\n",
            "[EPOCH: 13], Train Loss: 0.0056, Train Accuracy: 99.83 %, Train F!-Score: 0.9989, Train AUC: 1.0000,   Val Loss: 2.6106, Val Accuracy: 84.17 %, Val F!-Score: 0.8983, Val AUC: 0.8540 \n",
            "\n",
            "[EPOCH: 14], Train Loss: 0.0052, Train Accuracy: 99.84 %, Train F!-Score: 0.9989, Train AUC: 1.0000,   Val Loss: 2.9601, Val Accuracy: 84.40 %, Val F!-Score: 0.9007, Val AUC: 0.8519 \n",
            "\n",
            "[EPOCH: 15], Train Loss: 0.0044, Train Accuracy: 99.87 %, Train F!-Score: 0.9991, Train AUC: 1.0000,   Val Loss: 3.1455, Val Accuracy: 84.42 %, Val F!-Score: 0.9013, Val AUC: 0.8505 \n",
            "\n",
            "[EPOCH: 16], Train Loss: 0.0040, Train Accuracy: 99.88 %, Train F!-Score: 0.9992, Train AUC: 1.0000,   Val Loss: 3.3601, Val Accuracy: 84.42 %, Val F!-Score: 0.9015, Val AUC: 0.8489 \n",
            "\n",
            "[EPOCH: 17], Train Loss: 0.0035, Train Accuracy: 99.90 %, Train F!-Score: 0.9993, Train AUC: 1.0000,   Val Loss: 3.5753, Val Accuracy: 84.46 %, Val F!-Score: 0.9019, Val AUC: 0.8478 \n",
            "\n",
            "[EPOCH: 18], Train Loss: 0.0035, Train Accuracy: 99.89 %, Train F!-Score: 0.9993, Train AUC: 1.0000,   Val Loss: 3.7624, Val Accuracy: 84.37 %, Val F!-Score: 0.9012, Val AUC: 0.8458 \n",
            "\n",
            "[EPOCH: 19], Train Loss: 0.0033, Train Accuracy: 99.90 %, Train F!-Score: 0.9993, Train AUC: 1.0000,   Val Loss: 3.7718, Val Accuracy: 84.47 %, Val F!-Score: 0.9018, Val AUC: 0.8457 \n",
            "\n",
            "[EPOCH: 20], Train Loss: 0.0032, Train Accuracy: 99.90 %, Train F!-Score: 0.9994, Train AUC: 1.0000,   Val Loss: 4.1455, Val Accuracy: 84.41 %, Val F!-Score: 0.9019, Val AUC: 0.8430 \n",
            "\n",
            "[EPOCH: 21], Train Loss: 0.0033, Train Accuracy: 99.90 %, Train F!-Score: 0.9993, Train AUC: 1.0000,   Val Loss: 4.0992, Val Accuracy: 84.40 %, Val F!-Score: 0.9019, Val AUC: 0.8433 \n",
            "\n",
            "[EPOCH: 22], Train Loss: 0.0030, Train Accuracy: 99.91 %, Train F!-Score: 0.9994, Train AUC: 1.0000,   Val Loss: 4.2529, Val Accuracy: 84.45 %, Val F!-Score: 0.9024, Val AUC: 0.8419 \n",
            "\n",
            "[EPOCH: 23], Train Loss: 0.0022, Train Accuracy: 99.93 %, Train F!-Score: 0.9996, Train AUC: 1.0000,   Val Loss: 4.7310, Val Accuracy: 84.37 %, Val F!-Score: 0.9025, Val AUC: 0.8380 \n",
            "\n",
            "[EPOCH: 24], Train Loss: 0.0020, Train Accuracy: 99.94 %, Train F!-Score: 0.9996, Train AUC: 1.0000,   Val Loss: 4.8257, Val Accuracy: 84.38 %, Val F!-Score: 0.9023, Val AUC: 0.8362 \n",
            "\n",
            "[EPOCH: 25], Train Loss: 0.0025, Train Accuracy: 99.92 %, Train F!-Score: 0.9995, Train AUC: 1.0000,   Val Loss: 4.6304, Val Accuracy: 84.43 %, Val F!-Score: 0.9025, Val AUC: 0.8385 \n",
            "\n",
            "[EPOCH: 26], Train Loss: 0.0028, Train Accuracy: 99.91 %, Train F!-Score: 0.9994, Train AUC: 1.0000,   Val Loss: 4.6274, Val Accuracy: 84.41 %, Val F!-Score: 0.9025, Val AUC: 0.8391 \n",
            "\n",
            "[EPOCH: 27], Train Loss: 0.0022, Train Accuracy: 99.93 %, Train F!-Score: 0.9996, Train AUC: 1.0000,   Val Loss: 4.9638, Val Accuracy: 84.37 %, Val F!-Score: 0.9024, Val AUC: 0.8366 \n",
            "\n",
            "[EPOCH: 28], Train Loss: 0.0017, Train Accuracy: 99.95 %, Train F!-Score: 0.9997, Train AUC: 1.0000,   Val Loss: 4.8756, Val Accuracy: 84.43 %, Val F!-Score: 0.9026, Val AUC: 0.8367 \n",
            "\n",
            "[EPOCH: 29], Train Loss: 0.0018, Train Accuracy: 99.95 %, Train F!-Score: 0.9997, Train AUC: 1.0000,   Val Loss: 5.2014, Val Accuracy: 84.38 %, Val F!-Score: 0.9026, Val AUC: 0.8337 \n",
            "\n",
            "[EPOCH: 30], Train Loss: 0.0020, Train Accuracy: 99.94 %, Train F!-Score: 0.9996, Train AUC: 1.0000,   Val Loss: 5.5569, Val Accuracy: 84.28 %, Val F!-Score: 0.9023, Val AUC: 0.8302 \n",
            "\n"
          ],
          "name": "stdout"
        }
      ]
    },
    {
      "cell_type": "code",
      "metadata": {
        "id": "E5bjseEvH_F8",
        "colab": {
          "base_uri": "https://localhost:8080/"
        },
        "outputId": "a88e243f-322c-46fd-8302-4f46cabe775d"
      },
      "source": [
        "print(f'Best_Epoch : {best_epoch}, Best_Metric : {best_metric}')"
      ],
      "execution_count": 23,
      "outputs": [
        {
          "output_type": "stream",
          "text": [
            "Best_Epoch : 2, Best_Metric : 0.8657921843192216\n"
          ],
          "name": "stdout"
        }
      ]
    },
    {
      "cell_type": "code",
      "metadata": {
        "id": "JlcIWckIWY1Z",
        "colab": {
          "base_uri": "https://localhost:8080/"
        },
        "outputId": "47d52333-24fc-4e7d-a038-aa31bbafb496"
      },
      "source": [
        "test_dataset = NCFData(test_user_id_idx_li, test_game_id_idx_li, test_label_li)\n",
        "\n",
        "test_loader = DataLoader(test_dataset,\n",
        "  batch_size = BATCH_SIZE,\n",
        "  shuffle = False,\n",
        "  drop_last = False)\n",
        "\n",
        "model.load_state_dict(torch.load(MODEL_DIR + f'DeepFM_Best_model_state_dict.pt'))\n",
        "\n",
        "test_loss, test_accuracy, test_auc, test_f1 = evaluate(model, test_loader)\n",
        "\n",
        "print(f\"Test Loss: {test_loss:.4f}, Test Accuracy: {test_accuracy:.2f} %, Test F!-Score: {test_f1:.4f}, Test AUC: {test_auc:.4f}\")"
      ],
      "execution_count": 25,
      "outputs": [
        {
          "output_type": "stream",
          "text": [
            "Test Loss: 0.3980, Test Accuracy: 83.17 %, Test F!-Score: 0.8929, Test AUC: 0.8522\n"
          ],
          "name": "stdout"
        }
      ]
    },
    {
      "cell_type": "code",
      "metadata": {
        "id": "67oztbCjRlj0"
      },
      "source": [
        ""
      ],
      "execution_count": null,
      "outputs": []
    }
  ]
}