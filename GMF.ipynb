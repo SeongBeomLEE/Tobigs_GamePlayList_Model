{
  "nbformat": 4,
  "nbformat_minor": 0,
  "metadata": {
    "colab": {
      "name": "GMF.ipynb",
      "provenance": [],
      "collapsed_sections": [],
      "mount_file_id": "1U8WDXi6FzylTbIUqtY9j20gVIGVukR6b",
      "authorship_tag": "ABX9TyN9neYeZwd6DakI5Y0ISRMH"
    },
    "kernelspec": {
      "name": "python3",
      "display_name": "Python 3"
    },
    "language_info": {
      "name": "python"
    },
    "accelerator": "GPU"
  },
  "cells": [
    {
      "cell_type": "code",
      "metadata": {
        "id": "EG3xlIKxeHcc"
      },
      "source": [
        "import numpy as np\n",
        "import pandas as pd\n",
        "\n",
        "import torch\n",
        "import torch.nn as nn\n",
        "import torch.nn.functional as F\n",
        "\n",
        "import warnings\n",
        "\n",
        "warnings.filterwarnings(action='ignore')\n",
        "\n",
        "DATA_DIR = '/content/drive/MyDrive/투빅스 컨퍼런스/Data/'\n",
        "MODEL_DIR = '/content/drive/MyDrive/투빅스 컨퍼런스/Model/'"
      ],
      "execution_count": null,
      "outputs": []
    },
    {
      "cell_type": "markdown",
      "metadata": {
        "id": "-qg3OfDvTIo0"
      },
      "source": [
        "# 데이터 불러오기"
      ]
    },
    {
      "cell_type": "code",
      "metadata": {
        "id": "CGdU3MHqTBJt"
      },
      "source": [
        "import pickle\n",
        "\n",
        "# 이미지 + 순서 + 장르(텍스트)\n",
        "with open(DATA_DIR + 'norm_game2vec.pickle', 'rb') as f:\n",
        "  norm_game2vec = pickle.load(f)"
      ],
      "execution_count": null,
      "outputs": []
    },
    {
      "cell_type": "code",
      "metadata": {
        "id": "oLKaGwBwTlGk"
      },
      "source": [
        "all_df = pd.read_csv(DATA_DIR + 'steam_reviews_clean_result_v2.csv')\n",
        "train_df = pd.read_csv(DATA_DIR + 'steam_reviews_clean_result_train_v2.csv')\n",
        "val_df = pd.read_csv(DATA_DIR + 'steam_reviews_clean_result_val_v2.csv')\n",
        "test_df = pd.read_csv(DATA_DIR + 'steam_reviews_clean_result_test_v2.csv')"
      ],
      "execution_count": null,
      "outputs": []
    },
    {
      "cell_type": "markdown",
      "metadata": {
        "id": "Wv_RTz3OUBgV"
      },
      "source": [
        "# 데이터 전처리"
      ]
    },
    {
      "cell_type": "code",
      "metadata": {
        "colab": {
          "base_uri": "https://localhost:8080/"
        },
        "id": "je1-My94XnXI",
        "outputId": "45f620f9-b699-4a81-fed6-b9b4871b8102"
      },
      "source": [
        "(train_df.shape[0] + val_df.shape[0] + test_df.shape[0]) == (all_df.shape[0])"
      ],
      "execution_count": null,
      "outputs": [
        {
          "output_type": "execute_result",
          "data": {
            "text/plain": [
              "True"
            ]
          },
          "metadata": {
            "tags": []
          },
          "execution_count": 4
        }
      ]
    },
    {
      "cell_type": "code",
      "metadata": {
        "colab": {
          "base_uri": "https://localhost:8080/"
        },
        "id": "tpGDG0meUfMb",
        "outputId": "a3e2d706-cc27-4ac2-ab57-c91d49fce894"
      },
      "source": [
        "a = all_df['user_id'].astype(str).unique().tolist()\n",
        "b = train_df['user_id'].astype(str).unique().tolist()\n",
        "\n",
        "a = set(a)\n",
        "b = set(b)\n",
        "\n",
        "b - a"
      ],
      "execution_count": null,
      "outputs": [
        {
          "output_type": "execute_result",
          "data": {
            "text/plain": [
              "set()"
            ]
          },
          "metadata": {
            "tags": []
          },
          "execution_count": 5
        }
      ]
    },
    {
      "cell_type": "code",
      "metadata": {
        "colab": {
          "base_uri": "https://localhost:8080/"
        },
        "id": "JYiaRjUuaYkX",
        "outputId": "9936f58c-47f0-43cd-eae7-e3dbf17c3d9f"
      },
      "source": [
        "all_df['recommended'].value_counts() / sum(all_df['recommended'].value_counts())"
      ],
      "execution_count": null,
      "outputs": [
        {
          "output_type": "execute_result",
          "data": {
            "text/plain": [
              "Recommended        0.762219\n",
              "Not Recommended    0.237781\n",
              "Name: recommended, dtype: float64"
            ]
          },
          "metadata": {
            "tags": []
          },
          "execution_count": 6
        }
      ]
    },
    {
      "cell_type": "code",
      "metadata": {
        "colab": {
          "base_uri": "https://localhost:8080/"
        },
        "id": "yeDU-4WQalfP",
        "outputId": "9b2d1153-571b-4ed0-8789-7756ef7fa533"
      },
      "source": [
        "train_df['recommended'].value_counts() / sum(train_df['recommended'].value_counts())"
      ],
      "execution_count": null,
      "outputs": [
        {
          "output_type": "execute_result",
          "data": {
            "text/plain": [
              "Recommended        0.764251\n",
              "Not Recommended    0.235749\n",
              "Name: recommended, dtype: float64"
            ]
          },
          "metadata": {
            "tags": []
          },
          "execution_count": 7
        }
      ]
    },
    {
      "cell_type": "code",
      "metadata": {
        "colab": {
          "base_uri": "https://localhost:8080/"
        },
        "id": "XKMXnVxwalo2",
        "outputId": "725ab653-d30b-4f7f-8138-6abce98431be"
      },
      "source": [
        "val_df['recommended'].value_counts() / sum(val_df['recommended'].value_counts())"
      ],
      "execution_count": null,
      "outputs": [
        {
          "output_type": "execute_result",
          "data": {
            "text/plain": [
              "Recommended        0.751932\n",
              "Not Recommended    0.248068\n",
              "Name: recommended, dtype: float64"
            ]
          },
          "metadata": {
            "tags": []
          },
          "execution_count": 8
        }
      ]
    },
    {
      "cell_type": "code",
      "metadata": {
        "colab": {
          "base_uri": "https://localhost:8080/"
        },
        "id": "3AVKsbJ0alyX",
        "outputId": "2f1528a9-396c-4c11-f6c8-4194ea64246d"
      },
      "source": [
        "test_df['recommended'].value_counts() / sum(test_df['recommended'].value_counts())"
      ],
      "execution_count": null,
      "outputs": [
        {
          "output_type": "execute_result",
          "data": {
            "text/plain": [
              "Recommended        0.763636\n",
              "Not Recommended    0.236364\n",
              "Name: recommended, dtype: float64"
            ]
          },
          "metadata": {
            "tags": []
          },
          "execution_count": 9
        }
      ]
    },
    {
      "cell_type": "code",
      "metadata": {
        "id": "SWKTK8SnaU_m"
      },
      "source": [
        "all_df['label'] = all_df['recommended'].apply(lambda x : 0 if x == 'Not Recommended' else 1)\n",
        "train_df['label'] = train_df['recommended'].apply(lambda x : 0 if x == 'Not Recommended' else 1)\n",
        "val_df['label'] = val_df['recommended'].apply(lambda x : 0 if x == 'Not Recommended' else 1)\n",
        "test_df['label'] = test_df['recommended'].apply(lambda x : 0 if x == 'Not Recommended' else 1)"
      ],
      "execution_count": null,
      "outputs": []
    },
    {
      "cell_type": "code",
      "metadata": {
        "colab": {
          "base_uri": "https://localhost:8080/",
          "height": 289
        },
        "id": "-6X4J9Z9bH9w",
        "outputId": "0e38b7ef-f35d-450c-f52f-585c5427d733"
      },
      "source": [
        "train_df.head()"
      ],
      "execution_count": null,
      "outputs": [
        {
          "output_type": "execute_result",
          "data": {
            "text/html": [
              "<div>\n",
              "<style scoped>\n",
              "    .dataframe tbody tr th:only-of-type {\n",
              "        vertical-align: middle;\n",
              "    }\n",
              "\n",
              "    .dataframe tbody tr th {\n",
              "        vertical-align: top;\n",
              "    }\n",
              "\n",
              "    .dataframe thead th {\n",
              "        text-align: right;\n",
              "    }\n",
              "</style>\n",
              "<table border=\"1\" class=\"dataframe\">\n",
              "  <thead>\n",
              "    <tr style=\"text-align: right;\">\n",
              "      <th></th>\n",
              "      <th>content</th>\n",
              "      <th>recommended</th>\n",
              "      <th>user_id</th>\n",
              "      <th>game_id</th>\n",
              "      <th>timestamp</th>\n",
              "      <th>play_time_minute</th>\n",
              "      <th>review_time_minute</th>\n",
              "      <th>game_content_link</th>\n",
              "      <th>review_helpful_count</th>\n",
              "      <th>label_encode_user_id</th>\n",
              "      <th>label_encode_game_id</th>\n",
              "      <th>idx</th>\n",
              "      <th>label</th>\n",
              "    </tr>\n",
              "  </thead>\n",
              "  <tbody>\n",
              "    <tr>\n",
              "      <th>0</th>\n",
              "      <td>Game is dead, installed, can play training. Bu...</td>\n",
              "      <td>Not Recommended</td>\n",
              "      <td>atgbui</td>\n",
              "      <td>728540</td>\n",
              "      <td>2021-05-19</td>\n",
              "      <td>18.0</td>\n",
              "      <td>18.0</td>\n",
              "      <td>https://store.steampowered.com/app/728540</td>\n",
              "      <td>0</td>\n",
              "      <td>19157</td>\n",
              "      <td>14662</td>\n",
              "      <td>6</td>\n",
              "      <td>0</td>\n",
              "    </tr>\n",
              "    <tr>\n",
              "      <th>1</th>\n",
              "      <td>Adjust settings- mouse disappears (invisible) ...</td>\n",
              "      <td>Not Recommended</td>\n",
              "      <td>atgbui</td>\n",
              "      <td>999270</td>\n",
              "      <td>2021-05-19</td>\n",
              "      <td>6.0</td>\n",
              "      <td>6.0</td>\n",
              "      <td>https://store.steampowered.com/app/999270</td>\n",
              "      <td>1</td>\n",
              "      <td>19157</td>\n",
              "      <td>18652</td>\n",
              "      <td>7</td>\n",
              "      <td>0</td>\n",
              "    </tr>\n",
              "    <tr>\n",
              "      <th>2</th>\n",
              "      <td>I wish there was a neutral review button.The g...</td>\n",
              "      <td>Not Recommended</td>\n",
              "      <td>atgbui</td>\n",
              "      <td>920470</td>\n",
              "      <td>2021-05-16</td>\n",
              "      <td>216.0</td>\n",
              "      <td>216.0</td>\n",
              "      <td>https://store.steampowered.com/app/920470</td>\n",
              "      <td>0</td>\n",
              "      <td>19157</td>\n",
              "      <td>17716</td>\n",
              "      <td>8</td>\n",
              "      <td>0</td>\n",
              "    </tr>\n",
              "    <tr>\n",
              "      <th>3</th>\n",
              "      <td>The game brings something new to the genre, an...</td>\n",
              "      <td>Not Recommended</td>\n",
              "      <td>atgbui</td>\n",
              "      <td>1183940</td>\n",
              "      <td>2021-05-09</td>\n",
              "      <td>738.0</td>\n",
              "      <td>738.0</td>\n",
              "      <td>https://store.steampowered.com/app/1183940</td>\n",
              "      <td>0</td>\n",
              "      <td>19157</td>\n",
              "      <td>20641</td>\n",
              "      <td>9</td>\n",
              "      <td>0</td>\n",
              "    </tr>\n",
              "    <tr>\n",
              "      <th>4</th>\n",
              "      <td>Update: 06/11/2021: Game seems to be abandoned...</td>\n",
              "      <td>Not Recommended</td>\n",
              "      <td>atgbui</td>\n",
              "      <td>1254400</td>\n",
              "      <td>2021-05-09</td>\n",
              "      <td>438.0</td>\n",
              "      <td>438.0</td>\n",
              "      <td>https://store.steampowered.com/app/1254400</td>\n",
              "      <td>1</td>\n",
              "      <td>19157</td>\n",
              "      <td>21185</td>\n",
              "      <td>10</td>\n",
              "      <td>0</td>\n",
              "    </tr>\n",
              "  </tbody>\n",
              "</table>\n",
              "</div>"
            ],
            "text/plain": [
              "                                             content  ... label\n",
              "0  Game is dead, installed, can play training. Bu...  ...     0\n",
              "1  Adjust settings- mouse disappears (invisible) ...  ...     0\n",
              "2  I wish there was a neutral review button.The g...  ...     0\n",
              "3  The game brings something new to the genre, an...  ...     0\n",
              "4  Update: 06/11/2021: Game seems to be abandoned...  ...     0\n",
              "\n",
              "[5 rows x 13 columns]"
            ]
          },
          "metadata": {
            "tags": []
          },
          "execution_count": 11
        }
      ]
    },
    {
      "cell_type": "code",
      "metadata": {
        "id": "eG-rM8MEdJyj"
      },
      "source": [
        "train_user_id_idx_li = train_df['label_encode_user_id'].tolist()\n",
        "train_game_id_idx_li = train_df['label_encode_game_id'].tolist()\n",
        "train_label_li = train_df['label'].astype(float).tolist()\n",
        "\n",
        "val_user_id_idx_li = val_df['label_encode_user_id'].tolist()\n",
        "val_game_id_idx_li = val_df['label_encode_game_id'].tolist()\n",
        "val_label_li = val_df['label'].astype(float).tolist()\n",
        "\n",
        "test_user_id_idx_li = test_df['label_encode_user_id'].tolist()\n",
        "test_game_id_idx_li = test_df['label_encode_game_id'].tolist()\n",
        "test_label_li = test_df['label'].astype(float).tolist()"
      ],
      "execution_count": null,
      "outputs": []
    },
    {
      "cell_type": "code",
      "metadata": {
        "id": "VhktTFykfH36"
      },
      "source": [
        "torch_norm_game2vec = torch.FloatTensor(norm_game2vec)"
      ],
      "execution_count": null,
      "outputs": []
    },
    {
      "cell_type": "markdown",
      "metadata": {
        "id": "3BTHbbJebfKP"
      },
      "source": [
        "# 모델"
      ]
    },
    {
      "cell_type": "code",
      "metadata": {
        "id": "rhZrDhbRdYiE"
      },
      "source": [
        "from torch.utils.data import Dataset\n",
        "from torch.utils.data import DataLoader\n",
        "\n",
        "class NCFData(Dataset):\n",
        "    def __init__(self, user_id_idx_li, game_id_idx_li, label_li):\n",
        "      super(NCFData, self).__init__()\n",
        "      self._user_id_idx_li = user_id_idx_li\n",
        "      self._game_id_idx_li = game_id_idx_li\n",
        "      self._label_li = label_li\n",
        "\n",
        "    def __len__(self):\n",
        "      return len(self._label_li)\n",
        "\n",
        "    def __getitem__(self, idx):\n",
        "      user = self._user_id_idx_li[idx]\n",
        "      game = self._game_id_idx_li[idx]\n",
        "      label = self._label_li[idx]\n",
        "\n",
        "      return user, game, label"
      ],
      "execution_count": null,
      "outputs": []
    },
    {
      "cell_type": "code",
      "metadata": {
        "id": "5sA80TVsbrW6"
      },
      "source": [
        "user_num = all_df['label_encode_user_id'].max() + 1 \n",
        "factor_num = norm_game2vec.shape[1]"
      ],
      "execution_count": null,
      "outputs": []
    },
    {
      "cell_type": "code",
      "metadata": {
        "colab": {
          "base_uri": "https://localhost:8080/"
        },
        "id": "f81qvktmGH0w",
        "outputId": "bee684d1-b53a-4a43-bf71-d6f6b018f97e"
      },
      "source": [
        "# 환경설정\n",
        "if torch.cuda.is_available():\n",
        "  DEVICE = torch.device('cuda')\n",
        "else:\n",
        "  DEVICE = torch.device('cpu')\n",
        "print(DEVICE)"
      ],
      "execution_count": null,
      "outputs": [
        {
          "output_type": "stream",
          "text": [
            "cuda\n"
          ],
          "name": "stdout"
        }
      ]
    },
    {
      "cell_type": "code",
      "metadata": {
        "id": "rjlLRd0xXb-2"
      },
      "source": [
        "BATCH_SIZE = 512\n",
        "EPOCHS = 30"
      ],
      "execution_count": null,
      "outputs": []
    },
    {
      "cell_type": "code",
      "metadata": {
        "id": "FbcgyoiXQn5S"
      },
      "source": [
        "class GMF(nn.Module):\n",
        "  def __init__(self, user_num, factor_num):\n",
        "      super(GMF, self).__init__()\n",
        "\n",
        "      # 유저 임베딩\n",
        "      self.user_embedding = nn.Embedding(user_num, factor_num)\n",
        "\n",
        "      # FC\n",
        "      self.FC_layer = nn.Sequential(\n",
        "          nn.Linear(factor_num, 1),\n",
        "          # nn.ReLU(),\n",
        "          # nn.Linear(256, 128),\n",
        "          # nn.ReLU(),\n",
        "          # nn.Linear(128, 1),\n",
        "          nn.Sigmoid()\n",
        "      )\n",
        "      self._init_weight_()\n",
        "\n",
        "  def _init_weight_(self):\n",
        "      # weight 초기화\n",
        "      nn.init.normal_(self.user_embedding.weight, std=0.01)\n",
        "      for m in self.FC_layer:\n",
        "          if isinstance(m, nn.Linear):\n",
        "              nn.init.xavier_uniform_(m.weight)\n",
        "\n",
        "  def forward(self, user_idx, item_embedding):\n",
        "      user_embedding = self.user_embedding(user_idx)\n",
        "\n",
        "      element_wise_product = (user_embedding * item_embedding)\n",
        "\n",
        "      out = self.FC_layer(element_wise_product)\n",
        "\n",
        "      return out.view(-1)"
      ],
      "execution_count": null,
      "outputs": []
    },
    {
      "cell_type": "code",
      "metadata": {
        "id": "qEYoe5NrcYNL"
      },
      "source": [
        "from sklearn.metrics import roc_auc_score\n",
        "\n",
        "def roc_auc_compute_fn(y_pred, y_true):\n",
        "\n",
        "  return roc_auc_score(y_true, y_pred)\n",
        "\n",
        "from sklearn.metrics import f1_score\n",
        "\n",
        "def f1_score_compute_fn(y_pred, y_true):\n",
        "\n",
        "  return f1_score(y_true, y_pred)\n",
        "\n",
        "def train(model, train_loader):\n",
        "  model.train()\n",
        "  train_loss = 0\n",
        "  correct = 0\n",
        "\n",
        "  auc_output_li = []\n",
        "  acc_output_li = []\n",
        "  label_li = []\n",
        "\n",
        "  for user, game, label in train_loader:\n",
        "    user = user.to(DEVICE)\n",
        "    item_embedding = torch_norm_game2vec[game].to(DEVICE)\n",
        "    label = label.to(DEVICE)\n",
        "    label = label.type(torch.DoubleTensor)\n",
        "\n",
        "    optimizer.zero_grad()\n",
        "\n",
        "    output = model(user, item_embedding)\n",
        "    output = output.type(torch.DoubleTensor)\n",
        "\n",
        "    loss = criterion(output, label)\n",
        "\n",
        "    loss.backward()\n",
        "    optimizer.step()\n",
        "\n",
        "    train_loss += loss.item()\n",
        "\n",
        "    auc_output_li.append(output.detach().cpu().numpy())\n",
        "\n",
        "    output = (output > 0.5).float()\n",
        "    correct += (output == label).float().sum()\n",
        "\n",
        "    acc_output_li.append(output.detach().cpu().numpy())\n",
        "    label_li.append(label.detach().cpu().numpy())\n",
        "\n",
        "  auc_output_li = np.concatenate(auc_output_li)\n",
        "  acc_output_li = np.concatenate(acc_output_li)\n",
        "  label_li = np.concatenate(label_li)\n",
        "\n",
        "  train_loss /= len(train_loader)\n",
        "  train_accuracy = 100. * correct / len(train_loader.dataset)\n",
        "  train_auc = roc_auc_compute_fn(auc_output_li, label_li)\n",
        "  train_f1 = f1_score_compute_fn(acc_output_li, label_li)\n",
        "\n",
        "  return train_loss, train_accuracy, train_auc, train_f1"
      ],
      "execution_count": null,
      "outputs": []
    },
    {
      "cell_type": "code",
      "metadata": {
        "id": "tglbvAe6cYNR"
      },
      "source": [
        "def evaluate(model, test_loader):\n",
        "  model.eval()\n",
        "  test_loss = 0\n",
        "  correct = 0\n",
        "\n",
        "  auc_output_li = []\n",
        "  acc_output_li = []\n",
        "  label_li = []\n",
        "\n",
        "  with torch.no_grad():\n",
        "    for user, game, label in test_loader:\n",
        "\n",
        "      user = user.to(DEVICE)\n",
        "      item_embedding = torch_norm_game2vec[game].to(DEVICE)\n",
        "      label = label.to(DEVICE)\n",
        "      label = label.type(torch.DoubleTensor)\n",
        "\n",
        "      output = model(user, item_embedding)\n",
        "      output = output.type(torch.DoubleTensor)\n",
        "\n",
        "      loss = criterion(output, label)\n",
        "\n",
        "      test_loss += loss.item()\n",
        "\n",
        "      auc_output_li.append(output.detach().cpu().numpy())\n",
        "\n",
        "      output = (output>0.5).float()\n",
        "      correct += (output == label).float().sum()\n",
        "\n",
        "      acc_output_li.append(output.detach().cpu().numpy())\n",
        "      label_li.append(label.detach().cpu().numpy())\n",
        "\n",
        "  auc_output_li = np.concatenate(auc_output_li)\n",
        "  acc_output_li = np.concatenate(acc_output_li)\n",
        "  label_li = np.concatenate(label_li)\n",
        "\n",
        "  test_loss /= len(test_loader)\n",
        "  test_accuracy = 100. * correct / len(test_loader.dataset)\n",
        "  test_auc = roc_auc_compute_fn(auc_output_li, label_li)\n",
        "  test_f1 = f1_score_compute_fn(acc_output_li, label_li)\n",
        "\n",
        "  return test_loss, test_accuracy, test_auc, test_f1"
      ],
      "execution_count": null,
      "outputs": []
    },
    {
      "cell_type": "code",
      "metadata": {
        "colab": {
          "base_uri": "https://localhost:8080/"
        },
        "id": "uPZmbO1pXU5k",
        "outputId": "eaa91547-0d62-4b9f-ee7d-064a7fb5b5f1"
      },
      "source": [
        "model = GMF(user_num = user_num, factor_num = factor_num).to(DEVICE)\n",
        "criterion = nn.BCELoss()\n",
        "optimizer = torch.optim.Adam(model.parameters(), lr=0.0001)\n",
        "\n",
        "train_dataset = NCFData(train_user_id_idx_li, train_game_id_idx_li, train_label_li)\n",
        "\n",
        "train_loader = DataLoader(train_dataset,\n",
        "  batch_size = BATCH_SIZE,\n",
        "  shuffle = True,\n",
        "  drop_last = False)\n",
        "\n",
        "val_dataset = NCFData(val_user_id_idx_li, val_game_id_idx_li, val_label_li)\n",
        "\n",
        "val_loader = DataLoader(val_dataset,\n",
        "  batch_size = BATCH_SIZE,\n",
        "  shuffle = False,\n",
        "  drop_last = False)\n",
        "\n",
        "best_metric = 0\n",
        "best_epoch = 0\n",
        "\n",
        "for epoch in range(1, EPOCHS + 1):\n",
        "  train_loss, train_accuracy, train_auc, train_f1 = train(model, train_loader)\n",
        "  test_loss, test_accuracy, test_auc, test_f1 = evaluate(model, val_loader)\n",
        "  print(f\"[EPOCH: {epoch}], Train Loss: {train_loss:.4f}, Train Accuracy: {train_accuracy:.2f} %, Train F!-Score: {train_f1:.4f}, Train AUC: {train_auc:.4f}, \\\n",
        "  Val Loss: {test_loss:.4f}, Val Accuracy: {test_accuracy:.2f} %, Val F!-Score: {test_f1:.4f}, Val AUC: {test_auc:.4f} \\n\")\n",
        "\n",
        "  if best_metric < test_auc:\n",
        "\n",
        "    best_metric = test_auc\n",
        "    best_epoch = epoch\n",
        "    MODEL_DIR = '/content/drive/MyDrive/투빅스 컨퍼런스/Model/'\n",
        "    torch.save(model.state_dict(), MODEL_DIR + f'GMF_Best_model_state_dict.pt')\n",
        "\n",
        "# Train Accuracy - Val Accuracy 를 해서 가장 작은 모델을 저장하는 것이 좋들 듯\n",
        "# 왜? Val 에는 1만 존재하기 때문에 Train의 유저의 선호도를 어느 정도 맞춘 상태에서\n",
        "# Val의 선호 게임을 맞추는 것이 조금 더 타당할 수 있음\n",
        "# 따라서 Train Accuracy - Val Accuracy의 편차가 가장 작은 모델이 가장 성능이 우수하다고 생각함\n",
        "\n",
        "# 현재로써는 AUC 를 메트릭으로 사용해도 좋을 거 같음"
      ],
      "execution_count": null,
      "outputs": [
        {
          "output_type": "stream",
          "text": [
            "[EPOCH: 1], Train Loss: 0.6688, Train Accuracy: 75.25 %, Train F!-Score: 0.8576, Train AUC: 0.5531,   Val Loss: 0.6429, Val Accuracy: 75.69 %, Val F!-Score: 0.8608, Val AUC: 0.7691 \n",
            "\n",
            "[EPOCH: 2], Train Loss: 0.6073, Train Accuracy: 77.17 %, Train F!-Score: 0.8700, Train AUC: 0.7455,   Val Loss: 0.5869, Val Accuracy: 76.26 %, Val F!-Score: 0.8635, Val AUC: 0.7818 \n",
            "\n",
            "[EPOCH: 3], Train Loss: 0.5460, Train Accuracy: 77.69 %, Train F!-Score: 0.8725, Train AUC: 0.8399,   Val Loss: 0.5408, Val Accuracy: 76.67 %, Val F!-Score: 0.8655, Val AUC: 0.7913 \n",
            "\n",
            "[EPOCH: 4], Train Loss: 0.4946, Train Accuracy: 78.13 %, Train F!-Score: 0.8746, Train AUC: 0.8739,   Val Loss: 0.5065, Val Accuracy: 77.03 %, Val F!-Score: 0.8672, Val AUC: 0.8004 \n",
            "\n",
            "[EPOCH: 5], Train Loss: 0.4536, Train Accuracy: 78.63 %, Train F!-Score: 0.8770, Train AUC: 0.8945,   Val Loss: 0.4819, Val Accuracy: 77.45 %, Val F!-Score: 0.8692, Val AUC: 0.8087 \n",
            "\n",
            "[EPOCH: 6], Train Loss: 0.4202, Train Accuracy: 79.39 %, Train F!-Score: 0.8808, Train AUC: 0.9097,   Val Loss: 0.4640, Val Accuracy: 77.98 %, Val F!-Score: 0.8717, Val AUC: 0.8160 \n",
            "\n",
            "[EPOCH: 7], Train Loss: 0.3913, Train Accuracy: 80.52 %, Train F!-Score: 0.8864, Train AUC: 0.9218,   Val Loss: 0.4496, Val Accuracy: 78.80 %, Val F!-Score: 0.8755, Val AUC: 0.8221 \n",
            "\n",
            "[EPOCH: 8], Train Loss: 0.3643, Train Accuracy: 82.28 %, Train F!-Score: 0.8954, Train AUC: 0.9322,   Val Loss: 0.4371, Val Accuracy: 79.64 %, Val F!-Score: 0.8794, Val AUC: 0.8274 \n",
            "\n",
            "[EPOCH: 9], Train Loss: 0.3386, Train Accuracy: 84.40 %, Train F!-Score: 0.9065, Train AUC: 0.9413,   Val Loss: 0.4263, Val Accuracy: 80.36 %, Val F!-Score: 0.8826, Val AUC: 0.8321 \n",
            "\n",
            "[EPOCH: 10], Train Loss: 0.3143, Train Accuracy: 86.49 %, Train F!-Score: 0.9178, Train AUC: 0.9499,   Val Loss: 0.4171, Val Accuracy: 81.00 %, Val F!-Score: 0.8855, Val AUC: 0.8365 \n",
            "\n",
            "[EPOCH: 11], Train Loss: 0.2912, Train Accuracy: 88.29 %, Train F!-Score: 0.9279, Train AUC: 0.9580,   Val Loss: 0.4092, Val Accuracy: 81.45 %, Val F!-Score: 0.8874, Val AUC: 0.8406 \n",
            "\n",
            "[EPOCH: 12], Train Loss: 0.2693, Train Accuracy: 89.86 %, Train F!-Score: 0.9369, Train AUC: 0.9654,   Val Loss: 0.4025, Val Accuracy: 81.91 %, Val F!-Score: 0.8895, Val AUC: 0.8444 \n",
            "\n",
            "[EPOCH: 13], Train Loss: 0.2485, Train Accuracy: 91.19 %, Train F!-Score: 0.9448, Train AUC: 0.9721,   Val Loss: 0.3967, Val Accuracy: 82.27 %, Val F!-Score: 0.8912, Val AUC: 0.8478 \n",
            "\n",
            "[EPOCH: 14], Train Loss: 0.2287, Train Accuracy: 92.42 %, Train F!-Score: 0.9522, Train AUC: 0.9780,   Val Loss: 0.3918, Val Accuracy: 82.56 %, Val F!-Score: 0.8925, Val AUC: 0.8510 \n",
            "\n",
            "[EPOCH: 15], Train Loss: 0.2100, Train Accuracy: 93.51 %, Train F!-Score: 0.9588, Train AUC: 0.9830,   Val Loss: 0.3876, Val Accuracy: 82.81 %, Val F!-Score: 0.8937, Val AUC: 0.8537 \n",
            "\n",
            "[EPOCH: 16], Train Loss: 0.1923, Train Accuracy: 94.49 %, Train F!-Score: 0.9648, Train AUC: 0.9871,   Val Loss: 0.3841, Val Accuracy: 83.00 %, Val F!-Score: 0.8946, Val AUC: 0.8561 \n",
            "\n",
            "[EPOCH: 17], Train Loss: 0.1757, Train Accuracy: 95.36 %, Train F!-Score: 0.9703, Train AUC: 0.9904,   Val Loss: 0.3813, Val Accuracy: 83.17 %, Val F!-Score: 0.8955, Val AUC: 0.8582 \n",
            "\n",
            "[EPOCH: 18], Train Loss: 0.1601, Train Accuracy: 96.11 %, Train F!-Score: 0.9750, Train AUC: 0.9930,   Val Loss: 0.3791, Val Accuracy: 83.33 %, Val F!-Score: 0.8962, Val AUC: 0.8600 \n",
            "\n",
            "[EPOCH: 19], Train Loss: 0.1456, Train Accuracy: 96.74 %, Train F!-Score: 0.9790, Train AUC: 0.9949,   Val Loss: 0.3775, Val Accuracy: 83.46 %, Val F!-Score: 0.8969, Val AUC: 0.8614 \n",
            "\n",
            "[EPOCH: 20], Train Loss: 0.1323, Train Accuracy: 97.31 %, Train F!-Score: 0.9826, Train AUC: 0.9964,   Val Loss: 0.3766, Val Accuracy: 83.54 %, Val F!-Score: 0.8972, Val AUC: 0.8626 \n",
            "\n",
            "[EPOCH: 21], Train Loss: 0.1199, Train Accuracy: 97.77 %, Train F!-Score: 0.9856, Train AUC: 0.9974,   Val Loss: 0.3762, Val Accuracy: 83.64 %, Val F!-Score: 0.8977, Val AUC: 0.8636 \n",
            "\n",
            "[EPOCH: 22], Train Loss: 0.1085, Train Accuracy: 98.17 %, Train F!-Score: 0.9881, Train AUC: 0.9982,   Val Loss: 0.3765, Val Accuracy: 83.71 %, Val F!-Score: 0.8980, Val AUC: 0.8644 \n",
            "\n",
            "[EPOCH: 23], Train Loss: 0.0982, Train Accuracy: 98.49 %, Train F!-Score: 0.9902, Train AUC: 0.9987,   Val Loss: 0.3774, Val Accuracy: 83.77 %, Val F!-Score: 0.8983, Val AUC: 0.8650 \n",
            "\n",
            "[EPOCH: 24], Train Loss: 0.0887, Train Accuracy: 98.77 %, Train F!-Score: 0.9920, Train AUC: 0.9991,   Val Loss: 0.3789, Val Accuracy: 83.82 %, Val F!-Score: 0.8985, Val AUC: 0.8654 \n",
            "\n",
            "[EPOCH: 25], Train Loss: 0.0801, Train Accuracy: 98.99 %, Train F!-Score: 0.9934, Train AUC: 0.9994,   Val Loss: 0.3809, Val Accuracy: 83.86 %, Val F!-Score: 0.8987, Val AUC: 0.8657 \n",
            "\n",
            "[EPOCH: 26], Train Loss: 0.0723, Train Accuracy: 99.17 %, Train F!-Score: 0.9946, Train AUC: 0.9996,   Val Loss: 0.3835, Val Accuracy: 83.88 %, Val F!-Score: 0.8988, Val AUC: 0.8660 \n",
            "\n",
            "[EPOCH: 27], Train Loss: 0.0652, Train Accuracy: 99.32 %, Train F!-Score: 0.9956, Train AUC: 0.9997,   Val Loss: 0.3865, Val Accuracy: 83.91 %, Val F!-Score: 0.8988, Val AUC: 0.8661 \n",
            "\n",
            "[EPOCH: 28], Train Loss: 0.0588, Train Accuracy: 99.44 %, Train F!-Score: 0.9964, Train AUC: 0.9998,   Val Loss: 0.3902, Val Accuracy: 83.95 %, Val F!-Score: 0.8990, Val AUC: 0.8661 \n",
            "\n",
            "[EPOCH: 29], Train Loss: 0.0530, Train Accuracy: 99.54 %, Train F!-Score: 0.9970, Train AUC: 0.9998,   Val Loss: 0.3943, Val Accuracy: 83.99 %, Val F!-Score: 0.8992, Val AUC: 0.8661 \n",
            "\n",
            "[EPOCH: 30], Train Loss: 0.0478, Train Accuracy: 99.63 %, Train F!-Score: 0.9976, Train AUC: 0.9999,   Val Loss: 0.3990, Val Accuracy: 84.02 %, Val F!-Score: 0.8994, Val AUC: 0.8661 \n",
            "\n"
          ],
          "name": "stdout"
        }
      ]
    },
    {
      "cell_type": "code",
      "metadata": {
        "colab": {
          "base_uri": "https://localhost:8080/"
        },
        "id": "E5bjseEvH_F8",
        "outputId": "14eee000-df65-4bf9-8e94-8ebaa2ae4969"
      },
      "source": [
        "print(f'Best_Epoch : {best_epoch}, Best_Metric : {best_metric}')"
      ],
      "execution_count": null,
      "outputs": [
        {
          "output_type": "stream",
          "text": [
            "Best_Epoch : 28, Best_Metric : 0.8661161769662891\n"
          ],
          "name": "stdout"
        }
      ]
    },
    {
      "cell_type": "code",
      "metadata": {
        "id": "JlcIWckIWY1Z",
        "colab": {
          "base_uri": "https://localhost:8080/"
        },
        "outputId": "c7d29559-0169-4fd7-9d0d-40990e3b99f4"
      },
      "source": [
        "test_dataset = NCFData(test_user_id_idx_li, test_game_id_idx_li, test_label_li)\n",
        "\n",
        "test_loader = DataLoader(test_dataset,\n",
        "  batch_size = BATCH_SIZE,\n",
        "  shuffle = False,\n",
        "  drop_last = False)\n",
        "\n",
        "model.load_state_dict(torch.load(MODEL_DIR + f'GMF_Best_model_state_dict.pt'))\n",
        "\n",
        "test_loss, test_accuracy, test_auc, test_f1 = evaluate(model, test_loader)\n",
        "\n",
        "print(f\"Test Loss: {test_loss:.4f}, Test Accuracy: {test_accuracy:.2f} %, Test F!-Score: {test_f1:.4f}, Test AUC: {test_auc:.4f}\")"
      ],
      "execution_count": null,
      "outputs": [
        {
          "output_type": "stream",
          "text": [
            "Test Loss: 0.3998, Test Accuracy: 83.62 %, Test F!-Score: 0.8986, Test AUC: 0.8526\n"
          ],
          "name": "stdout"
        }
      ]
    },
    {
      "cell_type": "code",
      "metadata": {
        "id": "SHomLcdrlKrR"
      },
      "source": [
        ""
      ],
      "execution_count": null,
      "outputs": []
    }
  ]
}