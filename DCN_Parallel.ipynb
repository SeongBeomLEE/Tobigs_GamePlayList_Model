{
  "nbformat": 4,
  "nbformat_minor": 0,
  "metadata": {
    "colab": {
      "name": "DCN_Parallel.ipynb",
      "provenance": [],
      "collapsed_sections": [],
      "mount_file_id": "1vxxIqMoWbvDXGAFcfAGoBITmtNENz6m7",
      "authorship_tag": "ABX9TyPHL2cJWg/mgSGxfato6PUH"
    },
    "kernelspec": {
      "name": "python3",
      "display_name": "Python 3"
    },
    "language_info": {
      "name": "python"
    },
    "accelerator": "GPU"
  },
  "cells": [
    {
      "cell_type": "code",
      "metadata": {
        "id": "EG3xlIKxeHcc"
      },
      "source": [
        "import numpy as np\n",
        "import pandas as pd\n",
        "\n",
        "import torch\n",
        "import torch.nn as nn\n",
        "import torch.nn.functional as F\n",
        "\n",
        "import warnings\n",
        "\n",
        "warnings.filterwarnings(action='ignore')\n",
        "\n",
        "DATA_DIR = '/content/drive/MyDrive/투빅스 컨퍼런스/Data/'\n",
        "MODEL_DIR = '/content/drive/MyDrive/투빅스 컨퍼런스/Model/'"
      ],
      "execution_count": null,
      "outputs": []
    },
    {
      "cell_type": "markdown",
      "metadata": {
        "id": "-qg3OfDvTIo0"
      },
      "source": [
        "# 데이터 불러오기"
      ]
    },
    {
      "cell_type": "code",
      "metadata": {
        "id": "CGdU3MHqTBJt"
      },
      "source": [
        "import pickle\n",
        "\n",
        "# 이미지 + 순서 + 장르(텍스트)\n",
        "with open(DATA_DIR + 'norm_game2vec.pickle', 'rb') as f:\n",
        "  norm_game2vec = pickle.load(f)"
      ],
      "execution_count": null,
      "outputs": []
    },
    {
      "cell_type": "code",
      "metadata": {
        "id": "oLKaGwBwTlGk"
      },
      "source": [
        "all_df = pd.read_csv(DATA_DIR + 'steam_reviews_clean_result_v2.csv')\n",
        "train_df = pd.read_csv(DATA_DIR + 'steam_reviews_clean_result_train_v2.csv')\n",
        "val_df = pd.read_csv(DATA_DIR + 'steam_reviews_clean_result_val_v2.csv')\n",
        "test_df = pd.read_csv(DATA_DIR + 'steam_reviews_clean_result_test_v2.csv')"
      ],
      "execution_count": null,
      "outputs": []
    },
    {
      "cell_type": "markdown",
      "metadata": {
        "id": "Wv_RTz3OUBgV"
      },
      "source": [
        "# 데이터 전처리"
      ]
    },
    {
      "cell_type": "code",
      "metadata": {
        "colab": {
          "base_uri": "https://localhost:8080/"
        },
        "id": "je1-My94XnXI",
        "outputId": "cbe60bea-2e61-4ea4-8c10-0b94d70f413a"
      },
      "source": [
        "(train_df.shape[0] + val_df.shape[0] + test_df.shape[0]) == (all_df.shape[0])"
      ],
      "execution_count": null,
      "outputs": [
        {
          "output_type": "execute_result",
          "data": {
            "text/plain": [
              "True"
            ]
          },
          "metadata": {
            "tags": []
          },
          "execution_count": 4
        }
      ]
    },
    {
      "cell_type": "code",
      "metadata": {
        "colab": {
          "base_uri": "https://localhost:8080/"
        },
        "id": "tpGDG0meUfMb",
        "outputId": "7f3ec502-72ff-41c2-c4ab-4299d7331942"
      },
      "source": [
        "a = all_df['user_id'].astype(str).unique().tolist()\n",
        "b = train_df['user_id'].astype(str).unique().tolist()\n",
        "\n",
        "a = set(a)\n",
        "b = set(b)\n",
        "\n",
        "b - a"
      ],
      "execution_count": null,
      "outputs": [
        {
          "output_type": "execute_result",
          "data": {
            "text/plain": [
              "set()"
            ]
          },
          "metadata": {
            "tags": []
          },
          "execution_count": 5
        }
      ]
    },
    {
      "cell_type": "code",
      "metadata": {
        "colab": {
          "base_uri": "https://localhost:8080/"
        },
        "id": "JYiaRjUuaYkX",
        "outputId": "b0adab18-5904-4bac-fd01-ad305c8838b0"
      },
      "source": [
        "all_df['recommended'].value_counts() / sum(all_df['recommended'].value_counts())"
      ],
      "execution_count": null,
      "outputs": [
        {
          "output_type": "execute_result",
          "data": {
            "text/plain": [
              "Recommended        0.762219\n",
              "Not Recommended    0.237781\n",
              "Name: recommended, dtype: float64"
            ]
          },
          "metadata": {
            "tags": []
          },
          "execution_count": 6
        }
      ]
    },
    {
      "cell_type": "code",
      "metadata": {
        "colab": {
          "base_uri": "https://localhost:8080/"
        },
        "id": "yeDU-4WQalfP",
        "outputId": "e9fd4000-5a9a-4f98-9936-9ca9f208c250"
      },
      "source": [
        "train_df['recommended'].value_counts() / sum(train_df['recommended'].value_counts())"
      ],
      "execution_count": null,
      "outputs": [
        {
          "output_type": "execute_result",
          "data": {
            "text/plain": [
              "Recommended        0.764251\n",
              "Not Recommended    0.235749\n",
              "Name: recommended, dtype: float64"
            ]
          },
          "metadata": {
            "tags": []
          },
          "execution_count": 7
        }
      ]
    },
    {
      "cell_type": "code",
      "metadata": {
        "colab": {
          "base_uri": "https://localhost:8080/"
        },
        "id": "XKMXnVxwalo2",
        "outputId": "c7a71fd5-526c-4e19-dbb4-696f67ef7eef"
      },
      "source": [
        "val_df['recommended'].value_counts() / sum(val_df['recommended'].value_counts())"
      ],
      "execution_count": null,
      "outputs": [
        {
          "output_type": "execute_result",
          "data": {
            "text/plain": [
              "Recommended        0.751932\n",
              "Not Recommended    0.248068\n",
              "Name: recommended, dtype: float64"
            ]
          },
          "metadata": {
            "tags": []
          },
          "execution_count": 8
        }
      ]
    },
    {
      "cell_type": "code",
      "metadata": {
        "colab": {
          "base_uri": "https://localhost:8080/"
        },
        "id": "3AVKsbJ0alyX",
        "outputId": "6ff77103-746e-44c1-f6c2-508f8aab5633"
      },
      "source": [
        "test_df['recommended'].value_counts() / sum(test_df['recommended'].value_counts())"
      ],
      "execution_count": null,
      "outputs": [
        {
          "output_type": "execute_result",
          "data": {
            "text/plain": [
              "Recommended        0.763636\n",
              "Not Recommended    0.236364\n",
              "Name: recommended, dtype: float64"
            ]
          },
          "metadata": {
            "tags": []
          },
          "execution_count": 9
        }
      ]
    },
    {
      "cell_type": "code",
      "metadata": {
        "id": "SWKTK8SnaU_m"
      },
      "source": [
        "all_df['label'] = all_df['recommended'].apply(lambda x : 0 if x == 'Not Recommended' else 1)\n",
        "train_df['label'] = train_df['recommended'].apply(lambda x : 0 if x == 'Not Recommended' else 1)\n",
        "val_df['label'] = val_df['recommended'].apply(lambda x : 0 if x == 'Not Recommended' else 1)\n",
        "test_df['label'] = test_df['recommended'].apply(lambda x : 0 if x == 'Not Recommended' else 1)"
      ],
      "execution_count": null,
      "outputs": []
    },
    {
      "cell_type": "code",
      "metadata": {
        "colab": {
          "base_uri": "https://localhost:8080/",
          "height": 598
        },
        "id": "-6X4J9Z9bH9w",
        "outputId": "8d8643e9-2e97-4091-c92e-36df6578545d"
      },
      "source": [
        "train_df.head()"
      ],
      "execution_count": null,
      "outputs": [
        {
          "output_type": "execute_result",
          "data": {
            "text/html": [
              "<div>\n",
              "<style scoped>\n",
              "    .dataframe tbody tr th:only-of-type {\n",
              "        vertical-align: middle;\n",
              "    }\n",
              "\n",
              "    .dataframe tbody tr th {\n",
              "        vertical-align: top;\n",
              "    }\n",
              "\n",
              "    .dataframe thead th {\n",
              "        text-align: right;\n",
              "    }\n",
              "</style>\n",
              "<table border=\"1\" class=\"dataframe\">\n",
              "  <thead>\n",
              "    <tr style=\"text-align: right;\">\n",
              "      <th></th>\n",
              "      <th>content</th>\n",
              "      <th>recommended</th>\n",
              "      <th>user_id</th>\n",
              "      <th>game_id</th>\n",
              "      <th>timestamp</th>\n",
              "      <th>play_time_minute</th>\n",
              "      <th>review_time_minute</th>\n",
              "      <th>game_content_link</th>\n",
              "      <th>review_helpful_count</th>\n",
              "      <th>label_encode_user_id</th>\n",
              "      <th>label_encode_game_id</th>\n",
              "      <th>idx</th>\n",
              "      <th>label</th>\n",
              "    </tr>\n",
              "  </thead>\n",
              "  <tbody>\n",
              "    <tr>\n",
              "      <th>0</th>\n",
              "      <td>Game is dead, installed, can play training. Bu...</td>\n",
              "      <td>Not Recommended</td>\n",
              "      <td>atgbui</td>\n",
              "      <td>728540</td>\n",
              "      <td>2021-05-19</td>\n",
              "      <td>18.0</td>\n",
              "      <td>18.0</td>\n",
              "      <td>https://store.steampowered.com/app/728540</td>\n",
              "      <td>0</td>\n",
              "      <td>19157</td>\n",
              "      <td>14662</td>\n",
              "      <td>6</td>\n",
              "      <td>0</td>\n",
              "    </tr>\n",
              "    <tr>\n",
              "      <th>1</th>\n",
              "      <td>Adjust settings- mouse disappears (invisible) ...</td>\n",
              "      <td>Not Recommended</td>\n",
              "      <td>atgbui</td>\n",
              "      <td>999270</td>\n",
              "      <td>2021-05-19</td>\n",
              "      <td>6.0</td>\n",
              "      <td>6.0</td>\n",
              "      <td>https://store.steampowered.com/app/999270</td>\n",
              "      <td>1</td>\n",
              "      <td>19157</td>\n",
              "      <td>18652</td>\n",
              "      <td>7</td>\n",
              "      <td>0</td>\n",
              "    </tr>\n",
              "    <tr>\n",
              "      <th>2</th>\n",
              "      <td>I wish there was a neutral review button.The g...</td>\n",
              "      <td>Not Recommended</td>\n",
              "      <td>atgbui</td>\n",
              "      <td>920470</td>\n",
              "      <td>2021-05-16</td>\n",
              "      <td>216.0</td>\n",
              "      <td>216.0</td>\n",
              "      <td>https://store.steampowered.com/app/920470</td>\n",
              "      <td>0</td>\n",
              "      <td>19157</td>\n",
              "      <td>17716</td>\n",
              "      <td>8</td>\n",
              "      <td>0</td>\n",
              "    </tr>\n",
              "    <tr>\n",
              "      <th>3</th>\n",
              "      <td>The game brings something new to the genre, an...</td>\n",
              "      <td>Not Recommended</td>\n",
              "      <td>atgbui</td>\n",
              "      <td>1183940</td>\n",
              "      <td>2021-05-09</td>\n",
              "      <td>738.0</td>\n",
              "      <td>738.0</td>\n",
              "      <td>https://store.steampowered.com/app/1183940</td>\n",
              "      <td>0</td>\n",
              "      <td>19157</td>\n",
              "      <td>20641</td>\n",
              "      <td>9</td>\n",
              "      <td>0</td>\n",
              "    </tr>\n",
              "    <tr>\n",
              "      <th>4</th>\n",
              "      <td>Update: 06/11/2021: Game seems to be abandoned...</td>\n",
              "      <td>Not Recommended</td>\n",
              "      <td>atgbui</td>\n",
              "      <td>1254400</td>\n",
              "      <td>2021-05-09</td>\n",
              "      <td>438.0</td>\n",
              "      <td>438.0</td>\n",
              "      <td>https://store.steampowered.com/app/1254400</td>\n",
              "      <td>1</td>\n",
              "      <td>19157</td>\n",
              "      <td>21185</td>\n",
              "      <td>10</td>\n",
              "      <td>0</td>\n",
              "    </tr>\n",
              "  </tbody>\n",
              "</table>\n",
              "</div>"
            ],
            "text/plain": [
              "                                             content  ... label\n",
              "0  Game is dead, installed, can play training. Bu...  ...     0\n",
              "1  Adjust settings- mouse disappears (invisible) ...  ...     0\n",
              "2  I wish there was a neutral review button.The g...  ...     0\n",
              "3  The game brings something new to the genre, an...  ...     0\n",
              "4  Update: 06/11/2021: Game seems to be abandoned...  ...     0\n",
              "\n",
              "[5 rows x 13 columns]"
            ]
          },
          "metadata": {
            "tags": []
          },
          "execution_count": 11
        }
      ]
    },
    {
      "cell_type": "code",
      "metadata": {
        "id": "eG-rM8MEdJyj"
      },
      "source": [
        "train_user_id_idx_li = train_df['label_encode_user_id'].tolist()\n",
        "train_game_id_idx_li = train_df['label_encode_game_id'].tolist()\n",
        "train_label_li = train_df['label'].astype(float).tolist()\n",
        "\n",
        "val_user_id_idx_li = val_df['label_encode_user_id'].tolist()\n",
        "val_game_id_idx_li = val_df['label_encode_game_id'].tolist()\n",
        "val_label_li = val_df['label'].astype(float).tolist()\n",
        "\n",
        "test_user_id_idx_li = test_df['label_encode_user_id'].tolist()\n",
        "test_game_id_idx_li = test_df['label_encode_game_id'].tolist()\n",
        "test_label_li = test_df['label'].astype(float).tolist()"
      ],
      "execution_count": null,
      "outputs": []
    },
    {
      "cell_type": "code",
      "metadata": {
        "id": "VhktTFykfH36"
      },
      "source": [
        "torch_norm_game2vec = torch.FloatTensor(norm_game2vec)"
      ],
      "execution_count": null,
      "outputs": []
    },
    {
      "cell_type": "markdown",
      "metadata": {
        "id": "3BTHbbJebfKP"
      },
      "source": [
        "# 모델"
      ]
    },
    {
      "cell_type": "code",
      "metadata": {
        "id": "rhZrDhbRdYiE"
      },
      "source": [
        "from torch.utils.data import Dataset\n",
        "from torch.utils.data import DataLoader\n",
        "\n",
        "class NCFData(Dataset):\n",
        "    def __init__(self, user_id_idx_li, game_id_idx_li, label_li):\n",
        "      super(NCFData, self).__init__()\n",
        "      self._user_id_idx_li = user_id_idx_li\n",
        "      self._game_id_idx_li = game_id_idx_li\n",
        "      self._label_li = label_li\n",
        "\n",
        "    def __len__(self):\n",
        "      return len(self._label_li)\n",
        "\n",
        "    def __getitem__(self, idx):\n",
        "      user = self._user_id_idx_li[idx]\n",
        "      game = self._game_id_idx_li[idx]\n",
        "      label = self._label_li[idx]\n",
        "\n",
        "      return user, game, label"
      ],
      "execution_count": null,
      "outputs": []
    },
    {
      "cell_type": "code",
      "metadata": {
        "id": "5sA80TVsbrW6"
      },
      "source": [
        "user_num = all_df['label_encode_user_id'].max() + 1 \n",
        "factor_num = norm_game2vec.shape[1]"
      ],
      "execution_count": null,
      "outputs": []
    },
    {
      "cell_type": "code",
      "metadata": {
        "colab": {
          "base_uri": "https://localhost:8080/"
        },
        "id": "f81qvktmGH0w",
        "outputId": "f16737d6-838f-46e6-ce0b-64a76e525773"
      },
      "source": [
        "# 환경설정\n",
        "if torch.cuda.is_available():\n",
        "  DEVICE = torch.device('cuda')\n",
        "else:\n",
        "  DEVICE = torch.device('cpu')\n",
        "print(DEVICE)"
      ],
      "execution_count": null,
      "outputs": [
        {
          "output_type": "stream",
          "text": [
            "cuda\n"
          ],
          "name": "stdout"
        }
      ]
    },
    {
      "cell_type": "code",
      "metadata": {
        "id": "rjlLRd0xXb-2"
      },
      "source": [
        "BATCH_SIZE = 512\n",
        "EPOCHS = 30"
      ],
      "execution_count": null,
      "outputs": []
    },
    {
      "cell_type": "code",
      "metadata": {
        "id": "FbcgyoiXQn5S"
      },
      "source": [
        "class DCN(nn.Module):\n",
        "  def __init__(self, user_num, factor_num):\n",
        "      super(DCN, self).__init__()\n",
        "\n",
        "      # 유저 임베딩\n",
        "      self.user_embedding = nn.Embedding(user_num, factor_num)\n",
        "\n",
        "      # Cross Network\n",
        "      self.CN1 = nn.Linear(factor_num, factor_num)\n",
        "      self.CN2 = nn.Linear(factor_num, factor_num)\n",
        "      self.CN3 = nn.Linear(factor_num, factor_num)\n",
        "\n",
        "      # Deep Network\n",
        "      self.DN = nn.Sequential(\n",
        "          nn.Linear(factor_num, 256),\n",
        "          nn.ReLU(),\n",
        "          nn.Dropout(0.2),\n",
        "          nn.BatchNorm1d(256),\n",
        "          nn.Linear(256, 128),\n",
        "          nn.ReLU(),\n",
        "          nn.Dropout(0.2),\n",
        "          nn.BatchNorm1d(128),\n",
        "          nn.Linear(128, 64),\n",
        "          nn.ReLU()\n",
        "      )\n",
        "      \n",
        "      # FC\n",
        "      self.FC_layer = nn.Sequential(\n",
        "          nn.Linear(factor_num + 64, 1),\n",
        "          nn.Sigmoid()\n",
        "      )\n",
        "\n",
        "      self._init_weight_()\n",
        "\n",
        "  def _init_weight_(self):\n",
        "      # weight 초기화\n",
        "      nn.init.normal_(self.user_embedding.weight, std=0.01)\n",
        "      for m in self.DN:\n",
        "          if isinstance(m, nn.Linear):\n",
        "              nn.init.xavier_uniform_(m.weight)\n",
        "\n",
        "  def forward(self, user_idx, item_embedding):\n",
        "      user_embedding = self.user_embedding(user_idx)\n",
        "\n",
        "      embedding = (user_embedding * item_embedding)\n",
        "\n",
        "      # Cross Network\n",
        "      CN_out = self.CN1(embedding) * embedding\n",
        "      CN_out = self.CN2(CN_out) * embedding\n",
        "      CN_out = self.CN3(CN_out)\n",
        "\n",
        "      # Deep Network\n",
        "      DN_out = self.DN(embedding)\n",
        "\n",
        "      out = torch.cat((CN_out, DN_out), -1)\n",
        "      out = self.FC_layer(out)\n",
        "\n",
        "      return out.view(-1)"
      ],
      "execution_count": null,
      "outputs": []
    },
    {
      "cell_type": "code",
      "metadata": {
        "id": "te7nQPr8avdz"
      },
      "source": [
        "from sklearn.metrics import roc_auc_score\n",
        "\n",
        "def roc_auc_compute_fn(y_pred, y_true):\n",
        "\n",
        "  return roc_auc_score(y_true, y_pred)\n",
        "\n",
        "from sklearn.metrics import f1_score\n",
        "\n",
        "def f1_score_compute_fn(y_pred, y_true):\n",
        "\n",
        "  return f1_score(y_true, y_pred)\n",
        "\n",
        "def train(model, train_loader):\n",
        "  model.train()\n",
        "  train_loss = 0\n",
        "  correct = 0\n",
        "\n",
        "  auc_output_li = []\n",
        "  acc_output_li = []\n",
        "  label_li = []\n",
        "\n",
        "  for user, game, label in train_loader:\n",
        "    user = user.to(DEVICE)\n",
        "    item_embedding = torch_norm_game2vec[game].to(DEVICE)\n",
        "    label = label.to(DEVICE)\n",
        "    label = label.type(torch.DoubleTensor)\n",
        "\n",
        "    optimizer.zero_grad()\n",
        "\n",
        "    output = model(user, item_embedding)\n",
        "    output = output.type(torch.DoubleTensor)\n",
        "\n",
        "    loss = criterion(output, label)\n",
        "\n",
        "    loss.backward()\n",
        "    optimizer.step()\n",
        "\n",
        "    train_loss += loss.item()\n",
        "\n",
        "    auc_output_li.append(output.detach().cpu().numpy())\n",
        "\n",
        "    output = (output > 0.5).float()\n",
        "    correct += (output == label).float().sum()\n",
        "\n",
        "    acc_output_li.append(output.detach().cpu().numpy())\n",
        "    label_li.append(label.detach().cpu().numpy())\n",
        "\n",
        "  auc_output_li = np.concatenate(auc_output_li)\n",
        "  acc_output_li = np.concatenate(acc_output_li)\n",
        "  label_li = np.concatenate(label_li)\n",
        "\n",
        "  train_loss /= len(train_loader)\n",
        "  train_accuracy = 100. * correct / len(train_loader.dataset)\n",
        "  train_auc = roc_auc_compute_fn(auc_output_li, label_li)\n",
        "  train_f1 = f1_score_compute_fn(acc_output_li, label_li)\n",
        "\n",
        "  return train_loss, train_accuracy, train_auc, train_f1"
      ],
      "execution_count": null,
      "outputs": []
    },
    {
      "cell_type": "code",
      "metadata": {
        "id": "zid_o30Aavd0"
      },
      "source": [
        "def evaluate(model, test_loader):\n",
        "  model.eval()\n",
        "  test_loss = 0\n",
        "  correct = 0\n",
        "\n",
        "  auc_output_li = []\n",
        "  acc_output_li = []\n",
        "  label_li = []\n",
        "\n",
        "  with torch.no_grad():\n",
        "    for user, game, label in test_loader:\n",
        "\n",
        "      user = user.to(DEVICE)\n",
        "      item_embedding = torch_norm_game2vec[game].to(DEVICE)\n",
        "      label = label.to(DEVICE)\n",
        "      label = label.type(torch.DoubleTensor)\n",
        "\n",
        "      output = model(user, item_embedding)\n",
        "      output = output.type(torch.DoubleTensor)\n",
        "\n",
        "      loss = criterion(output, label)\n",
        "\n",
        "      test_loss += loss.item()\n",
        "\n",
        "      auc_output_li.append(output.detach().cpu().numpy())\n",
        "\n",
        "      output = (output>0.5).float()\n",
        "      correct += (output == label).float().sum()\n",
        "\n",
        "      acc_output_li.append(output.detach().cpu().numpy())\n",
        "      label_li.append(label.detach().cpu().numpy())\n",
        "\n",
        "  auc_output_li = np.concatenate(auc_output_li)\n",
        "  acc_output_li = np.concatenate(acc_output_li)\n",
        "  label_li = np.concatenate(label_li)\n",
        "\n",
        "  test_loss /= len(test_loader)\n",
        "  test_accuracy = 100. * correct / len(test_loader.dataset)\n",
        "  test_auc = roc_auc_compute_fn(auc_output_li, label_li)\n",
        "  test_f1 = f1_score_compute_fn(acc_output_li, label_li)\n",
        "\n",
        "  return test_loss, test_accuracy, test_auc, test_f1"
      ],
      "execution_count": null,
      "outputs": []
    },
    {
      "cell_type": "code",
      "metadata": {
        "id": "uPZmbO1pXU5k",
        "colab": {
          "base_uri": "https://localhost:8080/"
        },
        "outputId": "a33740ff-ac93-47b0-b7f5-7706f469207b"
      },
      "source": [
        "model = DCN(user_num = user_num, factor_num = factor_num).to(DEVICE)\n",
        "criterion = nn.BCELoss()\n",
        "optimizer = torch.optim.Adam(model.parameters(), lr=0.0001)\n",
        "\n",
        "train_dataset = NCFData(train_user_id_idx_li, train_game_id_idx_li, train_label_li)\n",
        "\n",
        "train_loader = DataLoader(train_dataset,\n",
        "  batch_size = BATCH_SIZE,\n",
        "  shuffle = True,\n",
        "  drop_last = False)\n",
        "\n",
        "val_dataset = NCFData(val_user_id_idx_li, val_game_id_idx_li, val_label_li)\n",
        "\n",
        "val_loader = DataLoader(val_dataset,\n",
        "  batch_size = BATCH_SIZE,\n",
        "  shuffle = False,\n",
        "  drop_last = False)\n",
        "\n",
        "best_metric = 0\n",
        "best_epoch = 0\n",
        "\n",
        "for epoch in range(1, EPOCHS + 1):\n",
        "  train_loss, train_accuracy, train_auc, train_f1 = train(model, train_loader)\n",
        "  test_loss, test_accuracy, test_auc, test_f1 = evaluate(model, val_loader)\n",
        "  print(f\"[EPOCH: {epoch}], Train Loss: {train_loss:.4f}, Train Accuracy: {train_accuracy:.2f} %, Train F!-Score: {train_f1:.4f}, Train AUC: {train_auc:.4f}, \\\n",
        "  Val Loss: {test_loss:.4f}, Val Accuracy: {test_accuracy:.2f} %, Val F!-Score: {test_f1:.4f}, Val AUC: {test_auc:.4f} \\n\")\n",
        "\n",
        "  if best_metric < test_auc:\n",
        "\n",
        "    best_metric = test_auc\n",
        "    best_epoch = epoch\n",
        "    MODEL_DIR = '/content/drive/MyDrive/투빅스 컨퍼런스/Model/'\n",
        "    torch.save(model.state_dict(), MODEL_DIR + f'DCN_Parallel_Best_model_state_dict.pt')\n",
        "\n",
        "# Train Accuracy - Val Accuracy 를 해서 가장 작은 모델을 저장하는 것이 좋들 듯\n",
        "# 왜? Val 에는 1만 존재하기 때문에 Train의 유저의 선호도를 어느 정도 맞춘 상태에서\n",
        "# Val의 선호 게임을 맞추는 것이 조금 더 타당할 수 있음\n",
        "# 따라서 Train Accuracy - Val Accuracy의 편차가 가장 작은 모델이 가장 성능이 우수하다고 생각함\n",
        "\n",
        "# 현재로써는 AUC 를 메트릭으로 사용해도 좋을 거 같음"
      ],
      "execution_count": null,
      "outputs": [
        {
          "output_type": "stream",
          "text": [
            "[EPOCH: 1], Train Loss: 0.4774, Train Accuracy: 79.07 %, Train F!-Score: 0.8762, Train AUC: 0.7228,   Val Loss: 0.3910, Val Accuracy: 82.86 %, Val F!-Score: 0.8927, Val AUC: 0.8474 \n",
            "\n",
            "[EPOCH: 2], Train Loss: 0.2117, Train Accuracy: 91.64 %, Train F!-Score: 0.9460, Train AUC: 0.9575,   Val Loss: 0.4058, Val Accuracy: 82.98 %, Val F!-Score: 0.8893, Val AUC: 0.8607 \n",
            "\n",
            "[EPOCH: 3], Train Loss: 0.0446, Train Accuracy: 98.51 %, Train F!-Score: 0.9903, Train AUC: 0.9978,   Val Loss: 0.6067, Val Accuracy: 82.50 %, Val F!-Score: 0.8861, Val AUC: 0.8537 \n",
            "\n",
            "[EPOCH: 4], Train Loss: 0.0125, Train Accuracy: 99.60 %, Train F!-Score: 0.9974, Train AUC: 0.9998,   Val Loss: 0.8523, Val Accuracy: 82.58 %, Val F!-Score: 0.8864, Val AUC: 0.8538 \n",
            "\n",
            "[EPOCH: 5], Train Loss: 0.0082, Train Accuracy: 99.74 %, Train F!-Score: 0.9983, Train AUC: 0.9999,   Val Loss: 0.9501, Val Accuracy: 82.99 %, Val F!-Score: 0.8899, Val AUC: 0.8544 \n",
            "\n",
            "[EPOCH: 6], Train Loss: 0.0110, Train Accuracy: 99.67 %, Train F!-Score: 0.9978, Train AUC: 0.9998,   Val Loss: 0.8812, Val Accuracy: 82.84 %, Val F!-Score: 0.8884, Val AUC: 0.8544 \n",
            "\n",
            "[EPOCH: 7], Train Loss: 0.0164, Train Accuracy: 99.49 %, Train F!-Score: 0.9967, Train AUC: 0.9996,   Val Loss: 0.8606, Val Accuracy: 83.17 %, Val F!-Score: 0.8910, Val AUC: 0.8545 \n",
            "\n",
            "[EPOCH: 8], Train Loss: 0.0127, Train Accuracy: 99.61 %, Train F!-Score: 0.9974, Train AUC: 0.9997,   Val Loss: 0.8999, Val Accuracy: 83.52 %, Val F!-Score: 0.8942, Val AUC: 0.8539 \n",
            "\n",
            "[EPOCH: 9], Train Loss: 0.0067, Train Accuracy: 99.80 %, Train F!-Score: 0.9987, Train AUC: 0.9999,   Val Loss: 0.9238, Val Accuracy: 83.51 %, Val F!-Score: 0.8940, Val AUC: 0.8531 \n",
            "\n",
            "[EPOCH: 10], Train Loss: 0.0045, Train Accuracy: 99.86 %, Train F!-Score: 0.9991, Train AUC: 1.0000,   Val Loss: 1.0633, Val Accuracy: 83.17 %, Val F!-Score: 0.8906, Val AUC: 0.8523 \n",
            "\n",
            "[EPOCH: 11], Train Loss: 0.0057, Train Accuracy: 99.82 %, Train F!-Score: 0.9988, Train AUC: 0.9999,   Val Loss: 1.0090, Val Accuracy: 83.65 %, Val F!-Score: 0.8956, Val AUC: 0.8526 \n",
            "\n",
            "[EPOCH: 12], Train Loss: 0.0069, Train Accuracy: 99.79 %, Train F!-Score: 0.9986, Train AUC: 0.9999,   Val Loss: 1.0222, Val Accuracy: 83.63 %, Val F!-Score: 0.8949, Val AUC: 0.8520 \n",
            "\n",
            "[EPOCH: 13], Train Loss: 0.0060, Train Accuracy: 99.81 %, Train F!-Score: 0.9988, Train AUC: 0.9999,   Val Loss: 1.0148, Val Accuracy: 83.85 %, Val F!-Score: 0.8977, Val AUC: 0.8522 \n",
            "\n",
            "[EPOCH: 14], Train Loss: 0.0053, Train Accuracy: 99.84 %, Train F!-Score: 0.9989, Train AUC: 1.0000,   Val Loss: 1.0433, Val Accuracy: 83.68 %, Val F!-Score: 0.8951, Val AUC: 0.8543 \n",
            "\n",
            "[EPOCH: 15], Train Loss: 0.0043, Train Accuracy: 99.86 %, Train F!-Score: 0.9991, Train AUC: 1.0000,   Val Loss: 1.0973, Val Accuracy: 83.63 %, Val F!-Score: 0.8951, Val AUC: 0.8525 \n",
            "\n",
            "[EPOCH: 16], Train Loss: 0.0044, Train Accuracy: 99.86 %, Train F!-Score: 0.9991, Train AUC: 1.0000,   Val Loss: 1.0858, Val Accuracy: 83.77 %, Val F!-Score: 0.8964, Val AUC: 0.8516 \n",
            "\n",
            "[EPOCH: 17], Train Loss: 0.0047, Train Accuracy: 99.85 %, Train F!-Score: 0.9990, Train AUC: 1.0000,   Val Loss: 1.1748, Val Accuracy: 83.76 %, Val F!-Score: 0.8966, Val AUC: 0.8504 \n",
            "\n",
            "[EPOCH: 18], Train Loss: 0.0041, Train Accuracy: 99.87 %, Train F!-Score: 0.9991, Train AUC: 1.0000,   Val Loss: 1.2209, Val Accuracy: 83.81 %, Val F!-Score: 0.8968, Val AUC: 0.8537 \n",
            "\n",
            "[EPOCH: 19], Train Loss: 0.0041, Train Accuracy: 99.87 %, Train F!-Score: 0.9991, Train AUC: 1.0000,   Val Loss: 1.1505, Val Accuracy: 83.73 %, Val F!-Score: 0.8957, Val AUC: 0.8550 \n",
            "\n",
            "[EPOCH: 20], Train Loss: 0.0037, Train Accuracy: 99.88 %, Train F!-Score: 0.9992, Train AUC: 1.0000,   Val Loss: 1.1080, Val Accuracy: 83.93 %, Val F!-Score: 0.8980, Val AUC: 0.8535 \n",
            "\n",
            "[EPOCH: 21], Train Loss: 0.0036, Train Accuracy: 99.88 %, Train F!-Score: 0.9992, Train AUC: 1.0000,   Val Loss: 1.2158, Val Accuracy: 83.90 %, Val F!-Score: 0.8975, Val AUC: 0.8540 \n",
            "\n",
            "[EPOCH: 22], Train Loss: 0.0035, Train Accuracy: 99.89 %, Train F!-Score: 0.9993, Train AUC: 1.0000,   Val Loss: 1.2813, Val Accuracy: 83.97 %, Val F!-Score: 0.8985, Val AUC: 0.8542 \n",
            "\n",
            "[EPOCH: 23], Train Loss: 0.0034, Train Accuracy: 99.89 %, Train F!-Score: 0.9993, Train AUC: 1.0000,   Val Loss: 1.2674, Val Accuracy: 83.79 %, Val F!-Score: 0.8967, Val AUC: 0.8510 \n",
            "\n",
            "[EPOCH: 24], Train Loss: 0.0032, Train Accuracy: 99.90 %, Train F!-Score: 0.9993, Train AUC: 1.0000,   Val Loss: 1.2283, Val Accuracy: 83.93 %, Val F!-Score: 0.8983, Val AUC: 0.8535 \n",
            "\n",
            "[EPOCH: 25], Train Loss: 0.0031, Train Accuracy: 99.90 %, Train F!-Score: 0.9994, Train AUC: 1.0000,   Val Loss: 1.2723, Val Accuracy: 83.84 %, Val F!-Score: 0.8972, Val AUC: 0.8542 \n",
            "\n",
            "[EPOCH: 26], Train Loss: 0.0027, Train Accuracy: 99.91 %, Train F!-Score: 0.9994, Train AUC: 1.0000,   Val Loss: 1.2590, Val Accuracy: 83.85 %, Val F!-Score: 0.8968, Val AUC: 0.8541 \n",
            "\n",
            "[EPOCH: 27], Train Loss: 0.0030, Train Accuracy: 99.90 %, Train F!-Score: 0.9993, Train AUC: 1.0000,   Val Loss: 1.2815, Val Accuracy: 83.89 %, Val F!-Score: 0.8974, Val AUC: 0.8557 \n",
            "\n",
            "[EPOCH: 28], Train Loss: 0.0031, Train Accuracy: 99.90 %, Train F!-Score: 0.9993, Train AUC: 1.0000,   Val Loss: 1.1953, Val Accuracy: 83.82 %, Val F!-Score: 0.8966, Val AUC: 0.8547 \n",
            "\n",
            "[EPOCH: 29], Train Loss: 0.0031, Train Accuracy: 99.90 %, Train F!-Score: 0.9994, Train AUC: 1.0000,   Val Loss: 1.2852, Val Accuracy: 84.00 %, Val F!-Score: 0.8984, Val AUC: 0.8546 \n",
            "\n",
            "[EPOCH: 30], Train Loss: 0.0023, Train Accuracy: 99.92 %, Train F!-Score: 0.9995, Train AUC: 1.0000,   Val Loss: 1.4077, Val Accuracy: 84.03 %, Val F!-Score: 0.8991, Val AUC: 0.8545 \n",
            "\n"
          ],
          "name": "stdout"
        }
      ]
    },
    {
      "cell_type": "code",
      "metadata": {
        "colab": {
          "base_uri": "https://localhost:8080/"
        },
        "id": "E5bjseEvH_F8",
        "outputId": "ae56cba6-b93e-44c4-d3a6-58ee4c08eadd"
      },
      "source": [
        "print(f'Best_Epoch : {best_epoch}, Best_Metric : {best_metric}')"
      ],
      "execution_count": null,
      "outputs": [
        {
          "output_type": "stream",
          "text": [
            "Best_Epoch : 2, Best_Metric : 0.8606988465535247\n"
          ],
          "name": "stdout"
        }
      ]
    },
    {
      "cell_type": "code",
      "metadata": {
        "id": "JlcIWckIWY1Z",
        "colab": {
          "base_uri": "https://localhost:8080/"
        },
        "outputId": "abfa32e4-a460-401d-e82d-393ac9ce59b3"
      },
      "source": [
        "test_dataset = NCFData(test_user_id_idx_li, test_game_id_idx_li, test_label_li)\n",
        "\n",
        "test_loader = DataLoader(test_dataset,\n",
        "  batch_size = BATCH_SIZE,\n",
        "  shuffle = False,\n",
        "  drop_last = False)\n",
        "\n",
        "model.load_state_dict(torch.load(MODEL_DIR + f'DCN_Parallel_Best_model_state_dict.pt'))\n",
        "\n",
        "test_loss, test_accuracy, test_auc, test_f1 = evaluate(model, test_loader)\n",
        "\n",
        "print(f\"Test Loss: {test_loss:.4f}, Test Accuracy: {test_accuracy:.2f} %, Test F!-Score: {test_f1:.4f}, Test AUC: {test_auc:.4f}\")"
      ],
      "execution_count": null,
      "outputs": [
        {
          "output_type": "stream",
          "text": [
            "Test Loss: 0.4185, Test Accuracy: 82.31 %, Test F!-Score: 0.8868, Test AUC: 0.8463\n"
          ],
          "name": "stdout"
        }
      ]
    },
    {
      "cell_type": "code",
      "metadata": {
        "id": "Qi823I_o3GiD"
      },
      "source": [
        ""
      ],
      "execution_count": null,
      "outputs": []
    }
  ]
}