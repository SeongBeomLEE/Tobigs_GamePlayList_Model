{
  "nbformat": 4,
  "nbformat_minor": 0,
  "metadata": {
    "colab": {
      "name": "Steam_DataSet_split.ipynb",
      "provenance": [],
      "collapsed_sections": [],
      "mount_file_id": "1sLPXwrMk_W5VO7OpTXve-I6Q4UJW0Bb8",
      "authorship_tag": "ABX9TyOkldRHWWDtoGTDOP1LbL7v"
    },
    "kernelspec": {
      "name": "python3",
      "display_name": "Python 3"
    },
    "language_info": {
      "name": "python"
    },
    "widgets": {
      "application/vnd.jupyter.widget-state+json": {
        "509a1187e7654ce08a3406cfb97cd500": {
          "model_module": "@jupyter-widgets/controls",
          "model_name": "HBoxModel",
          "model_module_version": "1.5.0",
          "state": {
            "_view_name": "HBoxView",
            "_dom_classes": [],
            "_model_name": "HBoxModel",
            "_view_module": "@jupyter-widgets/controls",
            "_model_module_version": "1.5.0",
            "_view_count": null,
            "_view_module_version": "1.5.0",
            "box_style": "",
            "layout": "IPY_MODEL_de69a780a85e48869d11de0cfcbf9fd9",
            "_model_module": "@jupyter-widgets/controls",
            "children": [
              "IPY_MODEL_8224ed71bf5f4f8193aa590864a06a60",
              "IPY_MODEL_8ea6a6e7b27b47a0ab1285836c534854"
            ]
          }
        },
        "de69a780a85e48869d11de0cfcbf9fd9": {
          "model_module": "@jupyter-widgets/base",
          "model_name": "LayoutModel",
          "model_module_version": "1.2.0",
          "state": {
            "_view_name": "LayoutView",
            "grid_template_rows": null,
            "right": null,
            "justify_content": null,
            "_view_module": "@jupyter-widgets/base",
            "overflow": null,
            "_model_module_version": "1.2.0",
            "_view_count": null,
            "flex_flow": null,
            "width": null,
            "min_width": null,
            "border": null,
            "align_items": null,
            "bottom": null,
            "_model_module": "@jupyter-widgets/base",
            "top": null,
            "grid_column": null,
            "overflow_y": null,
            "overflow_x": null,
            "grid_auto_flow": null,
            "grid_area": null,
            "grid_template_columns": null,
            "flex": null,
            "_model_name": "LayoutModel",
            "justify_items": null,
            "grid_row": null,
            "max_height": null,
            "align_content": null,
            "visibility": null,
            "align_self": null,
            "height": null,
            "min_height": null,
            "padding": null,
            "grid_auto_rows": null,
            "grid_gap": null,
            "max_width": null,
            "order": null,
            "_view_module_version": "1.2.0",
            "grid_template_areas": null,
            "object_position": null,
            "object_fit": null,
            "grid_auto_columns": null,
            "margin": null,
            "display": null,
            "left": null
          }
        },
        "8224ed71bf5f4f8193aa590864a06a60": {
          "model_module": "@jupyter-widgets/controls",
          "model_name": "FloatProgressModel",
          "model_module_version": "1.5.0",
          "state": {
            "_view_name": "ProgressView",
            "style": "IPY_MODEL_a30ea1312b5e4cce966b49d996e218a0",
            "_dom_classes": [],
            "description": "100%",
            "_model_name": "FloatProgressModel",
            "bar_style": "success",
            "max": 29732,
            "_view_module": "@jupyter-widgets/controls",
            "_model_module_version": "1.5.0",
            "value": 29732,
            "_view_count": null,
            "_view_module_version": "1.5.0",
            "orientation": "horizontal",
            "min": 0,
            "description_tooltip": null,
            "_model_module": "@jupyter-widgets/controls",
            "layout": "IPY_MODEL_4cce00e64d4a485f85eaf091b402e1c6"
          }
        },
        "8ea6a6e7b27b47a0ab1285836c534854": {
          "model_module": "@jupyter-widgets/controls",
          "model_name": "HTMLModel",
          "model_module_version": "1.5.0",
          "state": {
            "_view_name": "HTMLView",
            "style": "IPY_MODEL_ebaa8656362d4e8ba398214b441748b3",
            "_dom_classes": [],
            "description": "",
            "_model_name": "HTMLModel",
            "placeholder": "​",
            "_view_module": "@jupyter-widgets/controls",
            "_model_module_version": "1.5.0",
            "value": " 29732/29732 [01:59&lt;00:00, 249.17it/s]",
            "_view_count": null,
            "_view_module_version": "1.5.0",
            "description_tooltip": null,
            "_model_module": "@jupyter-widgets/controls",
            "layout": "IPY_MODEL_a23ea07e175c49158b67d30487e36feb"
          }
        },
        "a30ea1312b5e4cce966b49d996e218a0": {
          "model_module": "@jupyter-widgets/controls",
          "model_name": "ProgressStyleModel",
          "model_module_version": "1.5.0",
          "state": {
            "_view_name": "StyleView",
            "_model_name": "ProgressStyleModel",
            "description_width": "initial",
            "_view_module": "@jupyter-widgets/base",
            "_model_module_version": "1.5.0",
            "_view_count": null,
            "_view_module_version": "1.2.0",
            "bar_color": null,
            "_model_module": "@jupyter-widgets/controls"
          }
        },
        "4cce00e64d4a485f85eaf091b402e1c6": {
          "model_module": "@jupyter-widgets/base",
          "model_name": "LayoutModel",
          "model_module_version": "1.2.0",
          "state": {
            "_view_name": "LayoutView",
            "grid_template_rows": null,
            "right": null,
            "justify_content": null,
            "_view_module": "@jupyter-widgets/base",
            "overflow": null,
            "_model_module_version": "1.2.0",
            "_view_count": null,
            "flex_flow": null,
            "width": null,
            "min_width": null,
            "border": null,
            "align_items": null,
            "bottom": null,
            "_model_module": "@jupyter-widgets/base",
            "top": null,
            "grid_column": null,
            "overflow_y": null,
            "overflow_x": null,
            "grid_auto_flow": null,
            "grid_area": null,
            "grid_template_columns": null,
            "flex": null,
            "_model_name": "LayoutModel",
            "justify_items": null,
            "grid_row": null,
            "max_height": null,
            "align_content": null,
            "visibility": null,
            "align_self": null,
            "height": null,
            "min_height": null,
            "padding": null,
            "grid_auto_rows": null,
            "grid_gap": null,
            "max_width": null,
            "order": null,
            "_view_module_version": "1.2.0",
            "grid_template_areas": null,
            "object_position": null,
            "object_fit": null,
            "grid_auto_columns": null,
            "margin": null,
            "display": null,
            "left": null
          }
        },
        "ebaa8656362d4e8ba398214b441748b3": {
          "model_module": "@jupyter-widgets/controls",
          "model_name": "DescriptionStyleModel",
          "model_module_version": "1.5.0",
          "state": {
            "_view_name": "StyleView",
            "_model_name": "DescriptionStyleModel",
            "description_width": "",
            "_view_module": "@jupyter-widgets/base",
            "_model_module_version": "1.5.0",
            "_view_count": null,
            "_view_module_version": "1.2.0",
            "_model_module": "@jupyter-widgets/controls"
          }
        },
        "a23ea07e175c49158b67d30487e36feb": {
          "model_module": "@jupyter-widgets/base",
          "model_name": "LayoutModel",
          "model_module_version": "1.2.0",
          "state": {
            "_view_name": "LayoutView",
            "grid_template_rows": null,
            "right": null,
            "justify_content": null,
            "_view_module": "@jupyter-widgets/base",
            "overflow": null,
            "_model_module_version": "1.2.0",
            "_view_count": null,
            "flex_flow": null,
            "width": null,
            "min_width": null,
            "border": null,
            "align_items": null,
            "bottom": null,
            "_model_module": "@jupyter-widgets/base",
            "top": null,
            "grid_column": null,
            "overflow_y": null,
            "overflow_x": null,
            "grid_auto_flow": null,
            "grid_area": null,
            "grid_template_columns": null,
            "flex": null,
            "_model_name": "LayoutModel",
            "justify_items": null,
            "grid_row": null,
            "max_height": null,
            "align_content": null,
            "visibility": null,
            "align_self": null,
            "height": null,
            "min_height": null,
            "padding": null,
            "grid_auto_rows": null,
            "grid_gap": null,
            "max_width": null,
            "order": null,
            "_view_module_version": "1.2.0",
            "grid_template_areas": null,
            "object_position": null,
            "object_fit": null,
            "grid_auto_columns": null,
            "margin": null,
            "display": null,
            "left": null
          }
        }
      }
    }
  },
  "cells": [
    {
      "cell_type": "code",
      "metadata": {
        "id": "90SqMO5D1GmS"
      },
      "source": [
        "import pandas as pd\n",
        "import numpy as np\n",
        "import warnings\n",
        "from tqdm import tqdm_notebook\n",
        "\n",
        "warnings.filterwarnings(action='ignore')\n",
        "\n",
        "DATA_DIR = '/content/drive/MyDrive/투빅스 컨퍼런스/Data/'"
      ],
      "execution_count": null,
      "outputs": []
    },
    {
      "cell_type": "code",
      "metadata": {
        "id": "27zZWY0RP6sJ",
        "colab": {
          "base_uri": "https://localhost:8080/",
          "height": 289
        },
        "outputId": "f55e3291-47b7-4ffd-83c7-b2369ab4edc6"
      },
      "source": [
        "user_review_df = pd.read_csv(DATA_DIR + 'steam_reviews_clean_result.csv')\n",
        "user_review_df.head()"
      ],
      "execution_count": null,
      "outputs": [
        {
          "output_type": "execute_result",
          "data": {
            "text/html": [
              "<div>\n",
              "<style scoped>\n",
              "    .dataframe tbody tr th:only-of-type {\n",
              "        vertical-align: middle;\n",
              "    }\n",
              "\n",
              "    .dataframe tbody tr th {\n",
              "        vertical-align: top;\n",
              "    }\n",
              "\n",
              "    .dataframe thead th {\n",
              "        text-align: right;\n",
              "    }\n",
              "</style>\n",
              "<table border=\"1\" class=\"dataframe\">\n",
              "  <thead>\n",
              "    <tr style=\"text-align: right;\">\n",
              "      <th></th>\n",
              "      <th>content</th>\n",
              "      <th>recommended</th>\n",
              "      <th>user_id</th>\n",
              "      <th>game_id</th>\n",
              "      <th>timestamp</th>\n",
              "      <th>play_time_minute</th>\n",
              "      <th>review_time_minute</th>\n",
              "      <th>game_content_link</th>\n",
              "      <th>review_helpful_count</th>\n",
              "      <th>label_encode_user_id</th>\n",
              "      <th>label_encode_game_id</th>\n",
              "    </tr>\n",
              "  </thead>\n",
              "  <tbody>\n",
              "    <tr>\n",
              "      <th>0</th>\n",
              "      <td>Very good game, within 6 hours from launch, th...</td>\n",
              "      <td>Recommended</td>\n",
              "      <td>atgbui</td>\n",
              "      <td>768520</td>\n",
              "      <td>2021-06-20</td>\n",
              "      <td>3042.0</td>\n",
              "      <td>3042.0</td>\n",
              "      <td>https://store.steampowered.com/app/768520</td>\n",
              "      <td>5</td>\n",
              "      <td>19302</td>\n",
              "      <td>15392</td>\n",
              "    </tr>\n",
              "    <tr>\n",
              "      <th>1</th>\n",
              "      <td>I cannot recommend this game. It's been 8 year...</td>\n",
              "      <td>Not Recommended</td>\n",
              "      <td>atgbui</td>\n",
              "      <td>251570</td>\n",
              "      <td>2021-06-14</td>\n",
              "      <td>40440.0</td>\n",
              "      <td>40440.0</td>\n",
              "      <td>https://store.steampowered.com/app/251570</td>\n",
              "      <td>48</td>\n",
              "      <td>19302</td>\n",
              "      <td>2415</td>\n",
              "    </tr>\n",
              "    <tr>\n",
              "      <th>2</th>\n",
              "      <td>Game is currently busted for Co-Op. Despite th...</td>\n",
              "      <td>Not Recommended</td>\n",
              "      <td>atgbui</td>\n",
              "      <td>671510</td>\n",
              "      <td>2021-06-12</td>\n",
              "      <td>1734.0</td>\n",
              "      <td>906.0</td>\n",
              "      <td>https://store.steampowered.com/app/671510</td>\n",
              "      <td>3</td>\n",
              "      <td>19302</td>\n",
              "      <td>13585</td>\n",
              "    </tr>\n",
              "    <tr>\n",
              "      <th>3</th>\n",
              "      <td>Unfortunately dead game. https://steamcharts.c...</td>\n",
              "      <td>Not Recommended</td>\n",
              "      <td>atgbui</td>\n",
              "      <td>613590</td>\n",
              "      <td>2021-06-12</td>\n",
              "      <td>48.0</td>\n",
              "      <td>48.0</td>\n",
              "      <td>https://store.steampowered.com/app/613590</td>\n",
              "      <td>0</td>\n",
              "      <td>19302</td>\n",
              "      <td>12513</td>\n",
              "    </tr>\n",
              "    <tr>\n",
              "      <th>4</th>\n",
              "      <td>It just felt too generic- why would I play thi...</td>\n",
              "      <td>Not Recommended</td>\n",
              "      <td>atgbui</td>\n",
              "      <td>374280</td>\n",
              "      <td>2021-05-20</td>\n",
              "      <td>540.0</td>\n",
              "      <td>540.0</td>\n",
              "      <td>https://store.steampowered.com/app/374280</td>\n",
              "      <td>1</td>\n",
              "      <td>19302</td>\n",
              "      <td>6269</td>\n",
              "    </tr>\n",
              "  </tbody>\n",
              "</table>\n",
              "</div>"
            ],
            "text/plain": [
              "                                             content  ... label_encode_game_id\n",
              "0  Very good game, within 6 hours from launch, th...  ...                15392\n",
              "1  I cannot recommend this game. It's been 8 year...  ...                 2415\n",
              "2  Game is currently busted for Co-Op. Despite th...  ...                13585\n",
              "3  Unfortunately dead game. https://steamcharts.c...  ...                12513\n",
              "4  It just felt too generic- why would I play thi...  ...                 6269\n",
              "\n",
              "[5 rows x 11 columns]"
            ]
          },
          "metadata": {
            "tags": []
          },
          "execution_count": 2
        }
      ]
    },
    {
      "cell_type": "code",
      "metadata": {
        "id": "mJeFOyAZnSJy",
        "colab": {
          "base_uri": "https://localhost:8080/",
          "height": 224
        },
        "outputId": "db70a1b1-1fa0-4bfc-d1e2-ee6d6dad3839"
      },
      "source": [
        "user_meta_df = pd.read_csv(DATA_DIR + 'steam_user_meta_data_final.csv')\n",
        "user_meta_df.head()"
      ],
      "execution_count": null,
      "outputs": [
        {
          "output_type": "execute_result",
          "data": {
            "text/html": [
              "<div>\n",
              "<style scoped>\n",
              "    .dataframe tbody tr th:only-of-type {\n",
              "        vertical-align: middle;\n",
              "    }\n",
              "\n",
              "    .dataframe tbody tr th {\n",
              "        vertical-align: top;\n",
              "    }\n",
              "\n",
              "    .dataframe thead th {\n",
              "        text-align: right;\n",
              "    }\n",
              "</style>\n",
              "<table border=\"1\" class=\"dataframe\">\n",
              "  <thead>\n",
              "    <tr style=\"text-align: right;\">\n",
              "      <th></th>\n",
              "      <th>user_id</th>\n",
              "      <th>played_game_total_cnt</th>\n",
              "      <th>played_game_rec_cnt</th>\n",
              "      <th>played_game_not_rec_cnt</th>\n",
              "      <th>played_game_avg_play_time</th>\n",
              "      <th>played_game_rec_avg_play_time</th>\n",
              "      <th>played_game_not_rec_avg_play_time</th>\n",
              "      <th>preference_rec_genre</th>\n",
              "      <th>label_encode_user_id</th>\n",
              "    </tr>\n",
              "  </thead>\n",
              "  <tbody>\n",
              "    <tr>\n",
              "      <th>0</th>\n",
              "      <td>atgbui</td>\n",
              "      <td>50</td>\n",
              "      <td>25</td>\n",
              "      <td>25.0</td>\n",
              "      <td>8192.880000</td>\n",
              "      <td>13536.720000</td>\n",
              "      <td>2849.040000</td>\n",
              "      <td>Multiplayer</td>\n",
              "      <td>19302</td>\n",
              "    </tr>\n",
              "    <tr>\n",
              "      <th>1</th>\n",
              "      <td>76561198120102283</td>\n",
              "      <td>19</td>\n",
              "      <td>6</td>\n",
              "      <td>13.0</td>\n",
              "      <td>8528.842105</td>\n",
              "      <td>9270.000000</td>\n",
              "      <td>8186.769231</td>\n",
              "      <td>Action</td>\n",
              "      <td>8135</td>\n",
              "    </tr>\n",
              "    <tr>\n",
              "      <th>2</th>\n",
              "      <td>113L1T3G0DM4N3X1T11</td>\n",
              "      <td>10</td>\n",
              "      <td>7</td>\n",
              "      <td>3.0</td>\n",
              "      <td>8719.800000</td>\n",
              "      <td>6888.857143</td>\n",
              "      <td>12992.000000</td>\n",
              "      <td>Action</td>\n",
              "      <td>82</td>\n",
              "    </tr>\n",
              "    <tr>\n",
              "      <th>3</th>\n",
              "      <td>_treeheart_</td>\n",
              "      <td>10</td>\n",
              "      <td>6</td>\n",
              "      <td>4.0</td>\n",
              "      <td>9352.200000</td>\n",
              "      <td>15315.000000</td>\n",
              "      <td>408.000000</td>\n",
              "      <td>FPS</td>\n",
              "      <td>18671</td>\n",
              "    </tr>\n",
              "    <tr>\n",
              "      <th>4</th>\n",
              "      <td>Jamzuz</td>\n",
              "      <td>8</td>\n",
              "      <td>5</td>\n",
              "      <td>3.0</td>\n",
              "      <td>42954.750000</td>\n",
              "      <td>68553.600000</td>\n",
              "      <td>290.000000</td>\n",
              "      <td>Singleplayer</td>\n",
              "      <td>14352</td>\n",
              "    </tr>\n",
              "  </tbody>\n",
              "</table>\n",
              "</div>"
            ],
            "text/plain": [
              "               user_id  ...  label_encode_user_id\n",
              "0               atgbui  ...                 19302\n",
              "1    76561198120102283  ...                  8135\n",
              "2  113L1T3G0DM4N3X1T11  ...                    82\n",
              "3          _treeheart_  ...                 18671\n",
              "4               Jamzuz  ...                 14352\n",
              "\n",
              "[5 rows x 9 columns]"
            ]
          },
          "metadata": {
            "tags": []
          },
          "execution_count": 3
        }
      ]
    },
    {
      "cell_type": "code",
      "metadata": {
        "id": "FTPtaVAz1rrB",
        "colab": {
          "base_uri": "https://localhost:8080/",
          "height": 649
        },
        "outputId": "bb94c802-0e89-4434-e7a2-2930ab53b49d"
      },
      "source": [
        "game_meta_df = pd.read_csv(DATA_DIR + 'steam_game_meta_data_final.csv')\n",
        "game_meta_df.head()"
      ],
      "execution_count": null,
      "outputs": [
        {
          "output_type": "execute_result",
          "data": {
            "text/html": [
              "<div>\n",
              "<style scoped>\n",
              "    .dataframe tbody tr th:only-of-type {\n",
              "        vertical-align: middle;\n",
              "    }\n",
              "\n",
              "    .dataframe tbody tr th {\n",
              "        vertical-align: top;\n",
              "    }\n",
              "\n",
              "    .dataframe thead th {\n",
              "        text-align: right;\n",
              "    }\n",
              "</style>\n",
              "<table border=\"1\" class=\"dataframe\">\n",
              "  <thead>\n",
              "    <tr style=\"text-align: right;\">\n",
              "      <th></th>\n",
              "      <th>game_id</th>\n",
              "      <th>title</th>\n",
              "      <th>content</th>\n",
              "      <th>Image_url</th>\n",
              "      <th>genres</th>\n",
              "      <th>clean_genres</th>\n",
              "      <th>appid</th>\n",
              "      <th>name</th>\n",
              "      <th>developer</th>\n",
              "      <th>publisher</th>\n",
              "      <th>score_rank</th>\n",
              "      <th>positive</th>\n",
              "      <th>negative</th>\n",
              "      <th>userscore</th>\n",
              "      <th>owners</th>\n",
              "      <th>average_forever</th>\n",
              "      <th>average_2weeks</th>\n",
              "      <th>median_forever</th>\n",
              "      <th>median_2weeks</th>\n",
              "      <th>price</th>\n",
              "      <th>initialprice</th>\n",
              "      <th>discount</th>\n",
              "      <th>languages</th>\n",
              "      <th>genre</th>\n",
              "      <th>ccu</th>\n",
              "      <th>tags</th>\n",
              "      <th>label_encode_game_id</th>\n",
              "      <th>game_total_cnt</th>\n",
              "      <th>game_rec_cnt</th>\n",
              "      <th>game_not_rec_cnt</th>\n",
              "      <th>recommend_ratio</th>\n",
              "      <th>not_recommend_ratio</th>\n",
              "      <th>game_total_avg_play_time</th>\n",
              "      <th>game_rec_avg_play_time</th>\n",
              "      <th>game_not_rec_avg_play_time</th>\n",
              "    </tr>\n",
              "  </thead>\n",
              "  <tbody>\n",
              "    <tr>\n",
              "      <th>0</th>\n",
              "      <td>10</td>\n",
              "      <td>Counter-Strike</td>\n",
              "      <td>Play the world's number 1 online action game. ...</td>\n",
              "      <td>https://cdn.akamai.steamstatic.com/steam/apps/...</td>\n",
              "      <td>\\n\\r\\n\\t\\t\\t\\t\\t\\t\\t\\t\\t\\t\\t\\tAction\\t\\t\\t\\t\\t...</td>\n",
              "      <td>['Action', 'FPS', 'Multiplayer', 'Shooter', 'C...</td>\n",
              "      <td>10</td>\n",
              "      <td>Counter-Strike</td>\n",
              "      <td>Valve</td>\n",
              "      <td>Valve</td>\n",
              "      <td>NaN</td>\n",
              "      <td>178066</td>\n",
              "      <td>4597</td>\n",
              "      <td>0</td>\n",
              "      <td>10,000,000 .. 20,000,000</td>\n",
              "      <td>12516</td>\n",
              "      <td>431</td>\n",
              "      <td>185</td>\n",
              "      <td>764</td>\n",
              "      <td>199.0</td>\n",
              "      <td>999.0</td>\n",
              "      <td>80.0</td>\n",
              "      <td>English, French, German, Italian, Spanish - Sp...</td>\n",
              "      <td>Action</td>\n",
              "      <td>13111</td>\n",
              "      <td>{'Action': 5355, 'FPS': 4771, 'Multiplayer': 3...</td>\n",
              "      <td>0</td>\n",
              "      <td>504</td>\n",
              "      <td>475.0</td>\n",
              "      <td>29.0</td>\n",
              "      <td>0.942460</td>\n",
              "      <td>0.057540</td>\n",
              "      <td>42992.559524</td>\n",
              "      <td>45121.048421</td>\n",
              "      <td>8129.379310</td>\n",
              "    </tr>\n",
              "    <tr>\n",
              "      <th>1</th>\n",
              "      <td>20</td>\n",
              "      <td>Team Fortress Classic</td>\n",
              "      <td>One of the most popular online action games of...</td>\n",
              "      <td>https://cdn.akamai.steamstatic.com/steam/apps/...</td>\n",
              "      <td>\\n\\r\\n\\t\\t\\t\\t\\t\\t\\t\\t\\t\\t\\t\\tAction\\t\\t\\t\\t\\t...</td>\n",
              "      <td>['Action', 'FPS', 'Multiplayer', 'Classic', 'H...</td>\n",
              "      <td>20</td>\n",
              "      <td>Team Fortress Classic</td>\n",
              "      <td>Valve</td>\n",
              "      <td>Valve</td>\n",
              "      <td>NaN</td>\n",
              "      <td>4949</td>\n",
              "      <td>838</td>\n",
              "      <td>0</td>\n",
              "      <td>2,000,000 .. 5,000,000</td>\n",
              "      <td>2353</td>\n",
              "      <td>0</td>\n",
              "      <td>17</td>\n",
              "      <td>0</td>\n",
              "      <td>99.0</td>\n",
              "      <td>499.0</td>\n",
              "      <td>80.0</td>\n",
              "      <td>English, French, German, Italian, Spanish - Sp...</td>\n",
              "      <td>Action</td>\n",
              "      <td>89</td>\n",
              "      <td>{'Action': 741, 'FPS': 302, 'Multiplayer': 255...</td>\n",
              "      <td>1</td>\n",
              "      <td>164</td>\n",
              "      <td>130.0</td>\n",
              "      <td>34.0</td>\n",
              "      <td>0.792683</td>\n",
              "      <td>0.207317</td>\n",
              "      <td>11446.682927</td>\n",
              "      <td>14363.538462</td>\n",
              "      <td>294.000000</td>\n",
              "    </tr>\n",
              "    <tr>\n",
              "      <th>2</th>\n",
              "      <td>30</td>\n",
              "      <td>Day of Defeat</td>\n",
              "      <td>Enlist in an intense brand of Axis vs. Allied ...</td>\n",
              "      <td>https://cdn.akamai.steamstatic.com/steam/apps/...</td>\n",
              "      <td>\\n\\r\\n\\t\\t\\t\\t\\t\\t\\t\\t\\t\\t\\t\\tFPS\\t\\t\\t\\t\\t\\t\\...</td>\n",
              "      <td>['FPS', 'World War II', 'Multiplayer', 'Shoote...</td>\n",
              "      <td>30</td>\n",
              "      <td>Day of Defeat</td>\n",
              "      <td>Valve</td>\n",
              "      <td>Valve</td>\n",
              "      <td>NaN</td>\n",
              "      <td>4723</td>\n",
              "      <td>521</td>\n",
              "      <td>0</td>\n",
              "      <td>5,000,000 .. 10,000,000</td>\n",
              "      <td>2164</td>\n",
              "      <td>0</td>\n",
              "      <td>39</td>\n",
              "      <td>0</td>\n",
              "      <td>99.0</td>\n",
              "      <td>499.0</td>\n",
              "      <td>80.0</td>\n",
              "      <td>English, French, German, Italian, Spanish - Spain</td>\n",
              "      <td>Action</td>\n",
              "      <td>122</td>\n",
              "      <td>{'FPS': 780, 'World War II': 245, 'Multiplayer...</td>\n",
              "      <td>2</td>\n",
              "      <td>107</td>\n",
              "      <td>87.0</td>\n",
              "      <td>20.0</td>\n",
              "      <td>0.813084</td>\n",
              "      <td>0.186916</td>\n",
              "      <td>23939.551402</td>\n",
              "      <td>28533.034483</td>\n",
              "      <td>3957.900000</td>\n",
              "    </tr>\n",
              "    <tr>\n",
              "      <th>3</th>\n",
              "      <td>40</td>\n",
              "      <td>Deathmatch Classic</td>\n",
              "      <td>Enjoy fast-paced multiplayer gaming with Death...</td>\n",
              "      <td>https://cdn.akamai.steamstatic.com/steam/apps/...</td>\n",
              "      <td>\\n\\r\\n\\t\\t\\t\\t\\t\\t\\t\\t\\t\\t\\t\\tAction\\t\\t\\t\\t\\t...</td>\n",
              "      <td>['Action', 'FPS', 'Classic', 'Multiplayer', 'S...</td>\n",
              "      <td>40</td>\n",
              "      <td>Deathmatch Classic</td>\n",
              "      <td>Valve</td>\n",
              "      <td>Valve</td>\n",
              "      <td>NaN</td>\n",
              "      <td>1733</td>\n",
              "      <td>377</td>\n",
              "      <td>0</td>\n",
              "      <td>5,000,000 .. 10,000,000</td>\n",
              "      <td>2862</td>\n",
              "      <td>0</td>\n",
              "      <td>11</td>\n",
              "      <td>0</td>\n",
              "      <td>99.0</td>\n",
              "      <td>499.0</td>\n",
              "      <td>80.0</td>\n",
              "      <td>English, French, German, Italian, Spanish - Sp...</td>\n",
              "      <td>Action</td>\n",
              "      <td>5</td>\n",
              "      <td>{'Action': 627, 'FPS': 137, 'Classic': 105, 'M...</td>\n",
              "      <td>3</td>\n",
              "      <td>97</td>\n",
              "      <td>78.0</td>\n",
              "      <td>19.0</td>\n",
              "      <td>0.804124</td>\n",
              "      <td>0.195876</td>\n",
              "      <td>14408.845361</td>\n",
              "      <td>16979.000000</td>\n",
              "      <td>3857.684211</td>\n",
              "    </tr>\n",
              "    <tr>\n",
              "      <th>4</th>\n",
              "      <td>50</td>\n",
              "      <td>Half-Life: Opposing Force</td>\n",
              "      <td>Return to the Black Mesa Research Facility as ...</td>\n",
              "      <td>https://cdn.akamai.steamstatic.com/steam/apps/...</td>\n",
              "      <td>\\n\\r\\n\\t\\t\\t\\t\\t\\t\\t\\t\\t\\t\\t\\tFPS\\t\\t\\t\\t\\t\\t\\...</td>\n",
              "      <td>['FPS', 'Action', 'Classic', 'Sci-fi', 'Single...</td>\n",
              "      <td>50</td>\n",
              "      <td>Half-Life: Opposing Force</td>\n",
              "      <td>Gearbox Software</td>\n",
              "      <td>Valve</td>\n",
              "      <td>NaN</td>\n",
              "      <td>11285</td>\n",
              "      <td>581</td>\n",
              "      <td>0</td>\n",
              "      <td>5,000,000 .. 10,000,000</td>\n",
              "      <td>1494</td>\n",
              "      <td>0</td>\n",
              "      <td>208</td>\n",
              "      <td>0</td>\n",
              "      <td>99.0</td>\n",
              "      <td>499.0</td>\n",
              "      <td>80.0</td>\n",
              "      <td>English, French, German, Korean</td>\n",
              "      <td>Action</td>\n",
              "      <td>137</td>\n",
              "      <td>{'FPS': 874, 'Action': 316, 'Sci-fi': 242, 'Cl...</td>\n",
              "      <td>4</td>\n",
              "      <td>293</td>\n",
              "      <td>276.0</td>\n",
              "      <td>17.0</td>\n",
              "      <td>0.941980</td>\n",
              "      <td>0.058020</td>\n",
              "      <td>4025.447099</td>\n",
              "      <td>3990.065217</td>\n",
              "      <td>4599.882353</td>\n",
              "    </tr>\n",
              "  </tbody>\n",
              "</table>\n",
              "</div>"
            ],
            "text/plain": [
              "   game_id  ... game_not_rec_avg_play_time\n",
              "0       10  ...                8129.379310\n",
              "1       20  ...                 294.000000\n",
              "2       30  ...                3957.900000\n",
              "3       40  ...                3857.684211\n",
              "4       50  ...                4599.882353\n",
              "\n",
              "[5 rows x 35 columns]"
            ]
          },
          "metadata": {
            "tags": []
          },
          "execution_count": 4
        }
      ]
    },
    {
      "cell_type": "markdown",
      "metadata": {
        "id": "6cyscKF512zg"
      },
      "source": [
        "# 데이터셋 나누기\n",
        "\n",
        "Test data로는 20% 사용할 것이기 때문에\n",
        "\n",
        "Train data에는 유저의 선호 / 비선호 데이터가 적어도 1개씩은 존재 해야함\n",
        "\n",
        "그런데 비선호 데이터를 남기지 않은 유저가 존재하기 때문에 훈련시에 네가티브 샘플링(유저가 플레이하지 않은 게임 중에 무작위로 0으로 넣음)을 진행해야함\n",
        "\n",
        "따라서 선호 리뷰를 2개 이상을 남긴 유저만을 사용\n",
        "\n",
        "\n"
      ]
    },
    {
      "cell_type": "code",
      "metadata": {
        "id": "HWR6ZYY327k9"
      },
      "source": [
        "_user_meta_df = user_meta_df[(user_meta_df['played_game_rec_cnt'] >= 2)].reset_index(drop = True)\n",
        "_user_meta_df_idx = _user_meta_df['user_id'].tolist()\n",
        "_user_review_df = user_review_df.set_index('user_id', drop=False).loc[_user_meta_df_idx, :].reset_index(drop = True)"
      ],
      "execution_count": null,
      "outputs": []
    },
    {
      "cell_type": "code",
      "metadata": {
        "id": "xjrNHU8bAJvt",
        "colab": {
          "base_uri": "https://localhost:8080/"
        },
        "outputId": "9f480691-9f43-480b-d828-916c084815d1"
      },
      "source": [
        "game_meta_df['game_id'].nunique()"
      ],
      "execution_count": null,
      "outputs": [
        {
          "output_type": "execute_result",
          "data": {
            "text/plain": [
              "22443"
            ]
          },
          "metadata": {
            "tags": []
          },
          "execution_count": 16
        }
      ]
    },
    {
      "cell_type": "code",
      "metadata": {
        "id": "PEgMCD4jAIxW",
        "colab": {
          "base_uri": "https://localhost:8080/"
        },
        "outputId": "a003f609-e3a8-404a-f3e0-e26f84162d8d"
      },
      "source": [
        "_user_review_df['game_id'].nunique()"
      ],
      "execution_count": null,
      "outputs": [
        {
          "output_type": "execute_result",
          "data": {
            "text/plain": [
              "22443"
            ]
          },
          "metadata": {
            "tags": []
          },
          "execution_count": 17
        }
      ]
    },
    {
      "cell_type": "code",
      "metadata": {
        "id": "4ybwfBsx9MX1",
        "colab": {
          "base_uri": "https://localhost:8080/"
        },
        "outputId": "7f33763b-a47e-482a-f62b-c0de40cf1d3f"
      },
      "source": [
        "_user_review_df['user_id'].nunique()"
      ],
      "execution_count": null,
      "outputs": [
        {
          "output_type": "execute_result",
          "data": {
            "text/plain": [
              "29732"
            ]
          },
          "metadata": {
            "tags": []
          },
          "execution_count": 18
        }
      ]
    },
    {
      "cell_type": "code",
      "metadata": {
        "id": "ljJPCDnz7NfP",
        "colab": {
          "base_uri": "https://localhost:8080/"
        },
        "outputId": "3ba8ede9-0956-43b7-9690-9f9d379faa71"
      },
      "source": [
        "_user_meta_df['user_id'].nunique()"
      ],
      "execution_count": null,
      "outputs": [
        {
          "output_type": "execute_result",
          "data": {
            "text/plain": [
              "29732"
            ]
          },
          "metadata": {
            "tags": []
          },
          "execution_count": 19
        }
      ]
    },
    {
      "cell_type": "markdown",
      "metadata": {
        "id": "-3x6G_FlAiPt"
      },
      "source": [
        "유저의 변형이 생겼기 때문에 유저 아이디를 새롭게 인코딩 해줌"
      ]
    },
    {
      "cell_type": "code",
      "metadata": {
        "id": "AFbbr8r4Aw_t"
      },
      "source": [
        "from sklearn.preprocessing import LabelEncoder\n",
        "\n",
        "le = LabelEncoder()\n",
        "_user_review_df['label_encode_user_id'] = le.fit_transform(_user_review_df['user_id'])"
      ],
      "execution_count": null,
      "outputs": []
    },
    {
      "cell_type": "code",
      "metadata": {
        "id": "4wTe5Fa-AWgm",
        "colab": {
          "base_uri": "https://localhost:8080/"
        },
        "outputId": "7d022176-884b-416b-b07d-00f8cddac703"
      },
      "source": [
        "_user_review_df['label_encode_user_id'].max()"
      ],
      "execution_count": null,
      "outputs": [
        {
          "output_type": "execute_result",
          "data": {
            "text/plain": [
              "29731"
            ]
          },
          "metadata": {
            "tags": []
          },
          "execution_count": 21
        }
      ]
    },
    {
      "cell_type": "markdown",
      "metadata": {
        "id": "Bu9JTROrA5sN"
      },
      "source": [
        "Train과 Test로 분리"
      ]
    },
    {
      "cell_type": "code",
      "metadata": {
        "id": "MXDzxGoZBi7F",
        "colab": {
          "base_uri": "https://localhost:8080/",
          "height": 711
        },
        "outputId": "7caf1cd1-e1b9-4e12-e4d5-9617e83fc7a4"
      },
      "source": [
        "_user_review_df['idx'] = _user_review_df.index\n",
        "_user_review_df"
      ],
      "execution_count": null,
      "outputs": [
        {
          "output_type": "execute_result",
          "data": {
            "text/html": [
              "<div>\n",
              "<style scoped>\n",
              "    .dataframe tbody tr th:only-of-type {\n",
              "        vertical-align: middle;\n",
              "    }\n",
              "\n",
              "    .dataframe tbody tr th {\n",
              "        vertical-align: top;\n",
              "    }\n",
              "\n",
              "    .dataframe thead th {\n",
              "        text-align: right;\n",
              "    }\n",
              "</style>\n",
              "<table border=\"1\" class=\"dataframe\">\n",
              "  <thead>\n",
              "    <tr style=\"text-align: right;\">\n",
              "      <th></th>\n",
              "      <th>content</th>\n",
              "      <th>recommended</th>\n",
              "      <th>user_id</th>\n",
              "      <th>game_id</th>\n",
              "      <th>timestamp</th>\n",
              "      <th>play_time_minute</th>\n",
              "      <th>review_time_minute</th>\n",
              "      <th>game_content_link</th>\n",
              "      <th>review_helpful_count</th>\n",
              "      <th>label_encode_user_id</th>\n",
              "      <th>label_encode_game_id</th>\n",
              "      <th>idx</th>\n",
              "    </tr>\n",
              "  </thead>\n",
              "  <tbody>\n",
              "    <tr>\n",
              "      <th>0</th>\n",
              "      <td>Very good game, within 6 hours from launch, th...</td>\n",
              "      <td>Recommended</td>\n",
              "      <td>atgbui</td>\n",
              "      <td>768520</td>\n",
              "      <td>2021-06-20</td>\n",
              "      <td>3042.0</td>\n",
              "      <td>3042.0</td>\n",
              "      <td>https://store.steampowered.com/app/768520</td>\n",
              "      <td>5</td>\n",
              "      <td>19157</td>\n",
              "      <td>15392</td>\n",
              "      <td>0</td>\n",
              "    </tr>\n",
              "    <tr>\n",
              "      <th>1</th>\n",
              "      <td>I cannot recommend this game. It's been 8 year...</td>\n",
              "      <td>Not Recommended</td>\n",
              "      <td>atgbui</td>\n",
              "      <td>251570</td>\n",
              "      <td>2021-06-14</td>\n",
              "      <td>40440.0</td>\n",
              "      <td>40440.0</td>\n",
              "      <td>https://store.steampowered.com/app/251570</td>\n",
              "      <td>48</td>\n",
              "      <td>19157</td>\n",
              "      <td>2415</td>\n",
              "      <td>1</td>\n",
              "    </tr>\n",
              "    <tr>\n",
              "      <th>2</th>\n",
              "      <td>Game is currently busted for Co-Op. Despite th...</td>\n",
              "      <td>Not Recommended</td>\n",
              "      <td>atgbui</td>\n",
              "      <td>671510</td>\n",
              "      <td>2021-06-12</td>\n",
              "      <td>1734.0</td>\n",
              "      <td>906.0</td>\n",
              "      <td>https://store.steampowered.com/app/671510</td>\n",
              "      <td>3</td>\n",
              "      <td>19157</td>\n",
              "      <td>13585</td>\n",
              "      <td>2</td>\n",
              "    </tr>\n",
              "    <tr>\n",
              "      <th>3</th>\n",
              "      <td>Unfortunately dead game. https://steamcharts.c...</td>\n",
              "      <td>Not Recommended</td>\n",
              "      <td>atgbui</td>\n",
              "      <td>613590</td>\n",
              "      <td>2021-06-12</td>\n",
              "      <td>48.0</td>\n",
              "      <td>48.0</td>\n",
              "      <td>https://store.steampowered.com/app/613590</td>\n",
              "      <td>0</td>\n",
              "      <td>19157</td>\n",
              "      <td>12513</td>\n",
              "      <td>3</td>\n",
              "    </tr>\n",
              "    <tr>\n",
              "      <th>4</th>\n",
              "      <td>It just felt too generic- why would I play thi...</td>\n",
              "      <td>Not Recommended</td>\n",
              "      <td>atgbui</td>\n",
              "      <td>374280</td>\n",
              "      <td>2021-05-20</td>\n",
              "      <td>540.0</td>\n",
              "      <td>540.0</td>\n",
              "      <td>https://store.steampowered.com/app/374280</td>\n",
              "      <td>1</td>\n",
              "      <td>19157</td>\n",
              "      <td>6269</td>\n",
              "      <td>4</td>\n",
              "    </tr>\n",
              "    <tr>\n",
              "      <th>...</th>\n",
              "      <td>...</td>\n",
              "      <td>...</td>\n",
              "      <td>...</td>\n",
              "      <td>...</td>\n",
              "      <td>...</td>\n",
              "      <td>...</td>\n",
              "      <td>...</td>\n",
              "      <td>...</td>\n",
              "      <td>...</td>\n",
              "      <td>...</td>\n",
              "      <td>...</td>\n",
              "      <td>...</td>\n",
              "    </tr>\n",
              "    <tr>\n",
              "      <th>1076913</th>\n",
              "      <td>good game!!</td>\n",
              "      <td>Recommended</td>\n",
              "      <td>76561198124865235</td>\n",
              "      <td>222880</td>\n",
              "      <td>2015-09-10</td>\n",
              "      <td>924.0</td>\n",
              "      <td>156.0</td>\n",
              "      <td>https://store.steampowered.com/app/222880</td>\n",
              "      <td>0</td>\n",
              "      <td>8238</td>\n",
              "      <td>1767</td>\n",
              "      <td>1076913</td>\n",
              "    </tr>\n",
              "    <tr>\n",
              "      <th>1076914</th>\n",
              "      <td>This game head Favorites!</td>\n",
              "      <td>Recommended</td>\n",
              "      <td>76561198124865235</td>\n",
              "      <td>730</td>\n",
              "      <td>2015-09-06</td>\n",
              "      <td>70164.0</td>\n",
              "      <td>40464.0</td>\n",
              "      <td>https://store.steampowered.com/app/730</td>\n",
              "      <td>0</td>\n",
              "      <td>8238</td>\n",
              "      <td>26</td>\n",
              "      <td>1076914</td>\n",
              "    </tr>\n",
              "    <tr>\n",
              "      <th>1076915</th>\n",
              "      <td>A really good game! ... At first it was hard t...</td>\n",
              "      <td>Recommended</td>\n",
              "      <td>76561198124865235</td>\n",
              "      <td>274940</td>\n",
              "      <td>2015-09-03</td>\n",
              "      <td>8526.0</td>\n",
              "      <td>696.0</td>\n",
              "      <td>https://store.steampowered.com/app/274940</td>\n",
              "      <td>1</td>\n",
              "      <td>8238</td>\n",
              "      <td>3025</td>\n",
              "      <td>1076915</td>\n",
              "    </tr>\n",
              "    <tr>\n",
              "      <th>1076916</th>\n",
              "      <td>good game!!!!!!!!!!!!!!!</td>\n",
              "      <td>Recommended</td>\n",
              "      <td>76561198124865235</td>\n",
              "      <td>238460</td>\n",
              "      <td>2015-07-28</td>\n",
              "      <td>2778.0</td>\n",
              "      <td>2670.0</td>\n",
              "      <td>https://store.steampowered.com/app/238460</td>\n",
              "      <td>0</td>\n",
              "      <td>8238</td>\n",
              "      <td>2124</td>\n",
              "      <td>1076916</td>\n",
              "    </tr>\n",
              "    <tr>\n",
              "      <th>1076917</th>\n",
              "      <td>good game</td>\n",
              "      <td>Recommended</td>\n",
              "      <td>76561198124865235</td>\n",
              "      <td>104200</td>\n",
              "      <td>2015-07-28</td>\n",
              "      <td>180.0</td>\n",
              "      <td>180.0</td>\n",
              "      <td>https://store.steampowered.com/app/104200</td>\n",
              "      <td>0</td>\n",
              "      <td>8238</td>\n",
              "      <td>1207</td>\n",
              "      <td>1076917</td>\n",
              "    </tr>\n",
              "  </tbody>\n",
              "</table>\n",
              "<p>1076918 rows × 12 columns</p>\n",
              "</div>"
            ],
            "text/plain": [
              "                                                   content  ...      idx\n",
              "0        Very good game, within 6 hours from launch, th...  ...        0\n",
              "1        I cannot recommend this game. It's been 8 year...  ...        1\n",
              "2        Game is currently busted for Co-Op. Despite th...  ...        2\n",
              "3        Unfortunately dead game. https://steamcharts.c...  ...        3\n",
              "4        It just felt too generic- why would I play thi...  ...        4\n",
              "...                                                    ...  ...      ...\n",
              "1076913                                        good game!!  ...  1076913\n",
              "1076914                          This game head Favorites!  ...  1076914\n",
              "1076915  A really good game! ... At first it was hard t...  ...  1076915\n",
              "1076916                           good game!!!!!!!!!!!!!!!  ...  1076916\n",
              "1076917                                          good game  ...  1076917\n",
              "\n",
              "[1076918 rows x 12 columns]"
            ]
          },
          "metadata": {
            "tags": []
          },
          "execution_count": 22
        }
      ]
    },
    {
      "cell_type": "code",
      "metadata": {
        "id": "8B3fLzE99Vxy",
        "colab": {
          "base_uri": "https://localhost:8080/",
          "height": 67,
          "referenced_widgets": [
            "509a1187e7654ce08a3406cfb97cd500",
            "de69a780a85e48869d11de0cfcbf9fd9",
            "8224ed71bf5f4f8193aa590864a06a60",
            "8ea6a6e7b27b47a0ab1285836c534854",
            "a30ea1312b5e4cce966b49d996e218a0",
            "4cce00e64d4a485f85eaf091b402e1c6",
            "ebaa8656362d4e8ba398214b441748b3",
            "a23ea07e175c49158b67d30487e36feb"
          ]
        },
        "outputId": "0f2a3f08-0e81-4aa6-a3bb-cf03ca0f42b6"
      },
      "source": [
        "from tqdm import tqdm_notebook\n",
        "\n",
        "_user_review_df['idx'] = _user_review_df.index\n",
        "test_idx = []\n",
        "group_df = _user_review_df.groupby('user_id')\n",
        "\n",
        "for user_id in tqdm_notebook(group_df.groups):\n",
        "  all_user_df = group_df.get_group(user_id)\n",
        "  ret_user_df = all_user_df[all_user_df['recommended'] == 'Recommended'].sort_values('timestamp', ascending = False)\n",
        "  non_ret_user_df = all_user_df[all_user_df['recommended'] != 'Recommended'].sort_values('timestamp', ascending = False)\n",
        "  \n",
        "  # 추천\n",
        "  ret_split_ratio = int(round(len(ret_user_df) * 0.2))\n",
        "  if ret_split_ratio <= 1:\n",
        "    ret_split_ratio = 1\n",
        "\n",
        "  ret_test_user_df = ret_user_df.iloc[ : ret_split_ratio, :]\n",
        "  test_idx += ret_test_user_df['idx'].tolist()\n",
        "\n",
        "  # 비추천\n",
        "  if len(non_ret_user_df) >= 2:\n",
        "    non_ret_split_ratio = int(round(len(non_ret_user_df) * 0.2))\n",
        "    if non_ret_split_ratio <= 1:\n",
        "      non_ret_split_ratio = 1\n",
        "    \n",
        "    non_ret_test_user_df = non_ret_user_df.iloc[ : non_ret_split_ratio, :]\n",
        "    test_idx += non_ret_test_user_df['idx'].tolist()"
      ],
      "execution_count": null,
      "outputs": [
        {
          "output_type": "display_data",
          "data": {
            "application/vnd.jupyter.widget-view+json": {
              "model_id": "509a1187e7654ce08a3406cfb97cd500",
              "version_minor": 0,
              "version_major": 2
            },
            "text/plain": [
              "HBox(children=(FloatProgress(value=0.0, max=29732.0), HTML(value='')))"
            ]
          },
          "metadata": {
            "tags": []
          }
        },
        {
          "output_type": "stream",
          "text": [
            "\n"
          ],
          "name": "stdout"
        }
      ]
    },
    {
      "cell_type": "code",
      "metadata": {
        "id": "pbfg9O4eCCMc",
        "colab": {
          "base_uri": "https://localhost:8080/"
        },
        "outputId": "e51df3b0-17bc-4683-976f-23ab98fab3ad"
      },
      "source": [
        "all_idx = _user_review_df['idx'].tolist()\n",
        "all_idx = set(all_idx)\n",
        "len(all_idx)"
      ],
      "execution_count": null,
      "outputs": [
        {
          "output_type": "execute_result",
          "data": {
            "text/plain": [
              "1076918"
            ]
          },
          "metadata": {
            "tags": []
          },
          "execution_count": 24
        }
      ]
    },
    {
      "cell_type": "code",
      "metadata": {
        "id": "B___fE-mDl0I",
        "colab": {
          "base_uri": "https://localhost:8080/"
        },
        "outputId": "08c1cab0-457b-47a0-85a5-2014a5579ab1"
      },
      "source": [
        "test_idx = set(test_idx)\n",
        "len(test_idx)"
      ],
      "execution_count": null,
      "outputs": [
        {
          "output_type": "execute_result",
          "data": {
            "text/plain": [
              "218169"
            ]
          },
          "metadata": {
            "tags": []
          },
          "execution_count": 25
        }
      ]
    },
    {
      "cell_type": "code",
      "metadata": {
        "id": "qyW8cnhiDpsY",
        "colab": {
          "base_uri": "https://localhost:8080/"
        },
        "outputId": "4315960a-aab5-4aaa-fa6a-ada6bbce840b"
      },
      "source": [
        "train_idx = all_idx - test_idx\n",
        "train_idx = list(train_idx)\n",
        "test_idx = list(test_idx)\n",
        "len(train_idx)"
      ],
      "execution_count": null,
      "outputs": [
        {
          "output_type": "execute_result",
          "data": {
            "text/plain": [
              "858749"
            ]
          },
          "metadata": {
            "tags": []
          },
          "execution_count": 26
        }
      ]
    },
    {
      "cell_type": "code",
      "metadata": {
        "id": "TbyQrQR9D0dP"
      },
      "source": [
        "train_df = _user_review_df.iloc[train_idx, :].reset_index(drop = True)\n",
        "test_df = _user_review_df.iloc[test_idx, :].reset_index(drop = True)"
      ],
      "execution_count": null,
      "outputs": []
    },
    {
      "cell_type": "code",
      "metadata": {
        "id": "Kfz5v1OXEAkH",
        "colab": {
          "base_uri": "https://localhost:8080/"
        },
        "outputId": "1349828c-333c-44b9-fabb-ed3f4902ae0a"
      },
      "source": [
        "train_df.shape"
      ],
      "execution_count": null,
      "outputs": [
        {
          "output_type": "execute_result",
          "data": {
            "text/plain": [
              "(858749, 12)"
            ]
          },
          "metadata": {
            "tags": []
          },
          "execution_count": 28
        }
      ]
    },
    {
      "cell_type": "code",
      "metadata": {
        "id": "XRjl9BtDEBkX",
        "colab": {
          "base_uri": "https://localhost:8080/"
        },
        "outputId": "d3b21d80-4867-477f-fe58-67abf87ed288"
      },
      "source": [
        "test_df.shape"
      ],
      "execution_count": null,
      "outputs": [
        {
          "output_type": "execute_result",
          "data": {
            "text/plain": [
              "(218169, 12)"
            ]
          },
          "metadata": {
            "tags": []
          },
          "execution_count": 29
        }
      ]
    },
    {
      "cell_type": "code",
      "metadata": {
        "id": "twWOpBIuEKoX",
        "colab": {
          "base_uri": "https://localhost:8080/"
        },
        "outputId": "791ec655-e383-45e6-c8a7-99afa1d2d446"
      },
      "source": [
        "train_df['game_id'].nunique()"
      ],
      "execution_count": null,
      "outputs": [
        {
          "output_type": "execute_result",
          "data": {
            "text/plain": [
              "22049"
            ]
          },
          "metadata": {
            "tags": []
          },
          "execution_count": 30
        }
      ]
    },
    {
      "cell_type": "code",
      "metadata": {
        "id": "7UxjS72sENhg",
        "colab": {
          "base_uri": "https://localhost:8080/"
        },
        "outputId": "eb859e08-2c62-4ecf-bcd0-f0cf0df4d340"
      },
      "source": [
        "train_df['user_id'].nunique()"
      ],
      "execution_count": null,
      "outputs": [
        {
          "output_type": "execute_result",
          "data": {
            "text/plain": [
              "29732"
            ]
          },
          "metadata": {
            "tags": []
          },
          "execution_count": 31
        }
      ]
    },
    {
      "cell_type": "code",
      "metadata": {
        "id": "lH5xzAcbEO2Y",
        "colab": {
          "base_uri": "https://localhost:8080/"
        },
        "outputId": "13f48855-0ca6-4224-e5db-cff1d6aecf5f"
      },
      "source": [
        "test_df['game_id'].nunique()"
      ],
      "execution_count": null,
      "outputs": [
        {
          "output_type": "execute_result",
          "data": {
            "text/plain": [
              "20025"
            ]
          },
          "metadata": {
            "tags": []
          },
          "execution_count": 32
        }
      ]
    },
    {
      "cell_type": "code",
      "metadata": {
        "id": "dpaqGOS3EO2Y",
        "colab": {
          "base_uri": "https://localhost:8080/"
        },
        "outputId": "dda68740-36ac-493f-91d5-438943aa78de"
      },
      "source": [
        "test_df['user_id'].nunique()"
      ],
      "execution_count": null,
      "outputs": [
        {
          "output_type": "execute_result",
          "data": {
            "text/plain": [
              "29732"
            ]
          },
          "metadata": {
            "tags": []
          },
          "execution_count": 33
        }
      ]
    },
    {
      "cell_type": "code",
      "metadata": {
        "id": "yYnmnCqiFIdZ",
        "colab": {
          "base_uri": "https://localhost:8080/",
          "height": 289
        },
        "outputId": "8451f412-00a5-41f2-eedd-e39e6150ff93"
      },
      "source": [
        "train_df.to_csv(DATA_DIR + 'train_df_v2.csv', index = False)\n",
        "train_df.head()"
      ],
      "execution_count": null,
      "outputs": [
        {
          "output_type": "execute_result",
          "data": {
            "text/html": [
              "<div>\n",
              "<style scoped>\n",
              "    .dataframe tbody tr th:only-of-type {\n",
              "        vertical-align: middle;\n",
              "    }\n",
              "\n",
              "    .dataframe tbody tr th {\n",
              "        vertical-align: top;\n",
              "    }\n",
              "\n",
              "    .dataframe thead th {\n",
              "        text-align: right;\n",
              "    }\n",
              "</style>\n",
              "<table border=\"1\" class=\"dataframe\">\n",
              "  <thead>\n",
              "    <tr style=\"text-align: right;\">\n",
              "      <th></th>\n",
              "      <th>content</th>\n",
              "      <th>recommended</th>\n",
              "      <th>user_id</th>\n",
              "      <th>game_id</th>\n",
              "      <th>timestamp</th>\n",
              "      <th>play_time_minute</th>\n",
              "      <th>review_time_minute</th>\n",
              "      <th>game_content_link</th>\n",
              "      <th>review_helpful_count</th>\n",
              "      <th>label_encode_user_id</th>\n",
              "      <th>label_encode_game_id</th>\n",
              "      <th>idx</th>\n",
              "    </tr>\n",
              "  </thead>\n",
              "  <tbody>\n",
              "    <tr>\n",
              "      <th>0</th>\n",
              "      <td>Game is dead, installed, can play training. Bu...</td>\n",
              "      <td>Not Recommended</td>\n",
              "      <td>atgbui</td>\n",
              "      <td>728540</td>\n",
              "      <td>2021-05-19</td>\n",
              "      <td>18.0</td>\n",
              "      <td>18.0</td>\n",
              "      <td>https://store.steampowered.com/app/728540</td>\n",
              "      <td>0</td>\n",
              "      <td>19157</td>\n",
              "      <td>14662</td>\n",
              "      <td>6</td>\n",
              "    </tr>\n",
              "    <tr>\n",
              "      <th>1</th>\n",
              "      <td>Adjust settings- mouse disappears (invisible) ...</td>\n",
              "      <td>Not Recommended</td>\n",
              "      <td>atgbui</td>\n",
              "      <td>999270</td>\n",
              "      <td>2021-05-19</td>\n",
              "      <td>6.0</td>\n",
              "      <td>6.0</td>\n",
              "      <td>https://store.steampowered.com/app/999270</td>\n",
              "      <td>1</td>\n",
              "      <td>19157</td>\n",
              "      <td>18652</td>\n",
              "      <td>7</td>\n",
              "    </tr>\n",
              "    <tr>\n",
              "      <th>2</th>\n",
              "      <td>I wish there was a neutral review button.The g...</td>\n",
              "      <td>Not Recommended</td>\n",
              "      <td>atgbui</td>\n",
              "      <td>920470</td>\n",
              "      <td>2021-05-16</td>\n",
              "      <td>216.0</td>\n",
              "      <td>216.0</td>\n",
              "      <td>https://store.steampowered.com/app/920470</td>\n",
              "      <td>0</td>\n",
              "      <td>19157</td>\n",
              "      <td>17716</td>\n",
              "      <td>8</td>\n",
              "    </tr>\n",
              "    <tr>\n",
              "      <th>3</th>\n",
              "      <td>The game brings something new to the genre, an...</td>\n",
              "      <td>Not Recommended</td>\n",
              "      <td>atgbui</td>\n",
              "      <td>1183940</td>\n",
              "      <td>2021-05-09</td>\n",
              "      <td>738.0</td>\n",
              "      <td>738.0</td>\n",
              "      <td>https://store.steampowered.com/app/1183940</td>\n",
              "      <td>0</td>\n",
              "      <td>19157</td>\n",
              "      <td>20641</td>\n",
              "      <td>9</td>\n",
              "    </tr>\n",
              "    <tr>\n",
              "      <th>4</th>\n",
              "      <td>Update: 06/11/2021: Game seems to be abandoned...</td>\n",
              "      <td>Not Recommended</td>\n",
              "      <td>atgbui</td>\n",
              "      <td>1254400</td>\n",
              "      <td>2021-05-09</td>\n",
              "      <td>438.0</td>\n",
              "      <td>438.0</td>\n",
              "      <td>https://store.steampowered.com/app/1254400</td>\n",
              "      <td>1</td>\n",
              "      <td>19157</td>\n",
              "      <td>21185</td>\n",
              "      <td>10</td>\n",
              "    </tr>\n",
              "  </tbody>\n",
              "</table>\n",
              "</div>"
            ],
            "text/plain": [
              "                                             content  ... idx\n",
              "0  Game is dead, installed, can play training. Bu...  ...   6\n",
              "1  Adjust settings- mouse disappears (invisible) ...  ...   7\n",
              "2  I wish there was a neutral review button.The g...  ...   8\n",
              "3  The game brings something new to the genre, an...  ...   9\n",
              "4  Update: 06/11/2021: Game seems to be abandoned...  ...  10\n",
              "\n",
              "[5 rows x 12 columns]"
            ]
          },
          "metadata": {
            "tags": []
          },
          "execution_count": 34
        }
      ]
    },
    {
      "cell_type": "code",
      "metadata": {
        "id": "c67IxT2lFSnY",
        "colab": {
          "base_uri": "https://localhost:8080/",
          "height": 374
        },
        "outputId": "018fdef3-80dc-4c1a-8b19-aa5ab0031816"
      },
      "source": [
        "test_df.to_csv(DATA_DIR + 'test_df_v2.csv', index = False)\n",
        "test_df.head()"
      ],
      "execution_count": null,
      "outputs": [
        {
          "output_type": "execute_result",
          "data": {
            "text/html": [
              "<div>\n",
              "<style scoped>\n",
              "    .dataframe tbody tr th:only-of-type {\n",
              "        vertical-align: middle;\n",
              "    }\n",
              "\n",
              "    .dataframe tbody tr th {\n",
              "        vertical-align: top;\n",
              "    }\n",
              "\n",
              "    .dataframe thead th {\n",
              "        text-align: right;\n",
              "    }\n",
              "</style>\n",
              "<table border=\"1\" class=\"dataframe\">\n",
              "  <thead>\n",
              "    <tr style=\"text-align: right;\">\n",
              "      <th></th>\n",
              "      <th>content</th>\n",
              "      <th>recommended</th>\n",
              "      <th>user_id</th>\n",
              "      <th>game_id</th>\n",
              "      <th>timestamp</th>\n",
              "      <th>play_time_minute</th>\n",
              "      <th>review_time_minute</th>\n",
              "      <th>game_content_link</th>\n",
              "      <th>review_helpful_count</th>\n",
              "      <th>label_encode_user_id</th>\n",
              "      <th>label_encode_game_id</th>\n",
              "      <th>idx</th>\n",
              "    </tr>\n",
              "  </thead>\n",
              "  <tbody>\n",
              "    <tr>\n",
              "      <th>0</th>\n",
              "      <td>A great strategy game more focused on grand st...</td>\n",
              "      <td>Recommended</td>\n",
              "      <td>76561198039515085</td>\n",
              "      <td>573410</td>\n",
              "      <td>2020-11-29</td>\n",
              "      <td>12960.0</td>\n",
              "      <td>4602.0</td>\n",
              "      <td>https://store.steampowered.com/app/573410</td>\n",
              "      <td>3</td>\n",
              "      <td>4835</td>\n",
              "      <td>11598</td>\n",
              "      <td>1048576</td>\n",
              "    </tr>\n",
              "    <tr>\n",
              "      <th>1</th>\n",
              "      <td>A very annoying game to play, Needs a lot of q...</td>\n",
              "      <td>Not Recommended</td>\n",
              "      <td>76561198039515085</td>\n",
              "      <td>545330</td>\n",
              "      <td>2020-09-24</td>\n",
              "      <td>120.0</td>\n",
              "      <td>108.0</td>\n",
              "      <td>https://store.steampowered.com/app/545330</td>\n",
              "      <td>1</td>\n",
              "      <td>4835</td>\n",
              "      <td>10900</td>\n",
              "      <td>1048577</td>\n",
              "    </tr>\n",
              "    <tr>\n",
              "      <th>2</th>\n",
              "      <td>It's the only co-op game like this you will fi...</td>\n",
              "      <td>Not Recommended</td>\n",
              "      <td>76561198039515085</td>\n",
              "      <td>1132210</td>\n",
              "      <td>2020-05-08</td>\n",
              "      <td>4500.0</td>\n",
              "      <td>2880.0</td>\n",
              "      <td>https://store.steampowered.com/app/1132210</td>\n",
              "      <td>0</td>\n",
              "      <td>4835</td>\n",
              "      <td>20154</td>\n",
              "      <td>1048578</td>\n",
              "    </tr>\n",
              "    <tr>\n",
              "      <th>3</th>\n",
              "      <td>Cute little trading, merchant, workshop chain ...</td>\n",
              "      <td>Recommended</td>\n",
              "      <td>76561198039515085</td>\n",
              "      <td>1040070</td>\n",
              "      <td>2020-04-21</td>\n",
              "      <td>942.0</td>\n",
              "      <td>942.0</td>\n",
              "      <td>https://store.steampowered.com/app/1040070</td>\n",
              "      <td>0</td>\n",
              "      <td>4835</td>\n",
              "      <td>19121</td>\n",
              "      <td>1048579</td>\n",
              "    </tr>\n",
              "    <tr>\n",
              "      <th>4</th>\n",
              "      <td>Very good game, within 6 hours from launch, th...</td>\n",
              "      <td>Recommended</td>\n",
              "      <td>atgbui</td>\n",
              "      <td>768520</td>\n",
              "      <td>2021-06-20</td>\n",
              "      <td>3042.0</td>\n",
              "      <td>3042.0</td>\n",
              "      <td>https://store.steampowered.com/app/768520</td>\n",
              "      <td>5</td>\n",
              "      <td>19157</td>\n",
              "      <td>15392</td>\n",
              "      <td>0</td>\n",
              "    </tr>\n",
              "  </tbody>\n",
              "</table>\n",
              "</div>"
            ],
            "text/plain": [
              "                                             content  ...      idx\n",
              "0  A great strategy game more focused on grand st...  ...  1048576\n",
              "1  A very annoying game to play, Needs a lot of q...  ...  1048577\n",
              "2  It's the only co-op game like this you will fi...  ...  1048578\n",
              "3  Cute little trading, merchant, workshop chain ...  ...  1048579\n",
              "4  Very good game, within 6 hours from launch, th...  ...        0\n",
              "\n",
              "[5 rows x 12 columns]"
            ]
          },
          "metadata": {
            "tags": []
          },
          "execution_count": 35
        }
      ]
    },
    {
      "cell_type": "markdown",
      "metadata": {
        "id": "-r0qc-WBEfYm"
      },
      "source": [
        "# Train, Val, Test 나누기\n",
        "\n",
        "- 무작위로 유저를 8 : 2 로 나눈다.\n",
        "\n",
        "- Train에는 train_df이 사용되기 때문에 모든 유저가 존재함\n",
        "\n",
        "- test_df에 8에 해당하는 유저를 Val\n",
        "\n",
        "- test_df에 2에 해당하는 유저를 Test"
      ]
    },
    {
      "cell_type": "code",
      "metadata": {
        "id": "RPWMrJ-5Ee2u"
      },
      "source": [
        "import random\n",
        "from sklearn.model_selection import train_test_split\n",
        "\n",
        "all_user_id = _user_review_df['user_id'].unique().tolist()\n",
        "random.shuffle(all_user_id)\n",
        "\n",
        "val_user_id, test_user_id = train_test_split(all_user_id, train_size=0.8, test_size=0.2)"
      ],
      "execution_count": null,
      "outputs": []
    },
    {
      "cell_type": "code",
      "metadata": {
        "id": "mRq-4aAOHEMC",
        "colab": {
          "base_uri": "https://localhost:8080/"
        },
        "outputId": "f98e0394-5e7d-4aaf-e736-80fece30e43c"
      },
      "source": [
        "len(all_user_id)"
      ],
      "execution_count": null,
      "outputs": [
        {
          "output_type": "execute_result",
          "data": {
            "text/plain": [
              "29732"
            ]
          },
          "metadata": {
            "tags": []
          },
          "execution_count": 37
        }
      ]
    },
    {
      "cell_type": "code",
      "metadata": {
        "id": "xWKn3H5qHGGc",
        "colab": {
          "base_uri": "https://localhost:8080/"
        },
        "outputId": "7f4cfac0-eae0-48f9-cd40-6762a2ec5abb"
      },
      "source": [
        "len(val_user_id)"
      ],
      "execution_count": null,
      "outputs": [
        {
          "output_type": "execute_result",
          "data": {
            "text/plain": [
              "23785"
            ]
          },
          "metadata": {
            "tags": []
          },
          "execution_count": 38
        }
      ]
    },
    {
      "cell_type": "code",
      "metadata": {
        "id": "Z-18dGUdHGPQ",
        "colab": {
          "base_uri": "https://localhost:8080/"
        },
        "outputId": "a30a1e55-5a8b-407e-d7a7-430a5555d382"
      },
      "source": [
        "len(test_user_id)"
      ],
      "execution_count": null,
      "outputs": [
        {
          "output_type": "execute_result",
          "data": {
            "text/plain": [
              "5947"
            ]
          },
          "metadata": {
            "tags": []
          },
          "execution_count": 39
        }
      ]
    },
    {
      "cell_type": "code",
      "metadata": {
        "id": "B7CY_5boHQtt"
      },
      "source": [
        "_test_df = test_df.set_index('user_id', drop = False)"
      ],
      "execution_count": null,
      "outputs": []
    },
    {
      "cell_type": "code",
      "metadata": {
        "id": "dLFUiN_-He7f"
      },
      "source": [
        "val_set = _test_df.loc[val_user_id, :].reset_index(drop = True)\n",
        "test_set = _test_df.loc[test_user_id, :].reset_index(drop = True)"
      ],
      "execution_count": null,
      "outputs": []
    },
    {
      "cell_type": "code",
      "metadata": {
        "id": "W5dIbpYIH01k",
        "colab": {
          "base_uri": "https://localhost:8080/"
        },
        "outputId": "cfaac527-04c6-4f61-88c3-993e85442033"
      },
      "source": [
        "test_df['game_id'].nunique()"
      ],
      "execution_count": null,
      "outputs": [
        {
          "output_type": "execute_result",
          "data": {
            "text/plain": [
              "20025"
            ]
          },
          "metadata": {
            "tags": []
          },
          "execution_count": 42
        }
      ]
    },
    {
      "cell_type": "code",
      "metadata": {
        "id": "KqH1HcIyH01k",
        "colab": {
          "base_uri": "https://localhost:8080/"
        },
        "outputId": "e526acfa-2fbc-4443-aec0-23a1177a34a7"
      },
      "source": [
        "test_df['user_id'].nunique()"
      ],
      "execution_count": null,
      "outputs": [
        {
          "output_type": "execute_result",
          "data": {
            "text/plain": [
              "29732"
            ]
          },
          "metadata": {
            "tags": []
          },
          "execution_count": 43
        }
      ]
    },
    {
      "cell_type": "code",
      "metadata": {
        "id": "WtYmfNeNHvK4",
        "colab": {
          "base_uri": "https://localhost:8080/"
        },
        "outputId": "5a8c40a0-fde7-435c-f2cd-73ffa5d35728"
      },
      "source": [
        "val_set['game_id'].nunique()"
      ],
      "execution_count": null,
      "outputs": [
        {
          "output_type": "execute_result",
          "data": {
            "text/plain": [
              "19223"
            ]
          },
          "metadata": {
            "tags": []
          },
          "execution_count": 44
        }
      ]
    },
    {
      "cell_type": "code",
      "metadata": {
        "id": "PYyoaY-iHvLE",
        "colab": {
          "base_uri": "https://localhost:8080/"
        },
        "outputId": "2775c6a5-9cf1-49c3-d9c3-2aac8c55c310"
      },
      "source": [
        "val_set['user_id'].nunique()"
      ],
      "execution_count": null,
      "outputs": [
        {
          "output_type": "execute_result",
          "data": {
            "text/plain": [
              "23785"
            ]
          },
          "metadata": {
            "tags": []
          },
          "execution_count": 45
        }
      ]
    },
    {
      "cell_type": "code",
      "metadata": {
        "id": "F5jAwKUNHvLE",
        "colab": {
          "base_uri": "https://localhost:8080/"
        },
        "outputId": "506ffd8a-da05-4194-84d0-9be4d1a49b15"
      },
      "source": [
        "test_set['game_id'].nunique()"
      ],
      "execution_count": null,
      "outputs": [
        {
          "output_type": "execute_result",
          "data": {
            "text/plain": [
              "11514"
            ]
          },
          "metadata": {
            "tags": []
          },
          "execution_count": 46
        }
      ]
    },
    {
      "cell_type": "code",
      "metadata": {
        "id": "gF6ju0X-HvLE",
        "colab": {
          "base_uri": "https://localhost:8080/"
        },
        "outputId": "227f69d1-16c6-4d09-f6c3-6d0ee33f572f"
      },
      "source": [
        "test_set['user_id'].nunique()"
      ],
      "execution_count": null,
      "outputs": [
        {
          "output_type": "execute_result",
          "data": {
            "text/plain": [
              "5947"
            ]
          },
          "metadata": {
            "tags": []
          },
          "execution_count": 47
        }
      ]
    },
    {
      "cell_type": "markdown",
      "metadata": {
        "id": "CL1A3y3XH5cp"
      },
      "source": [
        "# 저장"
      ]
    },
    {
      "cell_type": "code",
      "metadata": {
        "id": "cOeBJ6vfIBj0",
        "colab": {
          "base_uri": "https://localhost:8080/",
          "height": 289
        },
        "outputId": "3313ba74-adc3-4bae-b3c6-94250573a461"
      },
      "source": [
        "train_df.to_csv(DATA_DIR + 'steam_reviews_clean_result_train_v2.csv', index = False)\n",
        "train_df.head()"
      ],
      "execution_count": null,
      "outputs": [
        {
          "output_type": "execute_result",
          "data": {
            "text/html": [
              "<div>\n",
              "<style scoped>\n",
              "    .dataframe tbody tr th:only-of-type {\n",
              "        vertical-align: middle;\n",
              "    }\n",
              "\n",
              "    .dataframe tbody tr th {\n",
              "        vertical-align: top;\n",
              "    }\n",
              "\n",
              "    .dataframe thead th {\n",
              "        text-align: right;\n",
              "    }\n",
              "</style>\n",
              "<table border=\"1\" class=\"dataframe\">\n",
              "  <thead>\n",
              "    <tr style=\"text-align: right;\">\n",
              "      <th></th>\n",
              "      <th>content</th>\n",
              "      <th>recommended</th>\n",
              "      <th>user_id</th>\n",
              "      <th>game_id</th>\n",
              "      <th>timestamp</th>\n",
              "      <th>play_time_minute</th>\n",
              "      <th>review_time_minute</th>\n",
              "      <th>game_content_link</th>\n",
              "      <th>review_helpful_count</th>\n",
              "      <th>label_encode_user_id</th>\n",
              "      <th>label_encode_game_id</th>\n",
              "      <th>idx</th>\n",
              "    </tr>\n",
              "  </thead>\n",
              "  <tbody>\n",
              "    <tr>\n",
              "      <th>0</th>\n",
              "      <td>Game is dead, installed, can play training. Bu...</td>\n",
              "      <td>Not Recommended</td>\n",
              "      <td>atgbui</td>\n",
              "      <td>728540</td>\n",
              "      <td>2021-05-19</td>\n",
              "      <td>18.0</td>\n",
              "      <td>18.0</td>\n",
              "      <td>https://store.steampowered.com/app/728540</td>\n",
              "      <td>0</td>\n",
              "      <td>19157</td>\n",
              "      <td>14662</td>\n",
              "      <td>6</td>\n",
              "    </tr>\n",
              "    <tr>\n",
              "      <th>1</th>\n",
              "      <td>Adjust settings- mouse disappears (invisible) ...</td>\n",
              "      <td>Not Recommended</td>\n",
              "      <td>atgbui</td>\n",
              "      <td>999270</td>\n",
              "      <td>2021-05-19</td>\n",
              "      <td>6.0</td>\n",
              "      <td>6.0</td>\n",
              "      <td>https://store.steampowered.com/app/999270</td>\n",
              "      <td>1</td>\n",
              "      <td>19157</td>\n",
              "      <td>18652</td>\n",
              "      <td>7</td>\n",
              "    </tr>\n",
              "    <tr>\n",
              "      <th>2</th>\n",
              "      <td>I wish there was a neutral review button.The g...</td>\n",
              "      <td>Not Recommended</td>\n",
              "      <td>atgbui</td>\n",
              "      <td>920470</td>\n",
              "      <td>2021-05-16</td>\n",
              "      <td>216.0</td>\n",
              "      <td>216.0</td>\n",
              "      <td>https://store.steampowered.com/app/920470</td>\n",
              "      <td>0</td>\n",
              "      <td>19157</td>\n",
              "      <td>17716</td>\n",
              "      <td>8</td>\n",
              "    </tr>\n",
              "    <tr>\n",
              "      <th>3</th>\n",
              "      <td>The game brings something new to the genre, an...</td>\n",
              "      <td>Not Recommended</td>\n",
              "      <td>atgbui</td>\n",
              "      <td>1183940</td>\n",
              "      <td>2021-05-09</td>\n",
              "      <td>738.0</td>\n",
              "      <td>738.0</td>\n",
              "      <td>https://store.steampowered.com/app/1183940</td>\n",
              "      <td>0</td>\n",
              "      <td>19157</td>\n",
              "      <td>20641</td>\n",
              "      <td>9</td>\n",
              "    </tr>\n",
              "    <tr>\n",
              "      <th>4</th>\n",
              "      <td>Update: 06/11/2021: Game seems to be abandoned...</td>\n",
              "      <td>Not Recommended</td>\n",
              "      <td>atgbui</td>\n",
              "      <td>1254400</td>\n",
              "      <td>2021-05-09</td>\n",
              "      <td>438.0</td>\n",
              "      <td>438.0</td>\n",
              "      <td>https://store.steampowered.com/app/1254400</td>\n",
              "      <td>1</td>\n",
              "      <td>19157</td>\n",
              "      <td>21185</td>\n",
              "      <td>10</td>\n",
              "    </tr>\n",
              "  </tbody>\n",
              "</table>\n",
              "</div>"
            ],
            "text/plain": [
              "                                             content  ... idx\n",
              "0  Game is dead, installed, can play training. Bu...  ...   6\n",
              "1  Adjust settings- mouse disappears (invisible) ...  ...   7\n",
              "2  I wish there was a neutral review button.The g...  ...   8\n",
              "3  The game brings something new to the genre, an...  ...   9\n",
              "4  Update: 06/11/2021: Game seems to be abandoned...  ...  10\n",
              "\n",
              "[5 rows x 12 columns]"
            ]
          },
          "metadata": {
            "tags": []
          },
          "execution_count": 48
        }
      ]
    },
    {
      "cell_type": "code",
      "metadata": {
        "id": "0jtvfOfvIBj1",
        "colab": {
          "base_uri": "https://localhost:8080/",
          "height": 357
        },
        "outputId": "c36f450a-1c84-4bc9-815b-ba21e4bf9504"
      },
      "source": [
        "val_set.to_csv(DATA_DIR + 'steam_reviews_clean_result_val_v2.csv', index = False)\n",
        "val_set.head()"
      ],
      "execution_count": null,
      "outputs": [
        {
          "output_type": "execute_result",
          "data": {
            "text/html": [
              "<div>\n",
              "<style scoped>\n",
              "    .dataframe tbody tr th:only-of-type {\n",
              "        vertical-align: middle;\n",
              "    }\n",
              "\n",
              "    .dataframe tbody tr th {\n",
              "        vertical-align: top;\n",
              "    }\n",
              "\n",
              "    .dataframe thead th {\n",
              "        text-align: right;\n",
              "    }\n",
              "</style>\n",
              "<table border=\"1\" class=\"dataframe\">\n",
              "  <thead>\n",
              "    <tr style=\"text-align: right;\">\n",
              "      <th></th>\n",
              "      <th>content</th>\n",
              "      <th>recommended</th>\n",
              "      <th>user_id</th>\n",
              "      <th>game_id</th>\n",
              "      <th>timestamp</th>\n",
              "      <th>play_time_minute</th>\n",
              "      <th>review_time_minute</th>\n",
              "      <th>game_content_link</th>\n",
              "      <th>review_helpful_count</th>\n",
              "      <th>label_encode_user_id</th>\n",
              "      <th>label_encode_game_id</th>\n",
              "      <th>idx</th>\n",
              "    </tr>\n",
              "  </thead>\n",
              "  <tbody>\n",
              "    <tr>\n",
              "      <th>0</th>\n",
              "      <td>Story is a brand of weird that only Kojima can...</td>\n",
              "      <td>Recommended</td>\n",
              "      <td>76561198008676008</td>\n",
              "      <td>1190460</td>\n",
              "      <td>2021-06-04</td>\n",
              "      <td>5322.0</td>\n",
              "      <td>1764.0</td>\n",
              "      <td>https://store.steampowered.com/app/1190460</td>\n",
              "      <td>0</td>\n",
              "      <td>3199</td>\n",
              "      <td>20695</td>\n",
              "      <td>896453</td>\n",
              "    </tr>\n",
              "    <tr>\n",
              "      <th>1</th>\n",
              "      <td>It's more Doom.  Rip and tear, etc etc.That be...</td>\n",
              "      <td>Recommended</td>\n",
              "      <td>76561198008676008</td>\n",
              "      <td>782330</td>\n",
              "      <td>2020-05-03</td>\n",
              "      <td>1722.0</td>\n",
              "      <td>222.0</td>\n",
              "      <td>https://store.steampowered.com/app/782330</td>\n",
              "      <td>0</td>\n",
              "      <td>3199</td>\n",
              "      <td>15638</td>\n",
              "      <td>896454</td>\n",
              "    </tr>\n",
              "    <tr>\n",
              "      <th>2</th>\n",
              "      <td>I honestly tried my best to like this game, bu...</td>\n",
              "      <td>Not Recommended</td>\n",
              "      <td>76561198008676008</td>\n",
              "      <td>377160</td>\n",
              "      <td>2017-09-06</td>\n",
              "      <td>1044.0</td>\n",
              "      <td>1044.0</td>\n",
              "      <td>https://store.steampowered.com/app/377160</td>\n",
              "      <td>12</td>\n",
              "      <td>3199</td>\n",
              "      <td>6368</td>\n",
              "      <td>896460</td>\n",
              "    </tr>\n",
              "    <tr>\n",
              "      <th>3</th>\n",
              "      <td>Personally I think pc2 is utter trash. Unless ...</td>\n",
              "      <td>Not Recommended</td>\n",
              "      <td>dannyhefc69</td>\n",
              "      <td>378860</td>\n",
              "      <td>2018-02-26</td>\n",
              "      <td>450.0</td>\n",
              "      <td>450.0</td>\n",
              "      <td>https://store.steampowered.com/app/378860</td>\n",
              "      <td>5</td>\n",
              "      <td>20545</td>\n",
              "      <td>6444</td>\n",
              "      <td>903858</td>\n",
              "    </tr>\n",
              "    <tr>\n",
              "      <th>4</th>\n",
              "      <td>Don't even think it's scary or nothing. I'm on...</td>\n",
              "      <td>Recommended</td>\n",
              "      <td>dannyhefc69</td>\n",
              "      <td>418370</td>\n",
              "      <td>2018-02-21</td>\n",
              "      <td>684.0</td>\n",
              "      <td>546.0</td>\n",
              "      <td>https://store.steampowered.com/app/418370</td>\n",
              "      <td>1</td>\n",
              "      <td>20545</td>\n",
              "      <td>7688</td>\n",
              "      <td>903859</td>\n",
              "    </tr>\n",
              "  </tbody>\n",
              "</table>\n",
              "</div>"
            ],
            "text/plain": [
              "                                             content  ...     idx\n",
              "0  Story is a brand of weird that only Kojima can...  ...  896453\n",
              "1  It's more Doom.  Rip and tear, etc etc.That be...  ...  896454\n",
              "2  I honestly tried my best to like this game, bu...  ...  896460\n",
              "3  Personally I think pc2 is utter trash. Unless ...  ...  903858\n",
              "4  Don't even think it's scary or nothing. I'm on...  ...  903859\n",
              "\n",
              "[5 rows x 12 columns]"
            ]
          },
          "metadata": {
            "tags": []
          },
          "execution_count": 49
        }
      ]
    },
    {
      "cell_type": "code",
      "metadata": {
        "id": "O3Zx0O1xINw0",
        "colab": {
          "base_uri": "https://localhost:8080/",
          "height": 289
        },
        "outputId": "376c50e8-e0a9-4721-ee6d-12a14cf4755e"
      },
      "source": [
        "test_set.to_csv(DATA_DIR + 'steam_reviews_clean_result_test_v2.csv', index = False)\n",
        "test_set.head()"
      ],
      "execution_count": null,
      "outputs": [
        {
          "output_type": "execute_result",
          "data": {
            "text/html": [
              "<div>\n",
              "<style scoped>\n",
              "    .dataframe tbody tr th:only-of-type {\n",
              "        vertical-align: middle;\n",
              "    }\n",
              "\n",
              "    .dataframe tbody tr th {\n",
              "        vertical-align: top;\n",
              "    }\n",
              "\n",
              "    .dataframe thead th {\n",
              "        text-align: right;\n",
              "    }\n",
              "</style>\n",
              "<table border=\"1\" class=\"dataframe\">\n",
              "  <thead>\n",
              "    <tr style=\"text-align: right;\">\n",
              "      <th></th>\n",
              "      <th>content</th>\n",
              "      <th>recommended</th>\n",
              "      <th>user_id</th>\n",
              "      <th>game_id</th>\n",
              "      <th>timestamp</th>\n",
              "      <th>play_time_minute</th>\n",
              "      <th>review_time_minute</th>\n",
              "      <th>game_content_link</th>\n",
              "      <th>review_helpful_count</th>\n",
              "      <th>label_encode_user_id</th>\n",
              "      <th>label_encode_game_id</th>\n",
              "      <th>idx</th>\n",
              "    </tr>\n",
              "  </thead>\n",
              "  <tbody>\n",
              "    <tr>\n",
              "      <th>0</th>\n",
              "      <td>Undead Labs, you have a history of disappointi...</td>\n",
              "      <td>Not Recommended</td>\n",
              "      <td>movnviol</td>\n",
              "      <td>495420</td>\n",
              "      <td>2021-04-16</td>\n",
              "      <td>486.0</td>\n",
              "      <td>486.0</td>\n",
              "      <td>https://store.steampowered.com/app/495420</td>\n",
              "      <td>7</td>\n",
              "      <td>24957</td>\n",
              "      <td>9671</td>\n",
              "      <td>3090</td>\n",
              "    </tr>\n",
              "    <tr>\n",
              "      <th>1</th>\n",
              "      <td>A good idea and nice aesthetic ruined by non-e...</td>\n",
              "      <td>Not Recommended</td>\n",
              "      <td>movnviol</td>\n",
              "      <td>218640</td>\n",
              "      <td>2021-01-20</td>\n",
              "      <td>306.0</td>\n",
              "      <td>306.0</td>\n",
              "      <td>https://store.steampowered.com/app/218640</td>\n",
              "      <td>18</td>\n",
              "      <td>24957</td>\n",
              "      <td>1696</td>\n",
              "      <td>3091</td>\n",
              "    </tr>\n",
              "    <tr>\n",
              "      <th>2</th>\n",
              "      <td>This is not another shallow early access \"simu...</td>\n",
              "      <td>Recommended</td>\n",
              "      <td>movnviol</td>\n",
              "      <td>682990</td>\n",
              "      <td>2020-04-17</td>\n",
              "      <td>5616.0</td>\n",
              "      <td>390.0</td>\n",
              "      <td>https://store.steampowered.com/app/682990</td>\n",
              "      <td>0</td>\n",
              "      <td>24957</td>\n",
              "      <td>13815</td>\n",
              "      <td>3092</td>\n",
              "    </tr>\n",
              "    <tr>\n",
              "      <th>3</th>\n",
              "      <td>I've quite enjoyed the time I've spent on it s...</td>\n",
              "      <td>Recommended</td>\n",
              "      <td>movnviol</td>\n",
              "      <td>916840</td>\n",
              "      <td>2020-01-29</td>\n",
              "      <td>2154.0</td>\n",
              "      <td>156.0</td>\n",
              "      <td>https://store.steampowered.com/app/916840</td>\n",
              "      <td>2</td>\n",
              "      <td>24957</td>\n",
              "      <td>17680</td>\n",
              "      <td>3093</td>\n",
              "    </tr>\n",
              "    <tr>\n",
              "      <th>4</th>\n",
              "      <td>It's pretty fun.Lacks the graphics and real-wo...</td>\n",
              "      <td>Recommended</td>\n",
              "      <td>movnviol</td>\n",
              "      <td>485900</td>\n",
              "      <td>2018-12-01</td>\n",
              "      <td>3318.0</td>\n",
              "      <td>2034.0</td>\n",
              "      <td>https://store.steampowered.com/app/485900</td>\n",
              "      <td>5</td>\n",
              "      <td>24957</td>\n",
              "      <td>9410</td>\n",
              "      <td>3096</td>\n",
              "    </tr>\n",
              "  </tbody>\n",
              "</table>\n",
              "</div>"
            ],
            "text/plain": [
              "                                             content  ...   idx\n",
              "0  Undead Labs, you have a history of disappointi...  ...  3090\n",
              "1  A good idea and nice aesthetic ruined by non-e...  ...  3091\n",
              "2  This is not another shallow early access \"simu...  ...  3092\n",
              "3  I've quite enjoyed the time I've spent on it s...  ...  3093\n",
              "4  It's pretty fun.Lacks the graphics and real-wo...  ...  3096\n",
              "\n",
              "[5 rows x 12 columns]"
            ]
          },
          "metadata": {
            "tags": []
          },
          "execution_count": 50
        }
      ]
    },
    {
      "cell_type": "code",
      "metadata": {
        "id": "Fp2t4nHtIaTK",
        "colab": {
          "base_uri": "https://localhost:8080/",
          "height": 224
        },
        "outputId": "dc3f6879-6b58-42dd-be2f-e9004518fc4e"
      },
      "source": [
        "_user_meta_df.to_csv(DATA_DIR + 'steam_user_meta_data_final_v2.csv', index = False)\n",
        "_user_meta_df.head()"
      ],
      "execution_count": null,
      "outputs": [
        {
          "output_type": "execute_result",
          "data": {
            "text/html": [
              "<div>\n",
              "<style scoped>\n",
              "    .dataframe tbody tr th:only-of-type {\n",
              "        vertical-align: middle;\n",
              "    }\n",
              "\n",
              "    .dataframe tbody tr th {\n",
              "        vertical-align: top;\n",
              "    }\n",
              "\n",
              "    .dataframe thead th {\n",
              "        text-align: right;\n",
              "    }\n",
              "</style>\n",
              "<table border=\"1\" class=\"dataframe\">\n",
              "  <thead>\n",
              "    <tr style=\"text-align: right;\">\n",
              "      <th></th>\n",
              "      <th>user_id</th>\n",
              "      <th>played_game_total_cnt</th>\n",
              "      <th>played_game_rec_cnt</th>\n",
              "      <th>played_game_not_rec_cnt</th>\n",
              "      <th>played_game_avg_play_time</th>\n",
              "      <th>played_game_rec_avg_play_time</th>\n",
              "      <th>played_game_not_rec_avg_play_time</th>\n",
              "      <th>preference_rec_genre</th>\n",
              "      <th>label_encode_user_id</th>\n",
              "    </tr>\n",
              "  </thead>\n",
              "  <tbody>\n",
              "    <tr>\n",
              "      <th>0</th>\n",
              "      <td>atgbui</td>\n",
              "      <td>50</td>\n",
              "      <td>25</td>\n",
              "      <td>25.0</td>\n",
              "      <td>8192.880000</td>\n",
              "      <td>13536.720000</td>\n",
              "      <td>2849.040000</td>\n",
              "      <td>Multiplayer</td>\n",
              "      <td>19302</td>\n",
              "    </tr>\n",
              "    <tr>\n",
              "      <th>1</th>\n",
              "      <td>76561198120102283</td>\n",
              "      <td>19</td>\n",
              "      <td>6</td>\n",
              "      <td>13.0</td>\n",
              "      <td>8528.842105</td>\n",
              "      <td>9270.000000</td>\n",
              "      <td>8186.769231</td>\n",
              "      <td>Action</td>\n",
              "      <td>8135</td>\n",
              "    </tr>\n",
              "    <tr>\n",
              "      <th>2</th>\n",
              "      <td>113L1T3G0DM4N3X1T11</td>\n",
              "      <td>10</td>\n",
              "      <td>7</td>\n",
              "      <td>3.0</td>\n",
              "      <td>8719.800000</td>\n",
              "      <td>6888.857143</td>\n",
              "      <td>12992.000000</td>\n",
              "      <td>Action</td>\n",
              "      <td>82</td>\n",
              "    </tr>\n",
              "    <tr>\n",
              "      <th>3</th>\n",
              "      <td>_treeheart_</td>\n",
              "      <td>10</td>\n",
              "      <td>6</td>\n",
              "      <td>4.0</td>\n",
              "      <td>9352.200000</td>\n",
              "      <td>15315.000000</td>\n",
              "      <td>408.000000</td>\n",
              "      <td>FPS</td>\n",
              "      <td>18671</td>\n",
              "    </tr>\n",
              "    <tr>\n",
              "      <th>4</th>\n",
              "      <td>Jamzuz</td>\n",
              "      <td>8</td>\n",
              "      <td>5</td>\n",
              "      <td>3.0</td>\n",
              "      <td>42954.750000</td>\n",
              "      <td>68553.600000</td>\n",
              "      <td>290.000000</td>\n",
              "      <td>Singleplayer</td>\n",
              "      <td>14352</td>\n",
              "    </tr>\n",
              "  </tbody>\n",
              "</table>\n",
              "</div>"
            ],
            "text/plain": [
              "               user_id  ...  label_encode_user_id\n",
              "0               atgbui  ...                 19302\n",
              "1    76561198120102283  ...                  8135\n",
              "2  113L1T3G0DM4N3X1T11  ...                    82\n",
              "3          _treeheart_  ...                 18671\n",
              "4               Jamzuz  ...                 14352\n",
              "\n",
              "[5 rows x 9 columns]"
            ]
          },
          "metadata": {
            "tags": []
          },
          "execution_count": 51
        }
      ]
    },
    {
      "cell_type": "code",
      "metadata": {
        "id": "W7JLxv-IIi9L",
        "colab": {
          "base_uri": "https://localhost:8080/",
          "height": 289
        },
        "outputId": "24751fd4-3b52-42be-9304-854cfeb8387b"
      },
      "source": [
        "_user_review_df.to_csv(DATA_DIR + 'steam_reviews_clean_result_v2.csv', index = False)\n",
        "_user_review_df.head()"
      ],
      "execution_count": null,
      "outputs": [
        {
          "output_type": "execute_result",
          "data": {
            "text/html": [
              "<div>\n",
              "<style scoped>\n",
              "    .dataframe tbody tr th:only-of-type {\n",
              "        vertical-align: middle;\n",
              "    }\n",
              "\n",
              "    .dataframe tbody tr th {\n",
              "        vertical-align: top;\n",
              "    }\n",
              "\n",
              "    .dataframe thead th {\n",
              "        text-align: right;\n",
              "    }\n",
              "</style>\n",
              "<table border=\"1\" class=\"dataframe\">\n",
              "  <thead>\n",
              "    <tr style=\"text-align: right;\">\n",
              "      <th></th>\n",
              "      <th>content</th>\n",
              "      <th>recommended</th>\n",
              "      <th>user_id</th>\n",
              "      <th>game_id</th>\n",
              "      <th>timestamp</th>\n",
              "      <th>play_time_minute</th>\n",
              "      <th>review_time_minute</th>\n",
              "      <th>game_content_link</th>\n",
              "      <th>review_helpful_count</th>\n",
              "      <th>label_encode_user_id</th>\n",
              "      <th>label_encode_game_id</th>\n",
              "      <th>idx</th>\n",
              "    </tr>\n",
              "  </thead>\n",
              "  <tbody>\n",
              "    <tr>\n",
              "      <th>0</th>\n",
              "      <td>Very good game, within 6 hours from launch, th...</td>\n",
              "      <td>Recommended</td>\n",
              "      <td>atgbui</td>\n",
              "      <td>768520</td>\n",
              "      <td>2021-06-20</td>\n",
              "      <td>3042.0</td>\n",
              "      <td>3042.0</td>\n",
              "      <td>https://store.steampowered.com/app/768520</td>\n",
              "      <td>5</td>\n",
              "      <td>19157</td>\n",
              "      <td>15392</td>\n",
              "      <td>0</td>\n",
              "    </tr>\n",
              "    <tr>\n",
              "      <th>1</th>\n",
              "      <td>I cannot recommend this game. It's been 8 year...</td>\n",
              "      <td>Not Recommended</td>\n",
              "      <td>atgbui</td>\n",
              "      <td>251570</td>\n",
              "      <td>2021-06-14</td>\n",
              "      <td>40440.0</td>\n",
              "      <td>40440.0</td>\n",
              "      <td>https://store.steampowered.com/app/251570</td>\n",
              "      <td>48</td>\n",
              "      <td>19157</td>\n",
              "      <td>2415</td>\n",
              "      <td>1</td>\n",
              "    </tr>\n",
              "    <tr>\n",
              "      <th>2</th>\n",
              "      <td>Game is currently busted for Co-Op. Despite th...</td>\n",
              "      <td>Not Recommended</td>\n",
              "      <td>atgbui</td>\n",
              "      <td>671510</td>\n",
              "      <td>2021-06-12</td>\n",
              "      <td>1734.0</td>\n",
              "      <td>906.0</td>\n",
              "      <td>https://store.steampowered.com/app/671510</td>\n",
              "      <td>3</td>\n",
              "      <td>19157</td>\n",
              "      <td>13585</td>\n",
              "      <td>2</td>\n",
              "    </tr>\n",
              "    <tr>\n",
              "      <th>3</th>\n",
              "      <td>Unfortunately dead game. https://steamcharts.c...</td>\n",
              "      <td>Not Recommended</td>\n",
              "      <td>atgbui</td>\n",
              "      <td>613590</td>\n",
              "      <td>2021-06-12</td>\n",
              "      <td>48.0</td>\n",
              "      <td>48.0</td>\n",
              "      <td>https://store.steampowered.com/app/613590</td>\n",
              "      <td>0</td>\n",
              "      <td>19157</td>\n",
              "      <td>12513</td>\n",
              "      <td>3</td>\n",
              "    </tr>\n",
              "    <tr>\n",
              "      <th>4</th>\n",
              "      <td>It just felt too generic- why would I play thi...</td>\n",
              "      <td>Not Recommended</td>\n",
              "      <td>atgbui</td>\n",
              "      <td>374280</td>\n",
              "      <td>2021-05-20</td>\n",
              "      <td>540.0</td>\n",
              "      <td>540.0</td>\n",
              "      <td>https://store.steampowered.com/app/374280</td>\n",
              "      <td>1</td>\n",
              "      <td>19157</td>\n",
              "      <td>6269</td>\n",
              "      <td>4</td>\n",
              "    </tr>\n",
              "  </tbody>\n",
              "</table>\n",
              "</div>"
            ],
            "text/plain": [
              "                                             content  ... idx\n",
              "0  Very good game, within 6 hours from launch, th...  ...   0\n",
              "1  I cannot recommend this game. It's been 8 year...  ...   1\n",
              "2  Game is currently busted for Co-Op. Despite th...  ...   2\n",
              "3  Unfortunately dead game. https://steamcharts.c...  ...   3\n",
              "4  It just felt too generic- why would I play thi...  ...   4\n",
              "\n",
              "[5 rows x 12 columns]"
            ]
          },
          "metadata": {
            "tags": []
          },
          "execution_count": 52
        }
      ]
    },
    {
      "cell_type": "code",
      "metadata": {
        "id": "FVcciuM0Iskj"
      },
      "source": [
        ""
      ],
      "execution_count": null,
      "outputs": []
    }
  ]
}