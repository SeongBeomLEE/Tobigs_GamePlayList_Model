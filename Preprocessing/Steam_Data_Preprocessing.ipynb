{
  "nbformat": 4,
  "nbformat_minor": 0,
  "metadata": {
    "colab": {
      "name": "Steam_Data_Preprocessing.ipynb",
      "provenance": [],
      "collapsed_sections": [],
      "mount_file_id": "190Nzry9xCjuFqf1Afr8_OX6ZxznzvkZV",
      "authorship_tag": "ABX9TyN+/Sw14oa5ltMZ+JQP//MU"
    },
    "kernelspec": {
      "name": "python3",
      "display_name": "Python 3"
    },
    "language_info": {
      "name": "python"
    },
    "widgets": {
      "application/vnd.jupyter.widget-state+json": {
        "bbf048fa73804971abb4347eb430afda": {
          "model_module": "@jupyter-widgets/controls",
          "model_name": "HBoxModel",
          "model_module_version": "1.5.0",
          "state": {
            "_view_name": "HBoxView",
            "_dom_classes": [],
            "_model_name": "HBoxModel",
            "_view_module": "@jupyter-widgets/controls",
            "_model_module_version": "1.5.0",
            "_view_count": null,
            "_view_module_version": "1.5.0",
            "box_style": "",
            "layout": "IPY_MODEL_5ddca1180c50461eb161e85a240ba3b5",
            "_model_module": "@jupyter-widgets/controls",
            "children": [
              "IPY_MODEL_5fc192c0f5244a9ea2618f95e2fba708",
              "IPY_MODEL_d35f0815c977467fbc10875e644098f0"
            ]
          }
        },
        "5ddca1180c50461eb161e85a240ba3b5": {
          "model_module": "@jupyter-widgets/base",
          "model_name": "LayoutModel",
          "model_module_version": "1.2.0",
          "state": {
            "_view_name": "LayoutView",
            "grid_template_rows": null,
            "right": null,
            "justify_content": null,
            "_view_module": "@jupyter-widgets/base",
            "overflow": null,
            "_model_module_version": "1.2.0",
            "_view_count": null,
            "flex_flow": null,
            "width": null,
            "min_width": null,
            "border": null,
            "align_items": null,
            "bottom": null,
            "_model_module": "@jupyter-widgets/base",
            "top": null,
            "grid_column": null,
            "overflow_y": null,
            "overflow_x": null,
            "grid_auto_flow": null,
            "grid_area": null,
            "grid_template_columns": null,
            "flex": null,
            "_model_name": "LayoutModel",
            "justify_items": null,
            "grid_row": null,
            "max_height": null,
            "align_content": null,
            "visibility": null,
            "align_self": null,
            "height": null,
            "min_height": null,
            "padding": null,
            "grid_auto_rows": null,
            "grid_gap": null,
            "max_width": null,
            "order": null,
            "_view_module_version": "1.2.0",
            "grid_template_areas": null,
            "object_position": null,
            "object_fit": null,
            "grid_auto_columns": null,
            "margin": null,
            "display": null,
            "left": null
          }
        },
        "5fc192c0f5244a9ea2618f95e2fba708": {
          "model_module": "@jupyter-widgets/controls",
          "model_name": "FloatProgressModel",
          "model_module_version": "1.5.0",
          "state": {
            "_view_name": "ProgressView",
            "style": "IPY_MODEL_dbb59ac543c44eefbbe6b9d4e121836f",
            "_dom_classes": [],
            "description": "100%",
            "_model_name": "FloatProgressModel",
            "bar_style": "success",
            "max": 30379,
            "_view_module": "@jupyter-widgets/controls",
            "_model_module_version": "1.5.0",
            "value": 30379,
            "_view_count": null,
            "_view_module_version": "1.5.0",
            "orientation": "horizontal",
            "min": 0,
            "description_tooltip": null,
            "_model_module": "@jupyter-widgets/controls",
            "layout": "IPY_MODEL_acc13dd38f9b46c38fc746f6e8516d01"
          }
        },
        "d35f0815c977467fbc10875e644098f0": {
          "model_module": "@jupyter-widgets/controls",
          "model_name": "HTMLModel",
          "model_module_version": "1.5.0",
          "state": {
            "_view_name": "HTMLView",
            "style": "IPY_MODEL_6e8630b5da4542f4afd1ded8bed63136",
            "_dom_classes": [],
            "description": "",
            "_model_name": "HTMLModel",
            "placeholder": "​",
            "_view_module": "@jupyter-widgets/controls",
            "_model_module_version": "1.5.0",
            "value": " 30379/30379 [31:31&lt;00:00, 16.06it/s]",
            "_view_count": null,
            "_view_module_version": "1.5.0",
            "description_tooltip": null,
            "_model_module": "@jupyter-widgets/controls",
            "layout": "IPY_MODEL_3d031dbb39e44c4791197b51a39f2426"
          }
        },
        "dbb59ac543c44eefbbe6b9d4e121836f": {
          "model_module": "@jupyter-widgets/controls",
          "model_name": "ProgressStyleModel",
          "model_module_version": "1.5.0",
          "state": {
            "_view_name": "StyleView",
            "_model_name": "ProgressStyleModel",
            "description_width": "initial",
            "_view_module": "@jupyter-widgets/base",
            "_model_module_version": "1.5.0",
            "_view_count": null,
            "_view_module_version": "1.2.0",
            "bar_color": null,
            "_model_module": "@jupyter-widgets/controls"
          }
        },
        "acc13dd38f9b46c38fc746f6e8516d01": {
          "model_module": "@jupyter-widgets/base",
          "model_name": "LayoutModel",
          "model_module_version": "1.2.0",
          "state": {
            "_view_name": "LayoutView",
            "grid_template_rows": null,
            "right": null,
            "justify_content": null,
            "_view_module": "@jupyter-widgets/base",
            "overflow": null,
            "_model_module_version": "1.2.0",
            "_view_count": null,
            "flex_flow": null,
            "width": null,
            "min_width": null,
            "border": null,
            "align_items": null,
            "bottom": null,
            "_model_module": "@jupyter-widgets/base",
            "top": null,
            "grid_column": null,
            "overflow_y": null,
            "overflow_x": null,
            "grid_auto_flow": null,
            "grid_area": null,
            "grid_template_columns": null,
            "flex": null,
            "_model_name": "LayoutModel",
            "justify_items": null,
            "grid_row": null,
            "max_height": null,
            "align_content": null,
            "visibility": null,
            "align_self": null,
            "height": null,
            "min_height": null,
            "padding": null,
            "grid_auto_rows": null,
            "grid_gap": null,
            "max_width": null,
            "order": null,
            "_view_module_version": "1.2.0",
            "grid_template_areas": null,
            "object_position": null,
            "object_fit": null,
            "grid_auto_columns": null,
            "margin": null,
            "display": null,
            "left": null
          }
        },
        "6e8630b5da4542f4afd1ded8bed63136": {
          "model_module": "@jupyter-widgets/controls",
          "model_name": "DescriptionStyleModel",
          "model_module_version": "1.5.0",
          "state": {
            "_view_name": "StyleView",
            "_model_name": "DescriptionStyleModel",
            "description_width": "",
            "_view_module": "@jupyter-widgets/base",
            "_model_module_version": "1.5.0",
            "_view_count": null,
            "_view_module_version": "1.2.0",
            "_model_module": "@jupyter-widgets/controls"
          }
        },
        "3d031dbb39e44c4791197b51a39f2426": {
          "model_module": "@jupyter-widgets/base",
          "model_name": "LayoutModel",
          "model_module_version": "1.2.0",
          "state": {
            "_view_name": "LayoutView",
            "grid_template_rows": null,
            "right": null,
            "justify_content": null,
            "_view_module": "@jupyter-widgets/base",
            "overflow": null,
            "_model_module_version": "1.2.0",
            "_view_count": null,
            "flex_flow": null,
            "width": null,
            "min_width": null,
            "border": null,
            "align_items": null,
            "bottom": null,
            "_model_module": "@jupyter-widgets/base",
            "top": null,
            "grid_column": null,
            "overflow_y": null,
            "overflow_x": null,
            "grid_auto_flow": null,
            "grid_area": null,
            "grid_template_columns": null,
            "flex": null,
            "_model_name": "LayoutModel",
            "justify_items": null,
            "grid_row": null,
            "max_height": null,
            "align_content": null,
            "visibility": null,
            "align_self": null,
            "height": null,
            "min_height": null,
            "padding": null,
            "grid_auto_rows": null,
            "grid_gap": null,
            "max_width": null,
            "order": null,
            "_view_module_version": "1.2.0",
            "grid_template_areas": null,
            "object_position": null,
            "object_fit": null,
            "grid_auto_columns": null,
            "margin": null,
            "display": null,
            "left": null
          }
        },
        "109090a1a1264aa9990097a56400969a": {
          "model_module": "@jupyter-widgets/controls",
          "model_name": "HBoxModel",
          "model_module_version": "1.5.0",
          "state": {
            "_view_name": "HBoxView",
            "_dom_classes": [],
            "_model_name": "HBoxModel",
            "_view_module": "@jupyter-widgets/controls",
            "_model_module_version": "1.5.0",
            "_view_count": null,
            "_view_module_version": "1.5.0",
            "box_style": "",
            "layout": "IPY_MODEL_59b5b826a200482e89edbcab82ca47a0",
            "_model_module": "@jupyter-widgets/controls",
            "children": [
              "IPY_MODEL_26edbf0bb0524e57b1c31bc5b4b092b5",
              "IPY_MODEL_7d73db105b5e46029962e1cde5fdc328"
            ]
          }
        },
        "59b5b826a200482e89edbcab82ca47a0": {
          "model_module": "@jupyter-widgets/base",
          "model_name": "LayoutModel",
          "model_module_version": "1.2.0",
          "state": {
            "_view_name": "LayoutView",
            "grid_template_rows": null,
            "right": null,
            "justify_content": null,
            "_view_module": "@jupyter-widgets/base",
            "overflow": null,
            "_model_module_version": "1.2.0",
            "_view_count": null,
            "flex_flow": null,
            "width": null,
            "min_width": null,
            "border": null,
            "align_items": null,
            "bottom": null,
            "_model_module": "@jupyter-widgets/base",
            "top": null,
            "grid_column": null,
            "overflow_y": null,
            "overflow_x": null,
            "grid_auto_flow": null,
            "grid_area": null,
            "grid_template_columns": null,
            "flex": null,
            "_model_name": "LayoutModel",
            "justify_items": null,
            "grid_row": null,
            "max_height": null,
            "align_content": null,
            "visibility": null,
            "align_self": null,
            "height": null,
            "min_height": null,
            "padding": null,
            "grid_auto_rows": null,
            "grid_gap": null,
            "max_width": null,
            "order": null,
            "_view_module_version": "1.2.0",
            "grid_template_areas": null,
            "object_position": null,
            "object_fit": null,
            "grid_auto_columns": null,
            "margin": null,
            "display": null,
            "left": null
          }
        },
        "26edbf0bb0524e57b1c31bc5b4b092b5": {
          "model_module": "@jupyter-widgets/controls",
          "model_name": "FloatProgressModel",
          "model_module_version": "1.5.0",
          "state": {
            "_view_name": "ProgressView",
            "style": "IPY_MODEL_d98707112e404b1d9e41566204e3e6af",
            "_dom_classes": [],
            "description": "100%",
            "_model_name": "FloatProgressModel",
            "bar_style": "success",
            "max": 30379,
            "_view_module": "@jupyter-widgets/controls",
            "_model_module_version": "1.5.0",
            "value": 30379,
            "_view_count": null,
            "_view_module_version": "1.5.0",
            "orientation": "horizontal",
            "min": 0,
            "description_tooltip": null,
            "_model_module": "@jupyter-widgets/controls",
            "layout": "IPY_MODEL_f4488dfb260945219ba58b9d9ac70bc7"
          }
        },
        "7d73db105b5e46029962e1cde5fdc328": {
          "model_module": "@jupyter-widgets/controls",
          "model_name": "HTMLModel",
          "model_module_version": "1.5.0",
          "state": {
            "_view_name": "HTMLView",
            "style": "IPY_MODEL_23eb4b35b563467a9e4c71a2f457f81a",
            "_dom_classes": [],
            "description": "",
            "_model_name": "HTMLModel",
            "placeholder": "​",
            "_view_module": "@jupyter-widgets/controls",
            "_model_module_version": "1.5.0",
            "value": " 30379/30379 [28:23&lt;00:00, 17.83it/s]",
            "_view_count": null,
            "_view_module_version": "1.5.0",
            "description_tooltip": null,
            "_model_module": "@jupyter-widgets/controls",
            "layout": "IPY_MODEL_cf38ecf9f7ce429889b62adc43d8bf45"
          }
        },
        "d98707112e404b1d9e41566204e3e6af": {
          "model_module": "@jupyter-widgets/controls",
          "model_name": "ProgressStyleModel",
          "model_module_version": "1.5.0",
          "state": {
            "_view_name": "StyleView",
            "_model_name": "ProgressStyleModel",
            "description_width": "initial",
            "_view_module": "@jupyter-widgets/base",
            "_model_module_version": "1.5.0",
            "_view_count": null,
            "_view_module_version": "1.2.0",
            "bar_color": null,
            "_model_module": "@jupyter-widgets/controls"
          }
        },
        "f4488dfb260945219ba58b9d9ac70bc7": {
          "model_module": "@jupyter-widgets/base",
          "model_name": "LayoutModel",
          "model_module_version": "1.2.0",
          "state": {
            "_view_name": "LayoutView",
            "grid_template_rows": null,
            "right": null,
            "justify_content": null,
            "_view_module": "@jupyter-widgets/base",
            "overflow": null,
            "_model_module_version": "1.2.0",
            "_view_count": null,
            "flex_flow": null,
            "width": null,
            "min_width": null,
            "border": null,
            "align_items": null,
            "bottom": null,
            "_model_module": "@jupyter-widgets/base",
            "top": null,
            "grid_column": null,
            "overflow_y": null,
            "overflow_x": null,
            "grid_auto_flow": null,
            "grid_area": null,
            "grid_template_columns": null,
            "flex": null,
            "_model_name": "LayoutModel",
            "justify_items": null,
            "grid_row": null,
            "max_height": null,
            "align_content": null,
            "visibility": null,
            "align_self": null,
            "height": null,
            "min_height": null,
            "padding": null,
            "grid_auto_rows": null,
            "grid_gap": null,
            "max_width": null,
            "order": null,
            "_view_module_version": "1.2.0",
            "grid_template_areas": null,
            "object_position": null,
            "object_fit": null,
            "grid_auto_columns": null,
            "margin": null,
            "display": null,
            "left": null
          }
        },
        "23eb4b35b563467a9e4c71a2f457f81a": {
          "model_module": "@jupyter-widgets/controls",
          "model_name": "DescriptionStyleModel",
          "model_module_version": "1.5.0",
          "state": {
            "_view_name": "StyleView",
            "_model_name": "DescriptionStyleModel",
            "description_width": "",
            "_view_module": "@jupyter-widgets/base",
            "_model_module_version": "1.5.0",
            "_view_count": null,
            "_view_module_version": "1.2.0",
            "_model_module": "@jupyter-widgets/controls"
          }
        },
        "cf38ecf9f7ce429889b62adc43d8bf45": {
          "model_module": "@jupyter-widgets/base",
          "model_name": "LayoutModel",
          "model_module_version": "1.2.0",
          "state": {
            "_view_name": "LayoutView",
            "grid_template_rows": null,
            "right": null,
            "justify_content": null,
            "_view_module": "@jupyter-widgets/base",
            "overflow": null,
            "_model_module_version": "1.2.0",
            "_view_count": null,
            "flex_flow": null,
            "width": null,
            "min_width": null,
            "border": null,
            "align_items": null,
            "bottom": null,
            "_model_module": "@jupyter-widgets/base",
            "top": null,
            "grid_column": null,
            "overflow_y": null,
            "overflow_x": null,
            "grid_auto_flow": null,
            "grid_area": null,
            "grid_template_columns": null,
            "flex": null,
            "_model_name": "LayoutModel",
            "justify_items": null,
            "grid_row": null,
            "max_height": null,
            "align_content": null,
            "visibility": null,
            "align_self": null,
            "height": null,
            "min_height": null,
            "padding": null,
            "grid_auto_rows": null,
            "grid_gap": null,
            "max_width": null,
            "order": null,
            "_view_module_version": "1.2.0",
            "grid_template_areas": null,
            "object_position": null,
            "object_fit": null,
            "grid_auto_columns": null,
            "margin": null,
            "display": null,
            "left": null
          }
        }
      }
    }
  },
  "cells": [
    {
      "cell_type": "code",
      "metadata": {
        "id": "Itn_a_1lSsY7"
      },
      "source": [
        "import pandas as pd\n",
        "import numpy as np\n",
        "import matplotlib.pyplot as plt\n",
        "import matplotlib as mpl\n",
        "import seaborn as sns\n",
        "import warnings\n",
        "from tqdm import tqdm_notebook\n",
        "\n",
        "warnings.filterwarnings(action='ignore')\n",
        "%matplotlib inline"
      ],
      "execution_count": null,
      "outputs": []
    },
    {
      "cell_type": "markdown",
      "metadata": {
        "id": "UMSD0JFqlfKE"
      },
      "source": [
        "# 데이터 전처리"
      ]
    },
    {
      "cell_type": "code",
      "metadata": {
        "id": "4bhLS6xhSwhC"
      },
      "source": [
        "DATA_DIR = '/content/drive/MyDrive/투빅스 컨퍼런스/Data/'\n",
        "\n",
        "df = pd.read_csv(DATA_DIR + 'steam_reviews_clean_result.csv')"
      ],
      "execution_count": null,
      "outputs": []
    },
    {
      "cell_type": "code",
      "metadata": {
        "colab": {
          "base_uri": "https://localhost:8080/",
          "height": 394
        },
        "id": "QJuw1Kp0sL5-",
        "outputId": "2b68e1c3-2d2d-487a-8f8c-b9a62fb3e64b"
      },
      "source": [
        "df.head()"
      ],
      "execution_count": null,
      "outputs": [
        {
          "output_type": "execute_result",
          "data": {
            "text/html": [
              "<div>\n",
              "<style scoped>\n",
              "    .dataframe tbody tr th:only-of-type {\n",
              "        vertical-align: middle;\n",
              "    }\n",
              "\n",
              "    .dataframe tbody tr th {\n",
              "        vertical-align: top;\n",
              "    }\n",
              "\n",
              "    .dataframe thead th {\n",
              "        text-align: right;\n",
              "    }\n",
              "</style>\n",
              "<table border=\"1\" class=\"dataframe\">\n",
              "  <thead>\n",
              "    <tr style=\"text-align: right;\">\n",
              "      <th></th>\n",
              "      <th>content</th>\n",
              "      <th>recommended</th>\n",
              "      <th>user_id</th>\n",
              "      <th>game_id</th>\n",
              "      <th>timestamp</th>\n",
              "      <th>play_time_minute</th>\n",
              "      <th>review_time_minute</th>\n",
              "      <th>game_content_link</th>\n",
              "      <th>review_helpful_count</th>\n",
              "      <th>label_encode_user_id</th>\n",
              "      <th>label_encode_game_id</th>\n",
              "    </tr>\n",
              "  </thead>\n",
              "  <tbody>\n",
              "    <tr>\n",
              "      <th>0</th>\n",
              "      <td>Very good game, within 6 hours from launch, th...</td>\n",
              "      <td>Recommended</td>\n",
              "      <td>atgbui</td>\n",
              "      <td>768520</td>\n",
              "      <td>2021-06-20</td>\n",
              "      <td>3042.0</td>\n",
              "      <td>3042.0</td>\n",
              "      <td>https://store.steampowered.com/app/768520</td>\n",
              "      <td>5</td>\n",
              "      <td>19302</td>\n",
              "      <td>15392</td>\n",
              "    </tr>\n",
              "    <tr>\n",
              "      <th>1</th>\n",
              "      <td>I cannot recommend this game. It's been 8 year...</td>\n",
              "      <td>Not Recommended</td>\n",
              "      <td>atgbui</td>\n",
              "      <td>251570</td>\n",
              "      <td>2021-06-14</td>\n",
              "      <td>40440.0</td>\n",
              "      <td>40440.0</td>\n",
              "      <td>https://store.steampowered.com/app/251570</td>\n",
              "      <td>48</td>\n",
              "      <td>19302</td>\n",
              "      <td>2415</td>\n",
              "    </tr>\n",
              "    <tr>\n",
              "      <th>2</th>\n",
              "      <td>Game is currently busted for Co-Op. Despite th...</td>\n",
              "      <td>Not Recommended</td>\n",
              "      <td>atgbui</td>\n",
              "      <td>671510</td>\n",
              "      <td>2021-06-12</td>\n",
              "      <td>1734.0</td>\n",
              "      <td>906.0</td>\n",
              "      <td>https://store.steampowered.com/app/671510</td>\n",
              "      <td>3</td>\n",
              "      <td>19302</td>\n",
              "      <td>13585</td>\n",
              "    </tr>\n",
              "    <tr>\n",
              "      <th>3</th>\n",
              "      <td>Unfortunately dead game. https://steamcharts.c...</td>\n",
              "      <td>Not Recommended</td>\n",
              "      <td>atgbui</td>\n",
              "      <td>613590</td>\n",
              "      <td>2021-06-12</td>\n",
              "      <td>48.0</td>\n",
              "      <td>48.0</td>\n",
              "      <td>https://store.steampowered.com/app/613590</td>\n",
              "      <td>0</td>\n",
              "      <td>19302</td>\n",
              "      <td>12513</td>\n",
              "    </tr>\n",
              "    <tr>\n",
              "      <th>4</th>\n",
              "      <td>It just felt too generic- why would I play thi...</td>\n",
              "      <td>Not Recommended</td>\n",
              "      <td>atgbui</td>\n",
              "      <td>374280</td>\n",
              "      <td>2021-05-20</td>\n",
              "      <td>540.0</td>\n",
              "      <td>540.0</td>\n",
              "      <td>https://store.steampowered.com/app/374280</td>\n",
              "      <td>1</td>\n",
              "      <td>19302</td>\n",
              "      <td>6269</td>\n",
              "    </tr>\n",
              "  </tbody>\n",
              "</table>\n",
              "</div>"
            ],
            "text/plain": [
              "                                             content  ... label_encode_game_id\n",
              "0  Very good game, within 6 hours from launch, th...  ...                15392\n",
              "1  I cannot recommend this game. It's been 8 year...  ...                 2415\n",
              "2  Game is currently busted for Co-Op. Despite th...  ...                13585\n",
              "3  Unfortunately dead game. https://steamcharts.c...  ...                12513\n",
              "4  It just felt too generic- why would I play thi...  ...                 6269\n",
              "\n",
              "[5 rows x 11 columns]"
            ]
          },
          "metadata": {
            "tags": []
          },
          "execution_count": 4
        }
      ]
    },
    {
      "cell_type": "code",
      "metadata": {
        "id": "F_FmpP0tr81q"
      },
      "source": [
        "def rating_splitter(df):\n",
        "    \n",
        "    df['liked'] = np.where(df['rating']>=4, 1, 0)\n",
        "    df['movieId'] = df['movieId'].astype('str')\n",
        "    gp_user_like = df.groupby(['liked', 'userId'])\n",
        "\n",
        "    return ([gp_user_like.get_group(gp)['movieId'].tolist() for gp in gp_user_like.groups])"
      ],
      "execution_count": null,
      "outputs": []
    },
    {
      "cell_type": "code",
      "metadata": {
        "colab": {
          "base_uri": "https://localhost:8080/"
        },
        "id": "QkTxM8s8r-hZ",
        "outputId": "e3e32631-ff22-4842-828e-bfb21efdb632"
      },
      "source": [
        "gp_user_like = df.groupby(['recommended', 'user_id'])\n",
        "for gp in gp_user_like.groups:\n",
        "  print(gp_user_like.get_group(gp)['game_id'])\n",
        "  break"
      ],
      "execution_count": null,
      "outputs": [
        {
          "output_type": "stream",
          "text": [
            "936436    575640\n",
            "936437    562220\n",
            "936438    533300\n",
            "936440    364420\n",
            "936448    787220\n",
            "936454    440740\n",
            "Name: game_id, dtype: int64\n"
          ],
          "name": "stdout"
        }
      ]
    },
    {
      "cell_type": "code",
      "metadata": {
        "colab": {
          "base_uri": "https://localhost:8080/",
          "height": 1000
        },
        "id": "JSDL0Cp9OwNp",
        "outputId": "9875d8fc-1102-4248-b8d7-77c40d8524e4"
      },
      "source": [
        "df.sample(20)"
      ],
      "execution_count": null,
      "outputs": [
        {
          "output_type": "execute_result",
          "data": {
            "text/html": [
              "<div>\n",
              "<style scoped>\n",
              "    .dataframe tbody tr th:only-of-type {\n",
              "        vertical-align: middle;\n",
              "    }\n",
              "\n",
              "    .dataframe tbody tr th {\n",
              "        vertical-align: top;\n",
              "    }\n",
              "\n",
              "    .dataframe thead th {\n",
              "        text-align: right;\n",
              "    }\n",
              "</style>\n",
              "<table border=\"1\" class=\"dataframe\">\n",
              "  <thead>\n",
              "    <tr style=\"text-align: right;\">\n",
              "      <th></th>\n",
              "      <th>content</th>\n",
              "      <th>game_id</th>\n",
              "      <th>game_link</th>\n",
              "      <th>header</th>\n",
              "      <th>playHour</th>\n",
              "      <th>posted_at</th>\n",
              "      <th>title</th>\n",
              "      <th>user_id</th>\n",
              "      <th>clean_playHour</th>\n",
              "      <th>game_content_link</th>\n",
              "      <th>timestamp</th>\n",
              "      <th>play_time_minute</th>\n",
              "      <th>review_time_minute</th>\n",
              "      <th>clean_header</th>\n",
              "      <th>review_helpful_count</th>\n",
              "    </tr>\n",
              "  </thead>\n",
              "  <tbody>\n",
              "    <tr>\n",
              "      <th>35101</th>\n",
              "      <td>Zdecydowanie gra na pada.</td>\n",
              "      <td>211400</td>\n",
              "      <td>https://steamcommunity.com/app/211400</td>\n",
              "      <td>No one has rated this review as helpful yet</td>\n",
              "      <td>3.7 hrs on record\\t\\t\\t\\t\\t\\t\\t\\t\\t\\t\\t\\t\\t\\t\\...</td>\n",
              "      <td>Posted 17 September, 2014.</td>\n",
              "      <td>Recommended</td>\n",
              "      <td>76561198120079050</td>\n",
              "      <td>3.7 hrs on record (3.7 hrs at review time)</td>\n",
              "      <td>https://store.steampowered.com/app/211400</td>\n",
              "      <td>2014-09-17</td>\n",
              "      <td>222.0</td>\n",
              "      <td>222.0</td>\n",
              "      <td>No one has rated this review as helpful yet</td>\n",
              "      <td>0</td>\n",
              "    </tr>\n",
              "    <tr>\n",
              "      <th>12932</th>\n",
              "      <td>Muito difícil, quer desafio este e o jogo, a d...</td>\n",
              "      <td>248820</td>\n",
              "      <td>https://steamcommunity.com/app/248820</td>\n",
              "      <td>No one has rated this review as helpful yet</td>\n",
              "      <td>10.6 hrs on record\\t\\t\\t\\t\\t\\t\\t\\t\\t\\t\\t\\t\\t\\t...</td>\n",
              "      <td>Posted 28 July, 2019.\\t\\t\\t\\t\\t\\t\\t\\t\\tLast ed...</td>\n",
              "      <td>Recommended</td>\n",
              "      <td>76561198024221584</td>\n",
              "      <td>10.6 hrs on record (8.9 hrs at review time)</td>\n",
              "      <td>https://store.steampowered.com/app/248820</td>\n",
              "      <td>2019-07-28</td>\n",
              "      <td>636.0</td>\n",
              "      <td>534.0</td>\n",
              "      <td>No one has rated this review as helpful yet</td>\n",
              "      <td>0</td>\n",
              "    </tr>\n",
              "    <tr>\n",
              "      <th>24074</th>\n",
              "      <td>Yes</td>\n",
              "      <td>359550</td>\n",
              "      <td>https://steamcommunity.com/app/359550</td>\n",
              "      <td>No one has rated this review as helpful yet</td>\n",
              "      <td>202.1 hrs on record\\t\\t\\t\\t\\t\\t\\t\\t\\t\\t\\t\\t\\t\\...</td>\n",
              "      <td>Posted 1 December, 2019.</td>\n",
              "      <td>Recommended</td>\n",
              "      <td>76561198300962835</td>\n",
              "      <td>202.1 hrs on record (38.3 hrs at review time)</td>\n",
              "      <td>https://store.steampowered.com/app/359550</td>\n",
              "      <td>2019-12-01</td>\n",
              "      <td>12126.0</td>\n",
              "      <td>2298.0</td>\n",
              "      <td>No one has rated this review as helpful yet</td>\n",
              "      <td>0</td>\n",
              "    </tr>\n",
              "    <tr>\n",
              "      <th>13738</th>\n",
              "      <td>É um clássico, fica muito bom em 4k. Dor de ca...</td>\n",
              "      <td>6220</td>\n",
              "      <td>https://steamcommunity.com/app/6220</td>\n",
              "      <td>No one has rated this review as helpful yet</td>\n",
              "      <td>4.9 hrs on record</td>\n",
              "      <td>Posted 14 March, 2020.</td>\n",
              "      <td>Recommended</td>\n",
              "      <td>76561198120068390</td>\n",
              "      <td>4.9 hrs on record</td>\n",
              "      <td>https://store.steampowered.com/app/6220</td>\n",
              "      <td>2020-03-14</td>\n",
              "      <td>294.0</td>\n",
              "      <td>294.0</td>\n",
              "      <td>No one has rated this review as helpful yet</td>\n",
              "      <td>0</td>\n",
              "    </tr>\n",
              "    <tr>\n",
              "      <th>33495</th>\n",
              "      <td>連続殺人鬼に閉じ込められた地下室から制限時間以内に脱出しろ、というホラースタイルの脱出ゲーム...</td>\n",
              "      <td>377470</td>\n",
              "      <td>https://steamcommunity.com/app/377470</td>\n",
              "      <td>23 people found this review helpful\\t\\t\\t\\t\\t\\...</td>\n",
              "      <td>2.1 hrs on record\\t\\t\\t\\t\\t\\t\\t\\t\\t\\t\\t\\t\\t\\t\\...</td>\n",
              "      <td>Posted 31 July, 2015.</td>\n",
              "      <td>Not Recommended</td>\n",
              "      <td>76561197960333570</td>\n",
              "      <td>2.1 hrs on record (2.0 hrs at review time)</td>\n",
              "      <td>https://store.steampowered.com/app/377470</td>\n",
              "      <td>2015-07-31</td>\n",
              "      <td>126.0</td>\n",
              "      <td>120.0</td>\n",
              "      <td>23 people found this review helpful 1 person f...</td>\n",
              "      <td>23</td>\n",
              "    </tr>\n",
              "    <tr>\n",
              "      <th>4459</th>\n",
              "      <td>My Favorite free to play game of all times hig...</td>\n",
              "      <td>291480</td>\n",
              "      <td>https://steamcommunity.com/app/291480</td>\n",
              "      <td>No one has rated this review as helpful yet\\t\\...</td>\n",
              "      <td>743.9 hrs on record\\t\\t\\t\\t\\t\\t\\t\\t\\t\\t\\t\\t\\t\\...</td>\n",
              "      <td>Posted 31 December, 2015.</td>\n",
              "      <td>Recommended</td>\n",
              "      <td>76561198240843094</td>\n",
              "      <td>743.9 hrs on record (186.0 hrs at review time)</td>\n",
              "      <td>https://store.steampowered.com/app/291480</td>\n",
              "      <td>2015-12-31</td>\n",
              "      <td>44634.0</td>\n",
              "      <td>11160.0</td>\n",
              "      <td>No one has rated this review as helpful yet 1 ...</td>\n",
              "      <td>0</td>\n",
              "    </tr>\n",
              "    <tr>\n",
              "      <th>14609</th>\n",
              "      <td>真的好玩，很沙雕就是没有快进 点的累啊</td>\n",
              "      <td>937170</td>\n",
              "      <td>https://steamcommunity.com/app/937170</td>\n",
              "      <td>No one has rated this review as helpful yet</td>\n",
              "      <td>9.4 hrs on record\\t\\t\\t\\t\\t\\t\\t\\t\\t\\t\\t\\t\\t\\t\\...</td>\n",
              "      <td>Posted 23 May, 2019.</td>\n",
              "      <td>Recommended</td>\n",
              "      <td>76561198265067417</td>\n",
              "      <td>9.4 hrs on record (6.9 hrs at review time)</td>\n",
              "      <td>https://store.steampowered.com/app/937170</td>\n",
              "      <td>2019-05-23</td>\n",
              "      <td>564.0</td>\n",
              "      <td>414.0</td>\n",
              "      <td>No one has rated this review as helpful yet</td>\n",
              "      <td>0</td>\n",
              "    </tr>\n",
              "    <tr>\n",
              "      <th>5902</th>\n",
              "      <td>Super cool game but sometimes u meet toxic ppl...</td>\n",
              "      <td>252490</td>\n",
              "      <td>https://steamcommunity.com/app/252490</td>\n",
              "      <td>No one has rated this review as helpful yet</td>\n",
              "      <td>3,054.2 hrs on record\\t\\t\\t\\t\\t\\t\\t\\t\\t\\t\\t\\t\\...</td>\n",
              "      <td>Posted 17 November, 2019.\\t\\t\\t\\t\\t\\t\\t\\t\\tLas...</td>\n",
              "      <td>Recommended</td>\n",
              "      <td>76561198362446443</td>\n",
              "      <td>3,054.2 hrs on record (1,654.3 hrs at review t...</td>\n",
              "      <td>https://store.steampowered.com/app/252490</td>\n",
              "      <td>2019-11-17</td>\n",
              "      <td>183252.0</td>\n",
              "      <td>99258.0</td>\n",
              "      <td>No one has rated this review as helpful yet</td>\n",
              "      <td>0</td>\n",
              "    </tr>\n",
              "    <tr>\n",
              "      <th>8278</th>\n",
              "      <td>da cartas.. hehe</td>\n",
              "      <td>271640</td>\n",
              "      <td>https://steamcommunity.com/app/271640</td>\n",
              "      <td>No one has rated this review as helpful yet\\t\\...</td>\n",
              "      <td>3.3 hrs on record\\t\\t\\t\\t\\t\\t\\t\\t\\t\\t\\t\\t\\t\\t\\...</td>\n",
              "      <td>Posted 23 October, 2015.</td>\n",
              "      <td>Recommended</td>\n",
              "      <td>76561198120030964</td>\n",
              "      <td>3.3 hrs on record (3.2 hrs at review time)</td>\n",
              "      <td>https://store.steampowered.com/app/271640</td>\n",
              "      <td>2015-10-23</td>\n",
              "      <td>198.0</td>\n",
              "      <td>192.0</td>\n",
              "      <td>No one has rated this review as helpful yet 1 ...</td>\n",
              "      <td>0</td>\n",
              "    </tr>\n",
              "    <tr>\n",
              "      <th>22406</th>\n",
              "      <td>yes</td>\n",
              "      <td>381210</td>\n",
              "      <td>https://steamcommunity.com/app/381210</td>\n",
              "      <td>No one has rated this review as helpful yet</td>\n",
              "      <td>285.5 hrs on record\\t\\t\\t\\t\\t\\t\\t\\t\\t\\t\\t\\t\\t\\...</td>\n",
              "      <td>Posted 2 December, 2019.</td>\n",
              "      <td>Recommended</td>\n",
              "      <td>76561198265113324</td>\n",
              "      <td>285.5 hrs on record (245.1 hrs at review time)</td>\n",
              "      <td>https://store.steampowered.com/app/381210</td>\n",
              "      <td>2019-12-02</td>\n",
              "      <td>17130.0</td>\n",
              "      <td>14706.0</td>\n",
              "      <td>No one has rated this review as helpful yet</td>\n",
              "      <td>0</td>\n",
              "    </tr>\n",
              "    <tr>\n",
              "      <th>10542</th>\n",
              "      <td>Nice art and a skill cap so high I can't see i...</td>\n",
              "      <td>245170</td>\n",
              "      <td>https://steamcommunity.com/app/245170</td>\n",
              "      <td>No one has rated this review as helpful yet\\t\\...</td>\n",
              "      <td>130.2 hrs on record\\t\\t\\t\\t\\t\\t\\t\\t\\t\\t\\t\\t\\t\\...</td>\n",
              "      <td>Posted 31 December, 2017.</td>\n",
              "      <td>Recommended</td>\n",
              "      <td>76561198120098498</td>\n",
              "      <td>130.2 hrs on record (25.5 hrs at review time)</td>\n",
              "      <td>https://store.steampowered.com/app/245170</td>\n",
              "      <td>2017-12-31</td>\n",
              "      <td>7812.0</td>\n",
              "      <td>1530.0</td>\n",
              "      <td>No one has rated this review as helpful yet 1 ...</td>\n",
              "      <td>0</td>\n",
              "    </tr>\n",
              "    <tr>\n",
              "      <th>11184</th>\n",
              "      <td>Buy minecraft instead!</td>\n",
              "      <td>105600</td>\n",
              "      <td>https://steamcommunity.com/app/105600</td>\n",
              "      <td>4 people found this review helpful\\t\\t\\t\\t\\t\\t...</td>\n",
              "      <td>2.5 hrs on record\\t\\t\\t\\t\\t\\t\\t\\t\\t\\t\\t\\t\\t\\t\\...</td>\n",
              "      <td>Posted 27 June, 2017.</td>\n",
              "      <td>Not Recommended</td>\n",
              "      <td>76561198202936375</td>\n",
              "      <td>2.5 hrs on record (1.4 hrs at review time)</td>\n",
              "      <td>https://store.steampowered.com/app/105600</td>\n",
              "      <td>2017-06-27</td>\n",
              "      <td>150.0</td>\n",
              "      <td>84.0</td>\n",
              "      <td>4 people found this review helpful 5 people fo...</td>\n",
              "      <td>4</td>\n",
              "    </tr>\n",
              "    <tr>\n",
              "      <th>32611</th>\n",
              "      <td>Güzel oyun tavsiye ederim.</td>\n",
              "      <td>24240</td>\n",
              "      <td>https://steamcommunity.com/app/24240</td>\n",
              "      <td>No one has rated this review as helpful yet</td>\n",
              "      <td>10.7 hrs on record\\t\\t\\t\\t\\t\\t\\t\\t\\t\\t\\t\\t\\t\\t...</td>\n",
              "      <td>Posted 18 October, 2014.</td>\n",
              "      <td>Recommended</td>\n",
              "      <td>76561198120043912</td>\n",
              "      <td>10.7 hrs on record (10.1 hrs at review time)</td>\n",
              "      <td>https://store.steampowered.com/app/24240</td>\n",
              "      <td>2014-10-18</td>\n",
              "      <td>642.0</td>\n",
              "      <td>606.0</td>\n",
              "      <td>No one has rated this review as helpful yet</td>\n",
              "      <td>0</td>\n",
              "    </tr>\n",
              "    <tr>\n",
              "      <th>25149</th>\n",
              "      <td>ótimo jogo, fará você gastar varias horas diat...</td>\n",
              "      <td>730</td>\n",
              "      <td>https://steamcommunity.com/app/730</td>\n",
              "      <td>1 person found this review helpful</td>\n",
              "      <td>647.6 hrs on record\\t\\t\\t\\t\\t\\t\\t\\t\\t\\t\\t\\t\\t\\...</td>\n",
              "      <td>Posted 22 November, 2017.</td>\n",
              "      <td>Recommended</td>\n",
              "      <td>76561198253188089</td>\n",
              "      <td>647.6 hrs on record (343.4 hrs at review time)</td>\n",
              "      <td>https://store.steampowered.com/app/730</td>\n",
              "      <td>2017-11-22</td>\n",
              "      <td>38856.0</td>\n",
              "      <td>20604.0</td>\n",
              "      <td>1 person found this review helpful</td>\n",
              "      <td>1</td>\n",
              "    </tr>\n",
              "    <tr>\n",
              "      <th>13351</th>\n",
              "      <td>SZYBKO USUWA SIĘ Z DYSKU</td>\n",
              "      <td>730</td>\n",
              "      <td>https://steamcommunity.com/app/730</td>\n",
              "      <td>1 person found this review helpful</td>\n",
              "      <td>3,756.3 hrs on record\\t\\t\\t\\t\\t\\t\\t\\t\\t\\t\\t\\t\\...</td>\n",
              "      <td>Posted 15 March, 2015.\\t\\t\\t\\t\\t\\t\\t\\t\\tLast e...</td>\n",
              "      <td>Recommended</td>\n",
              "      <td>76561198050829415</td>\n",
              "      <td>3,756.3 hrs on record (2,451.1 hrs at review t...</td>\n",
              "      <td>https://store.steampowered.com/app/730</td>\n",
              "      <td>2017-03-15</td>\n",
              "      <td>225378.0</td>\n",
              "      <td>147066.0</td>\n",
              "      <td>1 person found this review helpful</td>\n",
              "      <td>1</td>\n",
              "    </tr>\n",
              "    <tr>\n",
              "      <th>32735</th>\n",
              "      <td>Действительно потрясающая игра. Начиная с упом...</td>\n",
              "      <td>261570</td>\n",
              "      <td>https://steamcommunity.com/app/261570</td>\n",
              "      <td>5 people found this review helpful\\t\\t\\t\\t\\t\\t...</td>\n",
              "      <td>33.4 hrs on record\\t\\t\\t\\t\\t\\t\\t\\t\\t\\t\\t\\t\\t\\t...</td>\n",
              "      <td>Posted 15 March, 2015.</td>\n",
              "      <td>Recommended</td>\n",
              "      <td>76561198120076838</td>\n",
              "      <td>33.4 hrs on record (31.1 hrs at review time)</td>\n",
              "      <td>https://store.steampowered.com/app/261570</td>\n",
              "      <td>2015-03-15</td>\n",
              "      <td>2004.0</td>\n",
              "      <td>1866.0</td>\n",
              "      <td>5 people found this review helpful 1 person fo...</td>\n",
              "      <td>5</td>\n",
              "    </tr>\n",
              "    <tr>\n",
              "      <th>12518</th>\n",
              "      <td>not happy.not HAPPY.i purchased this game with...</td>\n",
              "      <td>765410</td>\n",
              "      <td>https://steamcommunity.com/app/765410</td>\n",
              "      <td>13 people found this review helpful\\t\\t\\t\\t\\t\\...</td>\n",
              "      <td>3.6 hrs on record\\t\\t\\t\\t\\t\\t\\t\\t\\t\\t\\t\\t\\t\\t\\...</td>\n",
              "      <td>Posted 1 July, 2019.</td>\n",
              "      <td>Not Recommended</td>\n",
              "      <td>76561198337352161</td>\n",
              "      <td>3.6 hrs on record (0.4 hrs at review time)</td>\n",
              "      <td>https://store.steampowered.com/app/765410</td>\n",
              "      <td>2019-07-01</td>\n",
              "      <td>216.0</td>\n",
              "      <td>24.0</td>\n",
              "      <td>13 people found this review helpful 59 people ...</td>\n",
              "      <td>13</td>\n",
              "    </tr>\n",
              "    <tr>\n",
              "      <th>34191</th>\n",
              "      <td>Absolutely stunning.  Epic immersion and story.</td>\n",
              "      <td>546560</td>\n",
              "      <td>https://steamcommunity.com/app/546560</td>\n",
              "      <td>No one has rated this review as helpful yet</td>\n",
              "      <td>54.4 hrs on record\\t\\t\\t\\t\\t\\t\\t\\t\\t\\t\\t\\t\\t\\t...</td>\n",
              "      <td>Posted 26 December, 2020.</td>\n",
              "      <td>Recommended</td>\n",
              "      <td>76561197960268823</td>\n",
              "      <td>54.4 hrs on record (17.6 hrs at review time)</td>\n",
              "      <td>https://store.steampowered.com/app/546560</td>\n",
              "      <td>2020-12-26</td>\n",
              "      <td>3264.0</td>\n",
              "      <td>1056.0</td>\n",
              "      <td>No one has rated this review as helpful yet</td>\n",
              "      <td>0</td>\n",
              "    </tr>\n",
              "    <tr>\n",
              "      <th>3301</th>\n",
              "      <td>Fantastic little flash game. Ive bought this g...</td>\n",
              "      <td>40700</td>\n",
              "      <td>https://steamcommunity.com/app/40700</td>\n",
              "      <td>No one has rated this review as helpful yet</td>\n",
              "      <td>5.6 hrs on record\\t\\t\\t\\t\\t\\t\\t\\t\\t\\t\\t\\t\\t\\t\\...</td>\n",
              "      <td>Posted 14 January, 2011.</td>\n",
              "      <td>Recommended</td>\n",
              "      <td>76561197960282358</td>\n",
              "      <td>5.6 hrs on record (0.7 hrs at review time)</td>\n",
              "      <td>https://store.steampowered.com/app/40700</td>\n",
              "      <td>2011-01-14</td>\n",
              "      <td>336.0</td>\n",
              "      <td>42.0</td>\n",
              "      <td>No one has rated this review as helpful yet</td>\n",
              "      <td>0</td>\n",
              "    </tr>\n",
              "    <tr>\n",
              "      <th>36776</th>\n",
              "      <td>Oh my goodness, this game is so good as-is, bu...</td>\n",
              "      <td>1366540</td>\n",
              "      <td>https://steamcommunity.com/app/1366540</td>\n",
              "      <td>No one has rated this review as helpful yet</td>\n",
              "      <td>180.6 hrs on record</td>\n",
              "      <td>Posted 25 February.</td>\n",
              "      <td>Recommended</td>\n",
              "      <td>76561197960270817</td>\n",
              "      <td>180.6 hrs on record</td>\n",
              "      <td>https://store.steampowered.com/app/1366540</td>\n",
              "      <td>2021-02-25</td>\n",
              "      <td>10836.0</td>\n",
              "      <td>10836.0</td>\n",
              "      <td>No one has rated this review as helpful yet</td>\n",
              "      <td>0</td>\n",
              "    </tr>\n",
              "  </tbody>\n",
              "</table>\n",
              "</div>"
            ],
            "text/plain": [
              "                                                 content  ...  review_helpful_count\n",
              "35101                          Zdecydowanie gra na pada.  ...                     0\n",
              "12932  Muito difícil, quer desafio este e o jogo, a d...  ...                     0\n",
              "24074                                                Yes  ...                     0\n",
              "13738  É um clássico, fica muito bom em 4k. Dor de ca...  ...                     0\n",
              "33495  連続殺人鬼に閉じ込められた地下室から制限時間以内に脱出しろ、というホラースタイルの脱出ゲーム...  ...                    23\n",
              "4459   My Favorite free to play game of all times hig...  ...                     0\n",
              "14609                                真的好玩，很沙雕就是没有快进 点的累啊  ...                     0\n",
              "5902   Super cool game but sometimes u meet toxic ppl...  ...                     0\n",
              "8278                                    da cartas.. hehe  ...                     0\n",
              "22406                                                yes  ...                     0\n",
              "10542  Nice art and a skill cap so high I can't see i...  ...                     0\n",
              "11184                             Buy minecraft instead!  ...                     4\n",
              "32611                         Güzel oyun tavsiye ederim.  ...                     0\n",
              "25149  ótimo jogo, fará você gastar varias horas diat...  ...                     1\n",
              "13351                           SZYBKO USUWA SIĘ Z DYSKU  ...                     1\n",
              "32735  Действительно потрясающая игра. Начиная с упом...  ...                     5\n",
              "12518  not happy.not HAPPY.i purchased this game with...  ...                    13\n",
              "34191    Absolutely stunning.  Epic immersion and story.  ...                     0\n",
              "3301   Fantastic little flash game. Ive bought this g...  ...                     0\n",
              "36776  Oh my goodness, this game is so good as-is, bu...  ...                     0\n",
              "\n",
              "[20 rows x 15 columns]"
            ]
          },
          "metadata": {
            "tags": []
          },
          "execution_count": 6
        }
      ]
    },
    {
      "cell_type": "code",
      "metadata": {
        "colab": {
          "base_uri": "https://localhost:8080/",
          "height": 819
        },
        "id": "VEP6NcekTkMv",
        "outputId": "da0d5820-62e2-4860-92d4-c3793353ea93"
      },
      "source": [
        "df.head()"
      ],
      "execution_count": null,
      "outputs": [
        {
          "output_type": "execute_result",
          "data": {
            "text/html": [
              "<div>\n",
              "<style scoped>\n",
              "    .dataframe tbody tr th:only-of-type {\n",
              "        vertical-align: middle;\n",
              "    }\n",
              "\n",
              "    .dataframe tbody tr th {\n",
              "        vertical-align: top;\n",
              "    }\n",
              "\n",
              "    .dataframe thead th {\n",
              "        text-align: right;\n",
              "    }\n",
              "</style>\n",
              "<table border=\"1\" class=\"dataframe\">\n",
              "  <thead>\n",
              "    <tr style=\"text-align: right;\">\n",
              "      <th></th>\n",
              "      <th>content</th>\n",
              "      <th>game_id</th>\n",
              "      <th>game_link</th>\n",
              "      <th>header</th>\n",
              "      <th>playHour</th>\n",
              "      <th>posted_at</th>\n",
              "      <th>title</th>\n",
              "      <th>user_id</th>\n",
              "      <th>clean_playHour</th>\n",
              "      <th>game_content_link</th>\n",
              "      <th>timestamp</th>\n",
              "      <th>play_time_minute</th>\n",
              "      <th>review_time_minute</th>\n",
              "      <th>clean_header</th>\n",
              "      <th>review_helpful_count</th>\n",
              "    </tr>\n",
              "  </thead>\n",
              "  <tbody>\n",
              "    <tr>\n",
              "      <th>0</th>\n",
              "      <td>Simply one of the best games ever!</td>\n",
              "      <td>292030</td>\n",
              "      <td>https://steamcommunity.com/app/292030</td>\n",
              "      <td>No one has rated this review as helpful yet</td>\n",
              "      <td>98.8 hrs on record\\t\\t\\t\\t\\t\\t\\t\\t\\t\\t\\t\\t\\t\\t...</td>\n",
              "      <td>Posted 7 July, 2020.</td>\n",
              "      <td>Recommended</td>\n",
              "      <td>76561197960267706</td>\n",
              "      <td>98.8 hrs on record (55.0 hrs at review time)</td>\n",
              "      <td>https://store.steampowered.com/app/292030</td>\n",
              "      <td>2020-07-07</td>\n",
              "      <td>5928.0</td>\n",
              "      <td>3300.0</td>\n",
              "      <td>No one has rated this review as helpful yet</td>\n",
              "      <td>0</td>\n",
              "    </tr>\n",
              "    <tr>\n",
              "      <th>1</th>\n",
              "      <td>Fun game, but team play and voice required. No...</td>\n",
              "      <td>493520</td>\n",
              "      <td>https://steamcommunity.com/app/493520</td>\n",
              "      <td>No one has rated this review as helpful yet</td>\n",
              "      <td>6.2 hrs on record\\t\\t\\t\\t\\t\\t\\t\\t\\t\\t\\t\\t\\t\\t\\...</td>\n",
              "      <td>Posted 1 April, 2020.</td>\n",
              "      <td>Recommended</td>\n",
              "      <td>76561197960267706</td>\n",
              "      <td>6.2 hrs on record (3.7 hrs at review time)</td>\n",
              "      <td>https://store.steampowered.com/app/493520</td>\n",
              "      <td>2020-04-01</td>\n",
              "      <td>372.0</td>\n",
              "      <td>222.0</td>\n",
              "      <td>No one has rated this review as helpful yet</td>\n",
              "      <td>0</td>\n",
              "    </tr>\n",
              "    <tr>\n",
              "      <th>2</th>\n",
              "      <td>I love it. It's a perfect mix between Dungeon ...</td>\n",
              "      <td>493900</td>\n",
              "      <td>https://steamcommunity.com/app/493900</td>\n",
              "      <td>No one has rated this review as helpful yet</td>\n",
              "      <td>24.2 hrs on record\\t\\t\\t\\t\\t\\t\\t\\t\\t\\t\\t\\t\\t\\t...</td>\n",
              "      <td>Posted 3 December, 2017.</td>\n",
              "      <td>Recommended</td>\n",
              "      <td>76561197960267706</td>\n",
              "      <td>24.2 hrs on record (11.9 hrs at review time)</td>\n",
              "      <td>https://store.steampowered.com/app/493900</td>\n",
              "      <td>2017-12-03</td>\n",
              "      <td>1452.0</td>\n",
              "      <td>714.0</td>\n",
              "      <td>No one has rated this review as helpful yet</td>\n",
              "      <td>0</td>\n",
              "    </tr>\n",
              "    <tr>\n",
              "      <th>3</th>\n",
              "      <td>best game</td>\n",
              "      <td>1085660</td>\n",
              "      <td>https://steamcommunity.com/app/1085660</td>\n",
              "      <td>No one has rated this review as helpful yet</td>\n",
              "      <td>1,800.1 hrs on record\\t\\t\\t\\t\\t\\t\\t\\t\\t\\t\\t\\t\\...</td>\n",
              "      <td>Posted 18 January.</td>\n",
              "      <td>Recommended</td>\n",
              "      <td>76561197960268550</td>\n",
              "      <td>1,800.1 hrs on record (1,737.1 hrs at review t...</td>\n",
              "      <td>https://store.steampowered.com/app/1085660</td>\n",
              "      <td>2021-01-18</td>\n",
              "      <td>108006.0</td>\n",
              "      <td>104226.0</td>\n",
              "      <td>No one has rated this review as helpful yet</td>\n",
              "      <td>0</td>\n",
              "    </tr>\n",
              "    <tr>\n",
              "      <th>4</th>\n",
              "      <td>awesome</td>\n",
              "      <td>730</td>\n",
              "      <td>https://steamcommunity.com/app/730</td>\n",
              "      <td>No one has rated this review as helpful yet</td>\n",
              "      <td>246.0 hrs on record\\t\\t\\t\\t\\t\\t\\t\\t\\t\\t\\t\\t\\t\\...</td>\n",
              "      <td>Posted 8 January, 2014.</td>\n",
              "      <td>Recommended</td>\n",
              "      <td>76561197960268550</td>\n",
              "      <td>246.0 hrs on record (168.6 hrs at review time)</td>\n",
              "      <td>https://store.steampowered.com/app/730</td>\n",
              "      <td>2014-01-08</td>\n",
              "      <td>14760.0</td>\n",
              "      <td>10116.0</td>\n",
              "      <td>No one has rated this review as helpful yet</td>\n",
              "      <td>0</td>\n",
              "    </tr>\n",
              "  </tbody>\n",
              "</table>\n",
              "</div>"
            ],
            "text/plain": [
              "                                             content  ...  review_helpful_count\n",
              "0                 Simply one of the best games ever!  ...                     0\n",
              "1  Fun game, but team play and voice required. No...  ...                     0\n",
              "2  I love it. It's a perfect mix between Dungeon ...  ...                     0\n",
              "3                                          best game  ...                     0\n",
              "4                                            awesome  ...                     0\n",
              "\n",
              "[5 rows x 15 columns]"
            ]
          },
          "metadata": {
            "tags": []
          },
          "execution_count": 3
        }
      ]
    },
    {
      "cell_type": "code",
      "metadata": {
        "id": "RWJDP_0tT28I"
      },
      "source": [
        "import re\n",
        "\n",
        "def get_clean_text_playHour(x):\n",
        "  content = re.sub('[\\t]', ' ', x)\n",
        "  content = re.sub(r'\\s+', ' ',content)\n",
        "\n",
        "  return content.strip()\n",
        "\n",
        "df['clean_playHour'] = df['playHour'].apply(get_clean_text_playHour)\n",
        "\n",
        "def get_game_content_link(x):\n",
        "  content = re.sub(\"//steamcommunity.com/\",\"//store.steampowered.com/\",x)\n",
        "  return content\n",
        "\n",
        "df['game_content_link'] = df['game_link'].apply(get_game_content_link)\n",
        "\n",
        "# month_li = []\n",
        "# def get_month_li(x):\n",
        "#   content = re.sub('[,.]', '', x)\n",
        "#   a = content.split()\n",
        "#   month_li.append(a[2])\n",
        "\n",
        "# df['posted_at'].apply(get_month_li)\n",
        "\n",
        "# month_li = set(month_li)\n",
        "# month_li\n",
        "\n",
        "def get_month(x):\n",
        "  ret = ''\n",
        "  if x == 'January':\n",
        "    ret = 1\n",
        "\n",
        "  if x == 'February':\n",
        "    ret = 2\n",
        "\n",
        "  if x == 'March':\n",
        "    ret = 3\n",
        "\n",
        "  if x == 'April':\n",
        "    ret = 4\n",
        "\n",
        "  if x == 'May':\n",
        "    ret = 5\n",
        "\n",
        "  if x == 'June':\n",
        "    ret = 6\n",
        "\n",
        "  if x == 'July':\n",
        "    ret = 7\n",
        "\n",
        "  if x == 'August':\n",
        "    ret = 8\n",
        "\n",
        "  if x == 'September':\n",
        "    ret = 9\n",
        "\n",
        "  if x == 'October':\n",
        "    ret = 10\n",
        "\n",
        "  if x == 'November':\n",
        "    ret = 11\n",
        "\n",
        "  if x == 'December':\n",
        "    ret = 12\n",
        "  \n",
        "  return ret\n",
        "\n",
        "def get_timestamp(x):\n",
        "\n",
        "  content = re.sub('[,.]', '', x)\n",
        "  timestamp = content.split()\n",
        "\n",
        "  if len(timestamp) >= 4:\n",
        "    year = timestamp[-1]\n",
        "    month = get_month(timestamp[2])\n",
        "    day = int(timestamp[1])\n",
        "    ret = f'{year}-{month}-{day}'\n",
        "\n",
        "  else:\n",
        "    year = 2021\n",
        "    month = get_month(timestamp[2])\n",
        "    day = int(timestamp[1])\n",
        "    ret = f'{year}-{month}-{day}'\n",
        "  \n",
        "  try:\n",
        "    ret = pd.to_datetime(ret)\n",
        "\n",
        "  except:\n",
        "    day -= 1\n",
        "    ret = f'{year}-{month}-{day}'\n",
        "    ret = pd.to_datetime(ret)\n",
        "\n",
        "  return ret\n",
        "\n",
        "df['timestamp'] = df['posted_at'].apply(get_timestamp)\n",
        "\n",
        "def get_play_time_minute(x):\n",
        "  content = x.split()[0]\n",
        "  content = re.sub('[,]', '', content)\n",
        "  play_time = float(content) * 60\n",
        "\n",
        "  return play_time\n",
        "\n",
        "def get_review_time_minute(x):\n",
        "  content = re.findall('(\\(.*?\\))', x)\n",
        "  if len(content) >= 1:\n",
        "    content = content[0]\n",
        "    content = re.sub('[(),]', '', content)\n",
        "    content = content.split()[0]\n",
        "    review_time = float(content) * 60\n",
        "  else:\n",
        "    review_time = np.nan\n",
        "\n",
        "  return review_time\n",
        "\n",
        "\n",
        "df['play_time_minute'] = df['clean_playHour'].apply(get_play_time_minute)\n",
        "df['review_time_minute'] = df['clean_playHour'].apply(get_review_time_minute)\n",
        "\n",
        "def get_fill_nan(x):\n",
        "  ret = x['review_time_minute']\n",
        "  if pd.isna(ret):\n",
        "    ret = x['play_time_minute']\n",
        "  \n",
        "  return ret\n",
        "\n",
        "df['review_time_minute'] = df.apply(lambda x : get_fill_nan(x), axis = 1)\n",
        "\n",
        "def get_clean_header(x):\n",
        "  content = re.sub('[\\t]', ' ', x)\n",
        "  content = re.sub(r'\\s+', ' ',content)\n",
        "\n",
        "  return content.strip()\n",
        "\n",
        "df['clean_header'] = df['header'].apply(get_clean_header)\n",
        "\n",
        "def get_review_helpful(x):\n",
        "  if 'No one has rated this review as helpful yet' in x:\n",
        "    ret = 0\n",
        "\n",
        "  else:\n",
        "    group = re.search('person found this review helpful', x)\n",
        "    if group:\n",
        "      start = group.start()\n",
        "      content_pre = x[:start].split()\n",
        "      ret = re.sub('[,]', ' ', content_pre[0])\n",
        "      ret = int(ret)\n",
        "\n",
        "    group = re.search('people found this review helpful', x)\n",
        "    if group:\n",
        "      start = group.start()\n",
        "      content_pre = x[:start].split()\n",
        "      ret = re.sub('[,]', '', content_pre[0])\n",
        "      ret = int(ret)\n",
        "  return ret\n",
        "\n",
        "df['review_helpful_count'] = df['clean_header'].apply(get_review_helpful)\n",
        "\n",
        "# 중복 데이터 존재\n",
        "df = df.drop_duplicates()"
      ],
      "execution_count": null,
      "outputs": []
    },
    {
      "cell_type": "code",
      "metadata": {
        "colab": {
          "base_uri": "https://localhost:8080/"
        },
        "id": "Klwk5tNmxLOk",
        "outputId": "608ad541-28b6-4083-c6c0-f3f3aadb3688"
      },
      "source": [
        "df.shape"
      ],
      "execution_count": null,
      "outputs": [
        {
          "output_type": "execute_result",
          "data": {
            "text/plain": [
              "(37728, 15)"
            ]
          },
          "metadata": {
            "tags": []
          },
          "execution_count": 5
        }
      ]
    },
    {
      "cell_type": "code",
      "metadata": {
        "colab": {
          "base_uri": "https://localhost:8080/"
        },
        "id": "ltomLECCiyup",
        "outputId": "169ecbff-5a0f-4bae-fb45-b916ce325945"
      },
      "source": [
        "df.isna().sum()"
      ],
      "execution_count": null,
      "outputs": [
        {
          "output_type": "execute_result",
          "data": {
            "text/plain": [
              "content                 36\n",
              "game_id                  0\n",
              "game_link                0\n",
              "header                   0\n",
              "playHour                 0\n",
              "posted_at                0\n",
              "title                    0\n",
              "user_id                  0\n",
              "clean_playHour           0\n",
              "game_content_link        0\n",
              "timestamp                0\n",
              "play_time_minute         0\n",
              "review_time_minute       0\n",
              "clean_header             0\n",
              "review_helpful_count     0\n",
              "dtype: int64"
            ]
          },
          "metadata": {
            "tags": []
          },
          "execution_count": 6
        }
      ]
    },
    {
      "cell_type": "code",
      "metadata": {
        "colab": {
          "base_uri": "https://localhost:8080/",
          "height": 659
        },
        "id": "wK38pPrNi1Ha",
        "outputId": "5c2a53af-9742-4605-93ae-5aab1b4ff6d8"
      },
      "source": [
        "df.describe(include='all')"
      ],
      "execution_count": null,
      "outputs": [
        {
          "output_type": "execute_result",
          "data": {
            "text/html": [
              "<div>\n",
              "<style scoped>\n",
              "    .dataframe tbody tr th:only-of-type {\n",
              "        vertical-align: middle;\n",
              "    }\n",
              "\n",
              "    .dataframe tbody tr th {\n",
              "        vertical-align: top;\n",
              "    }\n",
              "\n",
              "    .dataframe thead th {\n",
              "        text-align: right;\n",
              "    }\n",
              "</style>\n",
              "<table border=\"1\" class=\"dataframe\">\n",
              "  <thead>\n",
              "    <tr style=\"text-align: right;\">\n",
              "      <th></th>\n",
              "      <th>content</th>\n",
              "      <th>game_id</th>\n",
              "      <th>game_link</th>\n",
              "      <th>header</th>\n",
              "      <th>playHour</th>\n",
              "      <th>posted_at</th>\n",
              "      <th>title</th>\n",
              "      <th>user_id</th>\n",
              "      <th>clean_playHour</th>\n",
              "      <th>game_content_link</th>\n",
              "      <th>timestamp</th>\n",
              "      <th>play_time_minute</th>\n",
              "      <th>review_time_minute</th>\n",
              "      <th>clean_header</th>\n",
              "      <th>review_helpful_count</th>\n",
              "    </tr>\n",
              "  </thead>\n",
              "  <tbody>\n",
              "    <tr>\n",
              "      <th>count</th>\n",
              "      <td>37692</td>\n",
              "      <td>3.772800e+04</td>\n",
              "      <td>37728</td>\n",
              "      <td>37728</td>\n",
              "      <td>37728</td>\n",
              "      <td>37728</td>\n",
              "      <td>37728</td>\n",
              "      <td>3.772800e+04</td>\n",
              "      <td>37728</td>\n",
              "      <td>37728</td>\n",
              "      <td>37728</td>\n",
              "      <td>3.772800e+04</td>\n",
              "      <td>3.772800e+04</td>\n",
              "      <td>37728</td>\n",
              "      <td>37728.000000</td>\n",
              "    </tr>\n",
              "    <tr>\n",
              "      <th>unique</th>\n",
              "      <td>34079</td>\n",
              "      <td>NaN</td>\n",
              "      <td>6130</td>\n",
              "      <td>1072</td>\n",
              "      <td>27265</td>\n",
              "      <td>8586</td>\n",
              "      <td>2</td>\n",
              "      <td>NaN</td>\n",
              "      <td>27265</td>\n",
              "      <td>6130</td>\n",
              "      <td>3515</td>\n",
              "      <td>NaN</td>\n",
              "      <td>NaN</td>\n",
              "      <td>1072</td>\n",
              "      <td>NaN</td>\n",
              "    </tr>\n",
              "    <tr>\n",
              "      <th>top</th>\n",
              "      <td>good</td>\n",
              "      <td>NaN</td>\n",
              "      <td>https://steamcommunity.com/app/730</td>\n",
              "      <td>No one has rated this review as helpful yet</td>\n",
              "      <td>0.0 hrs on record</td>\n",
              "      <td>Posted 29 June, 2019.</td>\n",
              "      <td>Recommended</td>\n",
              "      <td>NaN</td>\n",
              "      <td>0.0 hrs on record</td>\n",
              "      <td>https://store.steampowered.com/app/730</td>\n",
              "      <td>2019-06-29 00:00:00</td>\n",
              "      <td>NaN</td>\n",
              "      <td>NaN</td>\n",
              "      <td>No one has rated this review as helpful yet</td>\n",
              "      <td>NaN</td>\n",
              "    </tr>\n",
              "    <tr>\n",
              "      <th>freq</th>\n",
              "      <td>179</td>\n",
              "      <td>NaN</td>\n",
              "      <td>3917</td>\n",
              "      <td>20110</td>\n",
              "      <td>636</td>\n",
              "      <td>447</td>\n",
              "      <td>32429</td>\n",
              "      <td>NaN</td>\n",
              "      <td>636</td>\n",
              "      <td>3917</td>\n",
              "      <td>479</td>\n",
              "      <td>NaN</td>\n",
              "      <td>NaN</td>\n",
              "      <td>20110</td>\n",
              "      <td>NaN</td>\n",
              "    </tr>\n",
              "    <tr>\n",
              "      <th>first</th>\n",
              "      <td>NaN</td>\n",
              "      <td>NaN</td>\n",
              "      <td>NaN</td>\n",
              "      <td>NaN</td>\n",
              "      <td>NaN</td>\n",
              "      <td>NaN</td>\n",
              "      <td>NaN</td>\n",
              "      <td>NaN</td>\n",
              "      <td>NaN</td>\n",
              "      <td>NaN</td>\n",
              "      <td>2001-01-01 00:00:00</td>\n",
              "      <td>NaN</td>\n",
              "      <td>NaN</td>\n",
              "      <td>NaN</td>\n",
              "      <td>NaN</td>\n",
              "    </tr>\n",
              "    <tr>\n",
              "      <th>last</th>\n",
              "      <td>NaN</td>\n",
              "      <td>NaN</td>\n",
              "      <td>NaN</td>\n",
              "      <td>NaN</td>\n",
              "      <td>NaN</td>\n",
              "      <td>NaN</td>\n",
              "      <td>NaN</td>\n",
              "      <td>NaN</td>\n",
              "      <td>NaN</td>\n",
              "      <td>NaN</td>\n",
              "      <td>2031-06-12 00:00:00</td>\n",
              "      <td>NaN</td>\n",
              "      <td>NaN</td>\n",
              "      <td>NaN</td>\n",
              "      <td>NaN</td>\n",
              "    </tr>\n",
              "    <tr>\n",
              "      <th>mean</th>\n",
              "      <td>NaN</td>\n",
              "      <td>3.771537e+05</td>\n",
              "      <td>NaN</td>\n",
              "      <td>NaN</td>\n",
              "      <td>NaN</td>\n",
              "      <td>NaN</td>\n",
              "      <td>NaN</td>\n",
              "      <td>7.656120e+16</td>\n",
              "      <td>NaN</td>\n",
              "      <td>NaN</td>\n",
              "      <td>NaN</td>\n",
              "      <td>2.487893e+04</td>\n",
              "      <td>1.225622e+04</td>\n",
              "      <td>NaN</td>\n",
              "      <td>3.099051</td>\n",
              "    </tr>\n",
              "    <tr>\n",
              "      <th>std</th>\n",
              "      <td>NaN</td>\n",
              "      <td>3.347567e+05</td>\n",
              "      <td>NaN</td>\n",
              "      <td>NaN</td>\n",
              "      <td>NaN</td>\n",
              "      <td>NaN</td>\n",
              "      <td>NaN</td>\n",
              "      <td>1.355316e+08</td>\n",
              "      <td>NaN</td>\n",
              "      <td>NaN</td>\n",
              "      <td>NaN</td>\n",
              "      <td>6.283156e+04</td>\n",
              "      <td>3.589293e+04</td>\n",
              "      <td>NaN</td>\n",
              "      <td>38.160350</td>\n",
              "    </tr>\n",
              "    <tr>\n",
              "      <th>min</th>\n",
              "      <td>NaN</td>\n",
              "      <td>1.000000e+01</td>\n",
              "      <td>NaN</td>\n",
              "      <td>NaN</td>\n",
              "      <td>NaN</td>\n",
              "      <td>NaN</td>\n",
              "      <td>NaN</td>\n",
              "      <td>7.656120e+16</td>\n",
              "      <td>NaN</td>\n",
              "      <td>NaN</td>\n",
              "      <td>NaN</td>\n",
              "      <td>0.000000e+00</td>\n",
              "      <td>0.000000e+00</td>\n",
              "      <td>NaN</td>\n",
              "      <td>0.000000</td>\n",
              "    </tr>\n",
              "    <tr>\n",
              "      <th>25%</th>\n",
              "      <td>NaN</td>\n",
              "      <td>1.074100e+05</td>\n",
              "      <td>NaN</td>\n",
              "      <td>NaN</td>\n",
              "      <td>NaN</td>\n",
              "      <td>NaN</td>\n",
              "      <td>NaN</td>\n",
              "      <td>7.656120e+16</td>\n",
              "      <td>NaN</td>\n",
              "      <td>NaN</td>\n",
              "      <td>NaN</td>\n",
              "      <td>4.200000e+02</td>\n",
              "      <td>2.340000e+02</td>\n",
              "      <td>NaN</td>\n",
              "      <td>0.000000</td>\n",
              "    </tr>\n",
              "    <tr>\n",
              "      <th>50%</th>\n",
              "      <td>NaN</td>\n",
              "      <td>2.994600e+05</td>\n",
              "      <td>NaN</td>\n",
              "      <td>NaN</td>\n",
              "      <td>NaN</td>\n",
              "      <td>NaN</td>\n",
              "      <td>NaN</td>\n",
              "      <td>7.656120e+16</td>\n",
              "      <td>NaN</td>\n",
              "      <td>NaN</td>\n",
              "      <td>NaN</td>\n",
              "      <td>2.088000e+03</td>\n",
              "      <td>1.002000e+03</td>\n",
              "      <td>NaN</td>\n",
              "      <td>0.000000</td>\n",
              "    </tr>\n",
              "    <tr>\n",
              "      <th>75%</th>\n",
              "      <td>NaN</td>\n",
              "      <td>5.465600e+05</td>\n",
              "      <td>NaN</td>\n",
              "      <td>NaN</td>\n",
              "      <td>NaN</td>\n",
              "      <td>NaN</td>\n",
              "      <td>NaN</td>\n",
              "      <td>7.656120e+16</td>\n",
              "      <td>NaN</td>\n",
              "      <td>NaN</td>\n",
              "      <td>NaN</td>\n",
              "      <td>1.444200e+04</td>\n",
              "      <td>5.700000e+03</td>\n",
              "      <td>NaN</td>\n",
              "      <td>1.000000</td>\n",
              "    </tr>\n",
              "    <tr>\n",
              "      <th>max</th>\n",
              "      <td>NaN</td>\n",
              "      <td>1.656240e+06</td>\n",
              "      <td>NaN</td>\n",
              "      <td>NaN</td>\n",
              "      <td>NaN</td>\n",
              "      <td>NaN</td>\n",
              "      <td>NaN</td>\n",
              "      <td>7.656120e+16</td>\n",
              "      <td>NaN</td>\n",
              "      <td>NaN</td>\n",
              "      <td>NaN</td>\n",
              "      <td>1.593750e+06</td>\n",
              "      <td>1.071750e+06</td>\n",
              "      <td>NaN</td>\n",
              "      <td>4077.000000</td>\n",
              "    </tr>\n",
              "  </tbody>\n",
              "</table>\n",
              "</div>"
            ],
            "text/plain": [
              "       content  ...  review_helpful_count\n",
              "count    37692  ...          37728.000000\n",
              "unique   34079  ...                   NaN\n",
              "top       good  ...                   NaN\n",
              "freq       179  ...                   NaN\n",
              "first      NaN  ...                   NaN\n",
              "last       NaN  ...                   NaN\n",
              "mean       NaN  ...              3.099051\n",
              "std        NaN  ...             38.160350\n",
              "min        NaN  ...              0.000000\n",
              "25%        NaN  ...              0.000000\n",
              "50%        NaN  ...              0.000000\n",
              "75%        NaN  ...              1.000000\n",
              "max        NaN  ...           4077.000000\n",
              "\n",
              "[13 rows x 15 columns]"
            ]
          },
          "metadata": {
            "tags": []
          },
          "execution_count": 7
        }
      ]
    },
    {
      "cell_type": "code",
      "metadata": {
        "colab": {
          "base_uri": "https://localhost:8080/",
          "height": 819
        },
        "id": "wLFIXFjUiwNE",
        "outputId": "4d6cd8c7-4d7c-4f83-d5e3-0b2ca54ff0af"
      },
      "source": [
        "df.head()"
      ],
      "execution_count": null,
      "outputs": [
        {
          "output_type": "execute_result",
          "data": {
            "text/html": [
              "<div>\n",
              "<style scoped>\n",
              "    .dataframe tbody tr th:only-of-type {\n",
              "        vertical-align: middle;\n",
              "    }\n",
              "\n",
              "    .dataframe tbody tr th {\n",
              "        vertical-align: top;\n",
              "    }\n",
              "\n",
              "    .dataframe thead th {\n",
              "        text-align: right;\n",
              "    }\n",
              "</style>\n",
              "<table border=\"1\" class=\"dataframe\">\n",
              "  <thead>\n",
              "    <tr style=\"text-align: right;\">\n",
              "      <th></th>\n",
              "      <th>content</th>\n",
              "      <th>game_id</th>\n",
              "      <th>game_link</th>\n",
              "      <th>header</th>\n",
              "      <th>playHour</th>\n",
              "      <th>posted_at</th>\n",
              "      <th>title</th>\n",
              "      <th>user_id</th>\n",
              "      <th>clean_playHour</th>\n",
              "      <th>game_content_link</th>\n",
              "      <th>timestamp</th>\n",
              "      <th>play_time_minute</th>\n",
              "      <th>review_time_minute</th>\n",
              "      <th>clean_header</th>\n",
              "      <th>review_helpful_count</th>\n",
              "    </tr>\n",
              "  </thead>\n",
              "  <tbody>\n",
              "    <tr>\n",
              "      <th>0</th>\n",
              "      <td>Simply one of the best games ever!</td>\n",
              "      <td>292030</td>\n",
              "      <td>https://steamcommunity.com/app/292030</td>\n",
              "      <td>No one has rated this review as helpful yet</td>\n",
              "      <td>98.8 hrs on record\\t\\t\\t\\t\\t\\t\\t\\t\\t\\t\\t\\t\\t\\t...</td>\n",
              "      <td>Posted 7 July, 2020.</td>\n",
              "      <td>Recommended</td>\n",
              "      <td>76561197960267706</td>\n",
              "      <td>98.8 hrs on record (55.0 hrs at review time)</td>\n",
              "      <td>https://store.steampowered.com/app/292030</td>\n",
              "      <td>2020-07-07</td>\n",
              "      <td>5928.0</td>\n",
              "      <td>3300.0</td>\n",
              "      <td>No one has rated this review as helpful yet</td>\n",
              "      <td>0</td>\n",
              "    </tr>\n",
              "    <tr>\n",
              "      <th>1</th>\n",
              "      <td>Fun game, but team play and voice required. No...</td>\n",
              "      <td>493520</td>\n",
              "      <td>https://steamcommunity.com/app/493520</td>\n",
              "      <td>No one has rated this review as helpful yet</td>\n",
              "      <td>6.2 hrs on record\\t\\t\\t\\t\\t\\t\\t\\t\\t\\t\\t\\t\\t\\t\\...</td>\n",
              "      <td>Posted 1 April, 2020.</td>\n",
              "      <td>Recommended</td>\n",
              "      <td>76561197960267706</td>\n",
              "      <td>6.2 hrs on record (3.7 hrs at review time)</td>\n",
              "      <td>https://store.steampowered.com/app/493520</td>\n",
              "      <td>2020-04-01</td>\n",
              "      <td>372.0</td>\n",
              "      <td>222.0</td>\n",
              "      <td>No one has rated this review as helpful yet</td>\n",
              "      <td>0</td>\n",
              "    </tr>\n",
              "    <tr>\n",
              "      <th>2</th>\n",
              "      <td>I love it. It's a perfect mix between Dungeon ...</td>\n",
              "      <td>493900</td>\n",
              "      <td>https://steamcommunity.com/app/493900</td>\n",
              "      <td>No one has rated this review as helpful yet</td>\n",
              "      <td>24.2 hrs on record\\t\\t\\t\\t\\t\\t\\t\\t\\t\\t\\t\\t\\t\\t...</td>\n",
              "      <td>Posted 3 December, 2017.</td>\n",
              "      <td>Recommended</td>\n",
              "      <td>76561197960267706</td>\n",
              "      <td>24.2 hrs on record (11.9 hrs at review time)</td>\n",
              "      <td>https://store.steampowered.com/app/493900</td>\n",
              "      <td>2017-12-03</td>\n",
              "      <td>1452.0</td>\n",
              "      <td>714.0</td>\n",
              "      <td>No one has rated this review as helpful yet</td>\n",
              "      <td>0</td>\n",
              "    </tr>\n",
              "    <tr>\n",
              "      <th>3</th>\n",
              "      <td>best game</td>\n",
              "      <td>1085660</td>\n",
              "      <td>https://steamcommunity.com/app/1085660</td>\n",
              "      <td>No one has rated this review as helpful yet</td>\n",
              "      <td>1,800.1 hrs on record\\t\\t\\t\\t\\t\\t\\t\\t\\t\\t\\t\\t\\...</td>\n",
              "      <td>Posted 18 January.</td>\n",
              "      <td>Recommended</td>\n",
              "      <td>76561197960268550</td>\n",
              "      <td>1,800.1 hrs on record (1,737.1 hrs at review t...</td>\n",
              "      <td>https://store.steampowered.com/app/1085660</td>\n",
              "      <td>2021-01-18</td>\n",
              "      <td>108006.0</td>\n",
              "      <td>104226.0</td>\n",
              "      <td>No one has rated this review as helpful yet</td>\n",
              "      <td>0</td>\n",
              "    </tr>\n",
              "    <tr>\n",
              "      <th>4</th>\n",
              "      <td>awesome</td>\n",
              "      <td>730</td>\n",
              "      <td>https://steamcommunity.com/app/730</td>\n",
              "      <td>No one has rated this review as helpful yet</td>\n",
              "      <td>246.0 hrs on record\\t\\t\\t\\t\\t\\t\\t\\t\\t\\t\\t\\t\\t\\...</td>\n",
              "      <td>Posted 8 January, 2014.</td>\n",
              "      <td>Recommended</td>\n",
              "      <td>76561197960268550</td>\n",
              "      <td>246.0 hrs on record (168.6 hrs at review time)</td>\n",
              "      <td>https://store.steampowered.com/app/730</td>\n",
              "      <td>2014-01-08</td>\n",
              "      <td>14760.0</td>\n",
              "      <td>10116.0</td>\n",
              "      <td>No one has rated this review as helpful yet</td>\n",
              "      <td>0</td>\n",
              "    </tr>\n",
              "  </tbody>\n",
              "</table>\n",
              "</div>"
            ],
            "text/plain": [
              "                                             content  ...  review_helpful_count\n",
              "0                 Simply one of the best games ever!  ...                     0\n",
              "1  Fun game, but team play and voice required. No...  ...                     0\n",
              "2  I love it. It's a perfect mix between Dungeon ...  ...                     0\n",
              "3                                          best game  ...                     0\n",
              "4                                            awesome  ...                     0\n",
              "\n",
              "[5 rows x 15 columns]"
            ]
          },
          "metadata": {
            "tags": []
          },
          "execution_count": 8
        }
      ]
    },
    {
      "cell_type": "markdown",
      "metadata": {
        "id": "TUWMeSKrDN8z"
      },
      "source": [
        "# 연속형 데이터 만들기"
      ]
    },
    {
      "cell_type": "code",
      "metadata": {
        "colab": {
          "base_uri": "https://localhost:8080/",
          "height": 204
        },
        "id": "zV0qU9bbDH7m",
        "outputId": "f5775b15-594c-45d1-8f15-32a212c3c4d9"
      },
      "source": [
        "DATA_DIR = '/content/drive/MyDrive/투빅스 컨퍼런스/Data/'\n",
        "\n",
        "df = pd.read_csv('/content/drive/MyDrive/재테크/Steam/Data/steam_reviews_v2_clean.csv')\n",
        "\n",
        "df.head()"
      ],
      "execution_count": null,
      "outputs": [
        {
          "output_type": "execute_result",
          "data": {
            "text/html": [
              "<div>\n",
              "<style scoped>\n",
              "    .dataframe tbody tr th:only-of-type {\n",
              "        vertical-align: middle;\n",
              "    }\n",
              "\n",
              "    .dataframe tbody tr th {\n",
              "        vertical-align: top;\n",
              "    }\n",
              "\n",
              "    .dataframe thead th {\n",
              "        text-align: right;\n",
              "    }\n",
              "</style>\n",
              "<table border=\"1\" class=\"dataframe\">\n",
              "  <thead>\n",
              "    <tr style=\"text-align: right;\">\n",
              "      <th></th>\n",
              "      <th>content</th>\n",
              "      <th>recommended</th>\n",
              "      <th>user_id</th>\n",
              "      <th>game_id</th>\n",
              "      <th>timestamp</th>\n",
              "      <th>play_time_minute</th>\n",
              "      <th>review_time_minute</th>\n",
              "      <th>game_content_link</th>\n",
              "      <th>review_helpful_count</th>\n",
              "    </tr>\n",
              "  </thead>\n",
              "  <tbody>\n",
              "    <tr>\n",
              "      <th>0</th>\n",
              "      <td>Very good game, within 6 hours from launch, th...</td>\n",
              "      <td>Recommended</td>\n",
              "      <td>atgbui</td>\n",
              "      <td>768520</td>\n",
              "      <td>2021-06-20</td>\n",
              "      <td>3042.0</td>\n",
              "      <td>3042.0</td>\n",
              "      <td>https://store.steampowered.com/app/768520</td>\n",
              "      <td>5</td>\n",
              "    </tr>\n",
              "    <tr>\n",
              "      <th>1</th>\n",
              "      <td>I cannot recommend this game. It's been 8 year...</td>\n",
              "      <td>Not Recommended</td>\n",
              "      <td>atgbui</td>\n",
              "      <td>251570</td>\n",
              "      <td>2021-06-14</td>\n",
              "      <td>40440.0</td>\n",
              "      <td>40440.0</td>\n",
              "      <td>https://store.steampowered.com/app/251570</td>\n",
              "      <td>48</td>\n",
              "    </tr>\n",
              "    <tr>\n",
              "      <th>2</th>\n",
              "      <td>Game is currently busted for Co-Op. Despite th...</td>\n",
              "      <td>Not Recommended</td>\n",
              "      <td>atgbui</td>\n",
              "      <td>671510</td>\n",
              "      <td>2021-06-12</td>\n",
              "      <td>1734.0</td>\n",
              "      <td>906.0</td>\n",
              "      <td>https://store.steampowered.com/app/671510</td>\n",
              "      <td>3</td>\n",
              "    </tr>\n",
              "    <tr>\n",
              "      <th>3</th>\n",
              "      <td>Unfortunately dead game. https://steamcharts.c...</td>\n",
              "      <td>Not Recommended</td>\n",
              "      <td>atgbui</td>\n",
              "      <td>613590</td>\n",
              "      <td>2021-06-12</td>\n",
              "      <td>48.0</td>\n",
              "      <td>48.0</td>\n",
              "      <td>https://store.steampowered.com/app/613590</td>\n",
              "      <td>0</td>\n",
              "    </tr>\n",
              "    <tr>\n",
              "      <th>4</th>\n",
              "      <td>It just felt too generic- why would I play thi...</td>\n",
              "      <td>Not Recommended</td>\n",
              "      <td>atgbui</td>\n",
              "      <td>374280</td>\n",
              "      <td>2021-05-20</td>\n",
              "      <td>540.0</td>\n",
              "      <td>540.0</td>\n",
              "      <td>https://store.steampowered.com/app/374280</td>\n",
              "      <td>1</td>\n",
              "    </tr>\n",
              "  </tbody>\n",
              "</table>\n",
              "</div>"
            ],
            "text/plain": [
              "                                             content  ... review_helpful_count\n",
              "0  Very good game, within 6 hours from launch, th...  ...                    5\n",
              "1  I cannot recommend this game. It's been 8 year...  ...                   48\n",
              "2  Game is currently busted for Co-Op. Despite th...  ...                    3\n",
              "3  Unfortunately dead game. https://steamcharts.c...  ...                    0\n",
              "4  It just felt too generic- why would I play thi...  ...                    1\n",
              "\n",
              "[5 rows x 9 columns]"
            ]
          },
          "metadata": {
            "tags": []
          },
          "execution_count": 2
        }
      ]
    },
    {
      "cell_type": "code",
      "metadata": {
        "id": "xNLn43sQlXzK"
      },
      "source": [
        "ret = 0\n",
        "def get_rec_cont(x):\n",
        "  rec_cont = (x['recommended'] == 'Recommended').sum()\n",
        "  if rec_cont >= 1:\n",
        "    ret += 1"
      ],
      "execution_count": null,
      "outputs": []
    },
    {
      "cell_type": "code",
      "metadata": {
        "colab": {
          "base_uri": "https://localhost:8080/",
          "height": 67,
          "referenced_widgets": [
            "bbf048fa73804971abb4347eb430afda",
            "5ddca1180c50461eb161e85a240ba3b5",
            "5fc192c0f5244a9ea2618f95e2fba708",
            "d35f0815c977467fbc10875e644098f0",
            "dbb59ac543c44eefbbe6b9d4e121836f",
            "acc13dd38f9b46c38fc746f6e8516d01",
            "6e8630b5da4542f4afd1ded8bed63136",
            "3d031dbb39e44c4791197b51a39f2426"
          ]
        },
        "id": "UzFNQ9rQkeMI",
        "outputId": "60aea80b-fa13-4a37-8a52-31d2dda581ad"
      },
      "source": [
        "user_id_li = df['user_id'].unique()\n",
        "ret = 0\n",
        "for user_id in tqdm_notebook(user_id_li):\n",
        "  rec_cont = (df[df['user_id'] == user_id]['recommended'] == 'Recommended').sum()\n",
        "  if rec_cont >= 1:\n",
        "    ret += 1"
      ],
      "execution_count": null,
      "outputs": [
        {
          "output_type": "display_data",
          "data": {
            "application/vnd.jupyter.widget-view+json": {
              "model_id": "bbf048fa73804971abb4347eb430afda",
              "version_minor": 0,
              "version_major": 2
            },
            "text/plain": [
              "HBox(children=(FloatProgress(value=0.0, max=30379.0), HTML(value='')))"
            ]
          },
          "metadata": {
            "tags": []
          }
        },
        {
          "output_type": "stream",
          "text": [
            "\n"
          ],
          "name": "stdout"
        }
      ]
    },
    {
      "cell_type": "code",
      "metadata": {
        "colab": {
          "base_uri": "https://localhost:8080/"
        },
        "id": "yEaOmWQXlLRH",
        "outputId": "ef3d861e-0c26-4641-909d-31260da9655e"
      },
      "source": [
        "ret"
      ],
      "execution_count": null,
      "outputs": [
        {
          "output_type": "execute_result",
          "data": {
            "text/plain": [
              "30310"
            ]
          },
          "metadata": {
            "tags": []
          },
          "execution_count": 11
        }
      ]
    },
    {
      "cell_type": "code",
      "metadata": {
        "colab": {
          "base_uri": "https://localhost:8080/"
        },
        "id": "Gc8fw04XlJj2",
        "outputId": "0addc566-7568-4fab-9817-a8a7d2041377"
      },
      "source": [
        "len(user_id_li)"
      ],
      "execution_count": null,
      "outputs": [
        {
          "output_type": "execute_result",
          "data": {
            "text/plain": [
              "30379"
            ]
          },
          "metadata": {
            "tags": []
          },
          "execution_count": 12
        }
      ]
    },
    {
      "cell_type": "code",
      "metadata": {
        "colab": {
          "base_uri": "https://localhost:8080/"
        },
        "id": "2sYgWcqbuvFF",
        "outputId": "217e6012-dfe7-4ef4-d8b5-67f487e33a88"
      },
      "source": [
        "len(user_id_li) - ret"
      ],
      "execution_count": null,
      "outputs": [
        {
          "output_type": "execute_result",
          "data": {
            "text/plain": [
              "69"
            ]
          },
          "metadata": {
            "tags": []
          },
          "execution_count": 13
        }
      ]
    },
    {
      "cell_type": "code",
      "metadata": {
        "colab": {
          "base_uri": "https://localhost:8080/",
          "height": 67,
          "referenced_widgets": [
            "109090a1a1264aa9990097a56400969a",
            "59b5b826a200482e89edbcab82ca47a0",
            "26edbf0bb0524e57b1c31bc5b4b092b5",
            "7d73db105b5e46029962e1cde5fdc328",
            "d98707112e404b1d9e41566204e3e6af",
            "f4488dfb260945219ba58b9d9ac70bc7",
            "23eb4b35b563467a9e4c71a2f457f81a",
            "cf38ecf9f7ce429889b62adc43d8bf45"
          ]
        },
        "id": "g6jkLEhnAwO1",
        "outputId": "0ec7fd63-9f54-40ae-b14a-058e55cd1df8"
      },
      "source": [
        "userid_li = df['user_id'].unique()\n",
        "\n",
        "user_play_game_li = []\n",
        "\n",
        "user_play_game_df = []\n",
        "\n",
        "for userid in tqdm_notebook(userid_li):\n",
        "  game = df[df['user_id'] == userid].sort_values(by = 'timestamp')['game_id'].astype(str).values.tolist()\n",
        "  user_play_game_li.append(game)\n",
        "\n",
        "  user_play_game_df.append(\n",
        "      {'user_id' : userid,\n",
        "       'game_count' : len(game)}\n",
        "  )"
      ],
      "execution_count": null,
      "outputs": [
        {
          "output_type": "display_data",
          "data": {
            "application/vnd.jupyter.widget-view+json": {
              "model_id": "109090a1a1264aa9990097a56400969a",
              "version_minor": 0,
              "version_major": 2
            },
            "text/plain": [
              "HBox(children=(FloatProgress(value=0.0, max=30379.0), HTML(value='')))"
            ]
          },
          "metadata": {
            "tags": []
          }
        },
        {
          "output_type": "stream",
          "text": [
            "\n"
          ],
          "name": "stdout"
        }
      ]
    },
    {
      "cell_type": "code",
      "metadata": {
        "colab": {
          "base_uri": "https://localhost:8080/",
          "height": 204
        },
        "id": "-pSnpTX3yHSE",
        "outputId": "e642998a-e60a-4122-c16e-3b375de00d23"
      },
      "source": [
        "user_play_game_df = pd.DataFrame(user_play_game_df)\n",
        "user_play_game_df.head()"
      ],
      "execution_count": null,
      "outputs": [
        {
          "output_type": "execute_result",
          "data": {
            "text/html": [
              "<div>\n",
              "<style scoped>\n",
              "    .dataframe tbody tr th:only-of-type {\n",
              "        vertical-align: middle;\n",
              "    }\n",
              "\n",
              "    .dataframe tbody tr th {\n",
              "        vertical-align: top;\n",
              "    }\n",
              "\n",
              "    .dataframe thead th {\n",
              "        text-align: right;\n",
              "    }\n",
              "</style>\n",
              "<table border=\"1\" class=\"dataframe\">\n",
              "  <thead>\n",
              "    <tr style=\"text-align: right;\">\n",
              "      <th></th>\n",
              "      <th>user_id</th>\n",
              "      <th>game_count</th>\n",
              "    </tr>\n",
              "  </thead>\n",
              "  <tbody>\n",
              "    <tr>\n",
              "      <th>0</th>\n",
              "      <td>atgbui</td>\n",
              "      <td>50</td>\n",
              "    </tr>\n",
              "    <tr>\n",
              "      <th>1</th>\n",
              "      <td>76561198120102283</td>\n",
              "      <td>22</td>\n",
              "    </tr>\n",
              "    <tr>\n",
              "      <th>2</th>\n",
              "      <td>113L1T3G0DM4N3X1T11</td>\n",
              "      <td>11</td>\n",
              "    </tr>\n",
              "    <tr>\n",
              "      <th>3</th>\n",
              "      <td>_treeheart_</td>\n",
              "      <td>10</td>\n",
              "    </tr>\n",
              "    <tr>\n",
              "      <th>4</th>\n",
              "      <td>Jamzuz</td>\n",
              "      <td>8</td>\n",
              "    </tr>\n",
              "  </tbody>\n",
              "</table>\n",
              "</div>"
            ],
            "text/plain": [
              "               user_id  game_count\n",
              "0               atgbui          50\n",
              "1    76561198120102283          22\n",
              "2  113L1T3G0DM4N3X1T11          11\n",
              "3          _treeheart_          10\n",
              "4               Jamzuz           8"
            ]
          },
          "metadata": {
            "tags": []
          },
          "execution_count": 7
        }
      ]
    },
    {
      "cell_type": "code",
      "metadata": {
        "colab": {
          "base_uri": "https://localhost:8080/",
          "height": 298
        },
        "id": "A81FTJ6SybCd",
        "outputId": "37ddcb50-710b-4e8a-9319-23427f15e112"
      },
      "source": [
        "sns.distplot(user_play_game_df['game_count'])"
      ],
      "execution_count": null,
      "outputs": [
        {
          "output_type": "execute_result",
          "data": {
            "text/plain": [
              "<matplotlib.axes._subplots.AxesSubplot at 0x7f795c55a450>"
            ]
          },
          "metadata": {
            "tags": []
          },
          "execution_count": 8
        },
        {
          "output_type": "display_data",
          "data": {
            "image/png": "[encoded data removed]",
            "text/plain": [
              "<Figure size 432x288 with 1 Axes>"
            ]
          },
          "metadata": {
            "tags": [],
            "needs_background": "light"
          }
        }
      ]
    },
    {
      "cell_type": "code",
      "metadata": {
        "colab": {
          "base_uri": "https://localhost:8080/",
          "height": 419
        },
        "id": "MKKWhb6AyStk",
        "outputId": "f80c8d02-4202-4f8a-aec1-91d935303349"
      },
      "source": [
        "user_play_game_df.sort_values(by = 'game_count', ascending=False)"
      ],
      "execution_count": null,
      "outputs": [
        {
          "output_type": "execute_result",
          "data": {
            "text/html": [
              "<div>\n",
              "<style scoped>\n",
              "    .dataframe tbody tr th:only-of-type {\n",
              "        vertical-align: middle;\n",
              "    }\n",
              "\n",
              "    .dataframe tbody tr th {\n",
              "        vertical-align: top;\n",
              "    }\n",
              "\n",
              "    .dataframe thead th {\n",
              "        text-align: right;\n",
              "    }\n",
              "</style>\n",
              "<table border=\"1\" class=\"dataframe\">\n",
              "  <thead>\n",
              "    <tr style=\"text-align: right;\">\n",
              "      <th></th>\n",
              "      <th>user_id</th>\n",
              "      <th>game_count</th>\n",
              "    </tr>\n",
              "  </thead>\n",
              "  <tbody>\n",
              "    <tr>\n",
              "      <th>692</th>\n",
              "      <td>76561198030784015</td>\n",
              "      <td>3846</td>\n",
              "    </tr>\n",
              "    <tr>\n",
              "      <th>1134</th>\n",
              "      <td>MostOG</td>\n",
              "      <td>3608</td>\n",
              "    </tr>\n",
              "    <tr>\n",
              "      <th>1205</th>\n",
              "      <td>5e4</td>\n",
              "      <td>3278</td>\n",
              "    </tr>\n",
              "    <tr>\n",
              "      <th>12508</th>\n",
              "      <td>76561198094803808</td>\n",
              "      <td>2597</td>\n",
              "    </tr>\n",
              "    <tr>\n",
              "      <th>1133</th>\n",
              "      <td>kanehero</td>\n",
              "      <td>2535</td>\n",
              "    </tr>\n",
              "    <tr>\n",
              "      <th>...</th>\n",
              "      <td>...</td>\n",
              "      <td>...</td>\n",
              "    </tr>\n",
              "    <tr>\n",
              "      <th>23190</th>\n",
              "      <td>76561198111233137</td>\n",
              "      <td>3</td>\n",
              "    </tr>\n",
              "    <tr>\n",
              "      <th>11550</th>\n",
              "      <td>76561198040884966</td>\n",
              "      <td>3</td>\n",
              "    </tr>\n",
              "    <tr>\n",
              "      <th>14517</th>\n",
              "      <td>76561198007324801</td>\n",
              "      <td>2</td>\n",
              "    </tr>\n",
              "    <tr>\n",
              "      <th>435</th>\n",
              "      <td>tunuko</td>\n",
              "      <td>2</td>\n",
              "    </tr>\n",
              "    <tr>\n",
              "      <th>24087</th>\n",
              "      <td>BelleDephane</td>\n",
              "      <td>2</td>\n",
              "    </tr>\n",
              "  </tbody>\n",
              "</table>\n",
              "<p>30379 rows × 2 columns</p>\n",
              "</div>"
            ],
            "text/plain": [
              "                 user_id  game_count\n",
              "692    76561198030784015        3846\n",
              "1134              MostOG        3608\n",
              "1205                 5e4        3278\n",
              "12508  76561198094803808        2597\n",
              "1133            kanehero        2535\n",
              "...                  ...         ...\n",
              "23190  76561198111233137           3\n",
              "11550  76561198040884966           3\n",
              "14517  76561198007324801           2\n",
              "435               tunuko           2\n",
              "24087       BelleDephane           2\n",
              "\n",
              "[30379 rows x 2 columns]"
            ]
          },
          "metadata": {
            "tags": []
          },
          "execution_count": 9
        }
      ]
    },
    {
      "cell_type": "markdown",
      "metadata": {
        "id": "w3CAExLuzB42"
      },
      "source": [
        "유저가 한 게임의 수를 저장한 데이터 프레임"
      ]
    },
    {
      "cell_type": "code",
      "metadata": {
        "id": "JqYBTruOyqYk"
      },
      "source": [
        "user_play_game_df.to_csv(DATA_DIR + 'user_play_game_df_v2.csv', index=False)"
      ],
      "execution_count": null,
      "outputs": []
    },
    {
      "cell_type": "code",
      "metadata": {
        "colab": {
          "base_uri": "https://localhost:8080/"
        },
        "id": "daOPUQiwitaT",
        "outputId": "56f7cfd1-7dce-4f39-b8af-67226daf5e38"
      },
      "source": [
        "len(user_play_game_li)"
      ],
      "execution_count": null,
      "outputs": [
        {
          "output_type": "execute_result",
          "data": {
            "text/plain": [
              "30379"
            ]
          },
          "metadata": {
            "tags": []
          },
          "execution_count": 11
        }
      ]
    },
    {
      "cell_type": "markdown",
      "metadata": {
        "id": "qKKsZJPGldvM"
      },
      "source": [
        "# 유저가 플레이한 게임을 시간 순서에 따라 나열한 데이터"
      ]
    },
    {
      "cell_type": "code",
      "metadata": {
        "colab": {
          "base_uri": "https://localhost:8080/"
        },
        "id": "jtW28802N3yL",
        "outputId": "33457f14-744a-413a-895a-1d5e562d557d"
      },
      "source": [
        "import pickle\n",
        "\n",
        "# save\n",
        "with open(DATA_DIR + 'user_play_game_li_data_v2.pickle', 'wb') as f:\n",
        "    pickle.dump(user_play_game_li, f, pickle.HIGHEST_PROTOCOL)\n",
        "\n",
        "# load\n",
        "with open(DATA_DIR + 'user_play_game_li_data_v2.pickle', 'rb') as f:\n",
        "    data = pickle.load(f)\n",
        "\n",
        "len(data)"
      ],
      "execution_count": null,
      "outputs": [
        {
          "output_type": "execute_result",
          "data": {
            "text/plain": [
              "30379"
            ]
          },
          "metadata": {
            "tags": []
          },
          "execution_count": 12
        }
      ]
    },
    {
      "cell_type": "markdown",
      "metadata": {
        "id": "17nzlkMNkNeK"
      },
      "source": [
        "\n",
        "# 컬럼 설명\n",
        "\n",
        "- content : 리뷰 내용 \n",
        "\n",
        "- game_id : 게임 키 값\n",
        "\n",
        "- game_link : 게임을 이용한 유저의 정보를 얻는 웹사이트 링크\n",
        "\n",
        "- header: 전처리전 해당 리뷰에 대한 사람들의 평가 (유용, 재미)\n",
        "\n",
        "- playHour : 전처리전 플레이 시간에 대한 정보\n",
        "\n",
        "- posted_at : 전처리전 리뷰 올린 시간에 대한 정보\n",
        "\n",
        "- title : 추천 여부\n",
        "\n",
        "- user_id : 유저 키 값\n",
        "\n",
        "- clean_playHour : 전처리후 플레이 시간에 대한 정보\n",
        "\n",
        "- game_content_link : 게임에 대한 메타 정보를 얻는 웹사이트 링크\n",
        "\n",
        "- timestamp : 라뷰를 등록한 시간 (년 - 월 - 일)\n",
        "\n",
        "- play_time_minute : 게임을 플레이한 시간 (60분 단위)\n",
        "\n",
        "- review_time_minute : 리뷰를 달기 위한 게임 플레이 시간 (60분 단위)\n",
        "\n",
        "- clean_header : 전처리후 해당 리뷰에 대한 사람들의 평가 (유용, 재미)\n",
        "\n",
        "- review_helpful_coun : 해당 리뷰를 유용하다고 판단한 사람의 수"
      ]
    },
    {
      "cell_type": "code",
      "metadata": {
        "colab": {
          "base_uri": "https://localhost:8080/",
          "height": 204
        },
        "id": "ufS8UgYTjTRr",
        "outputId": "597806e3-7d99-4498-88f2-034f888c8e14"
      },
      "source": [
        "df.head()"
      ],
      "execution_count": null,
      "outputs": [
        {
          "output_type": "execute_result",
          "data": {
            "text/html": [
              "<div>\n",
              "<style scoped>\n",
              "    .dataframe tbody tr th:only-of-type {\n",
              "        vertical-align: middle;\n",
              "    }\n",
              "\n",
              "    .dataframe tbody tr th {\n",
              "        vertical-align: top;\n",
              "    }\n",
              "\n",
              "    .dataframe thead th {\n",
              "        text-align: right;\n",
              "    }\n",
              "</style>\n",
              "<table border=\"1\" class=\"dataframe\">\n",
              "  <thead>\n",
              "    <tr style=\"text-align: right;\">\n",
              "      <th></th>\n",
              "      <th>content</th>\n",
              "      <th>recommended</th>\n",
              "      <th>user_id</th>\n",
              "      <th>game_id</th>\n",
              "      <th>timestamp</th>\n",
              "      <th>play_time_minute</th>\n",
              "      <th>review_time_minute</th>\n",
              "      <th>game_content_link</th>\n",
              "      <th>review_helpful_count</th>\n",
              "    </tr>\n",
              "  </thead>\n",
              "  <tbody>\n",
              "    <tr>\n",
              "      <th>0</th>\n",
              "      <td>Very good game, within 6 hours from launch, th...</td>\n",
              "      <td>Recommended</td>\n",
              "      <td>atgbui</td>\n",
              "      <td>768520</td>\n",
              "      <td>2021-06-20</td>\n",
              "      <td>3042.0</td>\n",
              "      <td>3042.0</td>\n",
              "      <td>https://store.steampowered.com/app/768520</td>\n",
              "      <td>5</td>\n",
              "    </tr>\n",
              "    <tr>\n",
              "      <th>1</th>\n",
              "      <td>I cannot recommend this game. It's been 8 year...</td>\n",
              "      <td>Not Recommended</td>\n",
              "      <td>atgbui</td>\n",
              "      <td>251570</td>\n",
              "      <td>2021-06-14</td>\n",
              "      <td>40440.0</td>\n",
              "      <td>40440.0</td>\n",
              "      <td>https://store.steampowered.com/app/251570</td>\n",
              "      <td>48</td>\n",
              "    </tr>\n",
              "    <tr>\n",
              "      <th>2</th>\n",
              "      <td>Game is currently busted for Co-Op. Despite th...</td>\n",
              "      <td>Not Recommended</td>\n",
              "      <td>atgbui</td>\n",
              "      <td>671510</td>\n",
              "      <td>2021-06-12</td>\n",
              "      <td>1734.0</td>\n",
              "      <td>906.0</td>\n",
              "      <td>https://store.steampowered.com/app/671510</td>\n",
              "      <td>3</td>\n",
              "    </tr>\n",
              "    <tr>\n",
              "      <th>3</th>\n",
              "      <td>Unfortunately dead game. https://steamcharts.c...</td>\n",
              "      <td>Not Recommended</td>\n",
              "      <td>atgbui</td>\n",
              "      <td>613590</td>\n",
              "      <td>2021-06-12</td>\n",
              "      <td>48.0</td>\n",
              "      <td>48.0</td>\n",
              "      <td>https://store.steampowered.com/app/613590</td>\n",
              "      <td>0</td>\n",
              "    </tr>\n",
              "    <tr>\n",
              "      <th>4</th>\n",
              "      <td>It just felt too generic- why would I play thi...</td>\n",
              "      <td>Not Recommended</td>\n",
              "      <td>atgbui</td>\n",
              "      <td>374280</td>\n",
              "      <td>2021-05-20</td>\n",
              "      <td>540.0</td>\n",
              "      <td>540.0</td>\n",
              "      <td>https://store.steampowered.com/app/374280</td>\n",
              "      <td>1</td>\n",
              "    </tr>\n",
              "  </tbody>\n",
              "</table>\n",
              "</div>"
            ],
            "text/plain": [
              "                                             content  ... review_helpful_count\n",
              "0  Very good game, within 6 hours from launch, th...  ...                    5\n",
              "1  I cannot recommend this game. It's been 8 year...  ...                   48\n",
              "2  Game is currently busted for Co-Op. Despite th...  ...                    3\n",
              "3  Unfortunately dead game. https://steamcharts.c...  ...                    0\n",
              "4  It just felt too generic- why would I play thi...  ...                    1\n",
              "\n",
              "[5 rows x 9 columns]"
            ]
          },
          "metadata": {
            "tags": []
          },
          "execution_count": 16
        }
      ]
    },
    {
      "cell_type": "code",
      "metadata": {
        "id": "D_TotCStkXYo"
      },
      "source": [
        ""
      ],
      "execution_count": null,
      "outputs": []
    },
    {
      "cell_type": "code",
      "metadata": {
        "colab": {
          "base_uri": "https://localhost:8080/",
          "height": 309
        },
        "id": "KkN1GnooxtX-",
        "outputId": "a01cc445-4610-45da-d6eb-d6ba3973dabc"
      },
      "source": [
        "sns.distplot(df['play_time_minute'])"
      ],
      "execution_count": null,
      "outputs": [
        {
          "output_type": "execute_result",
          "data": {
            "text/plain": [
              "<matplotlib.axes._subplots.AxesSubplot at 0x7f794c5b3b90>"
            ]
          },
          "metadata": {
            "tags": []
          },
          "execution_count": 13
        },
        {
          "output_type": "display_data",
          "data": {
            "image/png": "[encoded data removed]",
            "text/plain": [
              "<Figure size 432x288 with 1 Axes>"
            ]
          },
          "metadata": {
            "tags": [],
            "needs_background": "light"
          }
        }
      ]
    },
    {
      "cell_type": "code",
      "metadata": {
        "colab": {
          "base_uri": "https://localhost:8080/",
          "height": 309
        },
        "id": "Rewu-nFLzSVk",
        "outputId": "4b86132b-2523-4244-93b6-48b3f0712bab"
      },
      "source": [
        "sns.distplot(df['review_time_minute'])"
      ],
      "execution_count": null,
      "outputs": [
        {
          "output_type": "execute_result",
          "data": {
            "text/plain": [
              "<matplotlib.axes._subplots.AxesSubplot at 0x7f794c48f210>"
            ]
          },
          "metadata": {
            "tags": []
          },
          "execution_count": 14
        },
        {
          "output_type": "display_data",
          "data": {
            "image/png": "[encoded data removed]",
            "text/plain": [
              "<Figure size 432x288 with 1 Axes>"
            ]
          },
          "metadata": {
            "tags": [],
            "needs_background": "light"
          }
        }
      ]
    },
    {
      "cell_type": "code",
      "metadata": {
        "colab": {
          "base_uri": "https://localhost:8080/",
          "height": 298
        },
        "id": "jCzQxvfNzVon",
        "outputId": "24413115-67d7-444c-eaff-83b797935c70"
      },
      "source": [
        "sns.distplot(df['review_helpful_count'])"
      ],
      "execution_count": null,
      "outputs": [
        {
          "output_type": "execute_result",
          "data": {
            "text/plain": [
              "<matplotlib.axes._subplots.AxesSubplot at 0x7f794c3d9b50>"
            ]
          },
          "metadata": {
            "tags": []
          },
          "execution_count": 15
        },
        {
          "output_type": "display_data",
          "data": {
            "image/png": "[encoded data removed]",
            "text/plain": [
              "<Figure size 432x288 with 1 Axes>"
            ]
          },
          "metadata": {
            "tags": [],
            "needs_background": "light"
          }
        }
      ]
    },
    {
      "cell_type": "code",
      "metadata": {
        "id": "ihLiNhSrEFYd"
      },
      "source": [
        ""
      ],
      "execution_count": null,
      "outputs": []
    }
  ]
}