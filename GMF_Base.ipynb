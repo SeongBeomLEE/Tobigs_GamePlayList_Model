{
  "nbformat": 4,
  "nbformat_minor": 0,
  "metadata": {
    "colab": {
      "name": "GMF_Base.ipynb",
      "provenance": [],
      "collapsed_sections": [],
      "mount_file_id": "1gIOjgaYA-DoHNwDe4WZglSvjgmJ1y_p2",
      "authorship_tag": "ABX9TyNorSfdXe0166d8Ak4gob9S"
    },
    "kernelspec": {
      "name": "python3",
      "display_name": "Python 3"
    },
    "language_info": {
      "name": "python"
    },
    "accelerator": "GPU"
  },
  "cells": [
    {
      "cell_type": "code",
      "metadata": {
        "id": "EG3xlIKxeHcc"
      },
      "source": [
        "import numpy as np\n",
        "import pandas as pd\n",
        "\n",
        "import torch\n",
        "import torch.nn as nn\n",
        "import torch.nn.functional as F\n",
        "\n",
        "import warnings\n",
        "\n",
        "warnings.filterwarnings(action='ignore')\n",
        "\n",
        "DATA_DIR = '/content/drive/MyDrive/투빅스 컨퍼런스/Data/'\n",
        "MODEL_DIR = '/content/drive/MyDrive/투빅스 컨퍼런스/Model/'"
      ],
      "execution_count": null,
      "outputs": []
    },
    {
      "cell_type": "markdown",
      "metadata": {
        "id": "-qg3OfDvTIo0"
      },
      "source": [
        "# 데이터 불러오기"
      ]
    },
    {
      "cell_type": "code",
      "metadata": {
        "id": "CGdU3MHqTBJt"
      },
      "source": [
        "import pickle\n",
        "\n",
        "# 이미지 + 순서 + 장르(텍스트)\n",
        "with open(DATA_DIR + 'norm_game2vec.pickle', 'rb') as f:\n",
        "  norm_game2vec = pickle.load(f)"
      ],
      "execution_count": null,
      "outputs": []
    },
    {
      "cell_type": "code",
      "metadata": {
        "id": "oLKaGwBwTlGk"
      },
      "source": [
        "all_df = pd.read_csv(DATA_DIR + 'steam_reviews_clean_result_v2.csv')\n",
        "train_df = pd.read_csv(DATA_DIR + 'steam_reviews_clean_result_train_v2.csv')\n",
        "val_df = pd.read_csv(DATA_DIR + 'steam_reviews_clean_result_val_v2.csv')\n",
        "test_df = pd.read_csv(DATA_DIR + 'steam_reviews_clean_result_test_v2.csv')"
      ],
      "execution_count": null,
      "outputs": []
    },
    {
      "cell_type": "markdown",
      "metadata": {
        "id": "Wv_RTz3OUBgV"
      },
      "source": [
        "# 데이터 전처리"
      ]
    },
    {
      "cell_type": "code",
      "metadata": {
        "colab": {
          "base_uri": "https://localhost:8080/"
        },
        "id": "je1-My94XnXI",
        "outputId": "a3048644-1ca1-4f7a-82f8-6aa53214a5b5"
      },
      "source": [
        "(train_df.shape[0] + val_df.shape[0] + test_df.shape[0]) == (all_df.shape[0])"
      ],
      "execution_count": null,
      "outputs": [
        {
          "output_type": "execute_result",
          "data": {
            "text/plain": [
              "True"
            ]
          },
          "metadata": {
            "tags": []
          },
          "execution_count": 4
        }
      ]
    },
    {
      "cell_type": "code",
      "metadata": {
        "colab": {
          "base_uri": "https://localhost:8080/"
        },
        "id": "tpGDG0meUfMb",
        "outputId": "268cb6f9-665b-4a8c-c6db-85bf9155cdf4"
      },
      "source": [
        "a = all_df['user_id'].astype(str).unique().tolist()\n",
        "b = train_df['user_id'].astype(str).unique().tolist()\n",
        "\n",
        "a = set(a)\n",
        "b = set(b)\n",
        "\n",
        "b - a"
      ],
      "execution_count": null,
      "outputs": [
        {
          "output_type": "execute_result",
          "data": {
            "text/plain": [
              "set()"
            ]
          },
          "metadata": {
            "tags": []
          },
          "execution_count": 5
        }
      ]
    },
    {
      "cell_type": "code",
      "metadata": {
        "colab": {
          "base_uri": "https://localhost:8080/"
        },
        "id": "JYiaRjUuaYkX",
        "outputId": "ae2d6ac1-67d5-44e7-e4c8-e8fce31107cf"
      },
      "source": [
        "all_df['recommended'].value_counts() / sum(all_df['recommended'].value_counts())"
      ],
      "execution_count": null,
      "outputs": [
        {
          "output_type": "execute_result",
          "data": {
            "text/plain": [
              "Recommended        0.762219\n",
              "Not Recommended    0.237781\n",
              "Name: recommended, dtype: float64"
            ]
          },
          "metadata": {
            "tags": []
          },
          "execution_count": 6
        }
      ]
    },
    {
      "cell_type": "code",
      "metadata": {
        "colab": {
          "base_uri": "https://localhost:8080/"
        },
        "id": "yeDU-4WQalfP",
        "outputId": "fcca5c17-1a7e-4613-df16-c35cd9106b91"
      },
      "source": [
        "train_df['recommended'].value_counts() / sum(train_df['recommended'].value_counts())"
      ],
      "execution_count": null,
      "outputs": [
        {
          "output_type": "execute_result",
          "data": {
            "text/plain": [
              "Recommended        0.764251\n",
              "Not Recommended    0.235749\n",
              "Name: recommended, dtype: float64"
            ]
          },
          "metadata": {
            "tags": []
          },
          "execution_count": 7
        }
      ]
    },
    {
      "cell_type": "code",
      "metadata": {
        "colab": {
          "base_uri": "https://localhost:8080/"
        },
        "id": "XKMXnVxwalo2",
        "outputId": "b6e1a16a-20ba-4f00-f490-58622efe3a7f"
      },
      "source": [
        "val_df['recommended'].value_counts() / sum(val_df['recommended'].value_counts())"
      ],
      "execution_count": null,
      "outputs": [
        {
          "output_type": "execute_result",
          "data": {
            "text/plain": [
              "Recommended        0.751932\n",
              "Not Recommended    0.248068\n",
              "Name: recommended, dtype: float64"
            ]
          },
          "metadata": {
            "tags": []
          },
          "execution_count": 8
        }
      ]
    },
    {
      "cell_type": "code",
      "metadata": {
        "colab": {
          "base_uri": "https://localhost:8080/"
        },
        "id": "3AVKsbJ0alyX",
        "outputId": "8711ff46-8de7-4c56-cd35-37d9f853cfc0"
      },
      "source": [
        "test_df['recommended'].value_counts() / sum(test_df['recommended'].value_counts())"
      ],
      "execution_count": null,
      "outputs": [
        {
          "output_type": "execute_result",
          "data": {
            "text/plain": [
              "Recommended        0.763636\n",
              "Not Recommended    0.236364\n",
              "Name: recommended, dtype: float64"
            ]
          },
          "metadata": {
            "tags": []
          },
          "execution_count": 9
        }
      ]
    },
    {
      "cell_type": "code",
      "metadata": {
        "id": "SWKTK8SnaU_m"
      },
      "source": [
        "all_df['label'] = all_df['recommended'].apply(lambda x : 0 if x == 'Not Recommended' else 1)\n",
        "train_df['label'] = train_df['recommended'].apply(lambda x : 0 if x == 'Not Recommended' else 1)\n",
        "val_df['label'] = val_df['recommended'].apply(lambda x : 0 if x == 'Not Recommended' else 1)\n",
        "test_df['label'] = test_df['recommended'].apply(lambda x : 0 if x == 'Not Recommended' else 1)"
      ],
      "execution_count": null,
      "outputs": []
    },
    {
      "cell_type": "code",
      "metadata": {
        "colab": {
          "base_uri": "https://localhost:8080/",
          "height": 289
        },
        "id": "-6X4J9Z9bH9w",
        "outputId": "643adcd4-38ff-4263-ede0-69dd9c026de6"
      },
      "source": [
        "train_df.head()"
      ],
      "execution_count": null,
      "outputs": [
        {
          "output_type": "execute_result",
          "data": {
            "text/html": [
              "<div>\n",
              "<style scoped>\n",
              "    .dataframe tbody tr th:only-of-type {\n",
              "        vertical-align: middle;\n",
              "    }\n",
              "\n",
              "    .dataframe tbody tr th {\n",
              "        vertical-align: top;\n",
              "    }\n",
              "\n",
              "    .dataframe thead th {\n",
              "        text-align: right;\n",
              "    }\n",
              "</style>\n",
              "<table border=\"1\" class=\"dataframe\">\n",
              "  <thead>\n",
              "    <tr style=\"text-align: right;\">\n",
              "      <th></th>\n",
              "      <th>content</th>\n",
              "      <th>recommended</th>\n",
              "      <th>user_id</th>\n",
              "      <th>game_id</th>\n",
              "      <th>timestamp</th>\n",
              "      <th>play_time_minute</th>\n",
              "      <th>review_time_minute</th>\n",
              "      <th>game_content_link</th>\n",
              "      <th>review_helpful_count</th>\n",
              "      <th>label_encode_user_id</th>\n",
              "      <th>label_encode_game_id</th>\n",
              "      <th>idx</th>\n",
              "      <th>label</th>\n",
              "    </tr>\n",
              "  </thead>\n",
              "  <tbody>\n",
              "    <tr>\n",
              "      <th>0</th>\n",
              "      <td>Game is dead, installed, can play training. Bu...</td>\n",
              "      <td>Not Recommended</td>\n",
              "      <td>atgbui</td>\n",
              "      <td>728540</td>\n",
              "      <td>2021-05-19</td>\n",
              "      <td>18.0</td>\n",
              "      <td>18.0</td>\n",
              "      <td>https://store.steampowered.com/app/728540</td>\n",
              "      <td>0</td>\n",
              "      <td>19157</td>\n",
              "      <td>14662</td>\n",
              "      <td>6</td>\n",
              "      <td>0</td>\n",
              "    </tr>\n",
              "    <tr>\n",
              "      <th>1</th>\n",
              "      <td>Adjust settings- mouse disappears (invisible) ...</td>\n",
              "      <td>Not Recommended</td>\n",
              "      <td>atgbui</td>\n",
              "      <td>999270</td>\n",
              "      <td>2021-05-19</td>\n",
              "      <td>6.0</td>\n",
              "      <td>6.0</td>\n",
              "      <td>https://store.steampowered.com/app/999270</td>\n",
              "      <td>1</td>\n",
              "      <td>19157</td>\n",
              "      <td>18652</td>\n",
              "      <td>7</td>\n",
              "      <td>0</td>\n",
              "    </tr>\n",
              "    <tr>\n",
              "      <th>2</th>\n",
              "      <td>I wish there was a neutral review button.The g...</td>\n",
              "      <td>Not Recommended</td>\n",
              "      <td>atgbui</td>\n",
              "      <td>920470</td>\n",
              "      <td>2021-05-16</td>\n",
              "      <td>216.0</td>\n",
              "      <td>216.0</td>\n",
              "      <td>https://store.steampowered.com/app/920470</td>\n",
              "      <td>0</td>\n",
              "      <td>19157</td>\n",
              "      <td>17716</td>\n",
              "      <td>8</td>\n",
              "      <td>0</td>\n",
              "    </tr>\n",
              "    <tr>\n",
              "      <th>3</th>\n",
              "      <td>The game brings something new to the genre, an...</td>\n",
              "      <td>Not Recommended</td>\n",
              "      <td>atgbui</td>\n",
              "      <td>1183940</td>\n",
              "      <td>2021-05-09</td>\n",
              "      <td>738.0</td>\n",
              "      <td>738.0</td>\n",
              "      <td>https://store.steampowered.com/app/1183940</td>\n",
              "      <td>0</td>\n",
              "      <td>19157</td>\n",
              "      <td>20641</td>\n",
              "      <td>9</td>\n",
              "      <td>0</td>\n",
              "    </tr>\n",
              "    <tr>\n",
              "      <th>4</th>\n",
              "      <td>Update: 06/11/2021: Game seems to be abandoned...</td>\n",
              "      <td>Not Recommended</td>\n",
              "      <td>atgbui</td>\n",
              "      <td>1254400</td>\n",
              "      <td>2021-05-09</td>\n",
              "      <td>438.0</td>\n",
              "      <td>438.0</td>\n",
              "      <td>https://store.steampowered.com/app/1254400</td>\n",
              "      <td>1</td>\n",
              "      <td>19157</td>\n",
              "      <td>21185</td>\n",
              "      <td>10</td>\n",
              "      <td>0</td>\n",
              "    </tr>\n",
              "  </tbody>\n",
              "</table>\n",
              "</div>"
            ],
            "text/plain": [
              "                                             content  ... label\n",
              "0  Game is dead, installed, can play training. Bu...  ...     0\n",
              "1  Adjust settings- mouse disappears (invisible) ...  ...     0\n",
              "2  I wish there was a neutral review button.The g...  ...     0\n",
              "3  The game brings something new to the genre, an...  ...     0\n",
              "4  Update: 06/11/2021: Game seems to be abandoned...  ...     0\n",
              "\n",
              "[5 rows x 13 columns]"
            ]
          },
          "metadata": {
            "tags": []
          },
          "execution_count": 11
        }
      ]
    },
    {
      "cell_type": "code",
      "metadata": {
        "id": "eG-rM8MEdJyj"
      },
      "source": [
        "train_user_id_idx_li = train_df['label_encode_user_id'].tolist()\n",
        "train_game_id_idx_li = train_df['label_encode_game_id'].tolist()\n",
        "train_label_li = train_df['label'].astype(float).tolist()\n",
        "\n",
        "val_user_id_idx_li = val_df['label_encode_user_id'].tolist()\n",
        "val_game_id_idx_li = val_df['label_encode_game_id'].tolist()\n",
        "val_label_li = val_df['label'].astype(float).tolist()\n",
        "\n",
        "test_user_id_idx_li = test_df['label_encode_user_id'].tolist()\n",
        "test_game_id_idx_li = test_df['label_encode_game_id'].tolist()\n",
        "test_label_li = test_df['label'].astype(float).tolist()"
      ],
      "execution_count": null,
      "outputs": []
    },
    {
      "cell_type": "code",
      "metadata": {
        "id": "VhktTFykfH36"
      },
      "source": [
        "torch_norm_game2vec = torch.FloatTensor(norm_game2vec)"
      ],
      "execution_count": null,
      "outputs": []
    },
    {
      "cell_type": "markdown",
      "metadata": {
        "id": "3BTHbbJebfKP"
      },
      "source": [
        "# 모델"
      ]
    },
    {
      "cell_type": "code",
      "metadata": {
        "id": "rhZrDhbRdYiE"
      },
      "source": [
        "from torch.utils.data import Dataset\n",
        "from torch.utils.data import DataLoader\n",
        "\n",
        "class NCFData(Dataset):\n",
        "    def __init__(self, user_id_idx_li, game_id_idx_li, label_li):\n",
        "      super(NCFData, self).__init__()\n",
        "      self._user_id_idx_li = user_id_idx_li\n",
        "      self._game_id_idx_li = game_id_idx_li\n",
        "      self._label_li = label_li\n",
        "\n",
        "    def __len__(self):\n",
        "      return len(self._label_li)\n",
        "\n",
        "    def __getitem__(self, idx):\n",
        "      user = self._user_id_idx_li[idx]\n",
        "      game = self._game_id_idx_li[idx]\n",
        "      label = self._label_li[idx]\n",
        "\n",
        "      return user, game, label"
      ],
      "execution_count": null,
      "outputs": []
    },
    {
      "cell_type": "code",
      "metadata": {
        "id": "5sA80TVsbrW6"
      },
      "source": [
        "user_num = all_df['label_encode_user_id'].max() + 1\n",
        "item_num = all_df['label_encode_game_id'].max() + 1\n",
        "factor_num = norm_game2vec.shape[1]"
      ],
      "execution_count": null,
      "outputs": []
    },
    {
      "cell_type": "code",
      "metadata": {
        "colab": {
          "base_uri": "https://localhost:8080/"
        },
        "id": "f81qvktmGH0w",
        "outputId": "1ee8230c-a6e4-4bf5-b205-6912a9c4545f"
      },
      "source": [
        "# 환경설정\n",
        "if torch.cuda.is_available():\n",
        "  DEVICE = torch.device('cuda')\n",
        "else:\n",
        "  DEVICE = torch.device('cpu')\n",
        "print(DEVICE)"
      ],
      "execution_count": null,
      "outputs": [
        {
          "output_type": "stream",
          "text": [
            "cuda\n"
          ],
          "name": "stdout"
        }
      ]
    },
    {
      "cell_type": "code",
      "metadata": {
        "id": "rjlLRd0xXb-2"
      },
      "source": [
        "BATCH_SIZE = 512\n",
        "EPOCHS = 30"
      ],
      "execution_count": null,
      "outputs": []
    },
    {
      "cell_type": "code",
      "metadata": {
        "id": "FbcgyoiXQn5S"
      },
      "source": [
        "class GMF(nn.Module):\n",
        "  def __init__(self, user_num, item_num, factor_num):\n",
        "      super(GMF, self).__init__()\n",
        "\n",
        "      # 유저 임베딩\n",
        "      self.user_embedding = nn.Embedding(user_num, factor_num)\n",
        "      \n",
        "      # 아이템 임베딩\n",
        "      self.item_embedding = nn.Embedding(item_num, factor_num)\n",
        "\n",
        "      # FC\n",
        "      self.FC_layer = nn.Sequential(\n",
        "          nn.Linear(factor_num, 1),\n",
        "          nn.Sigmoid()\n",
        "      )\n",
        "      self._init_weight_()\n",
        "\n",
        "  def _init_weight_(self):\n",
        "      # weight 초기화\n",
        "      nn.init.normal_(self.user_embedding.weight, std=0.01)\n",
        "      nn.init.normal_(self.item_embedding.weight, std=0.01)\n",
        "      for m in self.FC_layer:\n",
        "          if isinstance(m, nn.Linear):\n",
        "              nn.init.xavier_uniform_(m.weight)\n",
        "\n",
        "  def forward(self, user_idx, item_idx):\n",
        "      user_embedding = self.user_embedding(user_idx)\n",
        "      item_embedding = self.item_embedding(item_idx)\n",
        "\n",
        "      element_wise_product = (user_embedding * item_embedding)\n",
        "\n",
        "      out = self.FC_layer(element_wise_product)\n",
        "\n",
        "      return out.view(-1)"
      ],
      "execution_count": null,
      "outputs": []
    },
    {
      "cell_type": "code",
      "metadata": {
        "id": "qEYoe5NrcYNL"
      },
      "source": [
        "from sklearn.metrics import roc_auc_score\n",
        "\n",
        "def roc_auc_compute_fn(y_pred, y_true):\n",
        "\n",
        "  return roc_auc_score(y_true, y_pred)\n",
        "\n",
        "from sklearn.metrics import f1_score\n",
        "\n",
        "def f1_score_compute_fn(y_pred, y_true):\n",
        "\n",
        "  return f1_score(y_true, y_pred)\n",
        "\n",
        "def train(model, train_loader):\n",
        "  model.train()\n",
        "  train_loss = 0\n",
        "  correct = 0\n",
        "\n",
        "  auc_output_li = []\n",
        "  acc_output_li = []\n",
        "  label_li = []\n",
        "\n",
        "  for user, game, label in train_loader:\n",
        "    user = user.to(DEVICE)\n",
        "    game = game.to(DEVICE)\n",
        "    label = label.to(DEVICE)\n",
        "    label = label.type(torch.DoubleTensor)\n",
        "\n",
        "    optimizer.zero_grad()\n",
        "\n",
        "    output = model(user, game)\n",
        "    output = output.type(torch.DoubleTensor)\n",
        "\n",
        "    loss = criterion(output, label)\n",
        "\n",
        "    loss.backward()\n",
        "    optimizer.step()\n",
        "\n",
        "    train_loss += loss.item()\n",
        "\n",
        "    auc_output_li.append(output.detach().cpu().numpy())\n",
        "\n",
        "    output = (output > 0.5).float()\n",
        "    correct += (output == label).float().sum()\n",
        "\n",
        "    acc_output_li.append(output.detach().cpu().numpy())\n",
        "    label_li.append(label.detach().cpu().numpy())\n",
        "\n",
        "  auc_output_li = np.concatenate(auc_output_li)\n",
        "  acc_output_li = np.concatenate(acc_output_li)\n",
        "  label_li = np.concatenate(label_li)\n",
        "\n",
        "  train_loss /= len(train_loader)\n",
        "  train_accuracy = 100. * correct / len(train_loader.dataset)\n",
        "  train_auc = roc_auc_compute_fn(auc_output_li, label_li)\n",
        "  train_f1 = f1_score_compute_fn(acc_output_li, label_li)\n",
        "\n",
        "  return train_loss, train_accuracy, train_auc, train_f1"
      ],
      "execution_count": null,
      "outputs": []
    },
    {
      "cell_type": "code",
      "metadata": {
        "id": "tglbvAe6cYNR"
      },
      "source": [
        "def evaluate(model, test_loader):\n",
        "  model.eval()\n",
        "  test_loss = 0\n",
        "  correct = 0\n",
        "\n",
        "  auc_output_li = []\n",
        "  acc_output_li = []\n",
        "  label_li = []\n",
        "\n",
        "  with torch.no_grad():\n",
        "    for user, game, label in test_loader:\n",
        "      user = user.to(DEVICE)\n",
        "      game = game.to(DEVICE)\n",
        "      label = label.to(DEVICE)\n",
        "      label = label.type(torch.DoubleTensor)\n",
        "\n",
        "      output = model(user, game)\n",
        "      output = output.type(torch.DoubleTensor)\n",
        "\n",
        "      loss = criterion(output, label)\n",
        "      test_loss += loss.item()\n",
        "\n",
        "      auc_output_li.append(output.detach().cpu().numpy())\n",
        "\n",
        "      output = (output > 0.5).float()\n",
        "      correct += (output == label).float().sum()\n",
        "\n",
        "      acc_output_li.append(output.detach().cpu().numpy())\n",
        "      label_li.append(label.detach().cpu().numpy())\n",
        "\n",
        "  auc_output_li = np.concatenate(auc_output_li)\n",
        "  acc_output_li = np.concatenate(acc_output_li)\n",
        "  label_li = np.concatenate(label_li)\n",
        "\n",
        "  test_loss /= len(test_loader)\n",
        "  test_accuracy = 100. * correct / len(test_loader.dataset)\n",
        "  test_auc = roc_auc_compute_fn(auc_output_li, label_li)\n",
        "  test_f1 = f1_score_compute_fn(acc_output_li, label_li)\n",
        "\n",
        "  return test_loss, test_accuracy, test_auc, test_f1"
      ],
      "execution_count": null,
      "outputs": []
    },
    {
      "cell_type": "code",
      "metadata": {
        "colab": {
          "base_uri": "https://localhost:8080/"
        },
        "id": "uPZmbO1pXU5k",
        "outputId": "95a01714-09c6-4ffe-f1d8-064448020170"
      },
      "source": [
        "model = GMF(user_num = user_num, item_num = item_num, factor_num = factor_num).to(DEVICE)\n",
        "criterion = nn.BCELoss()\n",
        "optimizer = torch.optim.Adam(model.parameters(), lr=0.01)\n",
        "\n",
        "train_dataset = NCFData(train_user_id_idx_li, train_game_id_idx_li, train_label_li)\n",
        "\n",
        "train_loader = DataLoader(train_dataset,\n",
        "  batch_size = BATCH_SIZE,\n",
        "  shuffle = True,\n",
        "  drop_last = False)\n",
        "\n",
        "val_dataset = NCFData(val_user_id_idx_li, val_game_id_idx_li, val_label_li)\n",
        "\n",
        "val_loader = DataLoader(val_dataset,\n",
        "  batch_size = BATCH_SIZE,\n",
        "  shuffle = False,\n",
        "  drop_last = False)\n",
        "\n",
        "best_metric = 0\n",
        "best_epoch = 0\n",
        "\n",
        "for epoch in range(1, EPOCHS + 1):\n",
        "  train_loss, train_accuracy, train_auc, train_f1 = train(model, train_loader)\n",
        "  test_loss, test_accuracy, test_auc, test_f1 = evaluate(model, val_loader)\n",
        "  print(f\"[EPOCH: {epoch}], Train Loss: {train_loss:.4f}, Train Accuracy: {train_accuracy:.2f} %, Train F!-Score: {train_f1:.4f}, Train AUC: {train_auc:.4f}, \\\n",
        "  Val Loss: {test_loss:.4f}, Val Accuracy: {test_accuracy:.2f} %, Val F!-Score: {test_f1:.4f}, Val AUC: {test_auc:.4f} \\n\")\n",
        "\n",
        "  if best_metric < test_auc:\n",
        "\n",
        "    best_metric = test_auc\n",
        "    best_epoch = epoch\n",
        "    MODEL_DIR = '/content/drive/MyDrive/투빅스 컨퍼런스/Model/'\n",
        "    torch.save(model.state_dict(), MODEL_DIR + f'GMF_Base_Best_model_state_dict.pt')\n",
        "\n",
        "# Train Accuracy - Val Accuracy 를 해서 가장 작은 모델을 저장하는 것이 좋들 듯\n",
        "# 왜? Val 에는 1만 존재하기 때문에 Train의 유저의 선호도를 어느 정도 맞춘 상태에서\n",
        "# Val의 선호 게임을 맞추는 것이 조금 더 타당할 수 있음\n",
        "# 따라서 Train Accuracy - Val Accuracy의 편차가 가장 작은 모델이 가장 성능이 우수하다고 생각함\n",
        "\n",
        "# 현재로써는 AUC 를 메트릭으로 사용해도 좋을 거 같음"
      ],
      "execution_count": null,
      "outputs": [
        {
          "output_type": "stream",
          "text": [
            "[EPOCH: 1], Train Loss: 0.4831, Train Accuracy: 77.79 %, Train F!-Score: 0.8689, Train AUC: 0.7253,   Val Loss: 0.4600, Val Accuracy: 78.10 %, Val F!-Score: 0.8668, Val AUC: 0.7828 \n",
            "\n",
            "[EPOCH: 2], Train Loss: 0.1234, Train Accuracy: 95.40 %, Train F!-Score: 0.9701, Train AUC: 0.9854,   Val Loss: 0.6602, Val Accuracy: 75.57 %, Val F!-Score: 0.8454, Val AUC: 0.7327 \n",
            "\n",
            "[EPOCH: 3], Train Loss: 0.0108, Train Accuracy: 99.66 %, Train F!-Score: 0.9978, Train AUC: 0.9999,   Val Loss: 1.2102, Val Accuracy: 75.92 %, Val F!-Score: 0.8475, Val AUC: 0.7356 \n",
            "\n",
            "[EPOCH: 4], Train Loss: 0.0010, Train Accuracy: 99.97 %, Train F!-Score: 0.9998, Train AUC: 1.0000,   Val Loss: 1.6112, Val Accuracy: 76.01 %, Val F!-Score: 0.8487, Val AUC: 0.7362 \n",
            "\n",
            "[EPOCH: 5], Train Loss: 0.0002, Train Accuracy: 100.00 %, Train F!-Score: 1.0000, Train AUC: 1.0000,   Val Loss: 1.8993, Val Accuracy: 75.97 %, Val F!-Score: 0.8482, Val AUC: 0.7340 \n",
            "\n",
            "[EPOCH: 6], Train Loss: 0.0001, Train Accuracy: 100.00 %, Train F!-Score: 1.0000, Train AUC: 1.0000,   Val Loss: 2.3841, Val Accuracy: 76.02 %, Val F!-Score: 0.8487, Val AUC: 0.7351 \n",
            "\n",
            "[EPOCH: 7], Train Loss: 0.0007, Train Accuracy: 99.98 %, Train F!-Score: 0.9999, Train AUC: 1.0000,   Val Loss: 3.6455, Val Accuracy: 75.83 %, Val F!-Score: 0.8479, Val AUC: 0.7253 \n",
            "\n",
            "[EPOCH: 8], Train Loss: 0.0044, Train Accuracy: 99.91 %, Train F!-Score: 0.9994, Train AUC: 1.0000,   Val Loss: 4.6173, Val Accuracy: 75.95 %, Val F!-Score: 0.8498, Val AUC: 0.7202 \n",
            "\n",
            "[EPOCH: 9], Train Loss: 0.0112, Train Accuracy: 99.79 %, Train F!-Score: 0.9986, Train AUC: 0.9999,   Val Loss: 4.5969, Val Accuracy: 76.02 %, Val F!-Score: 0.8512, Val AUC: 0.7160 \n",
            "\n",
            "[EPOCH: 10], Train Loss: 0.0119, Train Accuracy: 99.76 %, Train F!-Score: 0.9984, Train AUC: 0.9999,   Val Loss: 4.4061, Val Accuracy: 75.97 %, Val F!-Score: 0.8512, Val AUC: 0.7117 \n",
            "\n",
            "[EPOCH: 11], Train Loss: 0.0088, Train Accuracy: 99.81 %, Train F!-Score: 0.9987, Train AUC: 0.9999,   Val Loss: 4.4374, Val Accuracy: 75.98 %, Val F!-Score: 0.8513, Val AUC: 0.7119 \n",
            "\n",
            "[EPOCH: 12], Train Loss: 0.0061, Train Accuracy: 99.87 %, Train F!-Score: 0.9992, Train AUC: 0.9999,   Val Loss: 4.8016, Val Accuracy: 75.89 %, Val F!-Score: 0.8505, Val AUC: 0.7108 \n",
            "\n",
            "[EPOCH: 13], Train Loss: 0.0041, Train Accuracy: 99.91 %, Train F!-Score: 0.9994, Train AUC: 1.0000,   Val Loss: 5.4042, Val Accuracy: 76.11 %, Val F!-Score: 0.8527, Val AUC: 0.7100 \n",
            "\n",
            "[EPOCH: 14], Train Loss: 0.0042, Train Accuracy: 99.92 %, Train F!-Score: 0.9995, Train AUC: 1.0000,   Val Loss: 5.9824, Val Accuracy: 76.06 %, Val F!-Score: 0.8521, Val AUC: 0.7087 \n",
            "\n",
            "[EPOCH: 15], Train Loss: 0.0048, Train Accuracy: 99.92 %, Train F!-Score: 0.9994, Train AUC: 1.0000,   Val Loss: 6.5001, Val Accuracy: 75.91 %, Val F!-Score: 0.8512, Val AUC: 0.7045 \n",
            "\n",
            "[EPOCH: 16], Train Loss: 0.0057, Train Accuracy: 99.92 %, Train F!-Score: 0.9995, Train AUC: 1.0000,   Val Loss: 7.1658, Val Accuracy: 76.20 %, Val F!-Score: 0.8538, Val AUC: 0.7024 \n",
            "\n",
            "[EPOCH: 17], Train Loss: 0.0061, Train Accuracy: 99.92 %, Train F!-Score: 0.9995, Train AUC: 0.9999,   Val Loss: 7.7003, Val Accuracy: 76.15 %, Val F!-Score: 0.8536, Val AUC: 0.6987 \n",
            "\n",
            "[EPOCH: 18], Train Loss: 0.0069, Train Accuracy: 99.92 %, Train F!-Score: 0.9995, Train AUC: 0.9999,   Val Loss: 8.1490, Val Accuracy: 76.22 %, Val F!-Score: 0.8542, Val AUC: 0.6982 \n",
            "\n",
            "[EPOCH: 19], Train Loss: 0.0072, Train Accuracy: 99.93 %, Train F!-Score: 0.9995, Train AUC: 0.9999,   Val Loss: 8.6965, Val Accuracy: 76.35 %, Val F!-Score: 0.8554, Val AUC: 0.6964 \n",
            "\n",
            "[EPOCH: 20], Train Loss: 0.0066, Train Accuracy: 99.93 %, Train F!-Score: 0.9996, Train AUC: 0.9999,   Val Loss: 9.0433, Val Accuracy: 76.15 %, Val F!-Score: 0.8541, Val AUC: 0.6926 \n",
            "\n",
            "[EPOCH: 21], Train Loss: 0.0071, Train Accuracy: 99.94 %, Train F!-Score: 0.9996, Train AUC: 0.9999,   Val Loss: 9.4132, Val Accuracy: 76.22 %, Val F!-Score: 0.8544, Val AUC: 0.6903 \n",
            "\n",
            "[EPOCH: 22], Train Loss: 0.0078, Train Accuracy: 99.93 %, Train F!-Score: 0.9996, Train AUC: 0.9999,   Val Loss: 9.9359, Val Accuracy: 76.20 %, Val F!-Score: 0.8545, Val AUC: 0.6871 \n",
            "\n",
            "[EPOCH: 23], Train Loss: 0.0077, Train Accuracy: 99.94 %, Train F!-Score: 0.9996, Train AUC: 0.9999,   Val Loss: 10.5043, Val Accuracy: 76.25 %, Val F!-Score: 0.8552, Val AUC: 0.6836 \n",
            "\n",
            "[EPOCH: 24], Train Loss: 0.0081, Train Accuracy: 99.94 %, Train F!-Score: 0.9996, Train AUC: 0.9999,   Val Loss: 11.0095, Val Accuracy: 76.32 %, Val F!-Score: 0.8557, Val AUC: 0.6809 \n",
            "\n",
            "[EPOCH: 25], Train Loss: 0.0081, Train Accuracy: 99.95 %, Train F!-Score: 0.9997, Train AUC: 0.9999,   Val Loss: 11.4565, Val Accuracy: 76.32 %, Val F!-Score: 0.8560, Val AUC: 0.6783 \n",
            "\n",
            "[EPOCH: 26], Train Loss: 0.0073, Train Accuracy: 99.95 %, Train F!-Score: 0.9997, Train AUC: 0.9999,   Val Loss: 11.8174, Val Accuracy: 76.38 %, Val F!-Score: 0.8564, Val AUC: 0.6757 \n",
            "\n",
            "[EPOCH: 27], Train Loss: 0.0083, Train Accuracy: 99.95 %, Train F!-Score: 0.9997, Train AUC: 0.9999,   Val Loss: 12.1996, Val Accuracy: 76.35 %, Val F!-Score: 0.8563, Val AUC: 0.6719 \n",
            "\n",
            "[EPOCH: 28], Train Loss: 0.0087, Train Accuracy: 99.96 %, Train F!-Score: 0.9997, Train AUC: 0.9999,   Val Loss: 12.5989, Val Accuracy: 76.41 %, Val F!-Score: 0.8567, Val AUC: 0.6702 \n",
            "\n",
            "[EPOCH: 29], Train Loss: 0.0078, Train Accuracy: 99.96 %, Train F!-Score: 0.9997, Train AUC: 0.9999,   Val Loss: 12.7989, Val Accuracy: 76.33 %, Val F!-Score: 0.8560, Val AUC: 0.6676 \n",
            "\n",
            "[EPOCH: 30], Train Loss: 0.0086, Train Accuracy: 99.96 %, Train F!-Score: 0.9997, Train AUC: 0.9999,   Val Loss: 13.2132, Val Accuracy: 76.36 %, Val F!-Score: 0.8563, Val AUC: 0.6641 \n",
            "\n"
          ],
          "name": "stdout"
        }
      ]
    },
    {
      "cell_type": "code",
      "metadata": {
        "colab": {
          "base_uri": "https://localhost:8080/"
        },
        "id": "E5bjseEvH_F8",
        "outputId": "9f10a397-fa0d-456c-af84-9742b2faeca2"
      },
      "source": [
        "print(f'Best_Epoch : {best_epoch}, Best_Metric : {best_metric}')"
      ],
      "execution_count": null,
      "outputs": [
        {
          "output_type": "stream",
          "text": [
            "Best_Epoch : 1, Best_Metric : 0.782786187856266\n"
          ],
          "name": "stdout"
        }
      ]
    },
    {
      "cell_type": "code",
      "metadata": {
        "id": "JlcIWckIWY1Z",
        "colab": {
          "base_uri": "https://localhost:8080/"
        },
        "outputId": "7409d632-2bfa-4901-83c7-ca681fec4c5f"
      },
      "source": [
        "test_dataset = NCFData(test_user_id_idx_li, test_game_id_idx_li, test_label_li)\n",
        "\n",
        "test_loader = DataLoader(test_dataset,\n",
        "  batch_size = BATCH_SIZE,\n",
        "  shuffle = False,\n",
        "  drop_last = False)\n",
        "\n",
        "model.load_state_dict(torch.load(MODEL_DIR + f'GMF_Base_Best_model_state_dict.pt'))\n",
        "\n",
        "test_loss, test_accuracy, test_auc, test_f1 = evaluate(model, test_loader)\n",
        "\n",
        "print(f\"Test Loss: {test_loss:.4f}, Test Accuracy: {test_accuracy:.2f} %, Test F!-Score: {test_f1:.4f}, Test AUC: {test_auc:.4f}\")"
      ],
      "execution_count": null,
      "outputs": [
        {
          "output_type": "stream",
          "text": [
            "Test Loss: 0.4559, Test Accuracy: 78.51 %, Test F!-Score: 0.8711, Test AUC: 0.7745\n"
          ],
          "name": "stdout"
        }
      ]
    },
    {
      "cell_type": "code",
      "metadata": {
        "id": "J4QHjL6h9Cdf"
      },
      "source": [
        ""
      ],
      "execution_count": null,
      "outputs": []
    }
  ]
}