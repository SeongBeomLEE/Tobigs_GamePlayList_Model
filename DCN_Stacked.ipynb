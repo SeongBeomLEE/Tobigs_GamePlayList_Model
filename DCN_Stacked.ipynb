{
  "nbformat": 4,
  "nbformat_minor": 0,
  "metadata": {
    "accelerator": "GPU",
    "colab": {
      "name": "DCN_Stacked.ipynb",
      "provenance": [],
      "collapsed_sections": [],
      "mount_file_id": "1TwEaAF2jPiyxr3VAX9gQeXeoYn4WjkTM",
      "authorship_tag": "ABX9TyN7l/tqe1HhYY+rmOz+UFUS"
    },
    "kernelspec": {
      "display_name": "Python 3",
      "name": "python3"
    },
    "language_info": {
      "name": "python"
    }
  },
  "cells": [
    {
      "cell_type": "code",
      "metadata": {
        "id": "EG3xlIKxeHcc"
      },
      "source": [
        "import numpy as np\n",
        "import pandas as pd\n",
        "\n",
        "import torch\n",
        "import torch.nn as nn\n",
        "import torch.nn.functional as F\n",
        "\n",
        "import warnings\n",
        "\n",
        "warnings.filterwarnings(action='ignore')\n",
        "\n",
        "DATA_DIR = '/content/drive/MyDrive/투빅스 컨퍼런스/Data/'\n",
        "MODEL_DIR = '/content/drive/MyDrive/투빅스 컨퍼런스/Model/'"
      ],
      "execution_count": 1,
      "outputs": []
    },
    {
      "cell_type": "markdown",
      "metadata": {
        "id": "-qg3OfDvTIo0"
      },
      "source": [
        "# 데이터 불러오기"
      ]
    },
    {
      "cell_type": "code",
      "metadata": {
        "id": "CGdU3MHqTBJt"
      },
      "source": [
        "import pickle\n",
        "\n",
        "# 이미지 + 순서 + 장르(텍스트)\n",
        "with open(DATA_DIR + 'norm_game2vec.pickle', 'rb') as f:\n",
        "  norm_game2vec = pickle.load(f)"
      ],
      "execution_count": 2,
      "outputs": []
    },
    {
      "cell_type": "code",
      "metadata": {
        "id": "oLKaGwBwTlGk"
      },
      "source": [
        "all_df = pd.read_csv(DATA_DIR + 'steam_reviews_clean_result_v2.csv')\n",
        "train_df = pd.read_csv(DATA_DIR + 'steam_reviews_clean_result_train_v2.csv')\n",
        "val_df = pd.read_csv(DATA_DIR + 'steam_reviews_clean_result_val_v2.csv')\n",
        "test_df = pd.read_csv(DATA_DIR + 'steam_reviews_clean_result_test_v2.csv')"
      ],
      "execution_count": 3,
      "outputs": []
    },
    {
      "cell_type": "markdown",
      "metadata": {
        "id": "Wv_RTz3OUBgV"
      },
      "source": [
        "# 데이터 전처리"
      ]
    },
    {
      "cell_type": "code",
      "metadata": {
        "colab": {
          "base_uri": "https://localhost:8080/"
        },
        "id": "je1-My94XnXI",
        "outputId": "8187f654-7062-4e9c-cbae-fa10834d5fa1"
      },
      "source": [
        "(train_df.shape[0] + val_df.shape[0] + test_df.shape[0]) == (all_df.shape[0])"
      ],
      "execution_count": 4,
      "outputs": [
        {
          "output_type": "execute_result",
          "data": {
            "text/plain": [
              "True"
            ]
          },
          "metadata": {
            "tags": []
          },
          "execution_count": 4
        }
      ]
    },
    {
      "cell_type": "code",
      "metadata": {
        "colab": {
          "base_uri": "https://localhost:8080/"
        },
        "id": "tpGDG0meUfMb",
        "outputId": "6cc64f15-286b-4a72-ccca-304449b95a64"
      },
      "source": [
        "a = all_df['user_id'].astype(str).unique().tolist()\n",
        "b = train_df['user_id'].astype(str).unique().tolist()\n",
        "\n",
        "a = set(a)\n",
        "b = set(b)\n",
        "\n",
        "b - a"
      ],
      "execution_count": 5,
      "outputs": [
        {
          "output_type": "execute_result",
          "data": {
            "text/plain": [
              "set()"
            ]
          },
          "metadata": {
            "tags": []
          },
          "execution_count": 5
        }
      ]
    },
    {
      "cell_type": "code",
      "metadata": {
        "colab": {
          "base_uri": "https://localhost:8080/"
        },
        "id": "JYiaRjUuaYkX",
        "outputId": "391f797d-00fe-4ffa-ef06-090147617d6a"
      },
      "source": [
        "all_df['recommended'].value_counts() / sum(all_df['recommended'].value_counts())"
      ],
      "execution_count": 6,
      "outputs": [
        {
          "output_type": "execute_result",
          "data": {
            "text/plain": [
              "Recommended        0.762219\n",
              "Not Recommended    0.237781\n",
              "Name: recommended, dtype: float64"
            ]
          },
          "metadata": {
            "tags": []
          },
          "execution_count": 6
        }
      ]
    },
    {
      "cell_type": "code",
      "metadata": {
        "colab": {
          "base_uri": "https://localhost:8080/"
        },
        "id": "yeDU-4WQalfP",
        "outputId": "b0bd1cc0-e069-4201-cdc3-1594243a4890"
      },
      "source": [
        "train_df['recommended'].value_counts() / sum(train_df['recommended'].value_counts())"
      ],
      "execution_count": 7,
      "outputs": [
        {
          "output_type": "execute_result",
          "data": {
            "text/plain": [
              "Recommended        0.764251\n",
              "Not Recommended    0.235749\n",
              "Name: recommended, dtype: float64"
            ]
          },
          "metadata": {
            "tags": []
          },
          "execution_count": 7
        }
      ]
    },
    {
      "cell_type": "code",
      "metadata": {
        "colab": {
          "base_uri": "https://localhost:8080/"
        },
        "id": "XKMXnVxwalo2",
        "outputId": "3f1024b7-40b4-43ba-e331-66f1d1448679"
      },
      "source": [
        "val_df['recommended'].value_counts() / sum(val_df['recommended'].value_counts())"
      ],
      "execution_count": 8,
      "outputs": [
        {
          "output_type": "execute_result",
          "data": {
            "text/plain": [
              "Recommended        0.751932\n",
              "Not Recommended    0.248068\n",
              "Name: recommended, dtype: float64"
            ]
          },
          "metadata": {
            "tags": []
          },
          "execution_count": 8
        }
      ]
    },
    {
      "cell_type": "code",
      "metadata": {
        "colab": {
          "base_uri": "https://localhost:8080/"
        },
        "id": "3AVKsbJ0alyX",
        "outputId": "942365a7-8597-436b-cf99-957cabe3afab"
      },
      "source": [
        "test_df['recommended'].value_counts() / sum(test_df['recommended'].value_counts())"
      ],
      "execution_count": 9,
      "outputs": [
        {
          "output_type": "execute_result",
          "data": {
            "text/plain": [
              "Recommended        0.763636\n",
              "Not Recommended    0.236364\n",
              "Name: recommended, dtype: float64"
            ]
          },
          "metadata": {
            "tags": []
          },
          "execution_count": 9
        }
      ]
    },
    {
      "cell_type": "code",
      "metadata": {
        "id": "SWKTK8SnaU_m"
      },
      "source": [
        "all_df['label'] = all_df['recommended'].apply(lambda x : 0 if x == 'Not Recommended' else 1)\n",
        "train_df['label'] = train_df['recommended'].apply(lambda x : 0 if x == 'Not Recommended' else 1)\n",
        "val_df['label'] = val_df['recommended'].apply(lambda x : 0 if x == 'Not Recommended' else 1)\n",
        "test_df['label'] = test_df['recommended'].apply(lambda x : 0 if x == 'Not Recommended' else 1)"
      ],
      "execution_count": 10,
      "outputs": []
    },
    {
      "cell_type": "code",
      "metadata": {
        "colab": {
          "base_uri": "https://localhost:8080/",
          "height": 598
        },
        "id": "-6X4J9Z9bH9w",
        "outputId": "49104354-d043-4d55-87d1-c145b556f90a"
      },
      "source": [
        "train_df.head()"
      ],
      "execution_count": 11,
      "outputs": [
        {
          "output_type": "execute_result",
          "data": {
            "text/html": [
              "<div>\n",
              "<style scoped>\n",
              "    .dataframe tbody tr th:only-of-type {\n",
              "        vertical-align: middle;\n",
              "    }\n",
              "\n",
              "    .dataframe tbody tr th {\n",
              "        vertical-align: top;\n",
              "    }\n",
              "\n",
              "    .dataframe thead th {\n",
              "        text-align: right;\n",
              "    }\n",
              "</style>\n",
              "<table border=\"1\" class=\"dataframe\">\n",
              "  <thead>\n",
              "    <tr style=\"text-align: right;\">\n",
              "      <th></th>\n",
              "      <th>content</th>\n",
              "      <th>recommended</th>\n",
              "      <th>user_id</th>\n",
              "      <th>game_id</th>\n",
              "      <th>timestamp</th>\n",
              "      <th>play_time_minute</th>\n",
              "      <th>review_time_minute</th>\n",
              "      <th>game_content_link</th>\n",
              "      <th>review_helpful_count</th>\n",
              "      <th>label_encode_user_id</th>\n",
              "      <th>label_encode_game_id</th>\n",
              "      <th>idx</th>\n",
              "      <th>label</th>\n",
              "    </tr>\n",
              "  </thead>\n",
              "  <tbody>\n",
              "    <tr>\n",
              "      <th>0</th>\n",
              "      <td>Game is dead, installed, can play training. Bu...</td>\n",
              "      <td>Not Recommended</td>\n",
              "      <td>atgbui</td>\n",
              "      <td>728540</td>\n",
              "      <td>2021-05-19</td>\n",
              "      <td>18.0</td>\n",
              "      <td>18.0</td>\n",
              "      <td>https://store.steampowered.com/app/728540</td>\n",
              "      <td>0</td>\n",
              "      <td>19157</td>\n",
              "      <td>14662</td>\n",
              "      <td>6</td>\n",
              "      <td>0</td>\n",
              "    </tr>\n",
              "    <tr>\n",
              "      <th>1</th>\n",
              "      <td>Adjust settings- mouse disappears (invisible) ...</td>\n",
              "      <td>Not Recommended</td>\n",
              "      <td>atgbui</td>\n",
              "      <td>999270</td>\n",
              "      <td>2021-05-19</td>\n",
              "      <td>6.0</td>\n",
              "      <td>6.0</td>\n",
              "      <td>https://store.steampowered.com/app/999270</td>\n",
              "      <td>1</td>\n",
              "      <td>19157</td>\n",
              "      <td>18652</td>\n",
              "      <td>7</td>\n",
              "      <td>0</td>\n",
              "    </tr>\n",
              "    <tr>\n",
              "      <th>2</th>\n",
              "      <td>I wish there was a neutral review button.The g...</td>\n",
              "      <td>Not Recommended</td>\n",
              "      <td>atgbui</td>\n",
              "      <td>920470</td>\n",
              "      <td>2021-05-16</td>\n",
              "      <td>216.0</td>\n",
              "      <td>216.0</td>\n",
              "      <td>https://store.steampowered.com/app/920470</td>\n",
              "      <td>0</td>\n",
              "      <td>19157</td>\n",
              "      <td>17716</td>\n",
              "      <td>8</td>\n",
              "      <td>0</td>\n",
              "    </tr>\n",
              "    <tr>\n",
              "      <th>3</th>\n",
              "      <td>The game brings something new to the genre, an...</td>\n",
              "      <td>Not Recommended</td>\n",
              "      <td>atgbui</td>\n",
              "      <td>1183940</td>\n",
              "      <td>2021-05-09</td>\n",
              "      <td>738.0</td>\n",
              "      <td>738.0</td>\n",
              "      <td>https://store.steampowered.com/app/1183940</td>\n",
              "      <td>0</td>\n",
              "      <td>19157</td>\n",
              "      <td>20641</td>\n",
              "      <td>9</td>\n",
              "      <td>0</td>\n",
              "    </tr>\n",
              "    <tr>\n",
              "      <th>4</th>\n",
              "      <td>Update: 06/11/2021: Game seems to be abandoned...</td>\n",
              "      <td>Not Recommended</td>\n",
              "      <td>atgbui</td>\n",
              "      <td>1254400</td>\n",
              "      <td>2021-05-09</td>\n",
              "      <td>438.0</td>\n",
              "      <td>438.0</td>\n",
              "      <td>https://store.steampowered.com/app/1254400</td>\n",
              "      <td>1</td>\n",
              "      <td>19157</td>\n",
              "      <td>21185</td>\n",
              "      <td>10</td>\n",
              "      <td>0</td>\n",
              "    </tr>\n",
              "  </tbody>\n",
              "</table>\n",
              "</div>"
            ],
            "text/plain": [
              "                                             content  ... label\n",
              "0  Game is dead, installed, can play training. Bu...  ...     0\n",
              "1  Adjust settings- mouse disappears (invisible) ...  ...     0\n",
              "2  I wish there was a neutral review button.The g...  ...     0\n",
              "3  The game brings something new to the genre, an...  ...     0\n",
              "4  Update: 06/11/2021: Game seems to be abandoned...  ...     0\n",
              "\n",
              "[5 rows x 13 columns]"
            ]
          },
          "metadata": {
            "tags": []
          },
          "execution_count": 11
        }
      ]
    },
    {
      "cell_type": "code",
      "metadata": {
        "id": "eG-rM8MEdJyj"
      },
      "source": [
        "train_user_id_idx_li = train_df['label_encode_user_id'].tolist()\n",
        "train_game_id_idx_li = train_df['label_encode_game_id'].tolist()\n",
        "train_label_li = train_df['label'].astype(float).tolist()\n",
        "\n",
        "val_user_id_idx_li = val_df['label_encode_user_id'].tolist()\n",
        "val_game_id_idx_li = val_df['label_encode_game_id'].tolist()\n",
        "val_label_li = val_df['label'].astype(float).tolist()\n",
        "\n",
        "test_user_id_idx_li = test_df['label_encode_user_id'].tolist()\n",
        "test_game_id_idx_li = test_df['label_encode_game_id'].tolist()\n",
        "test_label_li = test_df['label'].astype(float).tolist()"
      ],
      "execution_count": 12,
      "outputs": []
    },
    {
      "cell_type": "code",
      "metadata": {
        "id": "VhktTFykfH36"
      },
      "source": [
        "torch_norm_game2vec = torch.FloatTensor(norm_game2vec)"
      ],
      "execution_count": 13,
      "outputs": []
    },
    {
      "cell_type": "markdown",
      "metadata": {
        "id": "3BTHbbJebfKP"
      },
      "source": [
        "# 모델"
      ]
    },
    {
      "cell_type": "code",
      "metadata": {
        "id": "rhZrDhbRdYiE"
      },
      "source": [
        "from torch.utils.data import Dataset\n",
        "from torch.utils.data import DataLoader\n",
        "\n",
        "class NCFData(Dataset):\n",
        "    def __init__(self, user_id_idx_li, game_id_idx_li, label_li):\n",
        "      super(NCFData, self).__init__()\n",
        "      self._user_id_idx_li = user_id_idx_li\n",
        "      self._game_id_idx_li = game_id_idx_li\n",
        "      self._label_li = label_li\n",
        "\n",
        "    def __len__(self):\n",
        "      return len(self._label_li)\n",
        "\n",
        "    def __getitem__(self, idx):\n",
        "      user = self._user_id_idx_li[idx]\n",
        "      game = self._game_id_idx_li[idx]\n",
        "      label = self._label_li[idx]\n",
        "\n",
        "      return user, game, label"
      ],
      "execution_count": 14,
      "outputs": []
    },
    {
      "cell_type": "code",
      "metadata": {
        "id": "5sA80TVsbrW6"
      },
      "source": [
        "user_num = all_df['label_encode_user_id'].max() + 1 \n",
        "factor_num = norm_game2vec.shape[1]"
      ],
      "execution_count": 15,
      "outputs": []
    },
    {
      "cell_type": "code",
      "metadata": {
        "colab": {
          "base_uri": "https://localhost:8080/"
        },
        "id": "f81qvktmGH0w",
        "outputId": "5465bcd7-20fc-4e99-fb8f-163949fc2a41"
      },
      "source": [
        "# 환경설정\n",
        "if torch.cuda.is_available():\n",
        "  DEVICE = torch.device('cuda')\n",
        "else:\n",
        "  DEVICE = torch.device('cpu')\n",
        "print(DEVICE)"
      ],
      "execution_count": 16,
      "outputs": [
        {
          "output_type": "stream",
          "text": [
            "cuda\n"
          ],
          "name": "stdout"
        }
      ]
    },
    {
      "cell_type": "code",
      "metadata": {
        "id": "rjlLRd0xXb-2"
      },
      "source": [
        "BATCH_SIZE = 512\n",
        "EPOCHS = 30"
      ],
      "execution_count": 17,
      "outputs": []
    },
    {
      "cell_type": "code",
      "metadata": {
        "id": "FbcgyoiXQn5S"
      },
      "source": [
        "class DCN(nn.Module):\n",
        "  def __init__(self, user_num, factor_num):\n",
        "      super(DCN, self).__init__()\n",
        "\n",
        "      # 유저 임베딩\n",
        "      self.user_embedding = nn.Embedding(user_num, factor_num)\n",
        "\n",
        "      # Cross Network\n",
        "      self.CN1 = nn.Linear(factor_num, factor_num)\n",
        "      self.CN2 = nn.Linear(factor_num, factor_num)\n",
        "      self.CN3 = nn.Sequential(\n",
        "          nn.Linear(factor_num, factor_num),\n",
        "          nn.ReLU()\n",
        "      )\n",
        "\n",
        "      # Deep Network\n",
        "      self.DN = nn.Sequential(\n",
        "          nn.Linear(factor_num, 256),\n",
        "          nn.ReLU(),\n",
        "          nn.Dropout(0.2),\n",
        "          nn.BatchNorm1d(256),\n",
        "          nn.Linear(256, 128),\n",
        "          nn.ReLU(),\n",
        "          nn.Dropout(0.2),\n",
        "          nn.BatchNorm1d(128),\n",
        "          nn.Linear(128, 64),\n",
        "          nn.ReLU()\n",
        "      )\n",
        "      \n",
        "      # FC\n",
        "      self.FC_layer = nn.Sequential(\n",
        "          nn.Linear(64, 1),\n",
        "          nn.Sigmoid()\n",
        "      )\n",
        "\n",
        "      self._init_weight_()\n",
        "\n",
        "  def _init_weight_(self):\n",
        "      # weight 초기화\n",
        "      nn.init.normal_(self.user_embedding.weight, std=0.01)\n",
        "      for m in self.DN:\n",
        "          if isinstance(m, nn.Linear):\n",
        "              nn.init.xavier_uniform_(m.weight)\n",
        "\n",
        "  def forward(self, user_idx, item_embedding):\n",
        "      user_embedding = self.user_embedding(user_idx)\n",
        "\n",
        "      embedding = (user_embedding * item_embedding)\n",
        "\n",
        "      # Cross Network\n",
        "      CN_out = self.CN1(embedding) * embedding\n",
        "      CN_out = self.CN2(CN_out) * embedding\n",
        "      CN_out = self.CN3(CN_out)\n",
        "\n",
        "      # Deep Network\n",
        "      DN_out = self.DN(CN_out)\n",
        "      \n",
        "      out = self.FC_layer(DN_out)\n",
        "\n",
        "      return out.view(-1)"
      ],
      "execution_count": 18,
      "outputs": []
    },
    {
      "cell_type": "code",
      "metadata": {
        "id": "qEYoe5NrcYNL"
      },
      "source": [
        "from sklearn.metrics import roc_auc_score\n",
        "\n",
        "def roc_auc_compute_fn(y_pred, y_true):\n",
        "\n",
        "  return roc_auc_score(y_true, y_pred)\n",
        "\n",
        "from sklearn.metrics import f1_score\n",
        "\n",
        "def f1_score_compute_fn(y_pred, y_true):\n",
        "\n",
        "  return f1_score(y_true, y_pred)\n",
        "\n",
        "def train(model, train_loader):\n",
        "  model.train()\n",
        "  train_loss = 0\n",
        "  correct = 0\n",
        "\n",
        "  auc_output_li = []\n",
        "  acc_output_li = []\n",
        "  label_li = []\n",
        "\n",
        "  for user, game, label in train_loader:\n",
        "    user = user.to(DEVICE)\n",
        "    item_embedding = torch_norm_game2vec[game].to(DEVICE)\n",
        "    label = label.to(DEVICE)\n",
        "    label = label.type(torch.DoubleTensor)\n",
        "\n",
        "    optimizer.zero_grad()\n",
        "\n",
        "    output = model(user, item_embedding)\n",
        "    output = output.type(torch.DoubleTensor)\n",
        "\n",
        "    loss = criterion(output, label)\n",
        "\n",
        "    loss.backward()\n",
        "    optimizer.step()\n",
        "\n",
        "    train_loss += loss.item()\n",
        "\n",
        "    auc_output_li.append(output.detach().cpu().numpy())\n",
        "\n",
        "    output = (output > 0.5).float()\n",
        "    correct += (output == label).float().sum()\n",
        "\n",
        "    acc_output_li.append(output.detach().cpu().numpy())\n",
        "    label_li.append(label.detach().cpu().numpy())\n",
        "\n",
        "  auc_output_li = np.concatenate(auc_output_li)\n",
        "  acc_output_li = np.concatenate(acc_output_li)\n",
        "  label_li = np.concatenate(label_li)\n",
        "\n",
        "  train_loss /= len(train_loader)\n",
        "  train_accuracy = 100. * correct / len(train_loader.dataset)\n",
        "  train_auc = roc_auc_compute_fn(auc_output_li, label_li)\n",
        "  train_f1 = f1_score_compute_fn(acc_output_li, label_li)\n",
        "\n",
        "  return train_loss, train_accuracy, train_auc, train_f1"
      ],
      "execution_count": 19,
      "outputs": []
    },
    {
      "cell_type": "code",
      "metadata": {
        "id": "tglbvAe6cYNR"
      },
      "source": [
        "def evaluate(model, test_loader):\n",
        "  model.eval()\n",
        "  test_loss = 0\n",
        "  correct = 0\n",
        "\n",
        "  auc_output_li = []\n",
        "  acc_output_li = []\n",
        "  label_li = []\n",
        "\n",
        "  with torch.no_grad():\n",
        "    for user, game, label in test_loader:\n",
        "\n",
        "      user = user.to(DEVICE)\n",
        "      item_embedding = torch_norm_game2vec[game].to(DEVICE)\n",
        "      label = label.to(DEVICE)\n",
        "      label = label.type(torch.DoubleTensor)\n",
        "\n",
        "      output = model(user, item_embedding)\n",
        "      output = output.type(torch.DoubleTensor)\n",
        "\n",
        "      loss = criterion(output, label)\n",
        "\n",
        "      test_loss += loss.item()\n",
        "\n",
        "      auc_output_li.append(output.detach().cpu().numpy())\n",
        "\n",
        "      output = (output>0.5).float()\n",
        "      correct += (output == label).float().sum()\n",
        "\n",
        "      acc_output_li.append(output.detach().cpu().numpy())\n",
        "      label_li.append(label.detach().cpu().numpy())\n",
        "\n",
        "  auc_output_li = np.concatenate(auc_output_li)\n",
        "  acc_output_li = np.concatenate(acc_output_li)\n",
        "  label_li = np.concatenate(label_li)\n",
        "\n",
        "  test_loss /= len(test_loader)\n",
        "  test_accuracy = 100. * correct / len(test_loader.dataset)\n",
        "  test_auc = roc_auc_compute_fn(auc_output_li, label_li)\n",
        "  test_f1 = f1_score_compute_fn(acc_output_li, label_li)\n",
        "\n",
        "  return test_loss, test_accuracy, test_auc, test_f1"
      ],
      "execution_count": 20,
      "outputs": []
    },
    {
      "cell_type": "code",
      "metadata": {
        "colab": {
          "base_uri": "https://localhost:8080/"
        },
        "id": "uPZmbO1pXU5k",
        "outputId": "e8a18422-c469-4c74-89f6-3da4bf982fc9"
      },
      "source": [
        "model = DCN(user_num = user_num, factor_num = factor_num).to(DEVICE)\n",
        "criterion = nn.BCELoss()\n",
        "optimizer = torch.optim.Adam(model.parameters(), lr=0.0001)\n",
        "\n",
        "train_dataset = NCFData(train_user_id_idx_li, train_game_id_idx_li, train_label_li)\n",
        "\n",
        "train_loader = DataLoader(train_dataset,\n",
        "  batch_size = BATCH_SIZE,\n",
        "  shuffle = True,\n",
        "  drop_last = False)\n",
        "\n",
        "val_dataset = NCFData(val_user_id_idx_li, val_game_id_idx_li, val_label_li)\n",
        "\n",
        "val_loader = DataLoader(val_dataset,\n",
        "  batch_size = BATCH_SIZE,\n",
        "  shuffle = False,\n",
        "  drop_last = False)\n",
        "\n",
        "best_metric = 0\n",
        "best_epoch = 0\n",
        "\n",
        "for epoch in range(1, EPOCHS + 1):\n",
        "  train_loss, train_accuracy, train_auc, train_f1 = train(model, train_loader)\n",
        "  test_loss, test_accuracy, test_auc, test_f1 = evaluate(model, val_loader)\n",
        "  print(f\"[EPOCH: {epoch}], Train Loss: {train_loss:.4f}, Train Accuracy: {train_accuracy:.2f} %, Train F!-Score: {train_f1:.4f}, Train AUC: {train_auc:.4f}, \\\n",
        "  Val Loss: {test_loss:.4f}, Val Accuracy: {test_accuracy:.2f} %, Val F!-Score: {test_f1:.4f}, Val AUC: {test_auc:.4f} \\n\")\n",
        "\n",
        "  if best_metric < test_auc:\n",
        "\n",
        "    best_metric = test_auc\n",
        "    best_epoch = epoch\n",
        "    MODEL_DIR = '/content/drive/MyDrive/투빅스 컨퍼런스/Model/'\n",
        "    torch.save(model.state_dict(), MODEL_DIR + f'DCN_Stacked_Best_model_state_dict.pt')\n",
        "\n",
        "# Train Accuracy - Val Accuracy 를 해서 가장 작은 모델을 저장하는 것이 좋들 듯\n",
        "# 왜? Val 에는 1만 존재하기 때문에 Train의 유저의 선호도를 어느 정도 맞춘 상태에서\n",
        "# Val의 선호 게임을 맞추는 것이 조금 더 타당할 수 있음\n",
        "# 따라서 Train Accuracy - Val Accuracy의 편차가 가장 작은 모델이 가장 성능이 우수하다고 생각함\n",
        "\n",
        "# 현재로써는 AUC 를 메트릭으로 사용해도 좋을 거 같음"
      ],
      "execution_count": 21,
      "outputs": [
        {
          "output_type": "stream",
          "text": [
            "[EPOCH: 1], Train Loss: 0.5554, Train Accuracy: 75.59 %, Train F!-Score: 0.8599, Train AUC: 0.5283,   Val Loss: 0.5169, Val Accuracy: 78.49 %, Val F!-Score: 0.8668, Val AUC: 0.7631 \n",
            "\n",
            "[EPOCH: 2], Train Loss: 0.3690, Train Accuracy: 84.10 %, Train F!-Score: 0.9001, Train AUC: 0.8646,   Val Loss: 0.3839, Val Accuracy: 83.09 %, Val F!-Score: 0.8892, Val AUC: 0.8652 \n",
            "\n",
            "[EPOCH: 3], Train Loss: 0.1227, Train Accuracy: 95.54 %, Train F!-Score: 0.9708, Train AUC: 0.9862,   Val Loss: 0.4315, Val Accuracy: 81.53 %, Val F!-Score: 0.8759, Val AUC: 0.8588 \n",
            "\n",
            "[EPOCH: 4], Train Loss: 0.0351, Train Accuracy: 98.68 %, Train F!-Score: 0.9913, Train AUC: 0.9986,   Val Loss: 1.2271, Val Accuracy: 64.95 %, Val F!-Score: 0.7084, Val AUC: 0.8490 \n",
            "\n",
            "[EPOCH: 5], Train Loss: 0.0202, Train Accuracy: 99.11 %, Train F!-Score: 0.9942, Train AUC: 0.9995,   Val Loss: 1.4606, Val Accuracy: 64.79 %, Val F!-Score: 0.7066, Val AUC: 0.8246 \n",
            "\n",
            "[EPOCH: 6], Train Loss: 0.0172, Train Accuracy: 99.16 %, Train F!-Score: 0.9945, Train AUC: 0.9996,   Val Loss: 1.1440, Val Accuracy: 69.07 %, Val F!-Score: 0.7544, Val AUC: 0.8402 \n",
            "\n",
            "[EPOCH: 7], Train Loss: 0.0194, Train Accuracy: 99.09 %, Train F!-Score: 0.9940, Train AUC: 0.9996,   Val Loss: 1.2584, Val Accuracy: 69.60 %, Val F!-Score: 0.7605, Val AUC: 0.8435 \n",
            "\n",
            "[EPOCH: 8], Train Loss: 0.0222, Train Accuracy: 99.26 %, Train F!-Score: 0.9952, Train AUC: 0.9994,   Val Loss: 2.6205, Val Accuracy: 46.25 %, Val F!-Score: 0.4517, Val AUC: 0.7711 \n",
            "\n",
            "[EPOCH: 9], Train Loss: 0.0168, Train Accuracy: 99.43 %, Train F!-Score: 0.9963, Train AUC: 0.9997,   Val Loss: 1.3607, Val Accuracy: 67.03 %, Val F!-Score: 0.7328, Val AUC: 0.8358 \n",
            "\n",
            "[EPOCH: 10], Train Loss: 0.0104, Train Accuracy: 99.63 %, Train F!-Score: 0.9976, Train AUC: 0.9999,   Val Loss: 1.4768, Val Accuracy: 67.47 %, Val F!-Score: 0.7378, Val AUC: 0.8374 \n",
            "\n",
            "[EPOCH: 11], Train Loss: 0.0087, Train Accuracy: 99.68 %, Train F!-Score: 0.9979, Train AUC: 0.9999,   Val Loss: 2.3703, Val Accuracy: 56.13 %, Val F!-Score: 0.5998, Val AUC: 0.7988 \n",
            "\n",
            "[EPOCH: 12], Train Loss: 0.0092, Train Accuracy: 99.68 %, Train F!-Score: 0.9979, Train AUC: 0.9999,   Val Loss: 2.7050, Val Accuracy: 49.88 %, Val F!-Score: 0.5109, Val AUC: 0.8187 \n",
            "\n",
            "[EPOCH: 13], Train Loss: 0.0118, Train Accuracy: 99.59 %, Train F!-Score: 0.9973, Train AUC: 0.9998,   Val Loss: 0.9815, Val Accuracy: 75.93 %, Val F!-Score: 0.8246, Val AUC: 0.8486 \n",
            "\n",
            "[EPOCH: 14], Train Loss: 0.0108, Train Accuracy: 99.62 %, Train F!-Score: 0.9975, Train AUC: 0.9999,   Val Loss: 1.8433, Val Accuracy: 58.48 %, Val F!-Score: 0.6321, Val AUC: 0.8290 \n",
            "\n",
            "[EPOCH: 15], Train Loss: 0.0106, Train Accuracy: 99.63 %, Train F!-Score: 0.9976, Train AUC: 0.9999,   Val Loss: 0.9447, Val Accuracy: 80.74 %, Val F!-Score: 0.8688, Val AUC: 0.8476 \n",
            "\n",
            "[EPOCH: 16], Train Loss: 0.0094, Train Accuracy: 99.66 %, Train F!-Score: 0.9978, Train AUC: 0.9999,   Val Loss: 1.2417, Val Accuracy: 73.65 %, Val F!-Score: 0.8028, Val AUC: 0.8444 \n",
            "\n",
            "[EPOCH: 17], Train Loss: 0.0086, Train Accuracy: 99.69 %, Train F!-Score: 0.9980, Train AUC: 0.9999,   Val Loss: 1.0779, Val Accuracy: 78.03 %, Val F!-Score: 0.8445, Val AUC: 0.8446 \n",
            "\n",
            "[EPOCH: 18], Train Loss: 0.0090, Train Accuracy: 99.67 %, Train F!-Score: 0.9979, Train AUC: 0.9999,   Val Loss: 1.6131, Val Accuracy: 68.20 %, Val F!-Score: 0.7475, Val AUC: 0.8296 \n",
            "\n",
            "[EPOCH: 19], Train Loss: 0.0091, Train Accuracy: 99.67 %, Train F!-Score: 0.9978, Train AUC: 0.9999,   Val Loss: 3.0345, Val Accuracy: 46.40 %, Val F!-Score: 0.4581, Val AUC: 0.7877 \n",
            "\n",
            "[EPOCH: 20], Train Loss: 0.0089, Train Accuracy: 99.68 %, Train F!-Score: 0.9979, Train AUC: 0.9999,   Val Loss: 2.3348, Val Accuracy: 56.63 %, Val F!-Score: 0.6096, Val AUC: 0.8030 \n",
            "\n",
            "[EPOCH: 21], Train Loss: 0.0087, Train Accuracy: 99.68 %, Train F!-Score: 0.9979, Train AUC: 0.9999,   Val Loss: 3.1030, Val Accuracy: 45.28 %, Val F!-Score: 0.4400, Val AUC: 0.7813 \n",
            "\n",
            "[EPOCH: 22], Train Loss: 0.0086, Train Accuracy: 99.69 %, Train F!-Score: 0.9980, Train AUC: 0.9999,   Val Loss: 1.4692, Val Accuracy: 69.42 %, Val F!-Score: 0.7615, Val AUC: 0.8311 \n",
            "\n",
            "[EPOCH: 23], Train Loss: 0.0083, Train Accuracy: 99.70 %, Train F!-Score: 0.9980, Train AUC: 0.9999,   Val Loss: 1.3781, Val Accuracy: 72.41 %, Val F!-Score: 0.7922, Val AUC: 0.8306 \n",
            "\n",
            "[EPOCH: 24], Train Loss: 0.0078, Train Accuracy: 99.71 %, Train F!-Score: 0.9981, Train AUC: 0.9999,   Val Loss: 2.0408, Val Accuracy: 61.01 %, Val F!-Score: 0.6666, Val AUC: 0.8237 \n",
            "\n",
            "[EPOCH: 25], Train Loss: 0.0078, Train Accuracy: 99.72 %, Train F!-Score: 0.9981, Train AUC: 0.9999,   Val Loss: 1.3790, Val Accuracy: 75.41 %, Val F!-Score: 0.8213, Val AUC: 0.8338 \n",
            "\n",
            "[EPOCH: 26], Train Loss: 0.0078, Train Accuracy: 99.71 %, Train F!-Score: 0.9981, Train AUC: 0.9999,   Val Loss: 1.1488, Val Accuracy: 79.04 %, Val F!-Score: 0.8549, Val AUC: 0.8340 \n",
            "\n",
            "[EPOCH: 27], Train Loss: 0.0078, Train Accuracy: 99.71 %, Train F!-Score: 0.9981, Train AUC: 0.9999,   Val Loss: 1.4963, Val Accuracy: 72.68 %, Val F!-Score: 0.7955, Val AUC: 0.8259 \n",
            "\n",
            "[EPOCH: 28], Train Loss: 0.0079, Train Accuracy: 99.70 %, Train F!-Score: 0.9981, Train AUC: 0.9999,   Val Loss: 2.0926, Val Accuracy: 61.52 %, Val F!-Score: 0.6741, Val AUC: 0.8158 \n",
            "\n",
            "[EPOCH: 29], Train Loss: 0.0073, Train Accuracy: 99.72 %, Train F!-Score: 0.9982, Train AUC: 0.9999,   Val Loss: 2.7981, Val Accuracy: 53.81 %, Val F!-Score: 0.5736, Val AUC: 0.7793 \n",
            "\n",
            "[EPOCH: 30], Train Loss: 0.0074, Train Accuracy: 99.72 %, Train F!-Score: 0.9982, Train AUC: 0.9999,   Val Loss: 2.0992, Val Accuracy: 61.55 %, Val F!-Score: 0.6750, Val AUC: 0.8166 \n",
            "\n"
          ],
          "name": "stdout"
        }
      ]
    },
    {
      "cell_type": "code",
      "metadata": {
        "colab": {
          "base_uri": "https://localhost:8080/"
        },
        "id": "E5bjseEvH_F8",
        "outputId": "8df2194c-a8bb-43ff-9759-a9ca2cd22f36"
      },
      "source": [
        "print(f'Best_Epoch : {best_epoch}, Best_Metric : {best_metric}')"
      ],
      "execution_count": 22,
      "outputs": [
        {
          "output_type": "stream",
          "text": [
            "Best_Epoch : 2, Best_Metric : 0.8652339417572475\n"
          ],
          "name": "stdout"
        }
      ]
    },
    {
      "cell_type": "code",
      "metadata": {
        "colab": {
          "base_uri": "https://localhost:8080/"
        },
        "id": "JlcIWckIWY1Z",
        "outputId": "9d2b6769-5273-4a98-8be8-83b60701d882"
      },
      "source": [
        "test_dataset = NCFData(test_user_id_idx_li, test_game_id_idx_li, test_label_li)\n",
        "\n",
        "test_loader = DataLoader(test_dataset,\n",
        "  batch_size = BATCH_SIZE,\n",
        "  shuffle = False,\n",
        "  drop_last = False)\n",
        "\n",
        "model.load_state_dict(torch.load(MODEL_DIR + f'DCN_Stacked_Best_model_state_dict.pt'))\n",
        "\n",
        "test_loss, test_accuracy, test_auc, test_f1 = evaluate(model, test_loader)\n",
        "\n",
        "print(f\"Test Loss: {test_loss:.4f}, Test Accuracy: {test_accuracy:.2f} %, Test F!-Score: {test_f1:.4f}, Test AUC: {test_auc:.4f}\")"
      ],
      "execution_count": 23,
      "outputs": [
        {
          "output_type": "stream",
          "text": [
            "Test Loss: 0.3947, Test Accuracy: 82.55 %, Test F!-Score: 0.8876, Test AUC: 0.8500\n"
          ],
          "name": "stdout"
        }
      ]
    },
    {
      "cell_type": "code",
      "metadata": {
        "id": "Y4gWTPTZwY3m"
      },
      "source": [
        ""
      ],
      "execution_count": null,
      "outputs": []
    }
  ]
}